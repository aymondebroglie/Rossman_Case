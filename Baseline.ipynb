{
 "cells": [
  {
   "cell_type": "markdown",
   "metadata": {},
   "source": [
    "# Your company is Rossmann.\n",
    "### Business issue : predict the stores turnover\n",
    "\n",
    "Authors: BOIVIN Jolyanne, BOUCHER Axel, DE BROGLIE Aymon, GRIGNARD Jeremy, KARTHIGESU Dinojan, NAULET Antoine"
   ]
  },
  {
   "cell_type": "markdown",
   "metadata": {},
   "source": [
    "### Table of contents\n",
    "\n",
    "* Introduction\n",
    "* Preprocessing\n",
    "* Feature Engineering\n",
    "* Validation strategy\n",
    "* Training and evaluation"
   ]
  },
  {
   "cell_type": "markdown",
   "metadata": {},
   "source": [
    "# Introduction"
   ]
  },
  {
   "cell_type": "markdown",
   "metadata": {},
   "source": [
    "Rossmann is Germany's second drug store chain with 3600 stores in Europe. The objective of this notebook with respect to the Kaggle challenge is to predict the turnover (the sales) for each day for each store.\n",
    "Predicting the turnover has huge positives impacts on companies such as :\n",
    "\n",
    "* The possibility to optimize the supply chain and the stocking costs.\n",
    "* It can give a dashboard to monitor the futur evolution of a store and make decisions about the stores.\n",
    "\n",
    "The idea is to apply Machine Learning based solutions and check if it has a real added value and to which extend."
   ]
  },
  {
   "cell_type": "code",
   "execution_count": 1,
   "metadata": {
    "collapsed": true
   },
   "outputs": [],
   "source": [
    "import pandas as pd\n",
    "import numpy as np\n",
    "from datetime import datetime\n",
    "import datetime\n",
    "import matplotlib.pyplot as plt\n",
    "from sklearn.model_selection import train_test_split\n",
    "%matplotlib inline"
   ]
  },
  {
   "cell_type": "markdown",
   "metadata": {},
   "source": [
    "# Data Loading"
   ]
  },
  {
   "cell_type": "code",
   "execution_count": 2,
   "metadata": {},
   "outputs": [
    {
     "name": "stderr",
     "output_type": "stream",
     "text": [
      "C:\\Users\\Jolyanne\\Anaconda3\\lib\\site-packages\\IPython\\core\\interactiveshell.py:2698: DtypeWarning: Columns (7) have mixed types. Specify dtype option on import or set low_memory=False.\n",
      "  interactivity=interactivity, compiler=compiler, result=result)\n"
     ]
    }
   ],
   "source": [
    "train = pd.read_csv('data/train.csv')\n",
    "test = pd.read_csv('data/test.csv')\n",
    "store = pd.read_csv('data/store.csv')"
   ]
  },
  {
   "cell_type": "code",
   "execution_count": 3,
   "metadata": {},
   "outputs": [
    {
     "data": {
      "text/html": [
       "<div>\n",
       "<style>\n",
       "    .dataframe thead tr:only-child th {\n",
       "        text-align: right;\n",
       "    }\n",
       "\n",
       "    .dataframe thead th {\n",
       "        text-align: left;\n",
       "    }\n",
       "\n",
       "    .dataframe tbody tr th {\n",
       "        vertical-align: top;\n",
       "    }\n",
       "</style>\n",
       "<table border=\"1\" class=\"dataframe\">\n",
       "  <thead>\n",
       "    <tr style=\"text-align: right;\">\n",
       "      <th></th>\n",
       "      <th>Store</th>\n",
       "      <th>DayOfWeek</th>\n",
       "      <th>Date</th>\n",
       "      <th>Sales</th>\n",
       "      <th>Customers</th>\n",
       "      <th>Open</th>\n",
       "      <th>Promo</th>\n",
       "      <th>StateHoliday</th>\n",
       "      <th>SchoolHoliday</th>\n",
       "    </tr>\n",
       "  </thead>\n",
       "  <tbody>\n",
       "    <tr>\n",
       "      <th>0</th>\n",
       "      <td>1</td>\n",
       "      <td>5</td>\n",
       "      <td>2015-07-31</td>\n",
       "      <td>5263</td>\n",
       "      <td>555</td>\n",
       "      <td>1</td>\n",
       "      <td>1</td>\n",
       "      <td>0</td>\n",
       "      <td>1</td>\n",
       "    </tr>\n",
       "    <tr>\n",
       "      <th>1</th>\n",
       "      <td>2</td>\n",
       "      <td>5</td>\n",
       "      <td>2015-07-31</td>\n",
       "      <td>6064</td>\n",
       "      <td>625</td>\n",
       "      <td>1</td>\n",
       "      <td>1</td>\n",
       "      <td>0</td>\n",
       "      <td>1</td>\n",
       "    </tr>\n",
       "    <tr>\n",
       "      <th>2</th>\n",
       "      <td>3</td>\n",
       "      <td>5</td>\n",
       "      <td>2015-07-31</td>\n",
       "      <td>8314</td>\n",
       "      <td>821</td>\n",
       "      <td>1</td>\n",
       "      <td>1</td>\n",
       "      <td>0</td>\n",
       "      <td>1</td>\n",
       "    </tr>\n",
       "    <tr>\n",
       "      <th>3</th>\n",
       "      <td>4</td>\n",
       "      <td>5</td>\n",
       "      <td>2015-07-31</td>\n",
       "      <td>13995</td>\n",
       "      <td>1498</td>\n",
       "      <td>1</td>\n",
       "      <td>1</td>\n",
       "      <td>0</td>\n",
       "      <td>1</td>\n",
       "    </tr>\n",
       "    <tr>\n",
       "      <th>4</th>\n",
       "      <td>5</td>\n",
       "      <td>5</td>\n",
       "      <td>2015-07-31</td>\n",
       "      <td>4822</td>\n",
       "      <td>559</td>\n",
       "      <td>1</td>\n",
       "      <td>1</td>\n",
       "      <td>0</td>\n",
       "      <td>1</td>\n",
       "    </tr>\n",
       "  </tbody>\n",
       "</table>\n",
       "</div>"
      ],
      "text/plain": [
       "   Store  DayOfWeek        Date  Sales  Customers  Open  Promo StateHoliday  \\\n",
       "0      1          5  2015-07-31   5263        555     1      1            0   \n",
       "1      2          5  2015-07-31   6064        625     1      1            0   \n",
       "2      3          5  2015-07-31   8314        821     1      1            0   \n",
       "3      4          5  2015-07-31  13995       1498     1      1            0   \n",
       "4      5          5  2015-07-31   4822        559     1      1            0   \n",
       "\n",
       "   SchoolHoliday  \n",
       "0              1  \n",
       "1              1  \n",
       "2              1  \n",
       "3              1  \n",
       "4              1  "
      ]
     },
     "execution_count": 3,
     "metadata": {},
     "output_type": "execute_result"
    }
   ],
   "source": [
    "train.head()"
   ]
  },
  {
   "cell_type": "code",
   "execution_count": 4,
   "metadata": {},
   "outputs": [
    {
     "data": {
      "text/html": [
       "<div>\n",
       "<style>\n",
       "    .dataframe thead tr:only-child th {\n",
       "        text-align: right;\n",
       "    }\n",
       "\n",
       "    .dataframe thead th {\n",
       "        text-align: left;\n",
       "    }\n",
       "\n",
       "    .dataframe tbody tr th {\n",
       "        vertical-align: top;\n",
       "    }\n",
       "</style>\n",
       "<table border=\"1\" class=\"dataframe\">\n",
       "  <thead>\n",
       "    <tr style=\"text-align: right;\">\n",
       "      <th></th>\n",
       "      <th>Id</th>\n",
       "      <th>Store</th>\n",
       "      <th>DayOfWeek</th>\n",
       "      <th>Date</th>\n",
       "      <th>Open</th>\n",
       "      <th>Promo</th>\n",
       "      <th>StateHoliday</th>\n",
       "      <th>SchoolHoliday</th>\n",
       "    </tr>\n",
       "  </thead>\n",
       "  <tbody>\n",
       "    <tr>\n",
       "      <th>0</th>\n",
       "      <td>1</td>\n",
       "      <td>1</td>\n",
       "      <td>4</td>\n",
       "      <td>2015-09-17</td>\n",
       "      <td>1.0</td>\n",
       "      <td>1</td>\n",
       "      <td>0</td>\n",
       "      <td>0</td>\n",
       "    </tr>\n",
       "    <tr>\n",
       "      <th>1</th>\n",
       "      <td>2</td>\n",
       "      <td>3</td>\n",
       "      <td>4</td>\n",
       "      <td>2015-09-17</td>\n",
       "      <td>1.0</td>\n",
       "      <td>1</td>\n",
       "      <td>0</td>\n",
       "      <td>0</td>\n",
       "    </tr>\n",
       "    <tr>\n",
       "      <th>2</th>\n",
       "      <td>3</td>\n",
       "      <td>7</td>\n",
       "      <td>4</td>\n",
       "      <td>2015-09-17</td>\n",
       "      <td>1.0</td>\n",
       "      <td>1</td>\n",
       "      <td>0</td>\n",
       "      <td>0</td>\n",
       "    </tr>\n",
       "    <tr>\n",
       "      <th>3</th>\n",
       "      <td>4</td>\n",
       "      <td>8</td>\n",
       "      <td>4</td>\n",
       "      <td>2015-09-17</td>\n",
       "      <td>1.0</td>\n",
       "      <td>1</td>\n",
       "      <td>0</td>\n",
       "      <td>0</td>\n",
       "    </tr>\n",
       "    <tr>\n",
       "      <th>4</th>\n",
       "      <td>5</td>\n",
       "      <td>9</td>\n",
       "      <td>4</td>\n",
       "      <td>2015-09-17</td>\n",
       "      <td>1.0</td>\n",
       "      <td>1</td>\n",
       "      <td>0</td>\n",
       "      <td>0</td>\n",
       "    </tr>\n",
       "  </tbody>\n",
       "</table>\n",
       "</div>"
      ],
      "text/plain": [
       "   Id  Store  DayOfWeek        Date  Open  Promo StateHoliday  SchoolHoliday\n",
       "0   1      1          4  2015-09-17   1.0      1            0              0\n",
       "1   2      3          4  2015-09-17   1.0      1            0              0\n",
       "2   3      7          4  2015-09-17   1.0      1            0              0\n",
       "3   4      8          4  2015-09-17   1.0      1            0              0\n",
       "4   5      9          4  2015-09-17   1.0      1            0              0"
      ]
     },
     "execution_count": 4,
     "metadata": {},
     "output_type": "execute_result"
    }
   ],
   "source": [
    "test.head()"
   ]
  },
  {
   "cell_type": "code",
   "execution_count": 5,
   "metadata": {},
   "outputs": [
    {
     "data": {
      "text/html": [
       "<div>\n",
       "<style>\n",
       "    .dataframe thead tr:only-child th {\n",
       "        text-align: right;\n",
       "    }\n",
       "\n",
       "    .dataframe thead th {\n",
       "        text-align: left;\n",
       "    }\n",
       "\n",
       "    .dataframe tbody tr th {\n",
       "        vertical-align: top;\n",
       "    }\n",
       "</style>\n",
       "<table border=\"1\" class=\"dataframe\">\n",
       "  <thead>\n",
       "    <tr style=\"text-align: right;\">\n",
       "      <th></th>\n",
       "      <th>Store</th>\n",
       "      <th>StoreType</th>\n",
       "      <th>Assortment</th>\n",
       "      <th>CompetitionDistance</th>\n",
       "      <th>CompetitionOpenSinceMonth</th>\n",
       "      <th>CompetitionOpenSinceYear</th>\n",
       "      <th>Promo2</th>\n",
       "      <th>Promo2SinceWeek</th>\n",
       "      <th>Promo2SinceYear</th>\n",
       "      <th>PromoInterval</th>\n",
       "    </tr>\n",
       "  </thead>\n",
       "  <tbody>\n",
       "    <tr>\n",
       "      <th>0</th>\n",
       "      <td>1</td>\n",
       "      <td>c</td>\n",
       "      <td>a</td>\n",
       "      <td>1270.0</td>\n",
       "      <td>9.0</td>\n",
       "      <td>2008.0</td>\n",
       "      <td>0</td>\n",
       "      <td>NaN</td>\n",
       "      <td>NaN</td>\n",
       "      <td>NaN</td>\n",
       "    </tr>\n",
       "    <tr>\n",
       "      <th>1</th>\n",
       "      <td>2</td>\n",
       "      <td>a</td>\n",
       "      <td>a</td>\n",
       "      <td>570.0</td>\n",
       "      <td>11.0</td>\n",
       "      <td>2007.0</td>\n",
       "      <td>1</td>\n",
       "      <td>13.0</td>\n",
       "      <td>2010.0</td>\n",
       "      <td>Jan,Apr,Jul,Oct</td>\n",
       "    </tr>\n",
       "    <tr>\n",
       "      <th>2</th>\n",
       "      <td>3</td>\n",
       "      <td>a</td>\n",
       "      <td>a</td>\n",
       "      <td>14130.0</td>\n",
       "      <td>12.0</td>\n",
       "      <td>2006.0</td>\n",
       "      <td>1</td>\n",
       "      <td>14.0</td>\n",
       "      <td>2011.0</td>\n",
       "      <td>Jan,Apr,Jul,Oct</td>\n",
       "    </tr>\n",
       "    <tr>\n",
       "      <th>3</th>\n",
       "      <td>4</td>\n",
       "      <td>c</td>\n",
       "      <td>c</td>\n",
       "      <td>620.0</td>\n",
       "      <td>9.0</td>\n",
       "      <td>2009.0</td>\n",
       "      <td>0</td>\n",
       "      <td>NaN</td>\n",
       "      <td>NaN</td>\n",
       "      <td>NaN</td>\n",
       "    </tr>\n",
       "    <tr>\n",
       "      <th>4</th>\n",
       "      <td>5</td>\n",
       "      <td>a</td>\n",
       "      <td>a</td>\n",
       "      <td>29910.0</td>\n",
       "      <td>4.0</td>\n",
       "      <td>2015.0</td>\n",
       "      <td>0</td>\n",
       "      <td>NaN</td>\n",
       "      <td>NaN</td>\n",
       "      <td>NaN</td>\n",
       "    </tr>\n",
       "  </tbody>\n",
       "</table>\n",
       "</div>"
      ],
      "text/plain": [
       "   Store StoreType Assortment  CompetitionDistance  CompetitionOpenSinceMonth  \\\n",
       "0      1         c          a               1270.0                        9.0   \n",
       "1      2         a          a                570.0                       11.0   \n",
       "2      3         a          a              14130.0                       12.0   \n",
       "3      4         c          c                620.0                        9.0   \n",
       "4      5         a          a              29910.0                        4.0   \n",
       "\n",
       "   CompetitionOpenSinceYear  Promo2  Promo2SinceWeek  Promo2SinceYear  \\\n",
       "0                    2008.0       0              NaN              NaN   \n",
       "1                    2007.0       1             13.0           2010.0   \n",
       "2                    2006.0       1             14.0           2011.0   \n",
       "3                    2009.0       0              NaN              NaN   \n",
       "4                    2015.0       0              NaN              NaN   \n",
       "\n",
       "     PromoInterval  \n",
       "0              NaN  \n",
       "1  Jan,Apr,Jul,Oct  \n",
       "2  Jan,Apr,Jul,Oct  \n",
       "3              NaN  \n",
       "4              NaN  "
      ]
     },
     "execution_count": 5,
     "metadata": {},
     "output_type": "execute_result"
    }
   ],
   "source": [
    "store.head()"
   ]
  },
  {
   "cell_type": "markdown",
   "metadata": {},
   "source": [
    "# First Look "
   ]
  },
  {
   "cell_type": "code",
   "execution_count": 6,
   "metadata": {},
   "outputs": [
    {
     "name": "stdout",
     "output_type": "stream",
     "text": [
      "<class 'pandas.core.frame.DataFrame'>\n",
      "RangeIndex: 1017209 entries, 0 to 1017208\n",
      "Data columns (total 9 columns):\n",
      "Store            1017209 non-null int64\n",
      "DayOfWeek        1017209 non-null int64\n",
      "Date             1017209 non-null object\n",
      "Sales            1017209 non-null int64\n",
      "Customers        1017209 non-null int64\n",
      "Open             1017209 non-null int64\n",
      "Promo            1017209 non-null int64\n",
      "StateHoliday     1017209 non-null object\n",
      "SchoolHoliday    1017209 non-null int64\n",
      "dtypes: int64(7), object(2)\n",
      "memory usage: 69.8+ MB\n"
     ]
    }
   ],
   "source": [
    "train.info()"
   ]
  },
  {
   "cell_type": "code",
   "execution_count": 7,
   "metadata": {},
   "outputs": [
    {
     "name": "stdout",
     "output_type": "stream",
     "text": [
      "<class 'pandas.core.frame.DataFrame'>\n",
      "RangeIndex: 41088 entries, 0 to 41087\n",
      "Data columns (total 8 columns):\n",
      "Id               41088 non-null int64\n",
      "Store            41088 non-null int64\n",
      "DayOfWeek        41088 non-null int64\n",
      "Date             41088 non-null object\n",
      "Open             41077 non-null float64\n",
      "Promo            41088 non-null int64\n",
      "StateHoliday     41088 non-null object\n",
      "SchoolHoliday    41088 non-null int64\n",
      "dtypes: float64(1), int64(5), object(2)\n",
      "memory usage: 2.5+ MB\n"
     ]
    }
   ],
   "source": [
    "test.info()"
   ]
  },
  {
   "cell_type": "code",
   "execution_count": 8,
   "metadata": {},
   "outputs": [
    {
     "name": "stdout",
     "output_type": "stream",
     "text": [
      "<class 'pandas.core.frame.DataFrame'>\n",
      "RangeIndex: 1115 entries, 0 to 1114\n",
      "Data columns (total 10 columns):\n",
      "Store                        1115 non-null int64\n",
      "StoreType                    1115 non-null object\n",
      "Assortment                   1115 non-null object\n",
      "CompetitionDistance          1112 non-null float64\n",
      "CompetitionOpenSinceMonth    761 non-null float64\n",
      "CompetitionOpenSinceYear     761 non-null float64\n",
      "Promo2                       1115 non-null int64\n",
      "Promo2SinceWeek              571 non-null float64\n",
      "Promo2SinceYear              571 non-null float64\n",
      "PromoInterval                571 non-null object\n",
      "dtypes: float64(5), int64(2), object(3)\n",
      "memory usage: 87.2+ KB\n"
     ]
    }
   ],
   "source": [
    "store.info()"
   ]
  },
  {
   "cell_type": "code",
   "execution_count": 9,
   "metadata": {},
   "outputs": [
    {
     "name": "stdout",
     "output_type": "stream",
     "text": [
      "Here we can see that there are missing values for several features in store: 2343\n"
     ]
    }
   ],
   "source": [
    "print('Here we can see that there are missing values for several features in store:', store.isnull().sum().sum())"
   ]
  },
  {
   "cell_type": "markdown",
   "metadata": {},
   "source": [
    "# Preprocessing"
   ]
  },
  {
   "cell_type": "markdown",
   "metadata": {},
   "source": [
    "## Preprocessing on Train and Test"
   ]
  },
  {
   "cell_type": "code",
   "execution_count": 10,
   "metadata": {},
   "outputs": [
    {
     "name": "stdout",
     "output_type": "stream",
     "text": [
      "<class 'pandas.core.frame.DataFrame'>\n",
      "RangeIndex: 1017209 entries, 0 to 1017208\n",
      "Data columns (total 9 columns):\n",
      "Store            1017209 non-null int64\n",
      "DayOfWeek        1017209 non-null int64\n",
      "Date             1017209 non-null object\n",
      "Sales            1017209 non-null int64\n",
      "Customers        1017209 non-null int64\n",
      "Open             1017209 non-null int64\n",
      "Promo            1017209 non-null int64\n",
      "StateHoliday     1017209 non-null object\n",
      "SchoolHoliday    1017209 non-null int64\n",
      "dtypes: int64(7), object(2)\n",
      "memory usage: 69.8+ MB\n"
     ]
    }
   ],
   "source": [
    "train.info()"
   ]
  },
  {
   "cell_type": "code",
   "execution_count": 11,
   "metadata": {},
   "outputs": [
    {
     "name": "stdout",
     "output_type": "stream",
     "text": [
      "<class 'pandas.core.frame.DataFrame'>\n",
      "RangeIndex: 41088 entries, 0 to 41087\n",
      "Data columns (total 8 columns):\n",
      "Id               41088 non-null int64\n",
      "Store            41088 non-null int64\n",
      "DayOfWeek        41088 non-null int64\n",
      "Date             41088 non-null object\n",
      "Open             41077 non-null float64\n",
      "Promo            41088 non-null int64\n",
      "StateHoliday     41088 non-null object\n",
      "SchoolHoliday    41088 non-null int64\n",
      "dtypes: float64(1), int64(5), object(2)\n",
      "memory usage: 2.5+ MB\n"
     ]
    }
   ],
   "source": [
    "test.info()"
   ]
  },
  {
   "cell_type": "markdown",
   "metadata": {},
   "source": [
    "#### According to the documentation\n",
    "\n",
    "* DateTime for Date\n",
    "* StateHoliday - indicates a state holiday. Normally all stores, with few exceptions, are closed on state holidays. Note that all schools are closed on public holidays and weekends. a = public holiday, b = Easter holiday, c = Christmas, 0 = None\n"
   ]
  },
  {
   "cell_type": "markdown",
   "metadata": {},
   "source": [
    "### Change the date to datetime object"
   ]
  },
  {
   "cell_type": "code",
   "execution_count": 12,
   "metadata": {
    "collapsed": true
   },
   "outputs": [],
   "source": [
    "train['Date'] = pd.to_datetime(train['Date'])\n",
    "test['Date'] = pd.to_datetime(test['Date'])"
   ]
  },
  {
   "cell_type": "markdown",
   "metadata": {},
   "source": [
    "### We first replace the '0' values present in the train and test set by 0 (int) Next we use get dummies for each present value"
   ]
  },
  {
   "cell_type": "code",
   "execution_count": 13,
   "metadata": {},
   "outputs": [
    {
     "name": "stdout",
     "output_type": "stream",
     "text": [
      "Train before ['0' 'a' 'b' 'c' 0]\n",
      "Train Before [0 'a' 'b' 'c']\n"
     ]
    }
   ],
   "source": [
    "print(\"Train before\", train['StateHoliday'].unique())\n",
    "train.replace({\"StateHoliday\": {\"0\": 0}}, inplace=True)\n",
    "print(\"Train Before\", train['StateHoliday'].unique())"
   ]
  },
  {
   "cell_type": "code",
   "execution_count": 14,
   "metadata": {},
   "outputs": [
    {
     "name": "stdout",
     "output_type": "stream",
     "text": [
      "Test After ['0' 'a']\n",
      "Test After [0 'a']\n"
     ]
    }
   ],
   "source": [
    "print(\"Test After\", test['StateHoliday'].unique())\n",
    "test.replace({\"StateHoliday\": {\"0\": 0}}, inplace=True)\n",
    "print(\"Test After\", test['StateHoliday'].unique())"
   ]
  },
  {
   "cell_type": "code",
   "execution_count": 15,
   "metadata": {
    "collapsed": true
   },
   "outputs": [],
   "source": [
    "train[['StateHoliday_0', 'StateHoliday_a', 'StateHoliday_b', 'StateHoliday_c']] = pd.get_dummies(train['StateHoliday'])\n",
    "test[['StateHoliday_0', 'StateHoliday_a']] = pd.get_dummies(test['StateHoliday'])\n",
    "train.drop('StateHoliday', axis=1, inplace=True)\n",
    "test.drop('StateHoliday', axis=1, inplace=True)"
   ]
  },
  {
   "cell_type": "markdown",
   "metadata": {},
   "source": [
    "### Here we check the DayOfWeek for each Nan Values of the feature Open\n",
    "#### As we can see in the celle below, there are no Sunday when the Open value is missing. Therefore can we replace the NaN values by 1 (the store is open). To be more realistic we should map the day with a American calendar to see if each day is a sunday, special day, close day, holiday, public bank holiday, but as there are only a few missing values it should not impact the results much"
   ]
  },
  {
   "cell_type": "code",
   "execution_count": 16,
   "metadata": {},
   "outputs": [
    {
     "data": {
      "text/html": [
       "<div>\n",
       "<style>\n",
       "    .dataframe thead tr:only-child th {\n",
       "        text-align: right;\n",
       "    }\n",
       "\n",
       "    .dataframe thead th {\n",
       "        text-align: left;\n",
       "    }\n",
       "\n",
       "    .dataframe tbody tr th {\n",
       "        vertical-align: top;\n",
       "    }\n",
       "</style>\n",
       "<table border=\"1\" class=\"dataframe\">\n",
       "  <thead>\n",
       "    <tr style=\"text-align: right;\">\n",
       "      <th></th>\n",
       "      <th>Id</th>\n",
       "      <th>Store</th>\n",
       "      <th>DayOfWeek</th>\n",
       "      <th>Date</th>\n",
       "      <th>Open</th>\n",
       "      <th>Promo</th>\n",
       "      <th>SchoolHoliday</th>\n",
       "      <th>StateHoliday_0</th>\n",
       "      <th>StateHoliday_a</th>\n",
       "    </tr>\n",
       "  </thead>\n",
       "  <tbody>\n",
       "    <tr>\n",
       "      <th>479</th>\n",
       "      <td>480</td>\n",
       "      <td>622</td>\n",
       "      <td>4</td>\n",
       "      <td>2015-09-17</td>\n",
       "      <td>NaN</td>\n",
       "      <td>1</td>\n",
       "      <td>0</td>\n",
       "      <td>1</td>\n",
       "      <td>0</td>\n",
       "    </tr>\n",
       "    <tr>\n",
       "      <th>1335</th>\n",
       "      <td>1336</td>\n",
       "      <td>622</td>\n",
       "      <td>3</td>\n",
       "      <td>2015-09-16</td>\n",
       "      <td>NaN</td>\n",
       "      <td>1</td>\n",
       "      <td>0</td>\n",
       "      <td>1</td>\n",
       "      <td>0</td>\n",
       "    </tr>\n",
       "    <tr>\n",
       "      <th>2191</th>\n",
       "      <td>2192</td>\n",
       "      <td>622</td>\n",
       "      <td>2</td>\n",
       "      <td>2015-09-15</td>\n",
       "      <td>NaN</td>\n",
       "      <td>1</td>\n",
       "      <td>0</td>\n",
       "      <td>1</td>\n",
       "      <td>0</td>\n",
       "    </tr>\n",
       "    <tr>\n",
       "      <th>3047</th>\n",
       "      <td>3048</td>\n",
       "      <td>622</td>\n",
       "      <td>1</td>\n",
       "      <td>2015-09-14</td>\n",
       "      <td>NaN</td>\n",
       "      <td>1</td>\n",
       "      <td>0</td>\n",
       "      <td>1</td>\n",
       "      <td>0</td>\n",
       "    </tr>\n",
       "    <tr>\n",
       "      <th>4759</th>\n",
       "      <td>4760</td>\n",
       "      <td>622</td>\n",
       "      <td>6</td>\n",
       "      <td>2015-09-12</td>\n",
       "      <td>NaN</td>\n",
       "      <td>0</td>\n",
       "      <td>0</td>\n",
       "      <td>1</td>\n",
       "      <td>0</td>\n",
       "    </tr>\n",
       "    <tr>\n",
       "      <th>5615</th>\n",
       "      <td>5616</td>\n",
       "      <td>622</td>\n",
       "      <td>5</td>\n",
       "      <td>2015-09-11</td>\n",
       "      <td>NaN</td>\n",
       "      <td>0</td>\n",
       "      <td>0</td>\n",
       "      <td>1</td>\n",
       "      <td>0</td>\n",
       "    </tr>\n",
       "    <tr>\n",
       "      <th>6471</th>\n",
       "      <td>6472</td>\n",
       "      <td>622</td>\n",
       "      <td>4</td>\n",
       "      <td>2015-09-10</td>\n",
       "      <td>NaN</td>\n",
       "      <td>0</td>\n",
       "      <td>0</td>\n",
       "      <td>1</td>\n",
       "      <td>0</td>\n",
       "    </tr>\n",
       "    <tr>\n",
       "      <th>7327</th>\n",
       "      <td>7328</td>\n",
       "      <td>622</td>\n",
       "      <td>3</td>\n",
       "      <td>2015-09-09</td>\n",
       "      <td>NaN</td>\n",
       "      <td>0</td>\n",
       "      <td>0</td>\n",
       "      <td>1</td>\n",
       "      <td>0</td>\n",
       "    </tr>\n",
       "    <tr>\n",
       "      <th>8183</th>\n",
       "      <td>8184</td>\n",
       "      <td>622</td>\n",
       "      <td>2</td>\n",
       "      <td>2015-09-08</td>\n",
       "      <td>NaN</td>\n",
       "      <td>0</td>\n",
       "      <td>0</td>\n",
       "      <td>1</td>\n",
       "      <td>0</td>\n",
       "    </tr>\n",
       "    <tr>\n",
       "      <th>9039</th>\n",
       "      <td>9040</td>\n",
       "      <td>622</td>\n",
       "      <td>1</td>\n",
       "      <td>2015-09-07</td>\n",
       "      <td>NaN</td>\n",
       "      <td>0</td>\n",
       "      <td>0</td>\n",
       "      <td>1</td>\n",
       "      <td>0</td>\n",
       "    </tr>\n",
       "    <tr>\n",
       "      <th>10751</th>\n",
       "      <td>10752</td>\n",
       "      <td>622</td>\n",
       "      <td>6</td>\n",
       "      <td>2015-09-05</td>\n",
       "      <td>NaN</td>\n",
       "      <td>0</td>\n",
       "      <td>0</td>\n",
       "      <td>1</td>\n",
       "      <td>0</td>\n",
       "    </tr>\n",
       "  </tbody>\n",
       "</table>\n",
       "</div>"
      ],
      "text/plain": [
       "          Id  Store  DayOfWeek       Date  Open  Promo  SchoolHoliday  \\\n",
       "479      480    622          4 2015-09-17   NaN      1              0   \n",
       "1335    1336    622          3 2015-09-16   NaN      1              0   \n",
       "2191    2192    622          2 2015-09-15   NaN      1              0   \n",
       "3047    3048    622          1 2015-09-14   NaN      1              0   \n",
       "4759    4760    622          6 2015-09-12   NaN      0              0   \n",
       "5615    5616    622          5 2015-09-11   NaN      0              0   \n",
       "6471    6472    622          4 2015-09-10   NaN      0              0   \n",
       "7327    7328    622          3 2015-09-09   NaN      0              0   \n",
       "8183    8184    622          2 2015-09-08   NaN      0              0   \n",
       "9039    9040    622          1 2015-09-07   NaN      0              0   \n",
       "10751  10752    622          6 2015-09-05   NaN      0              0   \n",
       "\n",
       "       StateHoliday_0  StateHoliday_a  \n",
       "479                 1               0  \n",
       "1335                1               0  \n",
       "2191                1               0  \n",
       "3047                1               0  \n",
       "4759                1               0  \n",
       "5615                1               0  \n",
       "6471                1               0  \n",
       "7327                1               0  \n",
       "8183                1               0  \n",
       "9039                1               0  \n",
       "10751               1               0  "
      ]
     },
     "execution_count": 16,
     "metadata": {},
     "output_type": "execute_result"
    }
   ],
   "source": [
    "test[test['Open'].isnull()]"
   ]
  },
  {
   "cell_type": "code",
   "execution_count": 17,
   "metadata": {
    "collapsed": true
   },
   "outputs": [],
   "source": [
    "test.replace({\"Open\": {np.nan: 1}}, inplace=True)"
   ]
  },
  {
   "cell_type": "code",
   "execution_count": 18,
   "metadata": {},
   "outputs": [
    {
     "data": {
      "text/html": [
       "<div>\n",
       "<style>\n",
       "    .dataframe thead tr:only-child th {\n",
       "        text-align: right;\n",
       "    }\n",
       "\n",
       "    .dataframe thead th {\n",
       "        text-align: left;\n",
       "    }\n",
       "\n",
       "    .dataframe tbody tr th {\n",
       "        vertical-align: top;\n",
       "    }\n",
       "</style>\n",
       "<table border=\"1\" class=\"dataframe\">\n",
       "  <thead>\n",
       "    <tr style=\"text-align: right;\">\n",
       "      <th></th>\n",
       "      <th>Id</th>\n",
       "      <th>Store</th>\n",
       "      <th>DayOfWeek</th>\n",
       "      <th>Date</th>\n",
       "      <th>Open</th>\n",
       "      <th>Promo</th>\n",
       "      <th>SchoolHoliday</th>\n",
       "      <th>StateHoliday_0</th>\n",
       "      <th>StateHoliday_a</th>\n",
       "    </tr>\n",
       "  </thead>\n",
       "  <tbody>\n",
       "  </tbody>\n",
       "</table>\n",
       "</div>"
      ],
      "text/plain": [
       "Empty DataFrame\n",
       "Columns: [Id, Store, DayOfWeek, Date, Open, Promo, SchoolHoliday, StateHoliday_0, StateHoliday_a]\n",
       "Index: []"
      ]
     },
     "execution_count": 18,
     "metadata": {},
     "output_type": "execute_result"
    }
   ],
   "source": [
    "test[test['Open'].isnull()]"
   ]
  },
  {
   "cell_type": "markdown",
   "metadata": {},
   "source": [
    "Finally , we are not evaluated at dates where the store is closed so we can get rid of those dates. The we can get rid of the Open features which carries no more  information "
   ]
  },
  {
   "cell_type": "code",
   "execution_count": 19,
   "metadata": {
    "collapsed": true
   },
   "outputs": [],
   "source": [
    "train = train[train['Open'] != 0 ]\n",
    "test = test[test['Open'] != 0 ]\n",
    "del train['Open']\n",
    "del test['Open']"
   ]
  },
  {
   "cell_type": "markdown",
   "metadata": {},
   "source": [
    "## Preprocessing on Store"
   ]
  },
  {
   "cell_type": "code",
   "execution_count": 20,
   "metadata": {
    "collapsed": true
   },
   "outputs": [],
   "source": [
    "objectFeaturesStore = ['StoreType', 'Assortment', 'PromoInterval']"
   ]
  },
  {
   "cell_type": "code",
   "execution_count": 21,
   "metadata": {},
   "outputs": [
    {
     "data": {
      "text/html": [
       "<div>\n",
       "<style>\n",
       "    .dataframe thead tr:only-child th {\n",
       "        text-align: right;\n",
       "    }\n",
       "\n",
       "    .dataframe thead th {\n",
       "        text-align: left;\n",
       "    }\n",
       "\n",
       "    .dataframe tbody tr th {\n",
       "        vertical-align: top;\n",
       "    }\n",
       "</style>\n",
       "<table border=\"1\" class=\"dataframe\">\n",
       "  <thead>\n",
       "    <tr style=\"text-align: right;\">\n",
       "      <th></th>\n",
       "      <th>StoreType</th>\n",
       "      <th>Assortment</th>\n",
       "      <th>PromoInterval</th>\n",
       "    </tr>\n",
       "  </thead>\n",
       "  <tbody>\n",
       "    <tr>\n",
       "      <th>0</th>\n",
       "      <td>c</td>\n",
       "      <td>a</td>\n",
       "      <td>NaN</td>\n",
       "    </tr>\n",
       "    <tr>\n",
       "      <th>1</th>\n",
       "      <td>a</td>\n",
       "      <td>a</td>\n",
       "      <td>Jan,Apr,Jul,Oct</td>\n",
       "    </tr>\n",
       "    <tr>\n",
       "      <th>2</th>\n",
       "      <td>a</td>\n",
       "      <td>a</td>\n",
       "      <td>Jan,Apr,Jul,Oct</td>\n",
       "    </tr>\n",
       "    <tr>\n",
       "      <th>3</th>\n",
       "      <td>c</td>\n",
       "      <td>c</td>\n",
       "      <td>NaN</td>\n",
       "    </tr>\n",
       "    <tr>\n",
       "      <th>4</th>\n",
       "      <td>a</td>\n",
       "      <td>a</td>\n",
       "      <td>NaN</td>\n",
       "    </tr>\n",
       "  </tbody>\n",
       "</table>\n",
       "</div>"
      ],
      "text/plain": [
       "  StoreType Assortment    PromoInterval\n",
       "0         c          a              NaN\n",
       "1         a          a  Jan,Apr,Jul,Oct\n",
       "2         a          a  Jan,Apr,Jul,Oct\n",
       "3         c          c              NaN\n",
       "4         a          a              NaN"
      ]
     },
     "execution_count": 21,
     "metadata": {},
     "output_type": "execute_result"
    }
   ],
   "source": [
    "store[objectFeaturesStore].head()"
   ]
  },
  {
   "cell_type": "markdown",
   "metadata": {},
   "source": [
    "According to the documentation\n",
    "\n",
    "* StoreType - differentiates between 4 different store models: a, b, c, d\n",
    "* Assortment - describes an assortment level: a = basic, b = extra, c = extended\n",
    "* PromoInterval - describes the consecutive intervals Promo2 is started, naming the months the promotion is started anew. E.g. \"Feb,May,Aug,Nov\" means each round starts in February, May, August, November of any given year for that store\n"
   ]
  },
  {
   "cell_type": "markdown",
   "metadata": {},
   "source": [
    "#### Replace missing values by mean "
   ]
  },
  {
   "cell_type": "code",
   "execution_count": 22,
   "metadata": {
    "collapsed": true
   },
   "outputs": [],
   "source": [
    "# Features to preprocess numerically\n",
    "# 3 features are object type\n",
    "featuresToPreprocessByMean = ['Store', 'CompetitionDistance',\n",
    "       'CompetitionOpenSinceMonth', 'CompetitionOpenSinceYear', 'Promo2',\n",
    "       'Promo2SinceWeek', 'Promo2SinceYear']"
   ]
  },
  {
   "cell_type": "code",
   "execution_count": 23,
   "metadata": {
    "collapsed": true
   },
   "outputs": [],
   "source": [
    "for idx in featuresToPreprocessByMean:\n",
    "    store[idx] = store[idx].fillna(np.mean(store[idx]))"
   ]
  },
  {
   "cell_type": "code",
   "execution_count": 24,
   "metadata": {},
   "outputs": [
    {
     "name": "stdout",
     "output_type": "stream",
     "text": [
      "<class 'pandas.core.frame.DataFrame'>\n",
      "RangeIndex: 1115 entries, 0 to 1114\n",
      "Data columns (total 10 columns):\n",
      "Store                        1115 non-null int64\n",
      "StoreType                    1115 non-null object\n",
      "Assortment                   1115 non-null object\n",
      "CompetitionDistance          1115 non-null float64\n",
      "CompetitionOpenSinceMonth    1115 non-null float64\n",
      "CompetitionOpenSinceYear     1115 non-null float64\n",
      "Promo2                       1115 non-null int64\n",
      "Promo2SinceWeek              1115 non-null float64\n",
      "Promo2SinceYear              1115 non-null float64\n",
      "PromoInterval                571 non-null object\n",
      "dtypes: float64(5), int64(2), object(3)\n",
      "memory usage: 87.2+ KB\n"
     ]
    }
   ],
   "source": [
    "store.info()"
   ]
  },
  {
   "cell_type": "markdown",
   "metadata": {},
   "source": [
    "#### StoreType, Assortment, PromoInterval"
   ]
  },
  {
   "cell_type": "code",
   "execution_count": 25,
   "metadata": {},
   "outputs": [
    {
     "name": "stdout",
     "output_type": "stream",
     "text": [
      "distinct_storeType: ['c' 'a' 'd' 'b'] \n",
      "distinct_assortment:  ['a' 'c' 'b'] \n",
      "distinct_promoInterval:  [nan 'Jan,Apr,Jul,Oct' 'Feb,May,Aug,Nov' 'Mar,Jun,Sept,Dec']\n"
     ]
    }
   ],
   "source": [
    "print('distinct_storeType:', store['StoreType'].unique(), '\\ndistinct_assortment: ', store['Assortment'].unique(), '\\ndistinct_promoInterval: ', store['PromoInterval'].unique())"
   ]
  },
  {
   "cell_type": "code",
   "execution_count": 26,
   "metadata": {
    "collapsed": true
   },
   "outputs": [],
   "source": [
    "store[['StoreType_a', 'StoreType_b', 'StoreType_c', 'StoreType_d']] = pd.get_dummies(store['StoreType'])\n",
    "store[['Assortment_a', 'Assortment_b', 'Assortment_c']] = pd.get_dummies(store['Assortment'])\n",
    "store.drop('StoreType', axis=1, inplace=True)\n",
    "store.drop('Assortment', axis=1, inplace=True)"
   ]
  },
  {
   "cell_type": "code",
   "execution_count": 27,
   "metadata": {
    "collapsed": true
   },
   "outputs": [],
   "source": [
    "store.replace({\"PromoInterval\": {np.nan: 0}}, inplace=True)"
   ]
  },
  {
   "cell_type": "code",
   "execution_count": 28,
   "metadata": {},
   "outputs": [
    {
     "data": {
      "text/html": [
       "<div>\n",
       "<style>\n",
       "    .dataframe thead tr:only-child th {\n",
       "        text-align: right;\n",
       "    }\n",
       "\n",
       "    .dataframe thead th {\n",
       "        text-align: left;\n",
       "    }\n",
       "\n",
       "    .dataframe tbody tr th {\n",
       "        vertical-align: top;\n",
       "    }\n",
       "</style>\n",
       "<table border=\"1\" class=\"dataframe\">\n",
       "  <thead>\n",
       "    <tr style=\"text-align: right;\">\n",
       "      <th></th>\n",
       "      <th>Store</th>\n",
       "      <th>CompetitionDistance</th>\n",
       "      <th>CompetitionOpenSinceMonth</th>\n",
       "      <th>CompetitionOpenSinceYear</th>\n",
       "      <th>Promo2</th>\n",
       "      <th>Promo2SinceWeek</th>\n",
       "      <th>Promo2SinceYear</th>\n",
       "      <th>PromoInterval</th>\n",
       "      <th>StoreType_a</th>\n",
       "      <th>StoreType_b</th>\n",
       "      <th>StoreType_c</th>\n",
       "      <th>StoreType_d</th>\n",
       "      <th>Assortment_a</th>\n",
       "      <th>Assortment_b</th>\n",
       "      <th>Assortment_c</th>\n",
       "    </tr>\n",
       "  </thead>\n",
       "  <tbody>\n",
       "    <tr>\n",
       "      <th>0</th>\n",
       "      <td>1</td>\n",
       "      <td>1270.0</td>\n",
       "      <td>9.0</td>\n",
       "      <td>2008.0</td>\n",
       "      <td>0</td>\n",
       "      <td>23.595447</td>\n",
       "      <td>2011.763573</td>\n",
       "      <td>0</td>\n",
       "      <td>0</td>\n",
       "      <td>0</td>\n",
       "      <td>1</td>\n",
       "      <td>0</td>\n",
       "      <td>1</td>\n",
       "      <td>0</td>\n",
       "      <td>0</td>\n",
       "    </tr>\n",
       "    <tr>\n",
       "      <th>1</th>\n",
       "      <td>2</td>\n",
       "      <td>570.0</td>\n",
       "      <td>11.0</td>\n",
       "      <td>2007.0</td>\n",
       "      <td>1</td>\n",
       "      <td>13.000000</td>\n",
       "      <td>2010.000000</td>\n",
       "      <td>Jan,Apr,Jul,Oct</td>\n",
       "      <td>1</td>\n",
       "      <td>0</td>\n",
       "      <td>0</td>\n",
       "      <td>0</td>\n",
       "      <td>1</td>\n",
       "      <td>0</td>\n",
       "      <td>0</td>\n",
       "    </tr>\n",
       "    <tr>\n",
       "      <th>2</th>\n",
       "      <td>3</td>\n",
       "      <td>14130.0</td>\n",
       "      <td>12.0</td>\n",
       "      <td>2006.0</td>\n",
       "      <td>1</td>\n",
       "      <td>14.000000</td>\n",
       "      <td>2011.000000</td>\n",
       "      <td>Jan,Apr,Jul,Oct</td>\n",
       "      <td>1</td>\n",
       "      <td>0</td>\n",
       "      <td>0</td>\n",
       "      <td>0</td>\n",
       "      <td>1</td>\n",
       "      <td>0</td>\n",
       "      <td>0</td>\n",
       "    </tr>\n",
       "    <tr>\n",
       "      <th>3</th>\n",
       "      <td>4</td>\n",
       "      <td>620.0</td>\n",
       "      <td>9.0</td>\n",
       "      <td>2009.0</td>\n",
       "      <td>0</td>\n",
       "      <td>23.595447</td>\n",
       "      <td>2011.763573</td>\n",
       "      <td>0</td>\n",
       "      <td>0</td>\n",
       "      <td>0</td>\n",
       "      <td>1</td>\n",
       "      <td>0</td>\n",
       "      <td>0</td>\n",
       "      <td>0</td>\n",
       "      <td>1</td>\n",
       "    </tr>\n",
       "    <tr>\n",
       "      <th>4</th>\n",
       "      <td>5</td>\n",
       "      <td>29910.0</td>\n",
       "      <td>4.0</td>\n",
       "      <td>2015.0</td>\n",
       "      <td>0</td>\n",
       "      <td>23.595447</td>\n",
       "      <td>2011.763573</td>\n",
       "      <td>0</td>\n",
       "      <td>1</td>\n",
       "      <td>0</td>\n",
       "      <td>0</td>\n",
       "      <td>0</td>\n",
       "      <td>1</td>\n",
       "      <td>0</td>\n",
       "      <td>0</td>\n",
       "    </tr>\n",
       "  </tbody>\n",
       "</table>\n",
       "</div>"
      ],
      "text/plain": [
       "   Store  CompetitionDistance  CompetitionOpenSinceMonth  \\\n",
       "0      1               1270.0                        9.0   \n",
       "1      2                570.0                       11.0   \n",
       "2      3              14130.0                       12.0   \n",
       "3      4                620.0                        9.0   \n",
       "4      5              29910.0                        4.0   \n",
       "\n",
       "   CompetitionOpenSinceYear  Promo2  Promo2SinceWeek  Promo2SinceYear  \\\n",
       "0                    2008.0       0        23.595447      2011.763573   \n",
       "1                    2007.0       1        13.000000      2010.000000   \n",
       "2                    2006.0       1        14.000000      2011.000000   \n",
       "3                    2009.0       0        23.595447      2011.763573   \n",
       "4                    2015.0       0        23.595447      2011.763573   \n",
       "\n",
       "     PromoInterval  StoreType_a  StoreType_b  StoreType_c  StoreType_d  \\\n",
       "0                0            0            0            1            0   \n",
       "1  Jan,Apr,Jul,Oct            1            0            0            0   \n",
       "2  Jan,Apr,Jul,Oct            1            0            0            0   \n",
       "3                0            0            0            1            0   \n",
       "4                0            1            0            0            0   \n",
       "\n",
       "   Assortment_a  Assortment_b  Assortment_c  \n",
       "0             1             0             0  \n",
       "1             1             0             0  \n",
       "2             1             0             0  \n",
       "3             0             0             1  \n",
       "4             1             0             0  "
      ]
     },
     "execution_count": 28,
     "metadata": {},
     "output_type": "execute_result"
    }
   ],
   "source": [
    "store.head()"
   ]
  },
  {
   "cell_type": "code",
   "execution_count": 29,
   "metadata": {},
   "outputs": [
    {
     "name": "stdout",
     "output_type": "stream",
     "text": [
      "<class 'pandas.core.frame.DataFrame'>\n",
      "RangeIndex: 1115 entries, 0 to 1114\n",
      "Data columns (total 15 columns):\n",
      "Store                        1115 non-null int64\n",
      "CompetitionDistance          1115 non-null float64\n",
      "CompetitionOpenSinceMonth    1115 non-null float64\n",
      "CompetitionOpenSinceYear     1115 non-null float64\n",
      "Promo2                       1115 non-null int64\n",
      "Promo2SinceWeek              1115 non-null float64\n",
      "Promo2SinceYear              1115 non-null float64\n",
      "PromoInterval                1115 non-null object\n",
      "StoreType_a                  1115 non-null uint8\n",
      "StoreType_b                  1115 non-null uint8\n",
      "StoreType_c                  1115 non-null uint8\n",
      "StoreType_d                  1115 non-null uint8\n",
      "Assortment_a                 1115 non-null uint8\n",
      "Assortment_b                 1115 non-null uint8\n",
      "Assortment_c                 1115 non-null uint8\n",
      "dtypes: float64(5), int64(2), object(1), uint8(7)\n",
      "memory usage: 77.4+ KB\n"
     ]
    }
   ],
   "source": [
    "store.info()"
   ]
  },
  {
   "cell_type": "markdown",
   "metadata": {},
   "source": [
    "We are going to add two featuresat shows the date when competition opened and one showing the date when promo2 began, those features will help for predicting as well as for building other features of interest.  "
   ]
  },
  {
   "cell_type": "code",
   "execution_count": 30,
   "metadata": {},
   "outputs": [
    {
     "data": {
      "text/html": [
       "<div>\n",
       "<style>\n",
       "    .dataframe thead tr:only-child th {\n",
       "        text-align: right;\n",
       "    }\n",
       "\n",
       "    .dataframe thead th {\n",
       "        text-align: left;\n",
       "    }\n",
       "\n",
       "    .dataframe tbody tr th {\n",
       "        vertical-align: top;\n",
       "    }\n",
       "</style>\n",
       "<table border=\"1\" class=\"dataframe\">\n",
       "  <thead>\n",
       "    <tr style=\"text-align: right;\">\n",
       "      <th></th>\n",
       "      <th>Store</th>\n",
       "      <th>CompetitionDistance</th>\n",
       "      <th>CompetitionOpenSinceMonth</th>\n",
       "      <th>CompetitionOpenSinceYear</th>\n",
       "      <th>Promo2</th>\n",
       "      <th>Promo2SinceWeek</th>\n",
       "      <th>Promo2SinceYear</th>\n",
       "      <th>PromoInterval</th>\n",
       "      <th>StoreType_a</th>\n",
       "      <th>StoreType_b</th>\n",
       "      <th>StoreType_c</th>\n",
       "      <th>StoreType_d</th>\n",
       "      <th>Assortment_a</th>\n",
       "      <th>Assortment_b</th>\n",
       "      <th>Assortment_c</th>\n",
       "      <th>BeginCompetition</th>\n",
       "      <th>BeginPromo2</th>\n",
       "    </tr>\n",
       "  </thead>\n",
       "  <tbody>\n",
       "    <tr>\n",
       "      <th>0</th>\n",
       "      <td>1</td>\n",
       "      <td>1270.0</td>\n",
       "      <td>9.0</td>\n",
       "      <td>2008.0</td>\n",
       "      <td>0</td>\n",
       "      <td>23.595447</td>\n",
       "      <td>2011.763573</td>\n",
       "      <td>0</td>\n",
       "      <td>0</td>\n",
       "      <td>0</td>\n",
       "      <td>1</td>\n",
       "      <td>0</td>\n",
       "      <td>1</td>\n",
       "      <td>0</td>\n",
       "      <td>0</td>\n",
       "      <td>2008-01-09</td>\n",
       "      <td>2011-06-12</td>\n",
       "    </tr>\n",
       "    <tr>\n",
       "      <th>1</th>\n",
       "      <td>2</td>\n",
       "      <td>570.0</td>\n",
       "      <td>11.0</td>\n",
       "      <td>2007.0</td>\n",
       "      <td>1</td>\n",
       "      <td>13.000000</td>\n",
       "      <td>2010.000000</td>\n",
       "      <td>Jan,Apr,Jul,Oct</td>\n",
       "      <td>1</td>\n",
       "      <td>0</td>\n",
       "      <td>0</td>\n",
       "      <td>0</td>\n",
       "      <td>1</td>\n",
       "      <td>0</td>\n",
       "      <td>0</td>\n",
       "      <td>2007-01-11</td>\n",
       "      <td>2010-04-04</td>\n",
       "    </tr>\n",
       "    <tr>\n",
       "      <th>2</th>\n",
       "      <td>3</td>\n",
       "      <td>14130.0</td>\n",
       "      <td>12.0</td>\n",
       "      <td>2006.0</td>\n",
       "      <td>1</td>\n",
       "      <td>14.000000</td>\n",
       "      <td>2011.000000</td>\n",
       "      <td>Jan,Apr,Jul,Oct</td>\n",
       "      <td>1</td>\n",
       "      <td>0</td>\n",
       "      <td>0</td>\n",
       "      <td>0</td>\n",
       "      <td>1</td>\n",
       "      <td>0</td>\n",
       "      <td>0</td>\n",
       "      <td>2006-01-12</td>\n",
       "      <td>2011-04-10</td>\n",
       "    </tr>\n",
       "    <tr>\n",
       "      <th>3</th>\n",
       "      <td>4</td>\n",
       "      <td>620.0</td>\n",
       "      <td>9.0</td>\n",
       "      <td>2009.0</td>\n",
       "      <td>0</td>\n",
       "      <td>23.595447</td>\n",
       "      <td>2011.763573</td>\n",
       "      <td>0</td>\n",
       "      <td>0</td>\n",
       "      <td>0</td>\n",
       "      <td>1</td>\n",
       "      <td>0</td>\n",
       "      <td>0</td>\n",
       "      <td>0</td>\n",
       "      <td>1</td>\n",
       "      <td>2009-01-09</td>\n",
       "      <td>2011-06-12</td>\n",
       "    </tr>\n",
       "    <tr>\n",
       "      <th>4</th>\n",
       "      <td>5</td>\n",
       "      <td>29910.0</td>\n",
       "      <td>4.0</td>\n",
       "      <td>2015.0</td>\n",
       "      <td>0</td>\n",
       "      <td>23.595447</td>\n",
       "      <td>2011.763573</td>\n",
       "      <td>0</td>\n",
       "      <td>1</td>\n",
       "      <td>0</td>\n",
       "      <td>0</td>\n",
       "      <td>0</td>\n",
       "      <td>1</td>\n",
       "      <td>0</td>\n",
       "      <td>0</td>\n",
       "      <td>2015-01-04</td>\n",
       "      <td>2011-06-12</td>\n",
       "    </tr>\n",
       "  </tbody>\n",
       "</table>\n",
       "</div>"
      ],
      "text/plain": [
       "   Store  CompetitionDistance  CompetitionOpenSinceMonth  \\\n",
       "0      1               1270.0                        9.0   \n",
       "1      2                570.0                       11.0   \n",
       "2      3              14130.0                       12.0   \n",
       "3      4                620.0                        9.0   \n",
       "4      5              29910.0                        4.0   \n",
       "\n",
       "   CompetitionOpenSinceYear  Promo2  Promo2SinceWeek  Promo2SinceYear  \\\n",
       "0                    2008.0       0        23.595447      2011.763573   \n",
       "1                    2007.0       1        13.000000      2010.000000   \n",
       "2                    2006.0       1        14.000000      2011.000000   \n",
       "3                    2009.0       0        23.595447      2011.763573   \n",
       "4                    2015.0       0        23.595447      2011.763573   \n",
       "\n",
       "     PromoInterval  StoreType_a  StoreType_b  StoreType_c  StoreType_d  \\\n",
       "0                0            0            0            1            0   \n",
       "1  Jan,Apr,Jul,Oct            1            0            0            0   \n",
       "2  Jan,Apr,Jul,Oct            1            0            0            0   \n",
       "3                0            0            0            1            0   \n",
       "4                0            1            0            0            0   \n",
       "\n",
       "   Assortment_a  Assortment_b  Assortment_c BeginCompetition BeginPromo2  \n",
       "0             1             0             0       2008-01-09  2011-06-12  \n",
       "1             1             0             0       2007-01-11  2010-04-04  \n",
       "2             1             0             0       2006-01-12  2011-04-10  \n",
       "3             0             0             1       2009-01-09  2011-06-12  \n",
       "4             1             0             0       2015-01-04  2011-06-12  "
      ]
     },
     "execution_count": 30,
     "metadata": {},
     "output_type": "execute_result"
    }
   ],
   "source": [
    "def date_init_compet (col1, col2):\n",
    "    if col1 != 0:\n",
    "        return pd.to_datetime(str('01/')+str((int(col1)))+\"/\"+str(int(col2)))\n",
    "    \n",
    "def date_init_promo(week,year):\n",
    "    if week != 0: \n",
    "        return pd.to_datetime(str(int(week)) + '/' + str(int(year)) + '/' + '0', format='%W/%Y/%w')\n",
    "    \n",
    "store['BeginCompetition'] = store.apply(lambda x : date_init_compet(x['CompetitionOpenSinceMonth'], x['CompetitionOpenSinceYear']),axis=1) \n",
    "store['BeginPromo2'] = store.apply(lambda x : date_init_promo(x['Promo2SinceWeek'], x['Promo2SinceYear']),axis=1) \n",
    "\n",
    "    \n",
    "store.head()"
   ]
  },
  {
   "cell_type": "code",
   "execution_count": 31,
   "metadata": {
    "scrolled": true
   },
   "outputs": [
    {
     "name": "stdout",
     "output_type": "stream",
     "text": [
      "<class 'pandas.core.frame.DataFrame'>\n",
      "RangeIndex: 1115 entries, 0 to 1114\n",
      "Data columns (total 17 columns):\n",
      "Store                        1115 non-null int64\n",
      "CompetitionDistance          1115 non-null float64\n",
      "CompetitionOpenSinceMonth    1115 non-null float64\n",
      "CompetitionOpenSinceYear     1115 non-null float64\n",
      "Promo2                       1115 non-null int64\n",
      "Promo2SinceWeek              1115 non-null float64\n",
      "Promo2SinceYear              1115 non-null float64\n",
      "PromoInterval                1115 non-null object\n",
      "StoreType_a                  1115 non-null uint8\n",
      "StoreType_b                  1115 non-null uint8\n",
      "StoreType_c                  1115 non-null uint8\n",
      "StoreType_d                  1115 non-null uint8\n",
      "Assortment_a                 1115 non-null uint8\n",
      "Assortment_b                 1115 non-null uint8\n",
      "Assortment_c                 1115 non-null uint8\n",
      "BeginCompetition             1115 non-null datetime64[ns]\n",
      "BeginPromo2                  1115 non-null datetime64[ns]\n",
      "dtypes: datetime64[ns](2), float64(5), int64(2), object(1), uint8(7)\n",
      "memory usage: 94.8+ KB\n"
     ]
    }
   ],
   "source": [
    "store.info()"
   ]
  },
  {
   "cell_type": "markdown",
   "metadata": {},
   "source": [
    "#### Merge Train,Test and Store"
   ]
  },
  {
   "cell_type": "code",
   "execution_count": 32,
   "metadata": {},
   "outputs": [
    {
     "data": {
      "text/plain": [
       "(Index(['Store', 'DayOfWeek', 'Date', 'Sales', 'Customers', 'Promo',\n",
       "        'SchoolHoliday', 'StateHoliday_0', 'StateHoliday_a', 'StateHoliday_b',\n",
       "        'StateHoliday_c'],\n",
       "       dtype='object'),\n",
       " Index(['Id', 'Store', 'DayOfWeek', 'Date', 'Promo', 'SchoolHoliday',\n",
       "        'StateHoliday_0', 'StateHoliday_a'],\n",
       "       dtype='object'),\n",
       " Index(['Store', 'CompetitionDistance', 'CompetitionOpenSinceMonth',\n",
       "        'CompetitionOpenSinceYear', 'Promo2', 'Promo2SinceWeek',\n",
       "        'Promo2SinceYear', 'PromoInterval', 'StoreType_a', 'StoreType_b',\n",
       "        'StoreType_c', 'StoreType_d', 'Assortment_a', 'Assortment_b',\n",
       "        'Assortment_c', 'BeginCompetition', 'BeginPromo2'],\n",
       "       dtype='object'))"
      ]
     },
     "execution_count": 32,
     "metadata": {},
     "output_type": "execute_result"
    }
   ],
   "source": [
    "train.columns, test.columns,store.columns, "
   ]
  },
  {
   "cell_type": "code",
   "execution_count": 33,
   "metadata": {
    "collapsed": true
   },
   "outputs": [],
   "source": [
    "df_train = pd.merge(train, store, left_on='Store', right_on='Store')\n",
    "df_test = pd.merge(test, store, left_on='Store', right_on='Store')"
   ]
  },
  {
   "cell_type": "code",
   "execution_count": 34,
   "metadata": {},
   "outputs": [
    {
     "data": {
      "text/html": [
       "<div>\n",
       "<style>\n",
       "    .dataframe thead tr:only-child th {\n",
       "        text-align: right;\n",
       "    }\n",
       "\n",
       "    .dataframe thead th {\n",
       "        text-align: left;\n",
       "    }\n",
       "\n",
       "    .dataframe tbody tr th {\n",
       "        vertical-align: top;\n",
       "    }\n",
       "</style>\n",
       "<table border=\"1\" class=\"dataframe\">\n",
       "  <thead>\n",
       "    <tr style=\"text-align: right;\">\n",
       "      <th></th>\n",
       "      <th>Store</th>\n",
       "      <th>DayOfWeek</th>\n",
       "      <th>Date</th>\n",
       "      <th>Sales</th>\n",
       "      <th>Customers</th>\n",
       "      <th>Promo</th>\n",
       "      <th>SchoolHoliday</th>\n",
       "      <th>StateHoliday_0</th>\n",
       "      <th>StateHoliday_a</th>\n",
       "      <th>StateHoliday_b</th>\n",
       "      <th>...</th>\n",
       "      <th>PromoInterval</th>\n",
       "      <th>StoreType_a</th>\n",
       "      <th>StoreType_b</th>\n",
       "      <th>StoreType_c</th>\n",
       "      <th>StoreType_d</th>\n",
       "      <th>Assortment_a</th>\n",
       "      <th>Assortment_b</th>\n",
       "      <th>Assortment_c</th>\n",
       "      <th>BeginCompetition</th>\n",
       "      <th>BeginPromo2</th>\n",
       "    </tr>\n",
       "  </thead>\n",
       "  <tbody>\n",
       "    <tr>\n",
       "      <th>0</th>\n",
       "      <td>1</td>\n",
       "      <td>5</td>\n",
       "      <td>2015-07-31</td>\n",
       "      <td>5263</td>\n",
       "      <td>555</td>\n",
       "      <td>1</td>\n",
       "      <td>1</td>\n",
       "      <td>1</td>\n",
       "      <td>0</td>\n",
       "      <td>0</td>\n",
       "      <td>...</td>\n",
       "      <td>0</td>\n",
       "      <td>0</td>\n",
       "      <td>0</td>\n",
       "      <td>1</td>\n",
       "      <td>0</td>\n",
       "      <td>1</td>\n",
       "      <td>0</td>\n",
       "      <td>0</td>\n",
       "      <td>2008-01-09</td>\n",
       "      <td>2011-06-12</td>\n",
       "    </tr>\n",
       "    <tr>\n",
       "      <th>1</th>\n",
       "      <td>1</td>\n",
       "      <td>4</td>\n",
       "      <td>2015-07-30</td>\n",
       "      <td>5020</td>\n",
       "      <td>546</td>\n",
       "      <td>1</td>\n",
       "      <td>1</td>\n",
       "      <td>1</td>\n",
       "      <td>0</td>\n",
       "      <td>0</td>\n",
       "      <td>...</td>\n",
       "      <td>0</td>\n",
       "      <td>0</td>\n",
       "      <td>0</td>\n",
       "      <td>1</td>\n",
       "      <td>0</td>\n",
       "      <td>1</td>\n",
       "      <td>0</td>\n",
       "      <td>0</td>\n",
       "      <td>2008-01-09</td>\n",
       "      <td>2011-06-12</td>\n",
       "    </tr>\n",
       "    <tr>\n",
       "      <th>2</th>\n",
       "      <td>1</td>\n",
       "      <td>3</td>\n",
       "      <td>2015-07-29</td>\n",
       "      <td>4782</td>\n",
       "      <td>523</td>\n",
       "      <td>1</td>\n",
       "      <td>1</td>\n",
       "      <td>1</td>\n",
       "      <td>0</td>\n",
       "      <td>0</td>\n",
       "      <td>...</td>\n",
       "      <td>0</td>\n",
       "      <td>0</td>\n",
       "      <td>0</td>\n",
       "      <td>1</td>\n",
       "      <td>0</td>\n",
       "      <td>1</td>\n",
       "      <td>0</td>\n",
       "      <td>0</td>\n",
       "      <td>2008-01-09</td>\n",
       "      <td>2011-06-12</td>\n",
       "    </tr>\n",
       "    <tr>\n",
       "      <th>3</th>\n",
       "      <td>1</td>\n",
       "      <td>2</td>\n",
       "      <td>2015-07-28</td>\n",
       "      <td>5011</td>\n",
       "      <td>560</td>\n",
       "      <td>1</td>\n",
       "      <td>1</td>\n",
       "      <td>1</td>\n",
       "      <td>0</td>\n",
       "      <td>0</td>\n",
       "      <td>...</td>\n",
       "      <td>0</td>\n",
       "      <td>0</td>\n",
       "      <td>0</td>\n",
       "      <td>1</td>\n",
       "      <td>0</td>\n",
       "      <td>1</td>\n",
       "      <td>0</td>\n",
       "      <td>0</td>\n",
       "      <td>2008-01-09</td>\n",
       "      <td>2011-06-12</td>\n",
       "    </tr>\n",
       "    <tr>\n",
       "      <th>4</th>\n",
       "      <td>1</td>\n",
       "      <td>1</td>\n",
       "      <td>2015-07-27</td>\n",
       "      <td>6102</td>\n",
       "      <td>612</td>\n",
       "      <td>1</td>\n",
       "      <td>1</td>\n",
       "      <td>1</td>\n",
       "      <td>0</td>\n",
       "      <td>0</td>\n",
       "      <td>...</td>\n",
       "      <td>0</td>\n",
       "      <td>0</td>\n",
       "      <td>0</td>\n",
       "      <td>1</td>\n",
       "      <td>0</td>\n",
       "      <td>1</td>\n",
       "      <td>0</td>\n",
       "      <td>0</td>\n",
       "      <td>2008-01-09</td>\n",
       "      <td>2011-06-12</td>\n",
       "    </tr>\n",
       "  </tbody>\n",
       "</table>\n",
       "<p>5 rows × 27 columns</p>\n",
       "</div>"
      ],
      "text/plain": [
       "   Store  DayOfWeek       Date  Sales  Customers  Promo  SchoolHoliday  \\\n",
       "0      1          5 2015-07-31   5263        555      1              1   \n",
       "1      1          4 2015-07-30   5020        546      1              1   \n",
       "2      1          3 2015-07-29   4782        523      1              1   \n",
       "3      1          2 2015-07-28   5011        560      1              1   \n",
       "4      1          1 2015-07-27   6102        612      1              1   \n",
       "\n",
       "   StateHoliday_0  StateHoliday_a  StateHoliday_b     ...       PromoInterval  \\\n",
       "0               1               0               0     ...                   0   \n",
       "1               1               0               0     ...                   0   \n",
       "2               1               0               0     ...                   0   \n",
       "3               1               0               0     ...                   0   \n",
       "4               1               0               0     ...                   0   \n",
       "\n",
       "   StoreType_a  StoreType_b  StoreType_c  StoreType_d  Assortment_a  \\\n",
       "0            0            0            1            0             1   \n",
       "1            0            0            1            0             1   \n",
       "2            0            0            1            0             1   \n",
       "3            0            0            1            0             1   \n",
       "4            0            0            1            0             1   \n",
       "\n",
       "   Assortment_b Assortment_c  BeginCompetition  BeginPromo2  \n",
       "0             0            0        2008-01-09   2011-06-12  \n",
       "1             0            0        2008-01-09   2011-06-12  \n",
       "2             0            0        2008-01-09   2011-06-12  \n",
       "3             0            0        2008-01-09   2011-06-12  \n",
       "4             0            0        2008-01-09   2011-06-12  \n",
       "\n",
       "[5 rows x 27 columns]"
      ]
     },
     "execution_count": 34,
     "metadata": {},
     "output_type": "execute_result"
    }
   ],
   "source": [
    "df_train.head()"
   ]
  },
  {
   "cell_type": "code",
   "execution_count": 35,
   "metadata": {
    "scrolled": true
   },
   "outputs": [
    {
     "name": "stdout",
     "output_type": "stream",
     "text": [
      "<class 'pandas.core.frame.DataFrame'>\n",
      "Int64Index: 844392 entries, 0 to 844391\n",
      "Data columns (total 27 columns):\n",
      "Store                        844392 non-null int64\n",
      "DayOfWeek                    844392 non-null int64\n",
      "Date                         844392 non-null datetime64[ns]\n",
      "Sales                        844392 non-null int64\n",
      "Customers                    844392 non-null int64\n",
      "Promo                        844392 non-null int64\n",
      "SchoolHoliday                844392 non-null int64\n",
      "StateHoliday_0               844392 non-null uint8\n",
      "StateHoliday_a               844392 non-null uint8\n",
      "StateHoliday_b               844392 non-null uint8\n",
      "StateHoliday_c               844392 non-null uint8\n",
      "CompetitionDistance          844392 non-null float64\n",
      "CompetitionOpenSinceMonth    844392 non-null float64\n",
      "CompetitionOpenSinceYear     844392 non-null float64\n",
      "Promo2                       844392 non-null int64\n",
      "Promo2SinceWeek              844392 non-null float64\n",
      "Promo2SinceYear              844392 non-null float64\n",
      "PromoInterval                844392 non-null object\n",
      "StoreType_a                  844392 non-null uint8\n",
      "StoreType_b                  844392 non-null uint8\n",
      "StoreType_c                  844392 non-null uint8\n",
      "StoreType_d                  844392 non-null uint8\n",
      "Assortment_a                 844392 non-null uint8\n",
      "Assortment_b                 844392 non-null uint8\n",
      "Assortment_c                 844392 non-null uint8\n",
      "BeginCompetition             844392 non-null datetime64[ns]\n",
      "BeginPromo2                  844392 non-null datetime64[ns]\n",
      "dtypes: datetime64[ns](3), float64(5), int64(7), object(1), uint8(11)\n",
      "memory usage: 118.4+ MB\n"
     ]
    }
   ],
   "source": [
    "df_train.info()"
   ]
  },
  {
   "cell_type": "markdown",
   "metadata": {},
   "source": [
    "# Feature Engineering"
   ]
  },
  {
   "cell_type": "markdown",
   "metadata": {},
   "source": [
    "In this part, we will create  features which might be helpful to improve the model."
   ]
  },
  {
   "cell_type": "code",
   "execution_count": 36,
   "metadata": {
    "collapsed": true
   },
   "outputs": [],
   "source": [
    "#This function returns 1 if there is a romo2 \"today\" 1 otherwise  \n",
    "def create_promo2(promo, curr_date,begin_date, interval ):\n",
    "    list_mois = ['Jan','Feb','Mar', 'Apr','May','Jun', 'Jul', 'Aug', 'Sept', 'Oct','Nov','Dec']\n",
    "    if promo  and (curr_date > begin_date) and (list_mois[curr_date.month -1 ] in interval.split(',')):\n",
    "        return 1 \n",
    "    else:\n",
    "        return 0 "
   ]
  },
  {
   "cell_type": "code",
   "execution_count": 37,
   "metadata": {
    "collapsed": true
   },
   "outputs": [],
   "source": [
    "# Creates all the features we might need to train ours models\n",
    "def generator (df) :\n",
    "    #Time since opoosition began\n",
    "    df['duree_concurence']= (df['Date'] - pd.to_datetime(df['BeginCompetition'])).dt.days\n",
    "    #1 if there is a promo2 today, 0 otherwise \n",
    "    df['promo2_today'] =df.apply( lambda x : create_promo2(x['Promo2'],x['Date'], x['BeginPromo2'] , x['PromoInterval']),axis = 1 )\n",
    "    df['year']=df['Date'].apply(lambda x: x.year)\n",
    "    df['month']=df['Date'].apply(lambda x: x.month)\n",
    "    df['day']=df['Date'].apply(lambda x: x.day)\n",
    "    df['dayofyear']=df['Date'].apply(lambda x: x.dayofyear)\n",
    "    df['weekofyear']=df['Date'].apply(lambda x: x.weekofyear)\n",
    "    df['dayofweek']=df['Date'].apply(lambda x: x.dayofweek)\n",
    "    df['quarter']=df['Date'].apply(lambda x: x.quarter)\n",
    "    \n",
    "    #The length of time promo2 has been ongoing in a given store\n",
    "    df['duree_promo2'] = (df['Date'] - df['BeginPromo2']).dt.days\n",
    "\n",
    "    return (df)"
   ]
  },
  {
   "cell_type": "markdown",
   "metadata": {},
   "source": [
    "We now have the datasets for training and testing with all the features we created above. The following dataframes are used as lake of features where we have all the features we thought about. We well then select some features in the following validation strategy part."
   ]
  },
  {
   "cell_type": "code",
   "execution_count": 38,
   "metadata": {
    "collapsed": true
   },
   "outputs": [],
   "source": [
    "df_train = generator(df_train) # \"Lake\" of data for Training\n",
    "df_test = generator(df_test) # \"Lake\" of data for test to submit on Kaggle"
   ]
  },
  {
   "cell_type": "code",
   "execution_count": 39,
   "metadata": {},
   "outputs": [
    {
     "data": {
      "text/html": [
       "<div>\n",
       "<style>\n",
       "    .dataframe thead tr:only-child th {\n",
       "        text-align: right;\n",
       "    }\n",
       "\n",
       "    .dataframe thead th {\n",
       "        text-align: left;\n",
       "    }\n",
       "\n",
       "    .dataframe tbody tr th {\n",
       "        vertical-align: top;\n",
       "    }\n",
       "</style>\n",
       "<table border=\"1\" class=\"dataframe\">\n",
       "  <thead>\n",
       "    <tr style=\"text-align: right;\">\n",
       "      <th></th>\n",
       "      <th>Store</th>\n",
       "      <th>DayOfWeek</th>\n",
       "      <th>Date</th>\n",
       "      <th>Sales</th>\n",
       "      <th>Customers</th>\n",
       "      <th>Promo</th>\n",
       "      <th>SchoolHoliday</th>\n",
       "      <th>StateHoliday_0</th>\n",
       "      <th>StateHoliday_a</th>\n",
       "      <th>StateHoliday_b</th>\n",
       "      <th>...</th>\n",
       "      <th>duree_concurence</th>\n",
       "      <th>promo2_today</th>\n",
       "      <th>year</th>\n",
       "      <th>month</th>\n",
       "      <th>day</th>\n",
       "      <th>dayofyear</th>\n",
       "      <th>weekofyear</th>\n",
       "      <th>dayofweek</th>\n",
       "      <th>quarter</th>\n",
       "      <th>duree_promo2</th>\n",
       "    </tr>\n",
       "  </thead>\n",
       "  <tbody>\n",
       "    <tr>\n",
       "      <th>0</th>\n",
       "      <td>1</td>\n",
       "      <td>5</td>\n",
       "      <td>2015-07-31</td>\n",
       "      <td>5263</td>\n",
       "      <td>555</td>\n",
       "      <td>1</td>\n",
       "      <td>1</td>\n",
       "      <td>1</td>\n",
       "      <td>0</td>\n",
       "      <td>0</td>\n",
       "      <td>...</td>\n",
       "      <td>2760</td>\n",
       "      <td>0</td>\n",
       "      <td>2015</td>\n",
       "      <td>7</td>\n",
       "      <td>31</td>\n",
       "      <td>212</td>\n",
       "      <td>31</td>\n",
       "      <td>4</td>\n",
       "      <td>3</td>\n",
       "      <td>1510</td>\n",
       "    </tr>\n",
       "    <tr>\n",
       "      <th>1</th>\n",
       "      <td>1</td>\n",
       "      <td>4</td>\n",
       "      <td>2015-07-30</td>\n",
       "      <td>5020</td>\n",
       "      <td>546</td>\n",
       "      <td>1</td>\n",
       "      <td>1</td>\n",
       "      <td>1</td>\n",
       "      <td>0</td>\n",
       "      <td>0</td>\n",
       "      <td>...</td>\n",
       "      <td>2759</td>\n",
       "      <td>0</td>\n",
       "      <td>2015</td>\n",
       "      <td>7</td>\n",
       "      <td>30</td>\n",
       "      <td>211</td>\n",
       "      <td>31</td>\n",
       "      <td>3</td>\n",
       "      <td>3</td>\n",
       "      <td>1509</td>\n",
       "    </tr>\n",
       "    <tr>\n",
       "      <th>2</th>\n",
       "      <td>1</td>\n",
       "      <td>3</td>\n",
       "      <td>2015-07-29</td>\n",
       "      <td>4782</td>\n",
       "      <td>523</td>\n",
       "      <td>1</td>\n",
       "      <td>1</td>\n",
       "      <td>1</td>\n",
       "      <td>0</td>\n",
       "      <td>0</td>\n",
       "      <td>...</td>\n",
       "      <td>2758</td>\n",
       "      <td>0</td>\n",
       "      <td>2015</td>\n",
       "      <td>7</td>\n",
       "      <td>29</td>\n",
       "      <td>210</td>\n",
       "      <td>31</td>\n",
       "      <td>2</td>\n",
       "      <td>3</td>\n",
       "      <td>1508</td>\n",
       "    </tr>\n",
       "    <tr>\n",
       "      <th>3</th>\n",
       "      <td>1</td>\n",
       "      <td>2</td>\n",
       "      <td>2015-07-28</td>\n",
       "      <td>5011</td>\n",
       "      <td>560</td>\n",
       "      <td>1</td>\n",
       "      <td>1</td>\n",
       "      <td>1</td>\n",
       "      <td>0</td>\n",
       "      <td>0</td>\n",
       "      <td>...</td>\n",
       "      <td>2757</td>\n",
       "      <td>0</td>\n",
       "      <td>2015</td>\n",
       "      <td>7</td>\n",
       "      <td>28</td>\n",
       "      <td>209</td>\n",
       "      <td>31</td>\n",
       "      <td>1</td>\n",
       "      <td>3</td>\n",
       "      <td>1507</td>\n",
       "    </tr>\n",
       "    <tr>\n",
       "      <th>4</th>\n",
       "      <td>1</td>\n",
       "      <td>1</td>\n",
       "      <td>2015-07-27</td>\n",
       "      <td>6102</td>\n",
       "      <td>612</td>\n",
       "      <td>1</td>\n",
       "      <td>1</td>\n",
       "      <td>1</td>\n",
       "      <td>0</td>\n",
       "      <td>0</td>\n",
       "      <td>...</td>\n",
       "      <td>2756</td>\n",
       "      <td>0</td>\n",
       "      <td>2015</td>\n",
       "      <td>7</td>\n",
       "      <td>27</td>\n",
       "      <td>208</td>\n",
       "      <td>31</td>\n",
       "      <td>0</td>\n",
       "      <td>3</td>\n",
       "      <td>1506</td>\n",
       "    </tr>\n",
       "  </tbody>\n",
       "</table>\n",
       "<p>5 rows × 37 columns</p>\n",
       "</div>"
      ],
      "text/plain": [
       "   Store  DayOfWeek       Date  Sales  Customers  Promo  SchoolHoliday  \\\n",
       "0      1          5 2015-07-31   5263        555      1              1   \n",
       "1      1          4 2015-07-30   5020        546      1              1   \n",
       "2      1          3 2015-07-29   4782        523      1              1   \n",
       "3      1          2 2015-07-28   5011        560      1              1   \n",
       "4      1          1 2015-07-27   6102        612      1              1   \n",
       "\n",
       "   StateHoliday_0  StateHoliday_a  StateHoliday_b      ...       \\\n",
       "0               1               0               0      ...        \n",
       "1               1               0               0      ...        \n",
       "2               1               0               0      ...        \n",
       "3               1               0               0      ...        \n",
       "4               1               0               0      ...        \n",
       "\n",
       "   duree_concurence  promo2_today  year  month  day  dayofyear  weekofyear  \\\n",
       "0              2760             0  2015      7   31        212          31   \n",
       "1              2759             0  2015      7   30        211          31   \n",
       "2              2758             0  2015      7   29        210          31   \n",
       "3              2757             0  2015      7   28        209          31   \n",
       "4              2756             0  2015      7   27        208          31   \n",
       "\n",
       "  dayofweek  quarter  duree_promo2  \n",
       "0         4        3          1510  \n",
       "1         3        3          1509  \n",
       "2         2        3          1508  \n",
       "3         1        3          1507  \n",
       "4         0        3          1506  \n",
       "\n",
       "[5 rows x 37 columns]"
      ]
     },
     "execution_count": 39,
     "metadata": {},
     "output_type": "execute_result"
    }
   ],
   "source": [
    "df_train.head()"
   ]
  },
  {
   "cell_type": "code",
   "execution_count": 40,
   "metadata": {},
   "outputs": [
    {
     "data": {
      "text/html": [
       "<div>\n",
       "<style>\n",
       "    .dataframe thead tr:only-child th {\n",
       "        text-align: right;\n",
       "    }\n",
       "\n",
       "    .dataframe thead th {\n",
       "        text-align: left;\n",
       "    }\n",
       "\n",
       "    .dataframe tbody tr th {\n",
       "        vertical-align: top;\n",
       "    }\n",
       "</style>\n",
       "<table border=\"1\" class=\"dataframe\">\n",
       "  <thead>\n",
       "    <tr style=\"text-align: right;\">\n",
       "      <th></th>\n",
       "      <th>Id</th>\n",
       "      <th>Store</th>\n",
       "      <th>DayOfWeek</th>\n",
       "      <th>Date</th>\n",
       "      <th>Promo</th>\n",
       "      <th>SchoolHoliday</th>\n",
       "      <th>StateHoliday_0</th>\n",
       "      <th>StateHoliday_a</th>\n",
       "      <th>CompetitionDistance</th>\n",
       "      <th>CompetitionOpenSinceMonth</th>\n",
       "      <th>...</th>\n",
       "      <th>duree_concurence</th>\n",
       "      <th>promo2_today</th>\n",
       "      <th>year</th>\n",
       "      <th>month</th>\n",
       "      <th>day</th>\n",
       "      <th>dayofyear</th>\n",
       "      <th>weekofyear</th>\n",
       "      <th>dayofweek</th>\n",
       "      <th>quarter</th>\n",
       "      <th>duree_promo2</th>\n",
       "    </tr>\n",
       "  </thead>\n",
       "  <tbody>\n",
       "    <tr>\n",
       "      <th>0</th>\n",
       "      <td>1</td>\n",
       "      <td>1</td>\n",
       "      <td>4</td>\n",
       "      <td>2015-09-17</td>\n",
       "      <td>1</td>\n",
       "      <td>0</td>\n",
       "      <td>1</td>\n",
       "      <td>0</td>\n",
       "      <td>1270.0</td>\n",
       "      <td>9.0</td>\n",
       "      <td>...</td>\n",
       "      <td>2808</td>\n",
       "      <td>0</td>\n",
       "      <td>2015</td>\n",
       "      <td>9</td>\n",
       "      <td>17</td>\n",
       "      <td>260</td>\n",
       "      <td>38</td>\n",
       "      <td>3</td>\n",
       "      <td>3</td>\n",
       "      <td>1558</td>\n",
       "    </tr>\n",
       "    <tr>\n",
       "      <th>1</th>\n",
       "      <td>857</td>\n",
       "      <td>1</td>\n",
       "      <td>3</td>\n",
       "      <td>2015-09-16</td>\n",
       "      <td>1</td>\n",
       "      <td>0</td>\n",
       "      <td>1</td>\n",
       "      <td>0</td>\n",
       "      <td>1270.0</td>\n",
       "      <td>9.0</td>\n",
       "      <td>...</td>\n",
       "      <td>2807</td>\n",
       "      <td>0</td>\n",
       "      <td>2015</td>\n",
       "      <td>9</td>\n",
       "      <td>16</td>\n",
       "      <td>259</td>\n",
       "      <td>38</td>\n",
       "      <td>2</td>\n",
       "      <td>3</td>\n",
       "      <td>1557</td>\n",
       "    </tr>\n",
       "    <tr>\n",
       "      <th>2</th>\n",
       "      <td>1713</td>\n",
       "      <td>1</td>\n",
       "      <td>2</td>\n",
       "      <td>2015-09-15</td>\n",
       "      <td>1</td>\n",
       "      <td>0</td>\n",
       "      <td>1</td>\n",
       "      <td>0</td>\n",
       "      <td>1270.0</td>\n",
       "      <td>9.0</td>\n",
       "      <td>...</td>\n",
       "      <td>2806</td>\n",
       "      <td>0</td>\n",
       "      <td>2015</td>\n",
       "      <td>9</td>\n",
       "      <td>15</td>\n",
       "      <td>258</td>\n",
       "      <td>38</td>\n",
       "      <td>1</td>\n",
       "      <td>3</td>\n",
       "      <td>1556</td>\n",
       "    </tr>\n",
       "    <tr>\n",
       "      <th>3</th>\n",
       "      <td>2569</td>\n",
       "      <td>1</td>\n",
       "      <td>1</td>\n",
       "      <td>2015-09-14</td>\n",
       "      <td>1</td>\n",
       "      <td>0</td>\n",
       "      <td>1</td>\n",
       "      <td>0</td>\n",
       "      <td>1270.0</td>\n",
       "      <td>9.0</td>\n",
       "      <td>...</td>\n",
       "      <td>2805</td>\n",
       "      <td>0</td>\n",
       "      <td>2015</td>\n",
       "      <td>9</td>\n",
       "      <td>14</td>\n",
       "      <td>257</td>\n",
       "      <td>38</td>\n",
       "      <td>0</td>\n",
       "      <td>3</td>\n",
       "      <td>1555</td>\n",
       "    </tr>\n",
       "    <tr>\n",
       "      <th>4</th>\n",
       "      <td>4281</td>\n",
       "      <td>1</td>\n",
       "      <td>6</td>\n",
       "      <td>2015-09-12</td>\n",
       "      <td>0</td>\n",
       "      <td>0</td>\n",
       "      <td>1</td>\n",
       "      <td>0</td>\n",
       "      <td>1270.0</td>\n",
       "      <td>9.0</td>\n",
       "      <td>...</td>\n",
       "      <td>2803</td>\n",
       "      <td>0</td>\n",
       "      <td>2015</td>\n",
       "      <td>9</td>\n",
       "      <td>12</td>\n",
       "      <td>255</td>\n",
       "      <td>37</td>\n",
       "      <td>5</td>\n",
       "      <td>3</td>\n",
       "      <td>1553</td>\n",
       "    </tr>\n",
       "  </tbody>\n",
       "</table>\n",
       "<p>5 rows × 34 columns</p>\n",
       "</div>"
      ],
      "text/plain": [
       "     Id  Store  DayOfWeek       Date  Promo  SchoolHoliday  StateHoliday_0  \\\n",
       "0     1      1          4 2015-09-17      1              0               1   \n",
       "1   857      1          3 2015-09-16      1              0               1   \n",
       "2  1713      1          2 2015-09-15      1              0               1   \n",
       "3  2569      1          1 2015-09-14      1              0               1   \n",
       "4  4281      1          6 2015-09-12      0              0               1   \n",
       "\n",
       "   StateHoliday_a  CompetitionDistance  CompetitionOpenSinceMonth  \\\n",
       "0               0               1270.0                        9.0   \n",
       "1               0               1270.0                        9.0   \n",
       "2               0               1270.0                        9.0   \n",
       "3               0               1270.0                        9.0   \n",
       "4               0               1270.0                        9.0   \n",
       "\n",
       "       ...       duree_concurence  promo2_today  year  month day  dayofyear  \\\n",
       "0      ...                   2808             0  2015      9  17        260   \n",
       "1      ...                   2807             0  2015      9  16        259   \n",
       "2      ...                   2806             0  2015      9  15        258   \n",
       "3      ...                   2805             0  2015      9  14        257   \n",
       "4      ...                   2803             0  2015      9  12        255   \n",
       "\n",
       "   weekofyear  dayofweek  quarter  duree_promo2  \n",
       "0          38          3        3          1558  \n",
       "1          38          2        3          1557  \n",
       "2          38          1        3          1556  \n",
       "3          38          0        3          1555  \n",
       "4          37          5        3          1553  \n",
       "\n",
       "[5 rows x 34 columns]"
      ]
     },
     "execution_count": 40,
     "metadata": {},
     "output_type": "execute_result"
    }
   ],
   "source": [
    "df_test.head()"
   ]
  },
  {
   "cell_type": "markdown",
   "metadata": {},
   "source": [
    "### Score"
   ]
  },
  {
   "cell_type": "markdown",
   "metadata": {},
   "source": [
    "We will establish a scoring metric to evaluate the quality of our model. The metric used will be the same the one used on Kaggle which is the rmspe. This allows us to compution the percentage of error we make on average "
   ]
  },
  {
   "cell_type": "code",
   "execution_count": 41,
   "metadata": {
    "collapsed": true
   },
   "outputs": [],
   "source": [
    "def rmspe(yhat, y):  \n",
    "    sum_ = 0\n",
    "    for i in range(len(y)):\n",
    "        if(y[i] != 0):\n",
    "            sum_ += ((y[i] - yhat[i]) / y[i]) ** 2   \n",
    "    rmspe = np.sqrt(sum_ / len(y))\n",
    "        \n",
    "    return rmspe\n",
    "\n",
    "# adapted metric for xgboost\n",
    "def rmspe_xg(yhat, y):\n",
    "    return \"rmspe\", rmspe(yhat, y.get_label())"
   ]
  },
  {
   "cell_type": "markdown",
   "metadata": {},
   "source": [
    "# Naive Approach"
   ]
  },
  {
   "cell_type": "markdown",
   "metadata": {},
   "source": [
    "We try in this part what we call a naive approach. The idea behind this approach is that the board will probably ask the salers to do as well as the previous years or better. This should make the actual sales oscillate around a certain value that we estimate by the mean.\n",
    "Thus, to predict the sale for a given date, we look at what the store sold the previous years for the same date and we take the mean. "
   ]
  },
  {
   "cell_type": "code",
   "execution_count": 42,
   "metadata": {
    "collapsed": true
   },
   "outputs": [],
   "source": [
    "class Naive:\n",
    "    \n",
    "    def same_day(self,day1,day2):\n",
    "        \"\"\"Return true if day1 and day 2 are the same day juste different year\"\"\"\n",
    "        return (day1.day == day2.day) and (day1.month ==day2.month)\n",
    "    \n",
    "    def train(self,data,target):\n",
    "        \"\"\"Trains the model\"\"\"\n",
    "        #Compute the mean aggregate by Days\n",
    "        X = pd.concat([data['Date'].copy() , target.copy()],axis=1)\n",
    "        X['Date'] = X['Date'].apply(lambda x : (x.day,x.month))\n",
    "        self.aggregate = X.groupby(['Date']).mean().reset_index()\n",
    "\n",
    "    def predict(self,X): \n",
    "        \"\"\"Predicts sales\"\"\"\n",
    "        X = X.copy()\n",
    "        X['Date'] = X['Date'].apply(lambda x : (x.day,x.month))\n",
    "        # Merge with the aggregate\n",
    "        pred = pd.merge(pd.DataFrame(X['Date']), self.aggregate, left_on='Date', right_on='Date')\n",
    "        return np.array(pred['Sales'])"
   ]
  },
  {
   "cell_type": "code",
   "execution_count": 43,
   "metadata": {
    "scrolled": true
   },
   "outputs": [
    {
     "name": "stdout",
     "output_type": "stream",
     "text": [
      "Error on training set  0.683739371352\n"
     ]
    }
   ],
   "source": [
    "naive_model = Naive()\n",
    "naive_model.train(df_train,df_train['Sales'])\n",
    "\n",
    "y_train_pred = naive_model.predict(df_train)\n",
    "\n",
    "print('Error on training set ', rmspe(y_train_pred, df_train['Sales'].values))"
   ]
  },
  {
   "cell_type": "code",
   "execution_count": 44,
   "metadata": {
    "collapsed": true
   },
   "outputs": [],
   "source": [
    "#Evaluate it on the kaggle dataset\n",
    "prediction = naive_model.predict(df_test)\n",
    "indic = test['Id']\n",
    "res = pd.DataFrame(indic)\n",
    "res['Sales'] = prediction\n",
    "res.to_csv('data/submission_naive.csv', index = False)"
   ]
  },
  {
   "cell_type": "markdown",
   "metadata": {},
   "source": [
    "The Naive approach gives a rmspe score of 0.54591 on Kaggle "
   ]
  },
  {
   "cell_type": "markdown",
   "metadata": {},
   "source": [
    "# Validation strategy"
   ]
  },
  {
   "cell_type": "markdown",
   "metadata": {},
   "source": [
    "In this part we will first split the train set to have a validation and train set.\n",
    "Then we will choose the features we want to keep to train our model, from the lake of features we created in the previous part.\n",
    "We will apply our selection to training, validation and test sets."
   ]
  },
  {
   "cell_type": "markdown",
   "metadata": {},
   "source": [
    "### Split into train and validation set"
   ]
  },
  {
   "cell_type": "code",
   "execution_count": 71,
   "metadata": {
    "collapsed": true
   },
   "outputs": [],
   "source": [
    "train, validation = train_test_split(df_train, test_size=0.3)"
   ]
  },
  {
   "cell_type": "code",
   "execution_count": 72,
   "metadata": {},
   "outputs": [
    {
     "data": {
      "text/plain": [
       "((591074, 37), (253318, 37))"
      ]
     },
     "execution_count": 72,
     "metadata": {},
     "output_type": "execute_result"
    }
   ],
   "source": [
    "train.shape, validation.shape"
   ]
  },
  {
   "cell_type": "markdown",
   "metadata": {},
   "source": [
    "### Feature Selection"
   ]
  },
  {
   "cell_type": "code",
   "execution_count": 44,
   "metadata": {},
   "outputs": [
    {
     "data": {
      "text/plain": [
       "Index(['Store', 'DayOfWeek', 'Date', 'Sales', 'Customers', 'Promo',\n",
       "       'SchoolHoliday', 'StateHoliday_0', 'StateHoliday_a', 'StateHoliday_b',\n",
       "       'StateHoliday_c', 'CompetitionDistance', 'CompetitionOpenSinceMonth',\n",
       "       'CompetitionOpenSinceYear', 'Promo2', 'Promo2SinceWeek',\n",
       "       'Promo2SinceYear', 'PromoInterval', 'StoreType_a', 'StoreType_b',\n",
       "       'StoreType_c', 'StoreType_d', 'Assortment_a', 'Assortment_b',\n",
       "       'Assortment_c', 'BeginCompetition', 'BeginPromo2', 'duree_concurence',\n",
       "       'promo2_today', 'year', 'month', 'day', 'dayofyear', 'weekofyear',\n",
       "       'dayofweek', 'quarter', 'duree_promo2'],\n",
       "      dtype='object')"
      ]
     },
     "execution_count": 44,
     "metadata": {},
     "output_type": "execute_result"
    }
   ],
   "source": [
    "train.columns"
   ]
  },
  {
   "cell_type": "code",
   "execution_count": 73,
   "metadata": {
    "collapsed": true
   },
   "outputs": [],
   "source": [
    "featuresToTakeForTraining = ['Store', 'DayOfWeek', 'Promo',\n",
    "       'SchoolHoliday', 'CompetitionDistance', 'CompetitionOpenSinceMonth',\n",
    "       'CompetitionOpenSinceYear', 'Promo2', 'Promo2SinceWeek',\n",
    "       'Promo2SinceYear', 'StoreType_a', 'StoreType_b',\n",
    "       'StoreType_c', 'StoreType_d', 'Assortment_a', 'Assortment_b',\n",
    "       'Assortment_c', 'duree_concurence', 'promo2_today', 'year', 'month', 'day', 'dayofyear',\n",
    "       'weekofyear', 'dayofweek', 'quarter', 'duree_promo2']"
   ]
  },
  {
   "cell_type": "code",
   "execution_count": 74,
   "metadata": {
    "collapsed": true
   },
   "outputs": [],
   "source": [
    "y_train = train['Sales']\n",
    "y_validation = validation['Sales']\n",
    "\n",
    "X_train = train[featuresToTakeForTraining]\n",
    "X_validation = validation[featuresToTakeForTraining]\n",
    "X_test = df_test[featuresToTakeForTraining]"
   ]
  },
  {
   "cell_type": "code",
   "execution_count": 47,
   "metadata": {},
   "outputs": [
    {
     "name": "stdout",
     "output_type": "stream",
     "text": [
      "<class 'pandas.core.frame.DataFrame'>\n",
      "Int64Index: 591074 entries, 127551 to 530756\n",
      "Data columns (total 27 columns):\n",
      "Store                        591074 non-null int64\n",
      "DayOfWeek                    591074 non-null int64\n",
      "Promo                        591074 non-null int64\n",
      "SchoolHoliday                591074 non-null int64\n",
      "CompetitionDistance          591074 non-null float64\n",
      "CompetitionOpenSinceMonth    591074 non-null float64\n",
      "CompetitionOpenSinceYear     591074 non-null float64\n",
      "Promo2                       591074 non-null int64\n",
      "Promo2SinceWeek              591074 non-null float64\n",
      "Promo2SinceYear              591074 non-null float64\n",
      "StoreType_a                  591074 non-null uint8\n",
      "StoreType_b                  591074 non-null uint8\n",
      "StoreType_c                  591074 non-null uint8\n",
      "StoreType_d                  591074 non-null uint8\n",
      "Assortment_a                 591074 non-null uint8\n",
      "Assortment_b                 591074 non-null uint8\n",
      "Assortment_c                 591074 non-null uint8\n",
      "duree_concurence             591074 non-null int64\n",
      "promo2_today                 591074 non-null int64\n",
      "year                         591074 non-null int64\n",
      "month                        591074 non-null int64\n",
      "day                          591074 non-null int64\n",
      "dayofyear                    591074 non-null int64\n",
      "weekofyear                   591074 non-null int64\n",
      "dayofweek                    591074 non-null int64\n",
      "quarter                      591074 non-null int64\n",
      "duree_promo2                 591074 non-null int64\n",
      "dtypes: float64(5), int64(15), uint8(7)\n",
      "memory usage: 98.6 MB\n"
     ]
    }
   ],
   "source": [
    "X_train.info()"
   ]
  },
  {
   "cell_type": "code",
   "execution_count": 48,
   "metadata": {},
   "outputs": [
    {
     "name": "stdout",
     "output_type": "stream",
     "text": [
      "<class 'pandas.core.frame.DataFrame'>\n",
      "Int64Index: 35104 entries, 0 to 35103\n",
      "Data columns (total 27 columns):\n",
      "Store                        35104 non-null int64\n",
      "DayOfWeek                    35104 non-null int64\n",
      "Promo                        35104 non-null int64\n",
      "SchoolHoliday                35104 non-null int64\n",
      "CompetitionDistance          35104 non-null float64\n",
      "CompetitionOpenSinceMonth    35104 non-null float64\n",
      "CompetitionOpenSinceYear     35104 non-null float64\n",
      "Promo2                       35104 non-null int64\n",
      "Promo2SinceWeek              35104 non-null float64\n",
      "Promo2SinceYear              35104 non-null float64\n",
      "StoreType_a                  35104 non-null uint8\n",
      "StoreType_b                  35104 non-null uint8\n",
      "StoreType_c                  35104 non-null uint8\n",
      "StoreType_d                  35104 non-null uint8\n",
      "Assortment_a                 35104 non-null uint8\n",
      "Assortment_b                 35104 non-null uint8\n",
      "Assortment_c                 35104 non-null uint8\n",
      "duree_concurence             35104 non-null int64\n",
      "promo2_today                 35104 non-null int64\n",
      "year                         35104 non-null int64\n",
      "month                        35104 non-null int64\n",
      "day                          35104 non-null int64\n",
      "dayofyear                    35104 non-null int64\n",
      "weekofyear                   35104 non-null int64\n",
      "dayofweek                    35104 non-null int64\n",
      "quarter                      35104 non-null int64\n",
      "duree_promo2                 35104 non-null int64\n",
      "dtypes: float64(5), int64(15), uint8(7)\n",
      "memory usage: 7.1 MB\n"
     ]
    }
   ],
   "source": [
    "X_test.info()"
   ]
  },
  {
   "cell_type": "markdown",
   "metadata": {},
   "source": [
    "# Training Pipeline"
   ]
  },
  {
   "cell_type": "code",
   "execution_count": 67,
   "metadata": {},
   "outputs": [],
   "source": [
    "# Regressors\n",
    "from sklearn.ensemble import RandomForestRegressor\n",
    "from sklearn.ensemble import ExtraTreesRegressor\n",
    "from sklearn.tree import DecisionTreeRegressor\n",
    "import xgboost as xgb\n",
    "\n",
    "# Grid search\n",
    "from sklearn.model_selection import GridSearchCV"
   ]
  },
  {
   "cell_type": "markdown",
   "metadata": {},
   "source": [
    "### XGboost implementation that we train separatly"
   ]
  },
  {
   "cell_type": "code",
   "execution_count": 49,
   "metadata": {
    "collapsed": true
   },
   "outputs": [],
   "source": [
    "def get_prob(y):\n",
    "    y[y < 0] = 0\n",
    "    return y"
   ]
  },
  {
   "cell_type": "code",
   "execution_count": 53,
   "metadata": {
    "scrolled": false
   },
   "outputs": [
    {
     "name": "stdout",
     "output_type": "stream",
     "text": [
      "[0]\teval-rmspe:0.659571\ttrain-rmspe:0.659613\n",
      "Multiple eval metrics have been passed: 'train-rmspe' will be used for early stopping.\n",
      "\n",
      "Will train until train-rmspe hasn't improved in 30 rounds.\n",
      "[5]\teval-rmspe:0.114277\ttrain-rmspe:0.114324\n",
      "[10]\teval-rmspe:0.036762\ttrain-rmspe:0.036589\n",
      "[15]\teval-rmspe:0.029383\ttrain-rmspe:0.029109\n",
      "[20]\teval-rmspe:0.026597\ttrain-rmspe:0.026254\n",
      "[25]\teval-rmspe:0.024488\ttrain-rmspe:0.024099\n",
      "[30]\teval-rmspe:0.023166\ttrain-rmspe:0.022749\n",
      "[35]\teval-rmspe:0.021588\ttrain-rmspe:0.021164\n",
      "[40]\teval-rmspe:0.020447\ttrain-rmspe:0.01998\n",
      "[45]\teval-rmspe:0.019277\ttrain-rmspe:0.018782\n",
      "[50]\teval-rmspe:0.018747\ttrain-rmspe:0.018222\n",
      "[55]\teval-rmspe:0.018166\ttrain-rmspe:0.017611\n",
      "[60]\teval-rmspe:0.017726\ttrain-rmspe:0.017137\n",
      "[65]\teval-rmspe:0.017318\ttrain-rmspe:0.016696\n",
      "[70]\teval-rmspe:0.016799\ttrain-rmspe:0.016151\n",
      "[75]\teval-rmspe:0.01653\ttrain-rmspe:0.015857\n",
      "[80]\teval-rmspe:0.016023\ttrain-rmspe:0.015329\n",
      "[85]\teval-rmspe:0.015691\ttrain-rmspe:0.014945\n",
      "[90]\teval-rmspe:0.015529\ttrain-rmspe:0.01475\n",
      "[95]\teval-rmspe:0.015364\ttrain-rmspe:0.01454\n",
      "[100]\teval-rmspe:0.015172\ttrain-rmspe:0.014323\n",
      "[105]\teval-rmspe:0.015059\ttrain-rmspe:0.014181\n",
      "[110]\teval-rmspe:0.014903\ttrain-rmspe:0.014008\n",
      "[115]\teval-rmspe:0.014683\ttrain-rmspe:0.013756\n",
      "[120]\teval-rmspe:0.014579\ttrain-rmspe:0.013626\n",
      "[125]\teval-rmspe:0.014424\ttrain-rmspe:0.013437\n",
      "[130]\teval-rmspe:0.014352\ttrain-rmspe:0.01333\n",
      "[135]\teval-rmspe:0.014287\ttrain-rmspe:0.013233\n",
      "[140]\teval-rmspe:0.01419\ttrain-rmspe:0.013098\n",
      "[145]\teval-rmspe:0.014118\ttrain-rmspe:0.013006\n",
      "[150]\teval-rmspe:0.01401\ttrain-rmspe:0.012871\n",
      "[155]\teval-rmspe:0.013918\ttrain-rmspe:0.01275\n",
      "[160]\teval-rmspe:0.013884\ttrain-rmspe:0.012694\n",
      "[165]\teval-rmspe:0.013816\ttrain-rmspe:0.012598\n",
      "[170]\teval-rmspe:0.013732\ttrain-rmspe:0.012487\n",
      "[175]\teval-rmspe:0.013715\ttrain-rmspe:0.012424\n",
      "[180]\teval-rmspe:0.013673\ttrain-rmspe:0.012336\n",
      "[185]\teval-rmspe:0.013628\ttrain-rmspe:0.012255\n",
      "[190]\teval-rmspe:0.013582\ttrain-rmspe:0.012168\n",
      "[195]\teval-rmspe:0.013541\ttrain-rmspe:0.012107\n"
     ]
    }
   ],
   "source": [
    "params = {\"objective\": \"reg:linear\", # loss => linear regression because we predict sales\n",
    "          \"eta\": 0.3,\n",
    "          \"max_depth\": 8, #we can increase the depth but we might overfit\n",
    "          \"subsample\": 0.7,\n",
    "          \"colsample_bytree\": 0.7\n",
    "          }\n",
    "\n",
    "dtrain = xgb.DMatrix(X_train, np.log(y_train + 1))\n",
    "\n",
    "dvalid = xgb.DMatrix(X_validation, np.log(y_validation + 1))\n",
    "watchlist = [(dvalid, 'eval'), (dtrain, 'train')]\n",
    "\n",
    "model = xgb.train(params, dtrain, 200, evals = watchlist, early_stopping_rounds = 30, feval = rmspe_xg, verbose_eval = 5)"
   ]
  },
  {
   "cell_type": "code",
   "execution_count": 54,
   "metadata": {},
   "outputs": [
    {
     "name": "stdout",
     "output_type": "stream",
     "text": [
      "Error on training set  0.11351868209543194\n",
      "Error on validation set  0.24532857031135405\n"
     ]
    }
   ],
   "source": [
    "train_probs = model.predict(xgb.DMatrix(X_train))\n",
    "validation_probs = model.predict(xgb.DMatrix(X_validation))\n",
    "\n",
    "print('Error on training set ', rmspe(np.exp(get_prob(train_probs))-1, y_train.values))\n",
    "print('Error on validation set ', rmspe(np.exp(get_prob(validation_probs))-1, y_validation.values))"
   ]
  },
  {
   "cell_type": "markdown",
   "metadata": {},
   "source": [
    "### If we try to select some features in order to decrease the RMSPE"
   ]
  },
  {
   "cell_type": "code",
   "execution_count": 58,
   "metadata": {
    "collapsed": true
   },
   "outputs": [],
   "source": [
    "featuresToTakeForTraining = ['Store', 'DayOfWeek', 'Promo',\n",
    "       'SchoolHoliday', 'CompetitionDistance', 'CompetitionOpenSinceMonth',\n",
    "       'CompetitionOpenSinceYear', 'Promo2', 'Promo2SinceWeek',\n",
    "       'Promo2SinceYear', 'StoreType_a', 'StoreType_b',\n",
    "       'StoreType_c', 'StoreType_d', 'Assortment_a', 'Assortment_b',\n",
    "       'Assortment_c','year', 'month', 'day']\n",
    "\n",
    "y_train = train['Sales']\n",
    "y_validation = validation['Sales']\n",
    "\n",
    "X_train = train[featuresToTakeForTraining]\n",
    "X_validation = validation[featuresToTakeForTraining]\n",
    "X_test = df_test[featuresToTakeForTraining]"
   ]
  },
  {
   "cell_type": "code",
   "execution_count": 59,
   "metadata": {},
   "outputs": [
    {
     "name": "stdout",
     "output_type": "stream",
     "text": [
      "[0]\teval-rmspe:0.996788\ttrain-rmspe:0.996785\n",
      "Multiple eval metrics have been passed: 'train-rmspe' will be used for early stopping.\n",
      "\n",
      "Will train until train-rmspe hasn't improved in 30 rounds.\n",
      "[10]\teval-rmspe:0.303822\ttrain-rmspe:0.332818\n",
      "[20]\teval-rmspe:0.258282\ttrain-rmspe:0.306085\n",
      "[30]\teval-rmspe:0.220878\ttrain-rmspe:0.270108\n",
      "[40]\teval-rmspe:0.196782\ttrain-rmspe:0.250106\n",
      "[50]\teval-rmspe:0.182895\ttrain-rmspe:0.240302\n",
      "[60]\teval-rmspe:0.168135\ttrain-rmspe:0.224574\n",
      "[70]\teval-rmspe:0.161591\ttrain-rmspe:0.218562\n",
      "[80]\teval-rmspe:0.153949\ttrain-rmspe:0.207138\n",
      "[90]\teval-rmspe:0.14922\ttrain-rmspe:0.202454\n",
      "[100]\teval-rmspe:0.145881\ttrain-rmspe:0.200148\n",
      "[110]\teval-rmspe:0.142826\ttrain-rmspe:0.197007\n",
      "[120]\teval-rmspe:0.140429\ttrain-rmspe:0.180234\n",
      "[130]\teval-rmspe:0.138026\ttrain-rmspe:0.176248\n",
      "[140]\teval-rmspe:0.136386\ttrain-rmspe:0.173784\n",
      "[150]\teval-rmspe:0.134918\ttrain-rmspe:0.171882\n",
      "[160]\teval-rmspe:0.134002\ttrain-rmspe:0.171015\n",
      "[170]\teval-rmspe:0.132877\ttrain-rmspe:0.168675\n",
      "[180]\teval-rmspe:0.131685\ttrain-rmspe:0.161992\n",
      "[190]\teval-rmspe:0.130457\ttrain-rmspe:0.161262\n",
      "[200]\teval-rmspe:0.129722\ttrain-rmspe:0.159972\n",
      "[210]\teval-rmspe:0.129012\ttrain-rmspe:0.148149\n",
      "[220]\teval-rmspe:0.128412\ttrain-rmspe:0.147312\n",
      "[230]\teval-rmspe:0.12796\ttrain-rmspe:0.147741\n",
      "[240]\teval-rmspe:0.127301\ttrain-rmspe:0.147116\n",
      "[250]\teval-rmspe:0.126539\ttrain-rmspe:0.146314\n",
      "[260]\teval-rmspe:0.126224\ttrain-rmspe:0.147072\n",
      "[270]\teval-rmspe:0.125594\ttrain-rmspe:0.14528\n",
      "[280]\teval-rmspe:0.125014\ttrain-rmspe:0.144836\n",
      "[290]\teval-rmspe:0.124742\ttrain-rmspe:0.144168\n"
     ]
    }
   ],
   "source": [
    "dtrain = xgb.DMatrix(X_train, np.log(y_train + 1))\n",
    "\n",
    "dvalid = xgb.DMatrix(X_validation, np.log(y_validation + 1))\n",
    "watchlist = [(dvalid, 'eval'), (dtrain, 'train')]\n",
    "\n",
    "model = xgb.train(params, dtrain, 300, evals = watchlist, early_stopping_rounds = 30, feval = rmspe_xg, verbose_eval = 10)"
   ]
  },
  {
   "cell_type": "code",
   "execution_count": 62,
   "metadata": {},
   "outputs": [
    {
     "name": "stdout",
     "output_type": "stream",
     "text": [
      "Error on training set  0.13924569087179656\n",
      "Error on validation set  0.12433474787048492\n"
     ]
    }
   ],
   "source": [
    "train_probs = model.predict(xgb.DMatrix(X_train))\n",
    "validation_probs = model.predict(xgb.DMatrix(X_validation))\n",
    "\n",
    "print('Error on training set ', rmspe(np.exp(get_prob(train_probs))-1, y_train.values))\n",
    "print('Error on validation set ', rmspe(np.exp(get_prob(validation_probs))-1, y_validation.values))"
   ]
  },
  {
   "cell_type": "code",
   "execution_count": 70,
   "metadata": {
    "collapsed": true
   },
   "outputs": [],
   "source": [
    "archib = rmspe(np.exp(train_probs) - 1, X_train['Sales'].values)\n",
    "alib = rmspe(np.exp(validation_probs) - 1, X_test['Sales'].values)"
   ]
  },
  {
   "cell_type": "markdown",
   "metadata": {},
   "source": [
    "### Different Sklearn Regressors implementations"
   ]
  },
  {
   "cell_type": "markdown",
   "metadata": {},
   "source": [
    "##### Definition of the algorithm and theirs parameters for the grid search"
   ]
  },
  {
   "cell_type": "code",
   "execution_count": 68,
   "metadata": {},
   "outputs": [],
   "source": [
    "names_regressors = [\"DecisionTreeRegressor\", \"RandomForestRegressor\", \"ExtraTreesRegressor\", \"XGBoost\"]\n",
    "\n",
    "regressors = [\n",
    "    DecisionTreeRegressor(max_depth=None, min_samples_split=2, random_state=0),\n",
    "    RandomForestRegressor(n_estimators = 10, max_depth = None, min_samples_split = 2, random_state = 0),\n",
    "    ExtraTreesRegressor(n_estimators = 10, max_depth = None, min_samples_split = 2, random_state = 0),\n",
    "    model\n",
    "    ]"
   ]
  },
  {
   "cell_type": "markdown",
   "metadata": {},
   "source": [
    "##### Training of the different algoritms"
   ]
  },
  {
   "cell_type": "code",
   "execution_count": 76,
   "metadata": {
    "scrolled": true
   },
   "outputs": [
    {
     "name": "stdout",
     "output_type": "stream",
     "text": [
      "DecisionTreeRegressor\n",
      "\t Score (trainning): 0.0 \n",
      "\n",
      "\t Score (testing): 0.2017806865174094 \n",
      "\n",
      "RandomForestRegressor\n",
      "\t Score (trainning): 0.07893814165485341 \n",
      "\n",
      "\t Score (testing): 0.16121464795974427 \n",
      "\n",
      "ExtraTreesRegressor\n",
      "\t Score (trainning): 4.0553235890616484e-05 \n",
      "\n",
      "\t Score (testing): 0.16470641954006565 \n",
      "\n",
      "XGBoost\n",
      "\t Score (trainning): 0.13924569087179656\n",
      "\t Score (testing): 0.12433474787048492\n"
     ]
    }
   ],
   "source": [
    "scores = []\n",
    "scores_train = []\n",
    "\n",
    "# iterate over classifiers\n",
    "for clf, name in zip(regressors, names_regressors):\n",
    "    print (name)\n",
    "    if(name != \"XGBoost\"):\n",
    "        clf.fit(X_train, y_train)\n",
    "        y_pred = clf.predict(X_validation)\n",
    "        y_pred_train = clf.predict(X_train)\n",
    "        score_train = rmspe(y_pred_train, y_train.values)\n",
    "        score = rmspe(y_pred, y_validation.values)\n",
    "        print(\"\\t Score (trainning):\", score_train, \"\\n\")\n",
    "        print(\"\\t Score (testing):\", score, \"\\n\")\n",
    "    else:\n",
    "        train_probs = clf.predict(xgb.DMatrix(X_train))\n",
    "        test_probs = clf.predict(xgb.DMatrix(X_validation))\n",
    "        score_train = rmspe(np.exp(get_prob(train_probs)) - 1, y_train.values)\n",
    "        score = rmspe(np.exp(get_prob(test_probs)) - 1, y_validation.values)\n",
    "\n",
    "    scores.append(score)\n",
    "    scores_train.append(score_train)\n"
   ]
  },
  {
   "cell_type": "markdown",
   "metadata": {},
   "source": [
    "##### Plot the different scores"
   ]
  },
  {
   "cell_type": "code",
   "execution_count": 77,
   "metadata": {},
   "outputs": [
    {
     "name": "stderr",
     "output_type": "stream",
     "text": [
      "Exception ignored in: <bound method DMatrix.__del__ of <xgboost.core.DMatrix object at 0x000001F83B8AA6D8>>\n",
      "Traceback (most recent call last):\n",
      "  File \"C:\\Users\\Jolyanne\\Anaconda3\\lib\\site-packages\\xgboost\\core.py\", line 324, in __del__\n",
      "    _check_call(_LIB.XGDMatrixFree(self.handle))\n",
      "AttributeError: 'DMatrix' object has no attribute 'handle'\n"
     ]
    },
    {
     "data": {
      "image/png": "[encoded data removed]",
      "text/plain": [
       "<matplotlib.figure.Figure at 0x1f8025d8278>"
      ]
     },
     "metadata": {},
     "output_type": "display_data"
    }
   ],
   "source": [
    "plt.figure(figsize=(16, 8))\n",
    "x = np.arange(len(scores))\n",
    "plt.bar(x, scores, alpha=0.5, color=[\"red\", \"green\", \"blue\", \"purple\"])\n",
    "plt.xticks(x, names_regressors)\n",
    "plt.xlabel(\"Regressors\")\n",
    "plt.ylabel(\"Scores\")\n",
    "plt.title(\"Score for several regressor on testing set\")\n",
    "plt.show()"
   ]
  },
  {
   "cell_type": "code",
   "execution_count": 78,
   "metadata": {},
   "outputs": [
    {
     "data": {
      "image/png": "[encoded data removed]",
      "text/plain": [
       "<matplotlib.figure.Figure at 0x1f802c57128>"
      ]
     },
     "metadata": {},
     "output_type": "display_data"
    }
   ],
   "source": [
    "plt.figure(figsize=(16, 8))\n",
    "x = np.arange(len(scores))\n",
    "plt.bar(x, scores_train, alpha=0.5, color=[\"red\", \"green\", \"blue\", \"purple\"])\n",
    "plt.xticks(x, names_regressors)\n",
    "plt.xlabel(\"Regressors\")\n",
    "plt.ylabel(\"Scores\")\n",
    "plt.title(\"Score for several regressor on training set\")\n",
    "plt.show()"
   ]
  },
  {
   "cell_type": "markdown",
   "metadata": {},
   "source": [
    "# Training with GridSearch Strategy"
   ]
  },
  {
   "cell_type": "markdown",
   "metadata": {},
   "source": [
    "##### Definition of the algorithm and theirs parameters for the grid search"
   ]
  },
  {
   "cell_type": "code",
   "execution_count": 65,
   "metadata": {
    "collapsed": true
   },
   "outputs": [],
   "source": [
    "names_regressors = ['RandomForestRegressor']\n",
    "names_regressors_tunedParams = [\n",
    "    [\"RandomForestRegressor\", RandomForestRegressor(), {\"max_depth\": [3, 5], \"bootstrap\": [True, False]}]\n",
    "]"
   ]
  },
  {
   "cell_type": "markdown",
   "metadata": {},
   "source": [
    "##### Training of the different algoritms"
   ]
  },
  {
   "cell_type": "code",
   "execution_count": 66,
   "metadata": {},
   "outputs": [
    {
     "name": "stdout",
     "output_type": "stream",
     "text": [
      "\t Score: 0.563667560649 \n",
      "\n",
      "RandomForestRegressor Best parameters : {'bootstrap': True, 'max_depth': 5} Accuracy: 0.563667560649\n"
     ]
    }
   ],
   "source": [
    "scores_regressors_cv = []\n",
    "for name, regressor, tunedParam in names_regressors_tunedParams:\n",
    "    clf = GridSearchCV(regressor, tunedParam)\n",
    "    clf.fit(X_train, y_train)\n",
    "    y_pred = clf.predict(X_validation)\n",
    "    score = rmspe(y_pred, y_validation.values)\n",
    "\n",
    "    print(\"\\t Score:\", score, \"\\n\")\n",
    "    \n",
    "    print(name, \"Best parameters :\", clf.best_params_, \"Accuracy:\", score)\n",
    "    scores_regressors_cv.append(score)"
   ]
  },
  {
   "cell_type": "markdown",
   "metadata": {},
   "source": [
    "##### Plot the different scores"
   ]
  },
  {
   "cell_type": "code",
   "execution_count": 67,
   "metadata": {},
   "outputs": [
    {
     "data": {
      "image/png": "[encoded data removed]",
      "text/plain": [
       "<matplotlib.figure.Figure at 0x7fdc7edf5b00>"
      ]
     },
     "metadata": {},
     "output_type": "display_data"
    }
   ],
   "source": [
    "plt.figure(figsize=(16, 8))\n",
    "x = np.arange(len(scores_regressors_cv))\n",
    "plt.bar(x, scores_regressors_cv, alpha=0.5, color=[\"red\", \"green\", \"blue\", \"purple\"])\n",
    "plt.xticks(x, names_regressors)\n",
    "plt.xlabel(\"Classifiers\")\n",
    "plt.ylabel(\"Accuracy\")\n",
    "plt.title(\"Accuracies for several classifiers\")\n",
    "plt.show()"
   ]
  },
  {
   "cell_type": "markdown",
   "metadata": {},
   "source": [
    "# Evaluation and Comparison"
   ]
  },
  {
   "cell_type": "markdown",
   "metadata": {},
   "source": [
    "Show the best features"
   ]
  },
  {
   "cell_type": "code",
   "execution_count": 68,
   "metadata": {},
   "outputs": [
    {
     "data": {
      "text/plain": [
       "<matplotlib.axes._subplots.AxesSubplot at 0x7fdc7ed6f7f0>"
      ]
     },
     "execution_count": 68,
     "metadata": {},
     "output_type": "execute_result"
    },
    {
     "data": {
      "image/png": "[encoded data removed]",
      "text/plain": [
       "<matplotlib.figure.Figure at 0x7fdc7ee07a90>"
      ]
     },
     "metadata": {},
     "output_type": "display_data"
    }
   ],
   "source": [
    "import operator\n",
    "importance = model.get_score()\n",
    "importance = sorted(importance.items(), key=operator.itemgetter(1))\n",
    "#Store in dataframe for plotting \n",
    "importance = pd.DataFrame(importance,columns = ['feature','score'])\n",
    "#Make the score relative \n",
    "importance['score'] = importance['score']/importance['score'].sum()\n",
    "importance.plot(kind ='barh' , x = 'feature' , y = 'score',legend = False)"
   ]
  },
  {
   "cell_type": "markdown",
   "metadata": {},
   "source": [
    "To conclude, we can compare one naive approach presented above to the machine learning approaches. Even if the naive approach has a kaggle rmspe of 0.54591, we can get way better models using the different ML approaches shown in the notebook  to reach rmspe of 0.19.\n",
    "Those nice fitting models will give the different possibi"
   ]
  },
  {
   "cell_type": "markdown",
   "metadata": {},
   "source": [
    "# Submission Generation for Kaggle"
   ]
  },
  {
   "cell_type": "code",
   "execution_count": 59,
   "metadata": {
    "collapsed": true
   },
   "outputs": [],
   "source": [
    "def to_submit(model):\n",
    "    ypred=model.predict(X_test) #X_test is already pre_processed\n",
    "    submission = pd.DataFrame({\"Id\": df_test[\"Id\"], \"Sales\": ypred})\n",
    "    submission.to_csv(\"submission_xgb.csv\", index=False)"
   ]
  },
  {
   "cell_type": "code",
   "execution_count": null,
   "metadata": {
    "collapsed": true
   },
   "outputs": [],
   "source": []
  }
 ],
 "metadata": {
  "kernelspec": {
   "display_name": "Python 3",
   "language": "python",
   "name": "python3"
  },
  "language_info": {
   "codemirror_mode": {
    "name": "ipython",
    "version": 3
   },
   "file_extension": ".py",
   "mimetype": "text/x-python",
   "name": "python",
   "nbconvert_exporter": "python",
   "pygments_lexer": "ipython3",
   "version": "3.6.2"
  }
 },
 "nbformat": 4,
 "nbformat_minor": 2
}
