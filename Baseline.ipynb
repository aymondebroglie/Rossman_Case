{
 "cells": [
  {
   "cell_type": "markdown",
   "metadata": {},
   "source": [
    "# Your company is Rossmann.\n",
    "### Business issue : predict the stores turnover\n",
    "\n",
    "Authors: BOIVIN Jolyanne, BOUCHER Axel, DE BROGLIE Aymon, GRIGNARD Jeremy, KARTHIGESU Dinojan, NAULET Antoine"
   ]
  },
  {
   "cell_type": "markdown",
   "metadata": {},
   "source": [
    "### Table of contents\n",
    "\n",
    "* Introduction\n",
    "* Preprocessing\n",
    "* Feature Engineering\n",
    "* Validation strategy\n",
    "* Training and evaluation"
   ]
  },
  {
   "cell_type": "markdown",
   "metadata": {},
   "source": [
    "# Introduction"
   ]
  },
  {
   "cell_type": "markdown",
   "metadata": {},
   "source": [
    "Rossmann is Germany's second drug store chain with 3600 stores in Europe. The objective of this notebook with respect to the Kaggle challenge is to predict the turnover (the sales) for each day for each store.\n",
    "Predicting the turnover has huge positives impacts on companies such as :\n",
    "\n",
    "* The possibility to optimize the supply chain and the stocking costs.\n",
    "* It can give a dashboard to monitor the futur evolution of a store and make decisions about the stores.\n",
    "\n",
    "The idea is to apply Machine Learning based solutions and check if it has a real added value and to which extend."
   ]
  },
  {
   "cell_type": "code",
   "execution_count": 1,
   "metadata": {},
   "outputs": [],
   "source": [
    "import pandas as pd\n",
    "import numpy as np\n",
    "from datetime import datetime\n",
    "import datetime\n",
    "import matplotlib.pyplot as plt\n",
    "from sklearn.model_selection import train_test_split\n",
    "import xgboost as xgb\n",
    "%matplotlib inline\n",
    "\n",
    "# Regressors\n",
    "from sklearn.ensemble import RandomForestRegressor\n",
    "from sklearn.ensemble import ExtraTreesRegressor\n",
    "from sklearn.tree import DecisionTreeRegressor\n",
    "import xgboost as xgb\n",
    "\n",
    "# Grid search\n",
    "from sklearn.model_selection import GridSearchCV"
   ]
  },
  {
   "cell_type": "markdown",
   "metadata": {},
   "source": [
    "# Data Loading"
   ]
  },
  {
   "cell_type": "code",
   "execution_count": 2,
   "metadata": {},
   "outputs": [
    {
     "name": "stderr",
     "output_type": "stream",
     "text": [
      "/home/ro/anaconda3/lib/python3.6/site-packages/IPython/core/interactiveshell.py:2728: DtypeWarning: Columns (7) have mixed types. Specify dtype option on import or set low_memory=False.\n",
      "  interactivity=interactivity, compiler=compiler, result=result)\n"
     ]
    }
   ],
   "source": [
    "train = pd.read_csv('data/train.csv')\n",
    "test = pd.read_csv('data/test.csv')\n",
    "store = pd.read_csv('data/store.csv')\n"
   ]
  },
  {
   "cell_type": "code",
   "execution_count": 3,
   "metadata": {},
   "outputs": [
    {
     "data": {
      "text/html": [
       "<div>\n",
       "<style scoped>\n",
       "    .dataframe tbody tr th:only-of-type {\n",
       "        vertical-align: middle;\n",
       "    }\n",
       "\n",
       "    .dataframe tbody tr th {\n",
       "        vertical-align: top;\n",
       "    }\n",
       "\n",
       "    .dataframe thead th {\n",
       "        text-align: right;\n",
       "    }\n",
       "</style>\n",
       "<table border=\"1\" class=\"dataframe\">\n",
       "  <thead>\n",
       "    <tr style=\"text-align: right;\">\n",
       "      <th></th>\n",
       "      <th>Store</th>\n",
       "      <th>DayOfWeek</th>\n",
       "      <th>Date</th>\n",
       "      <th>Sales</th>\n",
       "      <th>Customers</th>\n",
       "      <th>Open</th>\n",
       "      <th>Promo</th>\n",
       "      <th>StateHoliday</th>\n",
       "      <th>SchoolHoliday</th>\n",
       "    </tr>\n",
       "  </thead>\n",
       "  <tbody>\n",
       "    <tr>\n",
       "      <th>0</th>\n",
       "      <td>1</td>\n",
       "      <td>5</td>\n",
       "      <td>2015-07-31</td>\n",
       "      <td>5263</td>\n",
       "      <td>555</td>\n",
       "      <td>1</td>\n",
       "      <td>1</td>\n",
       "      <td>0</td>\n",
       "      <td>1</td>\n",
       "    </tr>\n",
       "    <tr>\n",
       "      <th>1</th>\n",
       "      <td>2</td>\n",
       "      <td>5</td>\n",
       "      <td>2015-07-31</td>\n",
       "      <td>6064</td>\n",
       "      <td>625</td>\n",
       "      <td>1</td>\n",
       "      <td>1</td>\n",
       "      <td>0</td>\n",
       "      <td>1</td>\n",
       "    </tr>\n",
       "    <tr>\n",
       "      <th>2</th>\n",
       "      <td>3</td>\n",
       "      <td>5</td>\n",
       "      <td>2015-07-31</td>\n",
       "      <td>8314</td>\n",
       "      <td>821</td>\n",
       "      <td>1</td>\n",
       "      <td>1</td>\n",
       "      <td>0</td>\n",
       "      <td>1</td>\n",
       "    </tr>\n",
       "    <tr>\n",
       "      <th>3</th>\n",
       "      <td>4</td>\n",
       "      <td>5</td>\n",
       "      <td>2015-07-31</td>\n",
       "      <td>13995</td>\n",
       "      <td>1498</td>\n",
       "      <td>1</td>\n",
       "      <td>1</td>\n",
       "      <td>0</td>\n",
       "      <td>1</td>\n",
       "    </tr>\n",
       "    <tr>\n",
       "      <th>4</th>\n",
       "      <td>5</td>\n",
       "      <td>5</td>\n",
       "      <td>2015-07-31</td>\n",
       "      <td>4822</td>\n",
       "      <td>559</td>\n",
       "      <td>1</td>\n",
       "      <td>1</td>\n",
       "      <td>0</td>\n",
       "      <td>1</td>\n",
       "    </tr>\n",
       "  </tbody>\n",
       "</table>\n",
       "</div>"
      ],
      "text/plain": [
       "   Store  DayOfWeek        Date  Sales  Customers  Open  Promo StateHoliday  \\\n",
       "0      1          5  2015-07-31   5263        555     1      1            0   \n",
       "1      2          5  2015-07-31   6064        625     1      1            0   \n",
       "2      3          5  2015-07-31   8314        821     1      1            0   \n",
       "3      4          5  2015-07-31  13995       1498     1      1            0   \n",
       "4      5          5  2015-07-31   4822        559     1      1            0   \n",
       "\n",
       "   SchoolHoliday  \n",
       "0              1  \n",
       "1              1  \n",
       "2              1  \n",
       "3              1  \n",
       "4              1  "
      ]
     },
     "execution_count": 3,
     "metadata": {},
     "output_type": "execute_result"
    }
   ],
   "source": [
    "train.head()"
   ]
  },
  {
   "cell_type": "code",
   "execution_count": 4,
   "metadata": {},
   "outputs": [
    {
     "data": {
      "text/html": [
       "<div>\n",
       "<style scoped>\n",
       "    .dataframe tbody tr th:only-of-type {\n",
       "        vertical-align: middle;\n",
       "    }\n",
       "\n",
       "    .dataframe tbody tr th {\n",
       "        vertical-align: top;\n",
       "    }\n",
       "\n",
       "    .dataframe thead th {\n",
       "        text-align: right;\n",
       "    }\n",
       "</style>\n",
       "<table border=\"1\" class=\"dataframe\">\n",
       "  <thead>\n",
       "    <tr style=\"text-align: right;\">\n",
       "      <th></th>\n",
       "      <th>Id</th>\n",
       "      <th>Store</th>\n",
       "      <th>DayOfWeek</th>\n",
       "      <th>Date</th>\n",
       "      <th>Open</th>\n",
       "      <th>Promo</th>\n",
       "      <th>StateHoliday</th>\n",
       "      <th>SchoolHoliday</th>\n",
       "    </tr>\n",
       "  </thead>\n",
       "  <tbody>\n",
       "    <tr>\n",
       "      <th>0</th>\n",
       "      <td>1</td>\n",
       "      <td>1</td>\n",
       "      <td>4</td>\n",
       "      <td>2015-09-17</td>\n",
       "      <td>1.0</td>\n",
       "      <td>1</td>\n",
       "      <td>0</td>\n",
       "      <td>0</td>\n",
       "    </tr>\n",
       "    <tr>\n",
       "      <th>1</th>\n",
       "      <td>2</td>\n",
       "      <td>3</td>\n",
       "      <td>4</td>\n",
       "      <td>2015-09-17</td>\n",
       "      <td>1.0</td>\n",
       "      <td>1</td>\n",
       "      <td>0</td>\n",
       "      <td>0</td>\n",
       "    </tr>\n",
       "    <tr>\n",
       "      <th>2</th>\n",
       "      <td>3</td>\n",
       "      <td>7</td>\n",
       "      <td>4</td>\n",
       "      <td>2015-09-17</td>\n",
       "      <td>1.0</td>\n",
       "      <td>1</td>\n",
       "      <td>0</td>\n",
       "      <td>0</td>\n",
       "    </tr>\n",
       "    <tr>\n",
       "      <th>3</th>\n",
       "      <td>4</td>\n",
       "      <td>8</td>\n",
       "      <td>4</td>\n",
       "      <td>2015-09-17</td>\n",
       "      <td>1.0</td>\n",
       "      <td>1</td>\n",
       "      <td>0</td>\n",
       "      <td>0</td>\n",
       "    </tr>\n",
       "    <tr>\n",
       "      <th>4</th>\n",
       "      <td>5</td>\n",
       "      <td>9</td>\n",
       "      <td>4</td>\n",
       "      <td>2015-09-17</td>\n",
       "      <td>1.0</td>\n",
       "      <td>1</td>\n",
       "      <td>0</td>\n",
       "      <td>0</td>\n",
       "    </tr>\n",
       "  </tbody>\n",
       "</table>\n",
       "</div>"
      ],
      "text/plain": [
       "   Id  Store  DayOfWeek        Date  Open  Promo StateHoliday  SchoolHoliday\n",
       "0   1      1          4  2015-09-17   1.0      1            0              0\n",
       "1   2      3          4  2015-09-17   1.0      1            0              0\n",
       "2   3      7          4  2015-09-17   1.0      1            0              0\n",
       "3   4      8          4  2015-09-17   1.0      1            0              0\n",
       "4   5      9          4  2015-09-17   1.0      1            0              0"
      ]
     },
     "execution_count": 4,
     "metadata": {},
     "output_type": "execute_result"
    }
   ],
   "source": [
    "test.head()"
   ]
  },
  {
   "cell_type": "code",
   "execution_count": 5,
   "metadata": {},
   "outputs": [
    {
     "data": {
      "text/html": [
       "<div>\n",
       "<style scoped>\n",
       "    .dataframe tbody tr th:only-of-type {\n",
       "        vertical-align: middle;\n",
       "    }\n",
       "\n",
       "    .dataframe tbody tr th {\n",
       "        vertical-align: top;\n",
       "    }\n",
       "\n",
       "    .dataframe thead th {\n",
       "        text-align: right;\n",
       "    }\n",
       "</style>\n",
       "<table border=\"1\" class=\"dataframe\">\n",
       "  <thead>\n",
       "    <tr style=\"text-align: right;\">\n",
       "      <th></th>\n",
       "      <th>Store</th>\n",
       "      <th>StoreType</th>\n",
       "      <th>Assortment</th>\n",
       "      <th>CompetitionDistance</th>\n",
       "      <th>CompetitionOpenSinceMonth</th>\n",
       "      <th>CompetitionOpenSinceYear</th>\n",
       "      <th>Promo2</th>\n",
       "      <th>Promo2SinceWeek</th>\n",
       "      <th>Promo2SinceYear</th>\n",
       "      <th>PromoInterval</th>\n",
       "    </tr>\n",
       "  </thead>\n",
       "  <tbody>\n",
       "    <tr>\n",
       "      <th>0</th>\n",
       "      <td>1</td>\n",
       "      <td>c</td>\n",
       "      <td>a</td>\n",
       "      <td>1270.0</td>\n",
       "      <td>9.0</td>\n",
       "      <td>2008.0</td>\n",
       "      <td>0</td>\n",
       "      <td>NaN</td>\n",
       "      <td>NaN</td>\n",
       "      <td>NaN</td>\n",
       "    </tr>\n",
       "    <tr>\n",
       "      <th>1</th>\n",
       "      <td>2</td>\n",
       "      <td>a</td>\n",
       "      <td>a</td>\n",
       "      <td>570.0</td>\n",
       "      <td>11.0</td>\n",
       "      <td>2007.0</td>\n",
       "      <td>1</td>\n",
       "      <td>13.0</td>\n",
       "      <td>2010.0</td>\n",
       "      <td>Jan,Apr,Jul,Oct</td>\n",
       "    </tr>\n",
       "    <tr>\n",
       "      <th>2</th>\n",
       "      <td>3</td>\n",
       "      <td>a</td>\n",
       "      <td>a</td>\n",
       "      <td>14130.0</td>\n",
       "      <td>12.0</td>\n",
       "      <td>2006.0</td>\n",
       "      <td>1</td>\n",
       "      <td>14.0</td>\n",
       "      <td>2011.0</td>\n",
       "      <td>Jan,Apr,Jul,Oct</td>\n",
       "    </tr>\n",
       "    <tr>\n",
       "      <th>3</th>\n",
       "      <td>4</td>\n",
       "      <td>c</td>\n",
       "      <td>c</td>\n",
       "      <td>620.0</td>\n",
       "      <td>9.0</td>\n",
       "      <td>2009.0</td>\n",
       "      <td>0</td>\n",
       "      <td>NaN</td>\n",
       "      <td>NaN</td>\n",
       "      <td>NaN</td>\n",
       "    </tr>\n",
       "    <tr>\n",
       "      <th>4</th>\n",
       "      <td>5</td>\n",
       "      <td>a</td>\n",
       "      <td>a</td>\n",
       "      <td>29910.0</td>\n",
       "      <td>4.0</td>\n",
       "      <td>2015.0</td>\n",
       "      <td>0</td>\n",
       "      <td>NaN</td>\n",
       "      <td>NaN</td>\n",
       "      <td>NaN</td>\n",
       "    </tr>\n",
       "  </tbody>\n",
       "</table>\n",
       "</div>"
      ],
      "text/plain": [
       "   Store StoreType Assortment  CompetitionDistance  CompetitionOpenSinceMonth  \\\n",
       "0      1         c          a               1270.0                        9.0   \n",
       "1      2         a          a                570.0                       11.0   \n",
       "2      3         a          a              14130.0                       12.0   \n",
       "3      4         c          c                620.0                        9.0   \n",
       "4      5         a          a              29910.0                        4.0   \n",
       "\n",
       "   CompetitionOpenSinceYear  Promo2  Promo2SinceWeek  Promo2SinceYear  \\\n",
       "0                    2008.0       0              NaN              NaN   \n",
       "1                    2007.0       1             13.0           2010.0   \n",
       "2                    2006.0       1             14.0           2011.0   \n",
       "3                    2009.0       0              NaN              NaN   \n",
       "4                    2015.0       0              NaN              NaN   \n",
       "\n",
       "     PromoInterval  \n",
       "0              NaN  \n",
       "1  Jan,Apr,Jul,Oct  \n",
       "2  Jan,Apr,Jul,Oct  \n",
       "3              NaN  \n",
       "4              NaN  "
      ]
     },
     "execution_count": 5,
     "metadata": {},
     "output_type": "execute_result"
    }
   ],
   "source": [
    "store.head()"
   ]
  },
  {
   "cell_type": "markdown",
   "metadata": {},
   "source": [
    "# First Look "
   ]
  },
  {
   "cell_type": "code",
   "execution_count": 6,
   "metadata": {},
   "outputs": [
    {
     "name": "stdout",
     "output_type": "stream",
     "text": [
      "<class 'pandas.core.frame.DataFrame'>\n",
      "RangeIndex: 1017209 entries, 0 to 1017208\n",
      "Data columns (total 9 columns):\n",
      "Store            1017209 non-null int64\n",
      "DayOfWeek        1017209 non-null int64\n",
      "Date             1017209 non-null object\n",
      "Sales            1017209 non-null int64\n",
      "Customers        1017209 non-null int64\n",
      "Open             1017209 non-null int64\n",
      "Promo            1017209 non-null int64\n",
      "StateHoliday     1017209 non-null object\n",
      "SchoolHoliday    1017209 non-null int64\n",
      "dtypes: int64(7), object(2)\n",
      "memory usage: 69.8+ MB\n"
     ]
    }
   ],
   "source": [
    "train.info()"
   ]
  },
  {
   "cell_type": "code",
   "execution_count": 7,
   "metadata": {},
   "outputs": [
    {
     "name": "stdout",
     "output_type": "stream",
     "text": [
      "<class 'pandas.core.frame.DataFrame'>\n",
      "RangeIndex: 41088 entries, 0 to 41087\n",
      "Data columns (total 8 columns):\n",
      "Id               41088 non-null int64\n",
      "Store            41088 non-null int64\n",
      "DayOfWeek        41088 non-null int64\n",
      "Date             41088 non-null object\n",
      "Open             41077 non-null float64\n",
      "Promo            41088 non-null int64\n",
      "StateHoliday     41088 non-null object\n",
      "SchoolHoliday    41088 non-null int64\n",
      "dtypes: float64(1), int64(5), object(2)\n",
      "memory usage: 2.5+ MB\n"
     ]
    }
   ],
   "source": [
    "test.info()"
   ]
  },
  {
   "cell_type": "code",
   "execution_count": 8,
   "metadata": {},
   "outputs": [
    {
     "name": "stdout",
     "output_type": "stream",
     "text": [
      "<class 'pandas.core.frame.DataFrame'>\n",
      "RangeIndex: 1115 entries, 0 to 1114\n",
      "Data columns (total 10 columns):\n",
      "Store                        1115 non-null int64\n",
      "StoreType                    1115 non-null object\n",
      "Assortment                   1115 non-null object\n",
      "CompetitionDistance          1112 non-null float64\n",
      "CompetitionOpenSinceMonth    761 non-null float64\n",
      "CompetitionOpenSinceYear     761 non-null float64\n",
      "Promo2                       1115 non-null int64\n",
      "Promo2SinceWeek              571 non-null float64\n",
      "Promo2SinceYear              571 non-null float64\n",
      "PromoInterval                571 non-null object\n",
      "dtypes: float64(5), int64(2), object(3)\n",
      "memory usage: 87.2+ KB\n"
     ]
    }
   ],
   "source": [
    "store.info()"
   ]
  },
  {
   "cell_type": "code",
   "execution_count": 9,
   "metadata": {},
   "outputs": [
    {
     "name": "stdout",
     "output_type": "stream",
     "text": [
      "Here we can see that there are missing values for several features in store: 2343\n"
     ]
    }
   ],
   "source": [
    "print('Here we can see that there are missing values for several features in store:', store.isnull().sum().sum())"
   ]
  },
  {
   "cell_type": "markdown",
   "metadata": {},
   "source": [
    "# Preprocessing"
   ]
  },
  {
   "cell_type": "markdown",
   "metadata": {},
   "source": [
    "## Preprocessing on Train and Test"
   ]
  },
  {
   "cell_type": "code",
   "execution_count": 10,
   "metadata": {},
   "outputs": [
    {
     "name": "stdout",
     "output_type": "stream",
     "text": [
      "<class 'pandas.core.frame.DataFrame'>\n",
      "RangeIndex: 1017209 entries, 0 to 1017208\n",
      "Data columns (total 9 columns):\n",
      "Store            1017209 non-null int64\n",
      "DayOfWeek        1017209 non-null int64\n",
      "Date             1017209 non-null object\n",
      "Sales            1017209 non-null int64\n",
      "Customers        1017209 non-null int64\n",
      "Open             1017209 non-null int64\n",
      "Promo            1017209 non-null int64\n",
      "StateHoliday     1017209 non-null object\n",
      "SchoolHoliday    1017209 non-null int64\n",
      "dtypes: int64(7), object(2)\n",
      "memory usage: 69.8+ MB\n"
     ]
    }
   ],
   "source": [
    "train.info()"
   ]
  },
  {
   "cell_type": "code",
   "execution_count": 11,
   "metadata": {},
   "outputs": [
    {
     "name": "stdout",
     "output_type": "stream",
     "text": [
      "<class 'pandas.core.frame.DataFrame'>\n",
      "RangeIndex: 41088 entries, 0 to 41087\n",
      "Data columns (total 8 columns):\n",
      "Id               41088 non-null int64\n",
      "Store            41088 non-null int64\n",
      "DayOfWeek        41088 non-null int64\n",
      "Date             41088 non-null object\n",
      "Open             41077 non-null float64\n",
      "Promo            41088 non-null int64\n",
      "StateHoliday     41088 non-null object\n",
      "SchoolHoliday    41088 non-null int64\n",
      "dtypes: float64(1), int64(5), object(2)\n",
      "memory usage: 2.5+ MB\n"
     ]
    }
   ],
   "source": [
    "test.info()"
   ]
  },
  {
   "cell_type": "markdown",
   "metadata": {},
   "source": [
    "#### According to the documentation\n",
    "\n",
    "* DateTime for Date\n",
    "* StateHoliday - indicates a state holiday. Normally all stores, with few exceptions, are closed on state holidays. Note that all schools are closed on public holidays and weekends. a = public holiday, b = Easter holiday, c = Christmas, 0 = None\n"
   ]
  },
  {
   "cell_type": "markdown",
   "metadata": {},
   "source": [
    "### Change the date to datetime object"
   ]
  },
  {
   "cell_type": "code",
   "execution_count": 12,
   "metadata": {},
   "outputs": [],
   "source": [
    "train['Date'] = pd.to_datetime(train['Date'])\n",
    "test['Date'] = pd.to_datetime(test['Date'])"
   ]
  },
  {
   "cell_type": "markdown",
   "metadata": {},
   "source": [
    "### We first replace the '0' values present in the train and test set by 0 (int) Next we use get dummies for each present value"
   ]
  },
  {
   "cell_type": "code",
   "execution_count": 13,
   "metadata": {},
   "outputs": [
    {
     "name": "stdout",
     "output_type": "stream",
     "text": [
      "Train before ['0' 'a' 'b' 'c' 0]\n",
      "Train Before [0 'a' 'b' 'c']\n"
     ]
    }
   ],
   "source": [
    "print(\"Train before\", train['StateHoliday'].unique())\n",
    "train.replace({\"StateHoliday\": {\"0\": 0}}, inplace=True)\n",
    "print(\"Train Before\", train['StateHoliday'].unique())"
   ]
  },
  {
   "cell_type": "code",
   "execution_count": 14,
   "metadata": {},
   "outputs": [
    {
     "name": "stdout",
     "output_type": "stream",
     "text": [
      "Test After ['0' 'a']\n",
      "Test After [0 'a']\n"
     ]
    }
   ],
   "source": [
    "print(\"Test After\", test['StateHoliday'].unique())\n",
    "test.replace({\"StateHoliday\": {\"0\": 0}}, inplace=True)\n",
    "print(\"Test After\", test['StateHoliday'].unique())"
   ]
  },
  {
   "cell_type": "code",
   "execution_count": 15,
   "metadata": {},
   "outputs": [],
   "source": [
    "train[['StateHoliday_0', 'StateHoliday_a', 'StateHoliday_b', 'StateHoliday_c']] = pd.get_dummies(train['StateHoliday'])\n",
    "test[['StateHoliday_0', 'StateHoliday_a']] = pd.get_dummies(test['StateHoliday'])\n",
    "train.drop('StateHoliday', axis=1, inplace=True)\n",
    "test.drop('StateHoliday', axis=1, inplace=True)"
   ]
  },
  {
   "cell_type": "markdown",
   "metadata": {},
   "source": [
    "### Here we check the DayOfWeek for each Nan Values of the feature Open\n",
    "#### As we can see in the celle below, there are no Sunday when the Open value is missing. Therefore can we replace the NaN values by 1 (the store is open). To be more realistic we should map the day with a American calendar to see if each day is a sunday, special day, close day, holiday, public bank holiday, but as there are only a few missing values it should not impact the results much"
   ]
  },
  {
   "cell_type": "code",
   "execution_count": 16,
   "metadata": {},
   "outputs": [
    {
     "data": {
      "text/html": [
       "<div>\n",
       "<style scoped>\n",
       "    .dataframe tbody tr th:only-of-type {\n",
       "        vertical-align: middle;\n",
       "    }\n",
       "\n",
       "    .dataframe tbody tr th {\n",
       "        vertical-align: top;\n",
       "    }\n",
       "\n",
       "    .dataframe thead th {\n",
       "        text-align: right;\n",
       "    }\n",
       "</style>\n",
       "<table border=\"1\" class=\"dataframe\">\n",
       "  <thead>\n",
       "    <tr style=\"text-align: right;\">\n",
       "      <th></th>\n",
       "      <th>Id</th>\n",
       "      <th>Store</th>\n",
       "      <th>DayOfWeek</th>\n",
       "      <th>Date</th>\n",
       "      <th>Open</th>\n",
       "      <th>Promo</th>\n",
       "      <th>SchoolHoliday</th>\n",
       "      <th>StateHoliday_0</th>\n",
       "      <th>StateHoliday_a</th>\n",
       "    </tr>\n",
       "  </thead>\n",
       "  <tbody>\n",
       "    <tr>\n",
       "      <th>479</th>\n",
       "      <td>480</td>\n",
       "      <td>622</td>\n",
       "      <td>4</td>\n",
       "      <td>2015-09-17</td>\n",
       "      <td>NaN</td>\n",
       "      <td>1</td>\n",
       "      <td>0</td>\n",
       "      <td>1</td>\n",
       "      <td>0</td>\n",
       "    </tr>\n",
       "    <tr>\n",
       "      <th>1335</th>\n",
       "      <td>1336</td>\n",
       "      <td>622</td>\n",
       "      <td>3</td>\n",
       "      <td>2015-09-16</td>\n",
       "      <td>NaN</td>\n",
       "      <td>1</td>\n",
       "      <td>0</td>\n",
       "      <td>1</td>\n",
       "      <td>0</td>\n",
       "    </tr>\n",
       "    <tr>\n",
       "      <th>2191</th>\n",
       "      <td>2192</td>\n",
       "      <td>622</td>\n",
       "      <td>2</td>\n",
       "      <td>2015-09-15</td>\n",
       "      <td>NaN</td>\n",
       "      <td>1</td>\n",
       "      <td>0</td>\n",
       "      <td>1</td>\n",
       "      <td>0</td>\n",
       "    </tr>\n",
       "    <tr>\n",
       "      <th>3047</th>\n",
       "      <td>3048</td>\n",
       "      <td>622</td>\n",
       "      <td>1</td>\n",
       "      <td>2015-09-14</td>\n",
       "      <td>NaN</td>\n",
       "      <td>1</td>\n",
       "      <td>0</td>\n",
       "      <td>1</td>\n",
       "      <td>0</td>\n",
       "    </tr>\n",
       "    <tr>\n",
       "      <th>4759</th>\n",
       "      <td>4760</td>\n",
       "      <td>622</td>\n",
       "      <td>6</td>\n",
       "      <td>2015-09-12</td>\n",
       "      <td>NaN</td>\n",
       "      <td>0</td>\n",
       "      <td>0</td>\n",
       "      <td>1</td>\n",
       "      <td>0</td>\n",
       "    </tr>\n",
       "    <tr>\n",
       "      <th>5615</th>\n",
       "      <td>5616</td>\n",
       "      <td>622</td>\n",
       "      <td>5</td>\n",
       "      <td>2015-09-11</td>\n",
       "      <td>NaN</td>\n",
       "      <td>0</td>\n",
       "      <td>0</td>\n",
       "      <td>1</td>\n",
       "      <td>0</td>\n",
       "    </tr>\n",
       "    <tr>\n",
       "      <th>6471</th>\n",
       "      <td>6472</td>\n",
       "      <td>622</td>\n",
       "      <td>4</td>\n",
       "      <td>2015-09-10</td>\n",
       "      <td>NaN</td>\n",
       "      <td>0</td>\n",
       "      <td>0</td>\n",
       "      <td>1</td>\n",
       "      <td>0</td>\n",
       "    </tr>\n",
       "    <tr>\n",
       "      <th>7327</th>\n",
       "      <td>7328</td>\n",
       "      <td>622</td>\n",
       "      <td>3</td>\n",
       "      <td>2015-09-09</td>\n",
       "      <td>NaN</td>\n",
       "      <td>0</td>\n",
       "      <td>0</td>\n",
       "      <td>1</td>\n",
       "      <td>0</td>\n",
       "    </tr>\n",
       "    <tr>\n",
       "      <th>8183</th>\n",
       "      <td>8184</td>\n",
       "      <td>622</td>\n",
       "      <td>2</td>\n",
       "      <td>2015-09-08</td>\n",
       "      <td>NaN</td>\n",
       "      <td>0</td>\n",
       "      <td>0</td>\n",
       "      <td>1</td>\n",
       "      <td>0</td>\n",
       "    </tr>\n",
       "    <tr>\n",
       "      <th>9039</th>\n",
       "      <td>9040</td>\n",
       "      <td>622</td>\n",
       "      <td>1</td>\n",
       "      <td>2015-09-07</td>\n",
       "      <td>NaN</td>\n",
       "      <td>0</td>\n",
       "      <td>0</td>\n",
       "      <td>1</td>\n",
       "      <td>0</td>\n",
       "    </tr>\n",
       "    <tr>\n",
       "      <th>10751</th>\n",
       "      <td>10752</td>\n",
       "      <td>622</td>\n",
       "      <td>6</td>\n",
       "      <td>2015-09-05</td>\n",
       "      <td>NaN</td>\n",
       "      <td>0</td>\n",
       "      <td>0</td>\n",
       "      <td>1</td>\n",
       "      <td>0</td>\n",
       "    </tr>\n",
       "  </tbody>\n",
       "</table>\n",
       "</div>"
      ],
      "text/plain": [
       "          Id  Store  DayOfWeek       Date  Open  Promo  SchoolHoliday  \\\n",
       "479      480    622          4 2015-09-17   NaN      1              0   \n",
       "1335    1336    622          3 2015-09-16   NaN      1              0   \n",
       "2191    2192    622          2 2015-09-15   NaN      1              0   \n",
       "3047    3048    622          1 2015-09-14   NaN      1              0   \n",
       "4759    4760    622          6 2015-09-12   NaN      0              0   \n",
       "5615    5616    622          5 2015-09-11   NaN      0              0   \n",
       "6471    6472    622          4 2015-09-10   NaN      0              0   \n",
       "7327    7328    622          3 2015-09-09   NaN      0              0   \n",
       "8183    8184    622          2 2015-09-08   NaN      0              0   \n",
       "9039    9040    622          1 2015-09-07   NaN      0              0   \n",
       "10751  10752    622          6 2015-09-05   NaN      0              0   \n",
       "\n",
       "       StateHoliday_0  StateHoliday_a  \n",
       "479                 1               0  \n",
       "1335                1               0  \n",
       "2191                1               0  \n",
       "3047                1               0  \n",
       "4759                1               0  \n",
       "5615                1               0  \n",
       "6471                1               0  \n",
       "7327                1               0  \n",
       "8183                1               0  \n",
       "9039                1               0  \n",
       "10751               1               0  "
      ]
     },
     "execution_count": 16,
     "metadata": {},
     "output_type": "execute_result"
    }
   ],
   "source": [
    "test[test['Open'].isnull()]"
   ]
  },
  {
   "cell_type": "code",
   "execution_count": 17,
   "metadata": {},
   "outputs": [],
   "source": [
    "test.replace({\"Open\": {np.nan: 1}}, inplace=True)"
   ]
  },
  {
   "cell_type": "code",
   "execution_count": 18,
   "metadata": {},
   "outputs": [
    {
     "data": {
      "text/html": [
       "<div>\n",
       "<style scoped>\n",
       "    .dataframe tbody tr th:only-of-type {\n",
       "        vertical-align: middle;\n",
       "    }\n",
       "\n",
       "    .dataframe tbody tr th {\n",
       "        vertical-align: top;\n",
       "    }\n",
       "\n",
       "    .dataframe thead th {\n",
       "        text-align: right;\n",
       "    }\n",
       "</style>\n",
       "<table border=\"1\" class=\"dataframe\">\n",
       "  <thead>\n",
       "    <tr style=\"text-align: right;\">\n",
       "      <th></th>\n",
       "      <th>Id</th>\n",
       "      <th>Store</th>\n",
       "      <th>DayOfWeek</th>\n",
       "      <th>Date</th>\n",
       "      <th>Open</th>\n",
       "      <th>Promo</th>\n",
       "      <th>SchoolHoliday</th>\n",
       "      <th>StateHoliday_0</th>\n",
       "      <th>StateHoliday_a</th>\n",
       "    </tr>\n",
       "  </thead>\n",
       "  <tbody>\n",
       "  </tbody>\n",
       "</table>\n",
       "</div>"
      ],
      "text/plain": [
       "Empty DataFrame\n",
       "Columns: [Id, Store, DayOfWeek, Date, Open, Promo, SchoolHoliday, StateHoliday_0, StateHoliday_a]\n",
       "Index: []"
      ]
     },
     "execution_count": 18,
     "metadata": {},
     "output_type": "execute_result"
    }
   ],
   "source": [
    "test[test['Open'].isnull()]"
   ]
  },
  {
   "cell_type": "markdown",
   "metadata": {},
   "source": [
    "Finally , we are not evaluated at dates where the store is closed so we could get rid of those dates. But it is a best practice to avoid removing and select only open days to train the model.\n",
    "In case of closed days in test, it is always possible to fix the prediction at zero."
   ]
  },
  {
   "cell_type": "code",
   "execution_count": 19,
   "metadata": {},
   "outputs": [],
   "source": [
    "train = train[train['Open'] != 0 ]\n",
    "#test = test[test['Open'] != 0 ]\n",
    "#del train['Open']\n",
    "#del test['Open']"
   ]
  },
  {
   "cell_type": "markdown",
   "metadata": {},
   "source": [
    "### One hot encoding days of week"
   ]
  },
  {
   "cell_type": "code",
   "execution_count": 20,
   "metadata": {},
   "outputs": [],
   "source": [
    "# this action has no effect on tree but could be usefull to avoid false relation of order in regression\n",
    "train[['ld','md','mc','jd','vd','sd','dc']] = pd.get_dummies(train['DayOfWeek'])\n",
    "test[['ld','md','mc','jd','vd','sd','dc']] = pd.get_dummies(test['DayOfWeek'])"
   ]
  },
  {
   "cell_type": "markdown",
   "metadata": {},
   "source": [
    "## Preprocessing on Store"
   ]
  },
  {
   "cell_type": "code",
   "execution_count": 21,
   "metadata": {},
   "outputs": [],
   "source": [
    "objectFeaturesStore = ['StoreType', 'Assortment', 'PromoInterval']"
   ]
  },
  {
   "cell_type": "code",
   "execution_count": 22,
   "metadata": {},
   "outputs": [
    {
     "data": {
      "text/html": [
       "<div>\n",
       "<style scoped>\n",
       "    .dataframe tbody tr th:only-of-type {\n",
       "        vertical-align: middle;\n",
       "    }\n",
       "\n",
       "    .dataframe tbody tr th {\n",
       "        vertical-align: top;\n",
       "    }\n",
       "\n",
       "    .dataframe thead th {\n",
       "        text-align: right;\n",
       "    }\n",
       "</style>\n",
       "<table border=\"1\" class=\"dataframe\">\n",
       "  <thead>\n",
       "    <tr style=\"text-align: right;\">\n",
       "      <th></th>\n",
       "      <th>StoreType</th>\n",
       "      <th>Assortment</th>\n",
       "      <th>PromoInterval</th>\n",
       "    </tr>\n",
       "  </thead>\n",
       "  <tbody>\n",
       "    <tr>\n",
       "      <th>0</th>\n",
       "      <td>c</td>\n",
       "      <td>a</td>\n",
       "      <td>NaN</td>\n",
       "    </tr>\n",
       "    <tr>\n",
       "      <th>1</th>\n",
       "      <td>a</td>\n",
       "      <td>a</td>\n",
       "      <td>Jan,Apr,Jul,Oct</td>\n",
       "    </tr>\n",
       "    <tr>\n",
       "      <th>2</th>\n",
       "      <td>a</td>\n",
       "      <td>a</td>\n",
       "      <td>Jan,Apr,Jul,Oct</td>\n",
       "    </tr>\n",
       "    <tr>\n",
       "      <th>3</th>\n",
       "      <td>c</td>\n",
       "      <td>c</td>\n",
       "      <td>NaN</td>\n",
       "    </tr>\n",
       "    <tr>\n",
       "      <th>4</th>\n",
       "      <td>a</td>\n",
       "      <td>a</td>\n",
       "      <td>NaN</td>\n",
       "    </tr>\n",
       "  </tbody>\n",
       "</table>\n",
       "</div>"
      ],
      "text/plain": [
       "  StoreType Assortment    PromoInterval\n",
       "0         c          a              NaN\n",
       "1         a          a  Jan,Apr,Jul,Oct\n",
       "2         a          a  Jan,Apr,Jul,Oct\n",
       "3         c          c              NaN\n",
       "4         a          a              NaN"
      ]
     },
     "execution_count": 22,
     "metadata": {},
     "output_type": "execute_result"
    }
   ],
   "source": [
    "store[objectFeaturesStore].head()"
   ]
  },
  {
   "cell_type": "markdown",
   "metadata": {},
   "source": [
    "According to the documentation\n",
    "\n",
    "* StoreType - differentiates between 4 different store models: a, b, c, d\n",
    "* Assortment - describes an assortment level: a = basic, b = extra, c = extended\n",
    "* PromoInterval - describes the consecutive intervals Promo2 is started, naming the months the promotion is started anew. E.g. \"Feb,May,Aug,Nov\" means each round starts in February, May, August, November of any given year for that store\n"
   ]
  },
  {
   "cell_type": "markdown",
   "metadata": {},
   "source": [
    "#### Replace missing values by mean "
   ]
  },
  {
   "cell_type": "code",
   "execution_count": 23,
   "metadata": {},
   "outputs": [],
   "source": [
    "# Features to preprocess numerically\n",
    "# 3 features are object type\n",
    "featuresToPreprocessByMean = ['Store', 'CompetitionDistance',\n",
    "       'CompetitionOpenSinceMonth', 'CompetitionOpenSinceYear', 'Promo2',\n",
    "       'Promo2SinceWeek', 'Promo2SinceYear']"
   ]
  },
  {
   "cell_type": "code",
   "execution_count": 24,
   "metadata": {},
   "outputs": [],
   "source": [
    "for idx in featuresToPreprocessByMean:\n",
    "    store[idx] = store[idx].fillna(np.mean(store[idx]))"
   ]
  },
  {
   "cell_type": "code",
   "execution_count": 25,
   "metadata": {},
   "outputs": [
    {
     "name": "stdout",
     "output_type": "stream",
     "text": [
      "<class 'pandas.core.frame.DataFrame'>\n",
      "RangeIndex: 1115 entries, 0 to 1114\n",
      "Data columns (total 10 columns):\n",
      "Store                        1115 non-null int64\n",
      "StoreType                    1115 non-null object\n",
      "Assortment                   1115 non-null object\n",
      "CompetitionDistance          1115 non-null float64\n",
      "CompetitionOpenSinceMonth    1115 non-null float64\n",
      "CompetitionOpenSinceYear     1115 non-null float64\n",
      "Promo2                       1115 non-null int64\n",
      "Promo2SinceWeek              1115 non-null float64\n",
      "Promo2SinceYear              1115 non-null float64\n",
      "PromoInterval                571 non-null object\n",
      "dtypes: float64(5), int64(2), object(3)\n",
      "memory usage: 87.2+ KB\n"
     ]
    }
   ],
   "source": [
    "store.info()"
   ]
  },
  {
   "cell_type": "markdown",
   "metadata": {},
   "source": [
    "#### StoreType, Assortment, PromoInterval"
   ]
  },
  {
   "cell_type": "code",
   "execution_count": 26,
   "metadata": {},
   "outputs": [
    {
     "name": "stdout",
     "output_type": "stream",
     "text": [
      "distinct_storeType: ['c' 'a' 'd' 'b'] \n",
      "distinct_assortment:  ['a' 'c' 'b'] \n",
      "distinct_promoInterval:  [nan 'Jan,Apr,Jul,Oct' 'Feb,May,Aug,Nov' 'Mar,Jun,Sept,Dec']\n"
     ]
    }
   ],
   "source": [
    "print('distinct_storeType:', store['StoreType'].unique(), '\\ndistinct_assortment: ', store['Assortment'].unique(), '\\ndistinct_promoInterval: ', store['PromoInterval'].unique())"
   ]
  },
  {
   "cell_type": "code",
   "execution_count": 27,
   "metadata": {},
   "outputs": [],
   "source": [
    "store[['StoreType_a', 'StoreType_b', 'StoreType_c', 'StoreType_d']] = pd.get_dummies(store['StoreType'])\n",
    "store[['Assortment_a', 'Assortment_b', 'Assortment_c']] = pd.get_dummies(store['Assortment'])\n",
    "store.drop('StoreType', axis=1, inplace=True)\n",
    "store.drop('Assortment', axis=1, inplace=True)"
   ]
  },
  {
   "cell_type": "code",
   "execution_count": 28,
   "metadata": {},
   "outputs": [],
   "source": [
    "store.replace({\"PromoInterval\": {np.nan: 0}}, inplace=True)"
   ]
  },
  {
   "cell_type": "code",
   "execution_count": 29,
   "metadata": {},
   "outputs": [
    {
     "data": {
      "text/html": [
       "<div>\n",
       "<style scoped>\n",
       "    .dataframe tbody tr th:only-of-type {\n",
       "        vertical-align: middle;\n",
       "    }\n",
       "\n",
       "    .dataframe tbody tr th {\n",
       "        vertical-align: top;\n",
       "    }\n",
       "\n",
       "    .dataframe thead th {\n",
       "        text-align: right;\n",
       "    }\n",
       "</style>\n",
       "<table border=\"1\" class=\"dataframe\">\n",
       "  <thead>\n",
       "    <tr style=\"text-align: right;\">\n",
       "      <th></th>\n",
       "      <th>Store</th>\n",
       "      <th>CompetitionDistance</th>\n",
       "      <th>CompetitionOpenSinceMonth</th>\n",
       "      <th>CompetitionOpenSinceYear</th>\n",
       "      <th>Promo2</th>\n",
       "      <th>Promo2SinceWeek</th>\n",
       "      <th>Promo2SinceYear</th>\n",
       "      <th>PromoInterval</th>\n",
       "      <th>StoreType_a</th>\n",
       "      <th>StoreType_b</th>\n",
       "      <th>StoreType_c</th>\n",
       "      <th>StoreType_d</th>\n",
       "      <th>Assortment_a</th>\n",
       "      <th>Assortment_b</th>\n",
       "      <th>Assortment_c</th>\n",
       "    </tr>\n",
       "  </thead>\n",
       "  <tbody>\n",
       "    <tr>\n",
       "      <th>0</th>\n",
       "      <td>1</td>\n",
       "      <td>1270.0</td>\n",
       "      <td>9.0</td>\n",
       "      <td>2008.0</td>\n",
       "      <td>0</td>\n",
       "      <td>23.595447</td>\n",
       "      <td>2011.763573</td>\n",
       "      <td>0</td>\n",
       "      <td>0</td>\n",
       "      <td>0</td>\n",
       "      <td>1</td>\n",
       "      <td>0</td>\n",
       "      <td>1</td>\n",
       "      <td>0</td>\n",
       "      <td>0</td>\n",
       "    </tr>\n",
       "    <tr>\n",
       "      <th>1</th>\n",
       "      <td>2</td>\n",
       "      <td>570.0</td>\n",
       "      <td>11.0</td>\n",
       "      <td>2007.0</td>\n",
       "      <td>1</td>\n",
       "      <td>13.000000</td>\n",
       "      <td>2010.000000</td>\n",
       "      <td>Jan,Apr,Jul,Oct</td>\n",
       "      <td>1</td>\n",
       "      <td>0</td>\n",
       "      <td>0</td>\n",
       "      <td>0</td>\n",
       "      <td>1</td>\n",
       "      <td>0</td>\n",
       "      <td>0</td>\n",
       "    </tr>\n",
       "    <tr>\n",
       "      <th>2</th>\n",
       "      <td>3</td>\n",
       "      <td>14130.0</td>\n",
       "      <td>12.0</td>\n",
       "      <td>2006.0</td>\n",
       "      <td>1</td>\n",
       "      <td>14.000000</td>\n",
       "      <td>2011.000000</td>\n",
       "      <td>Jan,Apr,Jul,Oct</td>\n",
       "      <td>1</td>\n",
       "      <td>0</td>\n",
       "      <td>0</td>\n",
       "      <td>0</td>\n",
       "      <td>1</td>\n",
       "      <td>0</td>\n",
       "      <td>0</td>\n",
       "    </tr>\n",
       "    <tr>\n",
       "      <th>3</th>\n",
       "      <td>4</td>\n",
       "      <td>620.0</td>\n",
       "      <td>9.0</td>\n",
       "      <td>2009.0</td>\n",
       "      <td>0</td>\n",
       "      <td>23.595447</td>\n",
       "      <td>2011.763573</td>\n",
       "      <td>0</td>\n",
       "      <td>0</td>\n",
       "      <td>0</td>\n",
       "      <td>1</td>\n",
       "      <td>0</td>\n",
       "      <td>0</td>\n",
       "      <td>0</td>\n",
       "      <td>1</td>\n",
       "    </tr>\n",
       "    <tr>\n",
       "      <th>4</th>\n",
       "      <td>5</td>\n",
       "      <td>29910.0</td>\n",
       "      <td>4.0</td>\n",
       "      <td>2015.0</td>\n",
       "      <td>0</td>\n",
       "      <td>23.595447</td>\n",
       "      <td>2011.763573</td>\n",
       "      <td>0</td>\n",
       "      <td>1</td>\n",
       "      <td>0</td>\n",
       "      <td>0</td>\n",
       "      <td>0</td>\n",
       "      <td>1</td>\n",
       "      <td>0</td>\n",
       "      <td>0</td>\n",
       "    </tr>\n",
       "  </tbody>\n",
       "</table>\n",
       "</div>"
      ],
      "text/plain": [
       "   Store  CompetitionDistance  CompetitionOpenSinceMonth  \\\n",
       "0      1               1270.0                        9.0   \n",
       "1      2                570.0                       11.0   \n",
       "2      3              14130.0                       12.0   \n",
       "3      4                620.0                        9.0   \n",
       "4      5              29910.0                        4.0   \n",
       "\n",
       "   CompetitionOpenSinceYear  Promo2  Promo2SinceWeek  Promo2SinceYear  \\\n",
       "0                    2008.0       0        23.595447      2011.763573   \n",
       "1                    2007.0       1        13.000000      2010.000000   \n",
       "2                    2006.0       1        14.000000      2011.000000   \n",
       "3                    2009.0       0        23.595447      2011.763573   \n",
       "4                    2015.0       0        23.595447      2011.763573   \n",
       "\n",
       "     PromoInterval  StoreType_a  StoreType_b  StoreType_c  StoreType_d  \\\n",
       "0                0            0            0            1            0   \n",
       "1  Jan,Apr,Jul,Oct            1            0            0            0   \n",
       "2  Jan,Apr,Jul,Oct            1            0            0            0   \n",
       "3                0            0            0            1            0   \n",
       "4                0            1            0            0            0   \n",
       "\n",
       "   Assortment_a  Assortment_b  Assortment_c  \n",
       "0             1             0             0  \n",
       "1             1             0             0  \n",
       "2             1             0             0  \n",
       "3             0             0             1  \n",
       "4             1             0             0  "
      ]
     },
     "execution_count": 29,
     "metadata": {},
     "output_type": "execute_result"
    }
   ],
   "source": [
    "store.head()"
   ]
  },
  {
   "cell_type": "code",
   "execution_count": 30,
   "metadata": {},
   "outputs": [
    {
     "name": "stdout",
     "output_type": "stream",
     "text": [
      "<class 'pandas.core.frame.DataFrame'>\n",
      "RangeIndex: 1115 entries, 0 to 1114\n",
      "Data columns (total 15 columns):\n",
      "Store                        1115 non-null int64\n",
      "CompetitionDistance          1115 non-null float64\n",
      "CompetitionOpenSinceMonth    1115 non-null float64\n",
      "CompetitionOpenSinceYear     1115 non-null float64\n",
      "Promo2                       1115 non-null int64\n",
      "Promo2SinceWeek              1115 non-null float64\n",
      "Promo2SinceYear              1115 non-null float64\n",
      "PromoInterval                1115 non-null object\n",
      "StoreType_a                  1115 non-null uint8\n",
      "StoreType_b                  1115 non-null uint8\n",
      "StoreType_c                  1115 non-null uint8\n",
      "StoreType_d                  1115 non-null uint8\n",
      "Assortment_a                 1115 non-null uint8\n",
      "Assortment_b                 1115 non-null uint8\n",
      "Assortment_c                 1115 non-null uint8\n",
      "dtypes: float64(5), int64(2), object(1), uint8(7)\n",
      "memory usage: 77.4+ KB\n"
     ]
    }
   ],
   "source": [
    "store.info()"
   ]
  },
  {
   "cell_type": "markdown",
   "metadata": {},
   "source": [
    "We are going to add two featuresat shows the date when competition opened and one showing the date when promo2 began, those features will help for predicting as well as for building other features of interest.  "
   ]
  },
  {
   "cell_type": "code",
   "execution_count": 31,
   "metadata": {},
   "outputs": [],
   "source": [
    "# This fonction tranform ununderstandable list into one shot encoding features\n",
    "months = ['Jan', 'Feb', 'Mar', 'Apr', 'May', 'Jun', 'Jul', 'Aug', 'Sept', 'Oct', 'Nov', 'Dec']\n",
    "promoMonths = ['PromoJan', 'PromoFeb', 'PromoMar', 'PromoApr', 'PromoMay', 'PromoJun', 'PromoJul', \n",
    "               'PromoAug', 'PromoSept', 'PromoOct', 'PromoNov', 'PromoDec']\n",
    "\n",
    "for v in promoMonths:\n",
    "    store[v] = 0\n",
    "    \n",
    "for idx, val in enumerate(store['PromoInterval']):\n",
    "    if val != 0:\n",
    "        mons = val.split(',')\n",
    "        for mon in mons:\n",
    "            columnName = 'Promo' + mon\n",
    "            store.loc[idx, columnName] = 1"
   ]
  },
  {
   "cell_type": "code",
   "execution_count": 32,
   "metadata": {},
   "outputs": [
    {
     "data": {
      "text/html": [
       "<div>\n",
       "<style scoped>\n",
       "    .dataframe tbody tr th:only-of-type {\n",
       "        vertical-align: middle;\n",
       "    }\n",
       "\n",
       "    .dataframe tbody tr th {\n",
       "        vertical-align: top;\n",
       "    }\n",
       "\n",
       "    .dataframe thead th {\n",
       "        text-align: right;\n",
       "    }\n",
       "</style>\n",
       "<table border=\"1\" class=\"dataframe\">\n",
       "  <thead>\n",
       "    <tr style=\"text-align: right;\">\n",
       "      <th></th>\n",
       "      <th>Store</th>\n",
       "      <th>CompetitionDistance</th>\n",
       "      <th>CompetitionOpenSinceMonth</th>\n",
       "      <th>CompetitionOpenSinceYear</th>\n",
       "      <th>Promo2</th>\n",
       "      <th>Promo2SinceWeek</th>\n",
       "      <th>Promo2SinceYear</th>\n",
       "      <th>PromoInterval</th>\n",
       "      <th>StoreType_a</th>\n",
       "      <th>StoreType_b</th>\n",
       "      <th>...</th>\n",
       "      <th>PromoMay</th>\n",
       "      <th>PromoJun</th>\n",
       "      <th>PromoJul</th>\n",
       "      <th>PromoAug</th>\n",
       "      <th>PromoSept</th>\n",
       "      <th>PromoOct</th>\n",
       "      <th>PromoNov</th>\n",
       "      <th>PromoDec</th>\n",
       "      <th>BeginCompetition</th>\n",
       "      <th>BeginPromo2</th>\n",
       "    </tr>\n",
       "  </thead>\n",
       "  <tbody>\n",
       "    <tr>\n",
       "      <th>0</th>\n",
       "      <td>1</td>\n",
       "      <td>1270.0</td>\n",
       "      <td>9.0</td>\n",
       "      <td>2008.0</td>\n",
       "      <td>0</td>\n",
       "      <td>23.595447</td>\n",
       "      <td>2011.763573</td>\n",
       "      <td>0</td>\n",
       "      <td>0</td>\n",
       "      <td>0</td>\n",
       "      <td>...</td>\n",
       "      <td>0</td>\n",
       "      <td>0</td>\n",
       "      <td>0</td>\n",
       "      <td>0</td>\n",
       "      <td>0</td>\n",
       "      <td>0</td>\n",
       "      <td>0</td>\n",
       "      <td>0</td>\n",
       "      <td>2008-01-09</td>\n",
       "      <td>2011-06-12</td>\n",
       "    </tr>\n",
       "    <tr>\n",
       "      <th>1</th>\n",
       "      <td>2</td>\n",
       "      <td>570.0</td>\n",
       "      <td>11.0</td>\n",
       "      <td>2007.0</td>\n",
       "      <td>1</td>\n",
       "      <td>13.000000</td>\n",
       "      <td>2010.000000</td>\n",
       "      <td>Jan,Apr,Jul,Oct</td>\n",
       "      <td>1</td>\n",
       "      <td>0</td>\n",
       "      <td>...</td>\n",
       "      <td>0</td>\n",
       "      <td>0</td>\n",
       "      <td>1</td>\n",
       "      <td>0</td>\n",
       "      <td>0</td>\n",
       "      <td>1</td>\n",
       "      <td>0</td>\n",
       "      <td>0</td>\n",
       "      <td>2007-01-11</td>\n",
       "      <td>2010-04-04</td>\n",
       "    </tr>\n",
       "    <tr>\n",
       "      <th>2</th>\n",
       "      <td>3</td>\n",
       "      <td>14130.0</td>\n",
       "      <td>12.0</td>\n",
       "      <td>2006.0</td>\n",
       "      <td>1</td>\n",
       "      <td>14.000000</td>\n",
       "      <td>2011.000000</td>\n",
       "      <td>Jan,Apr,Jul,Oct</td>\n",
       "      <td>1</td>\n",
       "      <td>0</td>\n",
       "      <td>...</td>\n",
       "      <td>0</td>\n",
       "      <td>0</td>\n",
       "      <td>1</td>\n",
       "      <td>0</td>\n",
       "      <td>0</td>\n",
       "      <td>1</td>\n",
       "      <td>0</td>\n",
       "      <td>0</td>\n",
       "      <td>2006-01-12</td>\n",
       "      <td>2011-04-10</td>\n",
       "    </tr>\n",
       "    <tr>\n",
       "      <th>3</th>\n",
       "      <td>4</td>\n",
       "      <td>620.0</td>\n",
       "      <td>9.0</td>\n",
       "      <td>2009.0</td>\n",
       "      <td>0</td>\n",
       "      <td>23.595447</td>\n",
       "      <td>2011.763573</td>\n",
       "      <td>0</td>\n",
       "      <td>0</td>\n",
       "      <td>0</td>\n",
       "      <td>...</td>\n",
       "      <td>0</td>\n",
       "      <td>0</td>\n",
       "      <td>0</td>\n",
       "      <td>0</td>\n",
       "      <td>0</td>\n",
       "      <td>0</td>\n",
       "      <td>0</td>\n",
       "      <td>0</td>\n",
       "      <td>2009-01-09</td>\n",
       "      <td>2011-06-12</td>\n",
       "    </tr>\n",
       "    <tr>\n",
       "      <th>4</th>\n",
       "      <td>5</td>\n",
       "      <td>29910.0</td>\n",
       "      <td>4.0</td>\n",
       "      <td>2015.0</td>\n",
       "      <td>0</td>\n",
       "      <td>23.595447</td>\n",
       "      <td>2011.763573</td>\n",
       "      <td>0</td>\n",
       "      <td>1</td>\n",
       "      <td>0</td>\n",
       "      <td>...</td>\n",
       "      <td>0</td>\n",
       "      <td>0</td>\n",
       "      <td>0</td>\n",
       "      <td>0</td>\n",
       "      <td>0</td>\n",
       "      <td>0</td>\n",
       "      <td>0</td>\n",
       "      <td>0</td>\n",
       "      <td>2015-01-04</td>\n",
       "      <td>2011-06-12</td>\n",
       "    </tr>\n",
       "  </tbody>\n",
       "</table>\n",
       "<p>5 rows × 29 columns</p>\n",
       "</div>"
      ],
      "text/plain": [
       "   Store  CompetitionDistance  CompetitionOpenSinceMonth  \\\n",
       "0      1               1270.0                        9.0   \n",
       "1      2                570.0                       11.0   \n",
       "2      3              14130.0                       12.0   \n",
       "3      4                620.0                        9.0   \n",
       "4      5              29910.0                        4.0   \n",
       "\n",
       "   CompetitionOpenSinceYear  Promo2  Promo2SinceWeek  Promo2SinceYear  \\\n",
       "0                    2008.0       0        23.595447      2011.763573   \n",
       "1                    2007.0       1        13.000000      2010.000000   \n",
       "2                    2006.0       1        14.000000      2011.000000   \n",
       "3                    2009.0       0        23.595447      2011.763573   \n",
       "4                    2015.0       0        23.595447      2011.763573   \n",
       "\n",
       "     PromoInterval  StoreType_a  StoreType_b     ...       PromoMay  PromoJun  \\\n",
       "0                0            0            0     ...              0         0   \n",
       "1  Jan,Apr,Jul,Oct            1            0     ...              0         0   \n",
       "2  Jan,Apr,Jul,Oct            1            0     ...              0         0   \n",
       "3                0            0            0     ...              0         0   \n",
       "4                0            1            0     ...              0         0   \n",
       "\n",
       "   PromoJul  PromoAug  PromoSept  PromoOct  PromoNov  PromoDec  \\\n",
       "0         0         0          0         0         0         0   \n",
       "1         1         0          0         1         0         0   \n",
       "2         1         0          0         1         0         0   \n",
       "3         0         0          0         0         0         0   \n",
       "4         0         0          0         0         0         0   \n",
       "\n",
       "   BeginCompetition  BeginPromo2  \n",
       "0        2008-01-09   2011-06-12  \n",
       "1        2007-01-11   2010-04-04  \n",
       "2        2006-01-12   2011-04-10  \n",
       "3        2009-01-09   2011-06-12  \n",
       "4        2015-01-04   2011-06-12  \n",
       "\n",
       "[5 rows x 29 columns]"
      ]
     },
     "execution_count": 32,
     "metadata": {},
     "output_type": "execute_result"
    }
   ],
   "source": [
    "def date_init_compet (col1, col2):\n",
    "    if col1 != 0:\n",
    "        return pd.to_datetime(str('01/')+str((int(col1)))+\"/\"+str(int(col2)))\n",
    "    \n",
    "def date_init_promo(week,year):\n",
    "    if week != 0: \n",
    "        return pd.to_datetime(str(int(week)) + '/' + str(int(year)) + '/' + '0', format='%W/%Y/%w')\n",
    "    \n",
    "store['BeginCompetition'] = store.apply(lambda x : date_init_compet(x['CompetitionOpenSinceMonth'], x['CompetitionOpenSinceYear']),axis=1) \n",
    "store['BeginPromo2'] = store.apply(lambda x : date_init_promo(x['Promo2SinceWeek'], x['Promo2SinceYear']),axis=1) \n",
    "\n",
    "    \n",
    "store.head()"
   ]
  },
  {
   "cell_type": "code",
   "execution_count": 33,
   "metadata": {
    "scrolled": true
   },
   "outputs": [
    {
     "name": "stdout",
     "output_type": "stream",
     "text": [
      "<class 'pandas.core.frame.DataFrame'>\n",
      "RangeIndex: 1115 entries, 0 to 1114\n",
      "Data columns (total 29 columns):\n",
      "Store                        1115 non-null int64\n",
      "CompetitionDistance          1115 non-null float64\n",
      "CompetitionOpenSinceMonth    1115 non-null float64\n",
      "CompetitionOpenSinceYear     1115 non-null float64\n",
      "Promo2                       1115 non-null int64\n",
      "Promo2SinceWeek              1115 non-null float64\n",
      "Promo2SinceYear              1115 non-null float64\n",
      "PromoInterval                1115 non-null object\n",
      "StoreType_a                  1115 non-null uint8\n",
      "StoreType_b                  1115 non-null uint8\n",
      "StoreType_c                  1115 non-null uint8\n",
      "StoreType_d                  1115 non-null uint8\n",
      "Assortment_a                 1115 non-null uint8\n",
      "Assortment_b                 1115 non-null uint8\n",
      "Assortment_c                 1115 non-null uint8\n",
      "PromoJan                     1115 non-null int64\n",
      "PromoFeb                     1115 non-null int64\n",
      "PromoMar                     1115 non-null int64\n",
      "PromoApr                     1115 non-null int64\n",
      "PromoMay                     1115 non-null int64\n",
      "PromoJun                     1115 non-null int64\n",
      "PromoJul                     1115 non-null int64\n",
      "PromoAug                     1115 non-null int64\n",
      "PromoSept                    1115 non-null int64\n",
      "PromoOct                     1115 non-null int64\n",
      "PromoNov                     1115 non-null int64\n",
      "PromoDec                     1115 non-null int64\n",
      "BeginCompetition             1115 non-null datetime64[ns]\n",
      "BeginPromo2                  1115 non-null datetime64[ns]\n",
      "dtypes: datetime64[ns](2), float64(5), int64(14), object(1), uint8(7)\n",
      "memory usage: 199.3+ KB\n"
     ]
    }
   ],
   "source": [
    "store.info()"
   ]
  },
  {
   "cell_type": "markdown",
   "metadata": {},
   "source": [
    "#### Merge Train,Test and Store"
   ]
  },
  {
   "cell_type": "code",
   "execution_count": 34,
   "metadata": {},
   "outputs": [
    {
     "data": {
      "text/plain": [
       "(Index(['Store', 'DayOfWeek', 'Date', 'Sales', 'Customers', 'Open', 'Promo',\n",
       "        'SchoolHoliday', 'StateHoliday_0', 'StateHoliday_a', 'StateHoliday_b',\n",
       "        'StateHoliday_c', 'ld', 'md', 'mc', 'jd', 'vd', 'sd', 'dc'],\n",
       "       dtype='object'),\n",
       " Index(['Id', 'Store', 'DayOfWeek', 'Date', 'Open', 'Promo', 'SchoolHoliday',\n",
       "        'StateHoliday_0', 'StateHoliday_a', 'ld', 'md', 'mc', 'jd', 'vd', 'sd',\n",
       "        'dc'],\n",
       "       dtype='object'),\n",
       " Index(['Store', 'CompetitionDistance', 'CompetitionOpenSinceMonth',\n",
       "        'CompetitionOpenSinceYear', 'Promo2', 'Promo2SinceWeek',\n",
       "        'Promo2SinceYear', 'PromoInterval', 'StoreType_a', 'StoreType_b',\n",
       "        'StoreType_c', 'StoreType_d', 'Assortment_a', 'Assortment_b',\n",
       "        'Assortment_c', 'PromoJan', 'PromoFeb', 'PromoMar', 'PromoApr',\n",
       "        'PromoMay', 'PromoJun', 'PromoJul', 'PromoAug', 'PromoSept', 'PromoOct',\n",
       "        'PromoNov', 'PromoDec', 'BeginCompetition', 'BeginPromo2'],\n",
       "       dtype='object'))"
      ]
     },
     "execution_count": 34,
     "metadata": {},
     "output_type": "execute_result"
    }
   ],
   "source": [
    "train.columns, test.columns,store.columns, "
   ]
  },
  {
   "cell_type": "code",
   "execution_count": 35,
   "metadata": {},
   "outputs": [],
   "source": [
    "df_train = pd.merge(train, store, left_on='Store', right_on='Store')\n",
    "df_test = pd.merge(test, store, left_on='Store', right_on='Store')"
   ]
  },
  {
   "cell_type": "code",
   "execution_count": 36,
   "metadata": {},
   "outputs": [
    {
     "data": {
      "text/html": [
       "<div>\n",
       "<style scoped>\n",
       "    .dataframe tbody tr th:only-of-type {\n",
       "        vertical-align: middle;\n",
       "    }\n",
       "\n",
       "    .dataframe tbody tr th {\n",
       "        vertical-align: top;\n",
       "    }\n",
       "\n",
       "    .dataframe thead th {\n",
       "        text-align: right;\n",
       "    }\n",
       "</style>\n",
       "<table border=\"1\" class=\"dataframe\">\n",
       "  <thead>\n",
       "    <tr style=\"text-align: right;\">\n",
       "      <th></th>\n",
       "      <th>Store</th>\n",
       "      <th>DayOfWeek</th>\n",
       "      <th>Date</th>\n",
       "      <th>Sales</th>\n",
       "      <th>Customers</th>\n",
       "      <th>Open</th>\n",
       "      <th>Promo</th>\n",
       "      <th>SchoolHoliday</th>\n",
       "      <th>StateHoliday_0</th>\n",
       "      <th>StateHoliday_a</th>\n",
       "      <th>...</th>\n",
       "      <th>PromoMay</th>\n",
       "      <th>PromoJun</th>\n",
       "      <th>PromoJul</th>\n",
       "      <th>PromoAug</th>\n",
       "      <th>PromoSept</th>\n",
       "      <th>PromoOct</th>\n",
       "      <th>PromoNov</th>\n",
       "      <th>PromoDec</th>\n",
       "      <th>BeginCompetition</th>\n",
       "      <th>BeginPromo2</th>\n",
       "    </tr>\n",
       "  </thead>\n",
       "  <tbody>\n",
       "    <tr>\n",
       "      <th>0</th>\n",
       "      <td>1</td>\n",
       "      <td>5</td>\n",
       "      <td>2015-07-31</td>\n",
       "      <td>5263</td>\n",
       "      <td>555</td>\n",
       "      <td>1</td>\n",
       "      <td>1</td>\n",
       "      <td>1</td>\n",
       "      <td>1</td>\n",
       "      <td>0</td>\n",
       "      <td>...</td>\n",
       "      <td>0</td>\n",
       "      <td>0</td>\n",
       "      <td>0</td>\n",
       "      <td>0</td>\n",
       "      <td>0</td>\n",
       "      <td>0</td>\n",
       "      <td>0</td>\n",
       "      <td>0</td>\n",
       "      <td>2008-01-09</td>\n",
       "      <td>2011-06-12</td>\n",
       "    </tr>\n",
       "    <tr>\n",
       "      <th>1</th>\n",
       "      <td>1</td>\n",
       "      <td>4</td>\n",
       "      <td>2015-07-30</td>\n",
       "      <td>5020</td>\n",
       "      <td>546</td>\n",
       "      <td>1</td>\n",
       "      <td>1</td>\n",
       "      <td>1</td>\n",
       "      <td>1</td>\n",
       "      <td>0</td>\n",
       "      <td>...</td>\n",
       "      <td>0</td>\n",
       "      <td>0</td>\n",
       "      <td>0</td>\n",
       "      <td>0</td>\n",
       "      <td>0</td>\n",
       "      <td>0</td>\n",
       "      <td>0</td>\n",
       "      <td>0</td>\n",
       "      <td>2008-01-09</td>\n",
       "      <td>2011-06-12</td>\n",
       "    </tr>\n",
       "    <tr>\n",
       "      <th>2</th>\n",
       "      <td>1</td>\n",
       "      <td>3</td>\n",
       "      <td>2015-07-29</td>\n",
       "      <td>4782</td>\n",
       "      <td>523</td>\n",
       "      <td>1</td>\n",
       "      <td>1</td>\n",
       "      <td>1</td>\n",
       "      <td>1</td>\n",
       "      <td>0</td>\n",
       "      <td>...</td>\n",
       "      <td>0</td>\n",
       "      <td>0</td>\n",
       "      <td>0</td>\n",
       "      <td>0</td>\n",
       "      <td>0</td>\n",
       "      <td>0</td>\n",
       "      <td>0</td>\n",
       "      <td>0</td>\n",
       "      <td>2008-01-09</td>\n",
       "      <td>2011-06-12</td>\n",
       "    </tr>\n",
       "    <tr>\n",
       "      <th>3</th>\n",
       "      <td>1</td>\n",
       "      <td>2</td>\n",
       "      <td>2015-07-28</td>\n",
       "      <td>5011</td>\n",
       "      <td>560</td>\n",
       "      <td>1</td>\n",
       "      <td>1</td>\n",
       "      <td>1</td>\n",
       "      <td>1</td>\n",
       "      <td>0</td>\n",
       "      <td>...</td>\n",
       "      <td>0</td>\n",
       "      <td>0</td>\n",
       "      <td>0</td>\n",
       "      <td>0</td>\n",
       "      <td>0</td>\n",
       "      <td>0</td>\n",
       "      <td>0</td>\n",
       "      <td>0</td>\n",
       "      <td>2008-01-09</td>\n",
       "      <td>2011-06-12</td>\n",
       "    </tr>\n",
       "    <tr>\n",
       "      <th>4</th>\n",
       "      <td>1</td>\n",
       "      <td>1</td>\n",
       "      <td>2015-07-27</td>\n",
       "      <td>6102</td>\n",
       "      <td>612</td>\n",
       "      <td>1</td>\n",
       "      <td>1</td>\n",
       "      <td>1</td>\n",
       "      <td>1</td>\n",
       "      <td>0</td>\n",
       "      <td>...</td>\n",
       "      <td>0</td>\n",
       "      <td>0</td>\n",
       "      <td>0</td>\n",
       "      <td>0</td>\n",
       "      <td>0</td>\n",
       "      <td>0</td>\n",
       "      <td>0</td>\n",
       "      <td>0</td>\n",
       "      <td>2008-01-09</td>\n",
       "      <td>2011-06-12</td>\n",
       "    </tr>\n",
       "  </tbody>\n",
       "</table>\n",
       "<p>5 rows × 47 columns</p>\n",
       "</div>"
      ],
      "text/plain": [
       "   Store  DayOfWeek       Date  Sales  Customers  Open  Promo  SchoolHoliday  \\\n",
       "0      1          5 2015-07-31   5263        555     1      1              1   \n",
       "1      1          4 2015-07-30   5020        546     1      1              1   \n",
       "2      1          3 2015-07-29   4782        523     1      1              1   \n",
       "3      1          2 2015-07-28   5011        560     1      1              1   \n",
       "4      1          1 2015-07-27   6102        612     1      1              1   \n",
       "\n",
       "   StateHoliday_0  StateHoliday_a     ...       PromoMay  PromoJun  PromoJul  \\\n",
       "0               1               0     ...              0         0         0   \n",
       "1               1               0     ...              0         0         0   \n",
       "2               1               0     ...              0         0         0   \n",
       "3               1               0     ...              0         0         0   \n",
       "4               1               0     ...              0         0         0   \n",
       "\n",
       "   PromoAug  PromoSept  PromoOct  PromoNov  PromoDec  BeginCompetition  \\\n",
       "0         0          0         0         0         0        2008-01-09   \n",
       "1         0          0         0         0         0        2008-01-09   \n",
       "2         0          0         0         0         0        2008-01-09   \n",
       "3         0          0         0         0         0        2008-01-09   \n",
       "4         0          0         0         0         0        2008-01-09   \n",
       "\n",
       "   BeginPromo2  \n",
       "0   2011-06-12  \n",
       "1   2011-06-12  \n",
       "2   2011-06-12  \n",
       "3   2011-06-12  \n",
       "4   2011-06-12  \n",
       "\n",
       "[5 rows x 47 columns]"
      ]
     },
     "execution_count": 36,
     "metadata": {},
     "output_type": "execute_result"
    }
   ],
   "source": [
    "df_train.head()"
   ]
  },
  {
   "cell_type": "code",
   "execution_count": 37,
   "metadata": {
    "scrolled": true
   },
   "outputs": [
    {
     "name": "stdout",
     "output_type": "stream",
     "text": [
      "<class 'pandas.core.frame.DataFrame'>\n",
      "Int64Index: 844392 entries, 0 to 844391\n",
      "Data columns (total 47 columns):\n",
      "Store                        844392 non-null int64\n",
      "DayOfWeek                    844392 non-null int64\n",
      "Date                         844392 non-null datetime64[ns]\n",
      "Sales                        844392 non-null int64\n",
      "Customers                    844392 non-null int64\n",
      "Open                         844392 non-null int64\n",
      "Promo                        844392 non-null int64\n",
      "SchoolHoliday                844392 non-null int64\n",
      "StateHoliday_0               844392 non-null uint8\n",
      "StateHoliday_a               844392 non-null uint8\n",
      "StateHoliday_b               844392 non-null uint8\n",
      "StateHoliday_c               844392 non-null uint8\n",
      "ld                           844392 non-null uint8\n",
      "md                           844392 non-null uint8\n",
      "mc                           844392 non-null uint8\n",
      "jd                           844392 non-null uint8\n",
      "vd                           844392 non-null uint8\n",
      "sd                           844392 non-null uint8\n",
      "dc                           844392 non-null uint8\n",
      "CompetitionDistance          844392 non-null float64\n",
      "CompetitionOpenSinceMonth    844392 non-null float64\n",
      "CompetitionOpenSinceYear     844392 non-null float64\n",
      "Promo2                       844392 non-null int64\n",
      "Promo2SinceWeek              844392 non-null float64\n",
      "Promo2SinceYear              844392 non-null float64\n",
      "PromoInterval                844392 non-null object\n",
      "StoreType_a                  844392 non-null uint8\n",
      "StoreType_b                  844392 non-null uint8\n",
      "StoreType_c                  844392 non-null uint8\n",
      "StoreType_d                  844392 non-null uint8\n",
      "Assortment_a                 844392 non-null uint8\n",
      "Assortment_b                 844392 non-null uint8\n",
      "Assortment_c                 844392 non-null uint8\n",
      "PromoJan                     844392 non-null int64\n",
      "PromoFeb                     844392 non-null int64\n",
      "PromoMar                     844392 non-null int64\n",
      "PromoApr                     844392 non-null int64\n",
      "PromoMay                     844392 non-null int64\n",
      "PromoJun                     844392 non-null int64\n",
      "PromoJul                     844392 non-null int64\n",
      "PromoAug                     844392 non-null int64\n",
      "PromoSept                    844392 non-null int64\n",
      "PromoOct                     844392 non-null int64\n",
      "PromoNov                     844392 non-null int64\n",
      "PromoDec                     844392 non-null int64\n",
      "BeginCompetition             844392 non-null datetime64[ns]\n",
      "BeginPromo2                  844392 non-null datetime64[ns]\n",
      "dtypes: datetime64[ns](3), float64(5), int64(20), object(1), uint8(18)\n",
      "memory usage: 207.8+ MB\n"
     ]
    }
   ],
   "source": [
    "df_train.info()"
   ]
  },
  {
   "cell_type": "markdown",
   "metadata": {},
   "source": [
    "# Feature Engineering"
   ]
  },
  {
   "cell_type": "markdown",
   "metadata": {},
   "source": [
    "In this part, we will create  features which might be helpful to improve the model."
   ]
  },
  {
   "cell_type": "code",
   "execution_count": 38,
   "metadata": {},
   "outputs": [],
   "source": [
    "#This function returns 1 if there is a promo2 \"today\" 1 otherwise  \n",
    "def create_promo2(promo, curr_date,begin_date, interval ):\n",
    "    list_mois = ['Jan','Feb','Mar', 'Apr','May','Jun', 'Jul', 'Aug', 'Sept', 'Oct','Nov','Dec']\n",
    "    if promo  and (curr_date > begin_date) and (list_mois[curr_date.month -1 ] in interval.split(',')):\n",
    "        return 1 \n",
    "    else:\n",
    "        return 0 "
   ]
  },
  {
   "cell_type": "code",
   "execution_count": 39,
   "metadata": {},
   "outputs": [],
   "source": [
    "# Creates all the features we might need to train ours models\n",
    "def generator (df) :\n",
    "    #Time since opoosition began\n",
    "    df['duree_concurence']= (df['Date'] - pd.to_datetime(df['BeginCompetition'])).dt.days\n",
    "    #1 if there is a promo2 today, 0 otherwise \n",
    "    df['promo2_today'] =df.apply( lambda x : create_promo2(x['Promo2'],x['Date'], x['BeginPromo2'] , x['PromoInterval']),axis = 1 )\n",
    "    df['year']=df['Date'].apply(lambda x: x.year)\n",
    "    df['month']=df['Date'].apply(lambda x: x.month)\n",
    "    df['day']=df['Date'].apply(lambda x: x.day)\n",
    "    df['dayofyear']=df['Date'].apply(lambda x: x.dayofyear)\n",
    "    df['weekofyear']=df['Date'].apply(lambda x: x.weekofyear)\n",
    "    df['dayofweek']=df['Date'].apply(lambda x: x.dayofweek)\n",
    "    df['quarter']=df['Date'].apply(lambda x: x.quarter)\n",
    "    \n",
    "    #The length of time promo2 has been ongoing in a given store\n",
    "    df['duree_promo2'] = (df['Date'] - df['BeginPromo2']).dt.days\n",
    "\n",
    "    return (df)\n"
   ]
  },
  {
   "cell_type": "markdown",
   "metadata": {},
   "source": [
    "We now have the datasets for training and testing with all the features we created above. The following dataframes are used as lake of features where we have all the features we thought about. We well then select some features in the following validation strategy part."
   ]
  },
  {
   "cell_type": "code",
   "execution_count": 40,
   "metadata": {},
   "outputs": [],
   "source": [
    "df_train = generator(df_train) # \"Lake\" of data for Training\n",
    "df_test = generator(df_test) # \"Lake\" of data for test to submit on Kaggle"
   ]
  },
  {
   "cell_type": "code",
   "execution_count": 41,
   "metadata": {},
   "outputs": [
    {
     "data": {
      "text/html": [
       "<div>\n",
       "<style scoped>\n",
       "    .dataframe tbody tr th:only-of-type {\n",
       "        vertical-align: middle;\n",
       "    }\n",
       "\n",
       "    .dataframe tbody tr th {\n",
       "        vertical-align: top;\n",
       "    }\n",
       "\n",
       "    .dataframe thead th {\n",
       "        text-align: right;\n",
       "    }\n",
       "</style>\n",
       "<table border=\"1\" class=\"dataframe\">\n",
       "  <thead>\n",
       "    <tr style=\"text-align: right;\">\n",
       "      <th></th>\n",
       "      <th>Store</th>\n",
       "      <th>DayOfWeek</th>\n",
       "      <th>Date</th>\n",
       "      <th>Sales</th>\n",
       "      <th>Customers</th>\n",
       "      <th>Open</th>\n",
       "      <th>Promo</th>\n",
       "      <th>SchoolHoliday</th>\n",
       "      <th>StateHoliday_0</th>\n",
       "      <th>StateHoliday_a</th>\n",
       "      <th>...</th>\n",
       "      <th>duree_concurence</th>\n",
       "      <th>promo2_today</th>\n",
       "      <th>year</th>\n",
       "      <th>month</th>\n",
       "      <th>day</th>\n",
       "      <th>dayofyear</th>\n",
       "      <th>weekofyear</th>\n",
       "      <th>dayofweek</th>\n",
       "      <th>quarter</th>\n",
       "      <th>duree_promo2</th>\n",
       "    </tr>\n",
       "  </thead>\n",
       "  <tbody>\n",
       "    <tr>\n",
       "      <th>0</th>\n",
       "      <td>1</td>\n",
       "      <td>5</td>\n",
       "      <td>2015-07-31</td>\n",
       "      <td>5263</td>\n",
       "      <td>555</td>\n",
       "      <td>1</td>\n",
       "      <td>1</td>\n",
       "      <td>1</td>\n",
       "      <td>1</td>\n",
       "      <td>0</td>\n",
       "      <td>...</td>\n",
       "      <td>2760</td>\n",
       "      <td>0</td>\n",
       "      <td>2015</td>\n",
       "      <td>7</td>\n",
       "      <td>31</td>\n",
       "      <td>212</td>\n",
       "      <td>31</td>\n",
       "      <td>4</td>\n",
       "      <td>3</td>\n",
       "      <td>1510</td>\n",
       "    </tr>\n",
       "    <tr>\n",
       "      <th>1</th>\n",
       "      <td>1</td>\n",
       "      <td>4</td>\n",
       "      <td>2015-07-30</td>\n",
       "      <td>5020</td>\n",
       "      <td>546</td>\n",
       "      <td>1</td>\n",
       "      <td>1</td>\n",
       "      <td>1</td>\n",
       "      <td>1</td>\n",
       "      <td>0</td>\n",
       "      <td>...</td>\n",
       "      <td>2759</td>\n",
       "      <td>0</td>\n",
       "      <td>2015</td>\n",
       "      <td>7</td>\n",
       "      <td>30</td>\n",
       "      <td>211</td>\n",
       "      <td>31</td>\n",
       "      <td>3</td>\n",
       "      <td>3</td>\n",
       "      <td>1509</td>\n",
       "    </tr>\n",
       "    <tr>\n",
       "      <th>2</th>\n",
       "      <td>1</td>\n",
       "      <td>3</td>\n",
       "      <td>2015-07-29</td>\n",
       "      <td>4782</td>\n",
       "      <td>523</td>\n",
       "      <td>1</td>\n",
       "      <td>1</td>\n",
       "      <td>1</td>\n",
       "      <td>1</td>\n",
       "      <td>0</td>\n",
       "      <td>...</td>\n",
       "      <td>2758</td>\n",
       "      <td>0</td>\n",
       "      <td>2015</td>\n",
       "      <td>7</td>\n",
       "      <td>29</td>\n",
       "      <td>210</td>\n",
       "      <td>31</td>\n",
       "      <td>2</td>\n",
       "      <td>3</td>\n",
       "      <td>1508</td>\n",
       "    </tr>\n",
       "    <tr>\n",
       "      <th>3</th>\n",
       "      <td>1</td>\n",
       "      <td>2</td>\n",
       "      <td>2015-07-28</td>\n",
       "      <td>5011</td>\n",
       "      <td>560</td>\n",
       "      <td>1</td>\n",
       "      <td>1</td>\n",
       "      <td>1</td>\n",
       "      <td>1</td>\n",
       "      <td>0</td>\n",
       "      <td>...</td>\n",
       "      <td>2757</td>\n",
       "      <td>0</td>\n",
       "      <td>2015</td>\n",
       "      <td>7</td>\n",
       "      <td>28</td>\n",
       "      <td>209</td>\n",
       "      <td>31</td>\n",
       "      <td>1</td>\n",
       "      <td>3</td>\n",
       "      <td>1507</td>\n",
       "    </tr>\n",
       "    <tr>\n",
       "      <th>4</th>\n",
       "      <td>1</td>\n",
       "      <td>1</td>\n",
       "      <td>2015-07-27</td>\n",
       "      <td>6102</td>\n",
       "      <td>612</td>\n",
       "      <td>1</td>\n",
       "      <td>1</td>\n",
       "      <td>1</td>\n",
       "      <td>1</td>\n",
       "      <td>0</td>\n",
       "      <td>...</td>\n",
       "      <td>2756</td>\n",
       "      <td>0</td>\n",
       "      <td>2015</td>\n",
       "      <td>7</td>\n",
       "      <td>27</td>\n",
       "      <td>208</td>\n",
       "      <td>31</td>\n",
       "      <td>0</td>\n",
       "      <td>3</td>\n",
       "      <td>1506</td>\n",
       "    </tr>\n",
       "  </tbody>\n",
       "</table>\n",
       "<p>5 rows × 57 columns</p>\n",
       "</div>"
      ],
      "text/plain": [
       "   Store  DayOfWeek       Date  Sales  Customers  Open  Promo  SchoolHoliday  \\\n",
       "0      1          5 2015-07-31   5263        555     1      1              1   \n",
       "1      1          4 2015-07-30   5020        546     1      1              1   \n",
       "2      1          3 2015-07-29   4782        523     1      1              1   \n",
       "3      1          2 2015-07-28   5011        560     1      1              1   \n",
       "4      1          1 2015-07-27   6102        612     1      1              1   \n",
       "\n",
       "   StateHoliday_0  StateHoliday_a      ...       duree_concurence  \\\n",
       "0               1               0      ...                   2760   \n",
       "1               1               0      ...                   2759   \n",
       "2               1               0      ...                   2758   \n",
       "3               1               0      ...                   2757   \n",
       "4               1               0      ...                   2756   \n",
       "\n",
       "   promo2_today  year  month  day  dayofyear  weekofyear  dayofweek  quarter  \\\n",
       "0             0  2015      7   31        212          31          4        3   \n",
       "1             0  2015      7   30        211          31          3        3   \n",
       "2             0  2015      7   29        210          31          2        3   \n",
       "3             0  2015      7   28        209          31          1        3   \n",
       "4             0  2015      7   27        208          31          0        3   \n",
       "\n",
       "   duree_promo2  \n",
       "0          1510  \n",
       "1          1509  \n",
       "2          1508  \n",
       "3          1507  \n",
       "4          1506  \n",
       "\n",
       "[5 rows x 57 columns]"
      ]
     },
     "execution_count": 41,
     "metadata": {},
     "output_type": "execute_result"
    }
   ],
   "source": [
    "df_train.head()"
   ]
  },
  {
   "cell_type": "code",
   "execution_count": 42,
   "metadata": {},
   "outputs": [
    {
     "data": {
      "text/html": [
       "<div>\n",
       "<style scoped>\n",
       "    .dataframe tbody tr th:only-of-type {\n",
       "        vertical-align: middle;\n",
       "    }\n",
       "\n",
       "    .dataframe tbody tr th {\n",
       "        vertical-align: top;\n",
       "    }\n",
       "\n",
       "    .dataframe thead th {\n",
       "        text-align: right;\n",
       "    }\n",
       "</style>\n",
       "<table border=\"1\" class=\"dataframe\">\n",
       "  <thead>\n",
       "    <tr style=\"text-align: right;\">\n",
       "      <th></th>\n",
       "      <th>Id</th>\n",
       "      <th>Store</th>\n",
       "      <th>DayOfWeek</th>\n",
       "      <th>Date</th>\n",
       "      <th>Open</th>\n",
       "      <th>Promo</th>\n",
       "      <th>SchoolHoliday</th>\n",
       "      <th>StateHoliday_0</th>\n",
       "      <th>StateHoliday_a</th>\n",
       "      <th>ld</th>\n",
       "      <th>...</th>\n",
       "      <th>duree_concurence</th>\n",
       "      <th>promo2_today</th>\n",
       "      <th>year</th>\n",
       "      <th>month</th>\n",
       "      <th>day</th>\n",
       "      <th>dayofyear</th>\n",
       "      <th>weekofyear</th>\n",
       "      <th>dayofweek</th>\n",
       "      <th>quarter</th>\n",
       "      <th>duree_promo2</th>\n",
       "    </tr>\n",
       "  </thead>\n",
       "  <tbody>\n",
       "    <tr>\n",
       "      <th>0</th>\n",
       "      <td>1</td>\n",
       "      <td>1</td>\n",
       "      <td>4</td>\n",
       "      <td>2015-09-17</td>\n",
       "      <td>1.0</td>\n",
       "      <td>1</td>\n",
       "      <td>0</td>\n",
       "      <td>1</td>\n",
       "      <td>0</td>\n",
       "      <td>0</td>\n",
       "      <td>...</td>\n",
       "      <td>2808</td>\n",
       "      <td>0</td>\n",
       "      <td>2015</td>\n",
       "      <td>9</td>\n",
       "      <td>17</td>\n",
       "      <td>260</td>\n",
       "      <td>38</td>\n",
       "      <td>3</td>\n",
       "      <td>3</td>\n",
       "      <td>1558</td>\n",
       "    </tr>\n",
       "    <tr>\n",
       "      <th>1</th>\n",
       "      <td>857</td>\n",
       "      <td>1</td>\n",
       "      <td>3</td>\n",
       "      <td>2015-09-16</td>\n",
       "      <td>1.0</td>\n",
       "      <td>1</td>\n",
       "      <td>0</td>\n",
       "      <td>1</td>\n",
       "      <td>0</td>\n",
       "      <td>0</td>\n",
       "      <td>...</td>\n",
       "      <td>2807</td>\n",
       "      <td>0</td>\n",
       "      <td>2015</td>\n",
       "      <td>9</td>\n",
       "      <td>16</td>\n",
       "      <td>259</td>\n",
       "      <td>38</td>\n",
       "      <td>2</td>\n",
       "      <td>3</td>\n",
       "      <td>1557</td>\n",
       "    </tr>\n",
       "    <tr>\n",
       "      <th>2</th>\n",
       "      <td>1713</td>\n",
       "      <td>1</td>\n",
       "      <td>2</td>\n",
       "      <td>2015-09-15</td>\n",
       "      <td>1.0</td>\n",
       "      <td>1</td>\n",
       "      <td>0</td>\n",
       "      <td>1</td>\n",
       "      <td>0</td>\n",
       "      <td>0</td>\n",
       "      <td>...</td>\n",
       "      <td>2806</td>\n",
       "      <td>0</td>\n",
       "      <td>2015</td>\n",
       "      <td>9</td>\n",
       "      <td>15</td>\n",
       "      <td>258</td>\n",
       "      <td>38</td>\n",
       "      <td>1</td>\n",
       "      <td>3</td>\n",
       "      <td>1556</td>\n",
       "    </tr>\n",
       "    <tr>\n",
       "      <th>3</th>\n",
       "      <td>2569</td>\n",
       "      <td>1</td>\n",
       "      <td>1</td>\n",
       "      <td>2015-09-14</td>\n",
       "      <td>1.0</td>\n",
       "      <td>1</td>\n",
       "      <td>0</td>\n",
       "      <td>1</td>\n",
       "      <td>0</td>\n",
       "      <td>1</td>\n",
       "      <td>...</td>\n",
       "      <td>2805</td>\n",
       "      <td>0</td>\n",
       "      <td>2015</td>\n",
       "      <td>9</td>\n",
       "      <td>14</td>\n",
       "      <td>257</td>\n",
       "      <td>38</td>\n",
       "      <td>0</td>\n",
       "      <td>3</td>\n",
       "      <td>1555</td>\n",
       "    </tr>\n",
       "    <tr>\n",
       "      <th>4</th>\n",
       "      <td>3425</td>\n",
       "      <td>1</td>\n",
       "      <td>7</td>\n",
       "      <td>2015-09-13</td>\n",
       "      <td>0.0</td>\n",
       "      <td>0</td>\n",
       "      <td>0</td>\n",
       "      <td>1</td>\n",
       "      <td>0</td>\n",
       "      <td>0</td>\n",
       "      <td>...</td>\n",
       "      <td>2804</td>\n",
       "      <td>0</td>\n",
       "      <td>2015</td>\n",
       "      <td>9</td>\n",
       "      <td>13</td>\n",
       "      <td>256</td>\n",
       "      <td>37</td>\n",
       "      <td>6</td>\n",
       "      <td>3</td>\n",
       "      <td>1554</td>\n",
       "    </tr>\n",
       "  </tbody>\n",
       "</table>\n",
       "<p>5 rows × 54 columns</p>\n",
       "</div>"
      ],
      "text/plain": [
       "     Id  Store  DayOfWeek       Date  Open  Promo  SchoolHoliday  \\\n",
       "0     1      1          4 2015-09-17   1.0      1              0   \n",
       "1   857      1          3 2015-09-16   1.0      1              0   \n",
       "2  1713      1          2 2015-09-15   1.0      1              0   \n",
       "3  2569      1          1 2015-09-14   1.0      1              0   \n",
       "4  3425      1          7 2015-09-13   0.0      0              0   \n",
       "\n",
       "   StateHoliday_0  StateHoliday_a  ld      ...       duree_concurence  \\\n",
       "0               1               0   0      ...                   2808   \n",
       "1               1               0   0      ...                   2807   \n",
       "2               1               0   0      ...                   2806   \n",
       "3               1               0   1      ...                   2805   \n",
       "4               1               0   0      ...                   2804   \n",
       "\n",
       "   promo2_today  year  month  day  dayofyear  weekofyear  dayofweek  quarter  \\\n",
       "0             0  2015      9   17        260          38          3        3   \n",
       "1             0  2015      9   16        259          38          2        3   \n",
       "2             0  2015      9   15        258          38          1        3   \n",
       "3             0  2015      9   14        257          38          0        3   \n",
       "4             0  2015      9   13        256          37          6        3   \n",
       "\n",
       "   duree_promo2  \n",
       "0          1558  \n",
       "1          1557  \n",
       "2          1556  \n",
       "3          1555  \n",
       "4          1554  \n",
       "\n",
       "[5 rows x 54 columns]"
      ]
     },
     "execution_count": 42,
     "metadata": {},
     "output_type": "execute_result"
    }
   ],
   "source": [
    "df_test.head()"
   ]
  },
  {
   "cell_type": "code",
   "execution_count": 43,
   "metadata": {},
   "outputs": [],
   "source": [
    "# this step ends the approach without statistics. We save the result in order to make comparison of methods further.\n",
    "df_train.to_csv(\"df_1.csv\", index=False)\n",
    "df_test.to_csv(\"df_1_test.csv\",index=False)"
   ]
  },
  {
   "cell_type": "markdown",
   "metadata": {},
   "source": [
    "## From statistics to features\n",
    "### first step: creation of dataframe of statistics"
   ]
  },
  {
   "cell_type": "code",
   "execution_count": 44,
   "metadata": {},
   "outputs": [],
   "source": [
    "# this generator is made specificly for thos dataset but should be easily generalized. It creates some\n",
    "# statistics mesasurement on the past\n",
    "def statMaker (dfs, group):\n",
    "    df_stat=[]\n",
    "    df_stat=pd.DataFrame(df_stat)   \n",
    "    for week in range(52):\n",
    "        week=week+1\n",
    "        nom = 'mean_w_' + str(week)\n",
    "        df_stat[nom]=df_s[(df_s['weekofyear']==week)].groupby('Store')[group].mean()\n",
    "    df_stat=df_stat.reset_index()\n",
    "\n",
    "    df_w=[]\n",
    "    df_w=pd.DataFrame(df_w)\n",
    "    for week in range(52):\n",
    "        week=week+1\n",
    "        for dow in range(7):\n",
    "            dow=dow+1\n",
    "            nom = 'w'+str(week)+'_d'+str(dow)\n",
    "            df_w[nom]=df_s[(df_s['weekofyear']==week) & (df_s['dayofweek']==dow)].groupby('Store')[group].mean()\n",
    "    df_w=df_w.reset_index()\n",
    "\n",
    "    df_m=[]\n",
    "    df_m=pd.DataFrame(df_m)\n",
    "    for month in range(12):\n",
    "        month=month+1\n",
    "        nom = 'm'+str(month)\n",
    "        df_m[nom]=df_s[(df_s['month']==month)].groupby('Store')[group].mean()\n",
    "    df_m=df_m.reset_index()\n",
    "\n",
    "    df_dm=[]\n",
    "    df_dm=pd.DataFrame(df_dm)    \n",
    "    for month in range(12):\n",
    "        month=month+1\n",
    "        nom = 'dif_m'+str(month)\n",
    "        df_dm[nom]=df_s[(df_s['month']==month) & (df_s['year']==2014)].groupby('Store')[group].mean() - df_s[(df_s['month']==month) & (df_s['year']==2013)].groupby('Store')[group].mean()\n",
    "    df_dm=df_dm.reset_index()\n",
    "\n",
    "    df_dq=[]\n",
    "    df_dq=pd.DataFrame(df_dq)\n",
    "    for quarter in range(4):\n",
    "        quarter+=1\n",
    "        nom = 'dif_q'+str(quarter)\n",
    "        df_dq[nom]=df_s[(df_s['quarter']==quarter) & (df_s['year']==2014)].groupby('Store')[group].mean() - df_s[(df_s['quarter']==quarter) & (df_s['year']==2013)].groupby('Store')[group].mean()\n",
    "    df_dq=df_dq.reset_index()\n",
    "\n",
    "    df_stat = pd.merge(df_stat, df_w, left_on='Store', right_on='Store')\n",
    "    df_stat = pd.merge(df_stat, df_m, left_on='Store', right_on='Store')\n",
    "    df_stat = pd.merge(df_stat, df_dm, left_on='Store', right_on='Store')\n",
    "    df_stat = pd.merge(df_stat, df_dq, left_on='Store', right_on='Store')\n",
    "    return (df_stat)\n",
    "# now we create the dataframe of stats for customers and sales\n",
    "df_s = df_train.copy()\n",
    "df_stat_sales = statMaker (df_train, 'Sales')\n",
    "df_stat_cust = statMaker (df_train, 'Customers')\n",
    "df_stat_sales=df_stat_sales.fillna(0)\n",
    "df_stat_cust=df_stat_cust.fillna(0)\n",
    "df_stat_sales.to_csv(\"stat_sales.csv\", index=False)\n",
    "df_stat_cust.to_csv(\"stat_cust.csv\", index=False)\n"
   ]
  },
  {
   "cell_type": "markdown",
   "metadata": {},
   "source": [
    "### second step: affectation of statistics as features"
   ]
  },
  {
   "cell_type": "code",
   "execution_count": 45,
   "metadata": {},
   "outputs": [],
   "source": [
    "# this part is one example of exploitation of the statistics\n",
    "\n",
    "def affect_meanW (col_store, col_woy, df_stat):\n",
    "    col_store = int(col_store)\n",
    "    nom='mean_w_' + str(col_woy)\n",
    "    res = df_stat[df_stat['Store']==col_store][nom]\n",
    "    return int(res)\n",
    "\n",
    "def affect_meanD (col_store,col_woy, col_dow, df_stat):\n",
    "    col_store = int(col_store)\n",
    "    col_dow+=1\n",
    "    nom = 'w'+str(col_woy)+'_d'+str(col_dow)\n",
    "    res = df_stat[df_stat['Store']==col_store][nom]\n",
    "    return int(res)\n",
    "\n",
    "def affect_meanM (col_store, col_month, df_stat):\n",
    "    col_store = int(col_store)\n",
    "    nom= 'm'+str(col_month)\n",
    "    res = df_stat[df_stat['Store']==col_store][nom]\n",
    "    return int(res)\n",
    "\n",
    "def affect_difM (col_store, col_month, df_stat):\n",
    "    col_store = int(col_store)\n",
    "    nom = 'dif_m'+str(col_month)\n",
    "    res = df_stat[df_stat['Store']==col_store][nom]\n",
    "    return int(res)\n",
    "\n",
    "def affect_difQ (col_store, col_quarter, df_stat):\n",
    "    col_store = int(col_store)\n",
    "    nom = 'dif_q'+str(col_quarter)\n",
    "    res = df_stat[df_stat['Store']==col_store][nom]\n",
    "    return int(res)\n",
    "\n",
    "def generator_stat (df, df_stat, name) :\n",
    "    df[name+'_mean_w']=df.apply( lambda x : affect_meanW(x['Store'],x['weekofyear'], df_stat),axis = 1 )\n",
    "    df[name+'_mean_d']=df.apply( lambda x : affect_meanD(x['Store'],x['weekofyear'], x['dayofweek'], df_stat),axis = 1 )\n",
    "    df[name+'_mean_m']=df.apply( lambda x : affect_meanM(x['Store'],x['month'], df_stat),axis = 1)\n",
    "    df[name+'_dif_m']=df.apply( lambda x : affect_difM(x['Store'],x['month'], df_stat),axis = 1)\n",
    "    df[name+'_dif_q']=df.apply( lambda x : affect_difQ(x['Store'],x['quarter'], df_stat),axis = 1)\n",
    "    return (df)"
   ]
  },
  {
   "cell_type": "code",
   "execution_count": 46,
   "metadata": {},
   "outputs": [],
   "source": [
    "# choice is made to use only the samples on the same context than the test\n",
    "df_train=df_train[((df_train['year']>2013) & (df_train['month']>6) & (df_train['month']<10))|((df_train['year']>2014) & (df_train['month']>4)) ]\n",
    "\n",
    "df_train= generator_stat(df_train, df_stat_sales,'sales')\n",
    "df_train= generator_stat(df_train, df_stat_cust,'cust')\n",
    "df_test = generator_stat(df_test, df_stat_sales,'sales')\n",
    "df_test = generator_stat(df_test, df_stat_cust,'cust')\n",
    "\n",
    "#some additional features are extracted from the ratio sales and customers\n",
    "df_train['ratio_m']= df_train['sales_mean_m']/(df_train['cust_mean_m']+0.1)\n",
    "df_train['ratio_w']= df_train['sales_mean_w']/(df_train['cust_mean_w']+0.1)\n",
    "df_train['ratio_d']= df_train['sales_mean_d']/(df_train['cust_mean_d']+0.1)\n",
    "df_test['ratio_m']= df_test['sales_mean_m']/(df_test['cust_mean_m']+0.1)\n",
    "df_test['ratio_w']= df_test['sales_mean_w']/(df_test['cust_mean_w']+0.1)\n",
    "df_test['ratio_d']= df_test['sales_mean_d']/(df_test['cust_mean_d']+0.1)\n",
    "\n",
    "#pour expoiter les dates, le choix est fait de les convertir en ordinal\n",
    "list_date = [ 'Date', 'BeginCompetition', 'BeginPromo2',]\n",
    "for col in list_date :\n",
    "    df_train[col] = pd.to_datetime(df_train[col])\n",
    "    df_train[col] =df_train[col].apply(lambda x: x.toordinal())\n",
    "    df_test[col] = pd.to_datetime(df_test[col])\n",
    "    df_test[col] =df_test[col].apply(lambda x: x.toordinal())"
   ]
  },
  {
   "cell_type": "code",
   "execution_count": 47,
   "metadata": {},
   "outputs": [
    {
     "data": {
      "text/plain": [
       "Index(['Store', 'DayOfWeek', 'Date', 'Sales', 'Customers', 'Open', 'Promo',\n",
       "       'SchoolHoliday', 'StateHoliday_0', 'StateHoliday_a', 'StateHoliday_b',\n",
       "       'StateHoliday_c', 'ld', 'md', 'mc', 'jd', 'vd', 'sd', 'dc',\n",
       "       'CompetitionDistance', 'CompetitionOpenSinceMonth',\n",
       "       'CompetitionOpenSinceYear', 'Promo2', 'Promo2SinceWeek',\n",
       "       'Promo2SinceYear', 'PromoInterval', 'StoreType_a', 'StoreType_b',\n",
       "       'StoreType_c', 'StoreType_d', 'Assortment_a', 'Assortment_b',\n",
       "       'Assortment_c', 'PromoJan', 'PromoFeb', 'PromoMar', 'PromoApr',\n",
       "       'PromoMay', 'PromoJun', 'PromoJul', 'PromoAug', 'PromoSept', 'PromoOct',\n",
       "       'PromoNov', 'PromoDec', 'BeginCompetition', 'BeginPromo2',\n",
       "       'duree_concurence', 'promo2_today', 'year', 'month', 'day', 'dayofyear',\n",
       "       'weekofyear', 'dayofweek', 'quarter', 'duree_promo2', 'sales_mean_w',\n",
       "       'sales_mean_d', 'sales_mean_m', 'sales_dif_m', 'sales_dif_q',\n",
       "       'cust_mean_w', 'cust_mean_d', 'cust_mean_m', 'cust_dif_m', 'cust_dif_q',\n",
       "       'ratio_m', 'ratio_w', 'ratio_d'],\n",
       "      dtype='object')"
      ]
     },
     "execution_count": 47,
     "metadata": {},
     "output_type": "execute_result"
    }
   ],
   "source": [
    "df_train.columns"
   ]
  },
  {
   "cell_type": "markdown",
   "metadata": {},
   "source": [
    "## Normalization of the features\n",
    "This approach is not relevant regarding results when it is systematicaly applied\n",
    "but should be revisited in close cooperation with domain experts"
   ]
  },
  {
   "cell_type": "code",
   "execution_count": 18,
   "metadata": {},
   "outputs": [
    {
     "name": "stderr",
     "output_type": "stream",
     "text": [
      "/home/ro/anaconda3/lib/python3.6/site-packages/ipykernel_launcher.py:17: SettingWithCopyWarning: \n",
      "A value is trying to be set on a copy of a slice from a DataFrame.\n",
      "Try using .loc[row_indexer,col_indexer] = value instead\n",
      "\n",
      "See the caveats in the documentation: http://pandas.pydata.org/pandas-docs/stable/indexing.html#indexing-view-versus-copy\n"
     ]
    }
   ],
   "source": [
    "featuresToNorm = ['CompetitionDistance', \n",
    "       'duree_concurence', 'month', 'weekofyear', 'dayofweek',\n",
    "        'duree_promo2', 'sales_mean_w',\n",
    "       'sales_mean_d', 'sales_mean_m', 'sales_dif_m', 'sales_dif_q',\n",
    "       'cust_mean_w', 'cust_mean_d', 'cust_mean_m', 'cust_dif_m', 'cust_dif_q',\n",
    "       'ratio_m', 'ratio_w', 'ratio_d']\n",
    "featuresToNormTest = ['CompetitionDistance', \n",
    "       'duree_concurence', 'month', 'weekofyear', 'dayofweek',\n",
    "        'duree_promo2', 'sales_mean_w',\n",
    "       'sales_mean_d', 'sales_mean_m', 'sales_dif_m', 'sales_dif_q',\n",
    "       'cust_mean_w', 'cust_mean_d', 'cust_mean_m', 'cust_dif_m', 'cust_dif_q',\n",
    "       'ratio_m', 'ratio_w', 'ratio_d']\n",
    "\n",
    "def normalize(df):\n",
    "    list_col = df.columns.values.tolist()\n",
    "    for col in list_col :\n",
    "        df[col]= (df[col])/(df[col].max())\n",
    "    return df\n",
    "\n",
    "def normalize_hard(df):\n",
    "    list_col = df.columns.values.tolist()\n",
    "    for col in list_col :\n",
    "        df[col]= (df[col]-df[col].min())/(df[col].max()-df[col].min())\n",
    "    return df\n",
    "\n",
    "#df_train [featuresToNorm] = normalize (df_train[featuresToNorm])\n",
    "\n",
    "#df_test [featuresToNormTest]= normalize(df_test[featuresToNormTest]) "
   ]
  },
  {
   "cell_type": "code",
   "execution_count": 49,
   "metadata": {},
   "outputs": [],
   "source": [
    "# this step ends the stastistical preprocessing\n",
    "df_train.to_csv(\"dfStat.csv\", index=False)\n",
    "df_test.to_csv(\"dfStat_test.csv\",index=False)"
   ]
  },
  {
   "cell_type": "markdown",
   "metadata": {},
   "source": [
    "### Score"
   ]
  },
  {
   "cell_type": "markdown",
   "metadata": {},
   "source": [
    "We will establish a scoring metric to evaluate the quality of our model. The metric used will be the same the one used on Kaggle which is the rmspe. This allows us to compution the percentage of error we make on average "
   ]
  },
  {
   "cell_type": "code",
   "execution_count": 2,
   "metadata": {},
   "outputs": [],
   "source": [
    "def rmspe(yhat, y):  \n",
    "    sum_ = 0\n",
    "    for i in range(len(y)):\n",
    "        if(y[i] != 0):\n",
    "            sum_ += ((y[i] - yhat[i]) / y[i]) ** 2   \n",
    "    rmspe = np.sqrt(sum_ / len(y))\n",
    "        \n",
    "    return rmspe\n",
    "\n",
    "# adapted metric for xgboost\n",
    "def rmspe_xg(yhat, y):\n",
    "    return \"rmspe\", rmspe(yhat, y.get_label())"
   ]
  },
  {
   "cell_type": "markdown",
   "metadata": {},
   "source": [
    "# Naive Approach"
   ]
  },
  {
   "cell_type": "code",
   "execution_count": 51,
   "metadata": {},
   "outputs": [],
   "source": [
    "# going back to the general approach\n",
    "df_train = pd.read_csv('df_1.csv')\n",
    "df_test = pd.read_csv('df_1_test.csv')"
   ]
  },
  {
   "cell_type": "markdown",
   "metadata": {},
   "source": [
    "We try in this part what we call a naive approach. The idea behind this approach is that the board will probably ask the salers to do as well as the previous years or better. This should make the actual sales oscillate around a certain value that we estimate by the mean.\n",
    "Thus, to predict the sale for a given date, we look at what the store sold the previous years for the same date and we take the mean. "
   ]
  },
  {
   "cell_type": "code",
   "execution_count": 52,
   "metadata": {},
   "outputs": [],
   "source": [
    "class Naive:\n",
    "    \n",
    "    def same_day(self,day1,day2):\n",
    "        \"\"\"Return true if day1 and day 2 are the same day juste different year\"\"\"\n",
    "        return (day1.day == day2.day) and (day1.month ==day2.month)\n",
    "    \n",
    "    def train(self,data,target):\n",
    "        \"\"\"Trains the model\"\"\"\n",
    "        #Compute the mean aggregate by Days\n",
    "        X = pd.concat([data['Date'].copy() , target.copy()],axis=1)\n",
    "        X['Date'] =  pd.to_datetime(X['Date'])\n",
    "        X['Date'] = X['Date'].apply(lambda x : (x.day,x.month))\n",
    "        self.aggregate = X.groupby(['Date']).mean().reset_index()\n",
    "\n",
    "    def predict(self,X): \n",
    "        \"\"\"Predicts sales\"\"\"\n",
    "        X = X.copy()\n",
    "        X['Date'] =  pd.to_datetime(X['Date'])\n",
    "        X['Date'] = X['Date'].apply(lambda x : (x.day,x.month))\n",
    "        # Merge with the aggregate\n",
    "        pred = pd.merge(pd.DataFrame(X['Date']), self.aggregate, left_on='Date', right_on='Date')\n",
    "        return np.array(pred['Sales'])"
   ]
  },
  {
   "cell_type": "code",
   "execution_count": 53,
   "metadata": {
    "scrolled": true
   },
   "outputs": [
    {
     "name": "stdout",
     "output_type": "stream",
     "text": [
      "Error on training set  0.6837393713519102\n"
     ]
    }
   ],
   "source": [
    "naive_model = Naive()\n",
    "naive_model.train(df_train,df_train['Sales'])\n",
    "\n",
    "y_train_pred = naive_model.predict(df_train)\n",
    "\n",
    "print('Error on training set ', rmspe(y_train_pred, df_train['Sales'].values))"
   ]
  },
  {
   "cell_type": "code",
   "execution_count": 54,
   "metadata": {},
   "outputs": [],
   "source": [
    "#Evaluate it on the kaggle dataset\n",
    "prediction = naive_model.predict(df_test)\n",
    "indic = df_test['Id']\n",
    "res = pd.DataFrame(indic)\n",
    "res['Sales'] = prediction\n",
    "res.to_csv('data/submission_naive.csv', index = False)"
   ]
  },
  {
   "cell_type": "markdown",
   "metadata": {},
   "source": [
    "The Naive approach gives a rmspe score of 0.54591 on Kaggle "
   ]
  },
  {
   "cell_type": "markdown",
   "metadata": {},
   "source": [
    "# Validation strategy"
   ]
  },
  {
   "cell_type": "markdown",
   "metadata": {},
   "source": [
    "In this part we will first split the train set to have a validation and train set.\n",
    "Then we will choose the features we want to keep to train our model, from the lake of features we created in the previous part.\n",
    "We will apply our selection to training, validation and test sets."
   ]
  },
  {
   "cell_type": "markdown",
   "metadata": {},
   "source": [
    "### Split into train and validation set"
   ]
  },
  {
   "cell_type": "code",
   "execution_count": 55,
   "metadata": {},
   "outputs": [],
   "source": [
    "train, validation = train_test_split(df_train, test_size=0.1)"
   ]
  },
  {
   "cell_type": "code",
   "execution_count": 56,
   "metadata": {},
   "outputs": [
    {
     "data": {
      "text/plain": [
       "((759952, 57), (84440, 57))"
      ]
     },
     "execution_count": 56,
     "metadata": {},
     "output_type": "execute_result"
    }
   ],
   "source": [
    "train.shape, validation.shape"
   ]
  },
  {
   "cell_type": "markdown",
   "metadata": {},
   "source": [
    "### Feature Selection"
   ]
  },
  {
   "cell_type": "code",
   "execution_count": 57,
   "metadata": {},
   "outputs": [
    {
     "data": {
      "text/plain": [
       "Index(['Store', 'DayOfWeek', 'Date', 'Sales', 'Customers', 'Open', 'Promo',\n",
       "       'SchoolHoliday', 'StateHoliday_0', 'StateHoliday_a', 'StateHoliday_b',\n",
       "       'StateHoliday_c', 'ld', 'md', 'mc', 'jd', 'vd', 'sd', 'dc',\n",
       "       'CompetitionDistance', 'CompetitionOpenSinceMonth',\n",
       "       'CompetitionOpenSinceYear', 'Promo2', 'Promo2SinceWeek',\n",
       "       'Promo2SinceYear', 'PromoInterval', 'StoreType_a', 'StoreType_b',\n",
       "       'StoreType_c', 'StoreType_d', 'Assortment_a', 'Assortment_b',\n",
       "       'Assortment_c', 'PromoJan', 'PromoFeb', 'PromoMar', 'PromoApr',\n",
       "       'PromoMay', 'PromoJun', 'PromoJul', 'PromoAug', 'PromoSept', 'PromoOct',\n",
       "       'PromoNov', 'PromoDec', 'BeginCompetition', 'BeginPromo2',\n",
       "       'duree_concurence', 'promo2_today', 'year', 'month', 'day', 'dayofyear',\n",
       "       'weekofyear', 'dayofweek', 'quarter', 'duree_promo2'],\n",
       "      dtype='object')"
      ]
     },
     "execution_count": 57,
     "metadata": {},
     "output_type": "execute_result"
    }
   ],
   "source": [
    "train.columns"
   ]
  },
  {
   "cell_type": "code",
   "execution_count": 58,
   "metadata": {},
   "outputs": [],
   "source": [
    "featuresToTakeForTraining = ['Store', 'DayOfWeek', 'Promo',\n",
    "       'SchoolHoliday', 'CompetitionDistance', 'CompetitionOpenSinceMonth',\n",
    "       'CompetitionOpenSinceYear', 'Promo2', 'Promo2SinceWeek',\n",
    "       'Promo2SinceYear', 'StoreType_a', 'StoreType_b',\n",
    "       'StoreType_c', 'StoreType_d', 'Assortment_a', 'Assortment_b',\n",
    "       'Assortment_c', 'duree_concurence', 'promo2_today', 'year', 'month', 'day', 'dayofyear',\n",
    "       'weekofyear', 'dayofweek', 'quarter', 'duree_promo2']"
   ]
  },
  {
   "cell_type": "code",
   "execution_count": 59,
   "metadata": {},
   "outputs": [],
   "source": [
    "y_train = train['Sales']\n",
    "y_validation = validation['Sales']\n",
    "\n",
    "X_train = train[featuresToTakeForTraining]\n",
    "X_validation = validation[featuresToTakeForTraining]\n",
    "X_test = df_test[featuresToTakeForTraining]\n"
   ]
  },
  {
   "cell_type": "code",
   "execution_count": 60,
   "metadata": {},
   "outputs": [
    {
     "name": "stdout",
     "output_type": "stream",
     "text": [
      "<class 'pandas.core.frame.DataFrame'>\n",
      "Int64Index: 759952 entries, 274850 to 769277\n",
      "Data columns (total 27 columns):\n",
      "Store                        759952 non-null int64\n",
      "DayOfWeek                    759952 non-null int64\n",
      "Promo                        759952 non-null int64\n",
      "SchoolHoliday                759952 non-null int64\n",
      "CompetitionDistance          759952 non-null float64\n",
      "CompetitionOpenSinceMonth    759952 non-null float64\n",
      "CompetitionOpenSinceYear     759952 non-null float64\n",
      "Promo2                       759952 non-null int64\n",
      "Promo2SinceWeek              759952 non-null float64\n",
      "Promo2SinceYear              759952 non-null float64\n",
      "StoreType_a                  759952 non-null int64\n",
      "StoreType_b                  759952 non-null int64\n",
      "StoreType_c                  759952 non-null int64\n",
      "StoreType_d                  759952 non-null int64\n",
      "Assortment_a                 759952 non-null int64\n",
      "Assortment_b                 759952 non-null int64\n",
      "Assortment_c                 759952 non-null int64\n",
      "duree_concurence             759952 non-null int64\n",
      "promo2_today                 759952 non-null int64\n",
      "year                         759952 non-null int64\n",
      "month                        759952 non-null int64\n",
      "day                          759952 non-null int64\n",
      "dayofyear                    759952 non-null int64\n",
      "weekofyear                   759952 non-null int64\n",
      "dayofweek                    759952 non-null int64\n",
      "quarter                      759952 non-null int64\n",
      "duree_promo2                 759952 non-null int64\n",
      "dtypes: float64(5), int64(22)\n",
      "memory usage: 162.3 MB\n"
     ]
    }
   ],
   "source": [
    "X_train.info()"
   ]
  },
  {
   "cell_type": "code",
   "execution_count": 61,
   "metadata": {},
   "outputs": [
    {
     "name": "stdout",
     "output_type": "stream",
     "text": [
      "<class 'pandas.core.frame.DataFrame'>\n",
      "RangeIndex: 41088 entries, 0 to 41087\n",
      "Data columns (total 27 columns):\n",
      "Store                        41088 non-null int64\n",
      "DayOfWeek                    41088 non-null int64\n",
      "Promo                        41088 non-null int64\n",
      "SchoolHoliday                41088 non-null int64\n",
      "CompetitionDistance          41088 non-null float64\n",
      "CompetitionOpenSinceMonth    41088 non-null float64\n",
      "CompetitionOpenSinceYear     41088 non-null float64\n",
      "Promo2                       41088 non-null int64\n",
      "Promo2SinceWeek              41088 non-null float64\n",
      "Promo2SinceYear              41088 non-null float64\n",
      "StoreType_a                  41088 non-null int64\n",
      "StoreType_b                  41088 non-null int64\n",
      "StoreType_c                  41088 non-null int64\n",
      "StoreType_d                  41088 non-null int64\n",
      "Assortment_a                 41088 non-null int64\n",
      "Assortment_b                 41088 non-null int64\n",
      "Assortment_c                 41088 non-null int64\n",
      "duree_concurence             41088 non-null int64\n",
      "promo2_today                 41088 non-null int64\n",
      "year                         41088 non-null int64\n",
      "month                        41088 non-null int64\n",
      "day                          41088 non-null int64\n",
      "dayofyear                    41088 non-null int64\n",
      "weekofyear                   41088 non-null int64\n",
      "dayofweek                    41088 non-null int64\n",
      "quarter                      41088 non-null int64\n",
      "duree_promo2                 41088 non-null int64\n",
      "dtypes: float64(5), int64(22)\n",
      "memory usage: 8.5 MB\n"
     ]
    }
   ],
   "source": [
    "X_test.info()"
   ]
  },
  {
   "cell_type": "markdown",
   "metadata": {},
   "source": [
    "# Training Pipeline"
   ]
  },
  {
   "cell_type": "code",
   "execution_count": 3,
   "metadata": {},
   "outputs": [],
   "source": [
    "# Regressors\n",
    "from sklearn.ensemble import RandomForestRegressor\n",
    "from sklearn.ensemble import ExtraTreesRegressor\n",
    "from sklearn.tree import DecisionTreeRegressor\n",
    "import xgboost as xgb\n",
    "\n",
    "# Grid search\n",
    "from sklearn.model_selection import GridSearchCV"
   ]
  },
  {
   "cell_type": "markdown",
   "metadata": {},
   "source": [
    "### XGboost implementation that we train separatly"
   ]
  },
  {
   "cell_type": "code",
   "execution_count": 9,
   "metadata": {},
   "outputs": [],
   "source": [
    "def get_prob(y):\n",
    "    y[y < 0] = 0\n",
    "    return y"
   ]
  },
  {
   "cell_type": "code",
   "execution_count": 64,
   "metadata": {
    "scrolled": false
   },
   "outputs": [
    {
     "name": "stdout",
     "output_type": "stream",
     "text": [
      "[0]\teval-rmse:5.79413\ttrain-rmse:5.7937\teval-rmspe:0.659619\ttrain-rmspe:0.659606\n",
      "Multiple eval metrics have been passed: 'train-rmspe' will be used for early stopping.\n",
      "\n",
      "Will train until train-rmspe hasn't improved in 30 rounds.\n",
      "[5]\teval-rmse:1.02316\ttrain-rmse:1.02224\teval-rmspe:0.11411\ttrain-rmspe:0.114075\n",
      "[10]\teval-rmse:0.339535\ttrain-rmse:0.337389\teval-rmspe:0.036962\ttrain-rmspe:0.036941\n",
      "[15]\teval-rmse:0.273449\ttrain-rmse:0.270552\teval-rmspe:0.030241\ttrain-rmspe:0.030198\n",
      "[20]\teval-rmse:0.247809\ttrain-rmse:0.243166\teval-rmspe:0.027358\ttrain-rmspe:0.027251\n",
      "[25]\teval-rmse:0.2273\ttrain-rmse:0.221728\teval-rmspe:0.024917\ttrain-rmspe:0.02478\n",
      "[30]\teval-rmse:0.208839\ttrain-rmse:0.202189\teval-rmspe:0.022656\ttrain-rmspe:0.022474\n",
      "[35]\teval-rmse:0.200616\ttrain-rmse:0.193428\teval-rmspe:0.021645\ttrain-rmspe:0.021434\n",
      "[40]\teval-rmse:0.191103\ttrain-rmse:0.183303\teval-rmspe:0.02047\ttrain-rmspe:0.020238\n",
      "[45]\teval-rmse:0.1836\ttrain-rmse:0.175315\teval-rmspe:0.01952\ttrain-rmspe:0.019273\n",
      "[50]\teval-rmse:0.177188\ttrain-rmse:0.167984\teval-rmspe:0.018709\ttrain-rmspe:0.018445\n",
      "[55]\teval-rmse:0.170805\ttrain-rmse:0.160708\teval-rmspe:0.017891\ttrain-rmspe:0.017586\n",
      "[60]\teval-rmse:0.167604\ttrain-rmse:0.156905\teval-rmspe:0.017478\ttrain-rmspe:0.017136\n",
      "[65]\teval-rmse:0.162983\ttrain-rmse:0.151383\teval-rmspe:0.016873\ttrain-rmspe:0.016523\n",
      "[70]\teval-rmse:0.159319\ttrain-rmse:0.146922\teval-rmspe:0.016396\ttrain-rmspe:0.016022\n",
      "[75]\teval-rmse:0.156968\ttrain-rmse:0.143906\teval-rmspe:0.016095\ttrain-rmspe:0.015703\n",
      "[80]\teval-rmse:0.154786\ttrain-rmse:0.141109\teval-rmspe:0.015807\ttrain-rmspe:0.015399\n",
      "[85]\teval-rmse:0.151894\ttrain-rmse:0.137481\teval-rmspe:0.015382\ttrain-rmspe:0.014948\n",
      "[90]\teval-rmse:0.15031\ttrain-rmse:0.135212\teval-rmspe:0.015173\ttrain-rmspe:0.014711\n",
      "[95]\teval-rmse:0.148289\ttrain-rmse:0.132541\teval-rmspe:0.014894\ttrain-rmspe:0.014402\n",
      "[100]\teval-rmse:0.147308\ttrain-rmse:0.131034\teval-rmspe:0.014756\ttrain-rmspe:0.014237\n",
      "[105]\teval-rmse:0.146181\ttrain-rmse:0.129215\teval-rmspe:0.01461\ttrain-rmspe:0.014057\n",
      "[110]\teval-rmse:0.143853\ttrain-rmse:0.126356\teval-rmspe:0.014289\ttrain-rmspe:0.013714\n",
      "[115]\teval-rmse:0.142584\ttrain-rmse:0.124332\teval-rmspe:0.014115\ttrain-rmspe:0.013511\n",
      "[120]\teval-rmse:0.141572\ttrain-rmse:0.122695\teval-rmspe:0.013964\ttrain-rmspe:0.013337\n",
      "[125]\teval-rmse:0.140843\ttrain-rmse:0.121474\teval-rmspe:0.013866\ttrain-rmspe:0.013215\n",
      "[130]\teval-rmse:0.140246\ttrain-rmse:0.120511\teval-rmspe:0.013778\ttrain-rmspe:0.013107\n",
      "[135]\teval-rmse:0.139227\ttrain-rmse:0.118976\teval-rmspe:0.013637\ttrain-rmspe:0.012946\n",
      "[140]\teval-rmse:0.139082\ttrain-rmse:0.118019\teval-rmspe:0.013585\ttrain-rmspe:0.012865\n",
      "[145]\teval-rmse:0.138642\ttrain-rmse:0.117023\teval-rmspe:0.013518\ttrain-rmspe:0.012772\n",
      "[150]\teval-rmse:0.138129\ttrain-rmse:0.116042\teval-rmspe:0.013447\ttrain-rmspe:0.012674\n",
      "[155]\teval-rmse:0.13753\ttrain-rmse:0.114982\teval-rmspe:0.01336\ttrain-rmspe:0.012554\n",
      "[160]\teval-rmse:0.136896\ttrain-rmse:0.113572\teval-rmspe:0.013272\ttrain-rmspe:0.012442\n",
      "[165]\teval-rmse:0.13643\ttrain-rmse:0.112821\teval-rmspe:0.013209\ttrain-rmspe:0.012362\n",
      "[170]\teval-rmse:0.136177\ttrain-rmse:0.112224\teval-rmspe:0.013165\ttrain-rmspe:0.012297\n",
      "[175]\teval-rmse:0.135619\ttrain-rmse:0.111225\teval-rmspe:0.013086\ttrain-rmspe:0.012202\n",
      "[180]\teval-rmse:0.135566\ttrain-rmse:0.110634\teval-rmspe:0.013077\ttrain-rmspe:0.012161\n",
      "[185]\teval-rmse:0.135284\ttrain-rmse:0.110073\teval-rmspe:0.013037\ttrain-rmspe:0.012097\n",
      "[190]\teval-rmse:0.135047\ttrain-rmse:0.109448\teval-rmspe:0.012997\ttrain-rmspe:0.012028\n",
      "[195]\teval-rmse:0.134726\ttrain-rmse:0.108842\teval-rmspe:0.012949\ttrain-rmspe:0.011957\n",
      "[199]\teval-rmse:0.1346\ttrain-rmse:0.108297\teval-rmspe:0.012935\ttrain-rmspe:0.011913\n"
     ]
    }
   ],
   "source": [
    "params = {\"objective\": \"reg:linear\", # loss => linear regression because we predict sales\n",
    "          \"eta\": 0.3,\n",
    "          \"max_depth\": 8, #we can increase the depth but we might overfit\n",
    "          \"subsample\": 0.7,\n",
    "          \"colsample_bytree\": 0.7\n",
    "          }\n",
    "\n",
    "dtrain = xgb.DMatrix(X_train, np.log(y_train + 1))\n",
    "\n",
    "dvalid = xgb.DMatrix(X_validation, np.log(y_validation + 1))\n",
    "watchlist = [(dvalid, 'eval'), (dtrain, 'train')]\n",
    "\n",
    "model = xgb.train(params, dtrain, 200, evals = watchlist, early_stopping_rounds = 30, feval = rmspe_xg, verbose_eval = 5)"
   ]
  },
  {
   "cell_type": "code",
   "execution_count": 65,
   "metadata": {},
   "outputs": [
    {
     "name": "stdout",
     "output_type": "stream",
     "text": [
      "Error on training set  0.13982634728040805\n",
      "Error on validation set  0.26899603708023345\n"
     ]
    }
   ],
   "source": [
    "train_probs = model.predict(xgb.DMatrix(X_train))\n",
    "validation_probs = model.predict(xgb.DMatrix(X_validation))\n",
    "\n",
    "print('Error on training set ', rmspe(np.exp(get_prob(train_probs))-1, y_train.values))\n",
    "print('Error on validation set ', rmspe(np.exp(get_prob(validation_probs))-1, y_validation.values))"
   ]
  },
  {
   "cell_type": "markdown",
   "metadata": {},
   "source": [
    "### If we try to select some features in order to decrease the RMSPE"
   ]
  },
  {
   "cell_type": "code",
   "execution_count": 66,
   "metadata": {},
   "outputs": [],
   "source": [
    "featuresToTakeForTraining = ['Store', 'DayOfWeek', 'Promo',\n",
    "       'SchoolHoliday', 'CompetitionDistance', 'CompetitionOpenSinceMonth',\n",
    "       'CompetitionOpenSinceYear', 'Promo2', 'Promo2SinceWeek',\n",
    "       'Promo2SinceYear', 'StoreType_a', 'StoreType_b',\n",
    "       'StoreType_c', 'StoreType_d', 'Assortment_a', 'Assortment_b',\n",
    "       'Assortment_c','year', 'month', 'day']\n",
    "\n",
    "y_train = train['Sales']\n",
    "y_validation = validation['Sales']\n",
    "\n",
    "X_train = train[featuresToTakeForTraining]\n",
    "X_validation = validation[featuresToTakeForTraining]\n",
    "X_test = df_test[featuresToTakeForTraining]"
   ]
  },
  {
   "cell_type": "code",
   "execution_count": 67,
   "metadata": {},
   "outputs": [
    {
     "name": "stdout",
     "output_type": "stream",
     "text": [
      "[0]\teval-rmse:5.79391\ttrain-rmse:5.79354\teval-rmspe:0.65965\ttrain-rmspe:0.659637\n",
      "Multiple eval metrics have been passed: 'train-rmspe' will be used for early stopping.\n",
      "\n",
      "Will train until train-rmspe hasn't improved in 30 rounds.\n",
      "[10]\teval-rmse:0.343958\ttrain-rmse:0.341849\teval-rmspe:0.03748\ttrain-rmspe:0.037449\n",
      "[20]\teval-rmse:0.245603\ttrain-rmse:0.241683\teval-rmspe:0.027095\ttrain-rmspe:0.026975\n",
      "[30]\teval-rmse:0.219191\ttrain-rmse:0.214017\teval-rmspe:0.023944\ttrain-rmspe:0.023739\n",
      "[40]\teval-rmse:0.19649\ttrain-rmse:0.190328\teval-rmspe:0.021134\ttrain-rmspe:0.020879\n",
      "[50]\teval-rmse:0.178025\ttrain-rmse:0.170752\teval-rmspe:0.018838\ttrain-rmspe:0.018544\n",
      "[60]\teval-rmse:0.168989\ttrain-rmse:0.161039\teval-rmspe:0.017653\ttrain-rmspe:0.017316\n",
      "[70]\teval-rmse:0.161949\ttrain-rmse:0.153359\teval-rmspe:0.016738\ttrain-rmspe:0.01637\n",
      "[80]\teval-rmse:0.156899\ttrain-rmse:0.147196\teval-rmspe:0.016067\ttrain-rmspe:0.015637\n",
      "[90]\teval-rmse:0.153132\ttrain-rmse:0.142969\teval-rmspe:0.015569\ttrain-rmspe:0.015129\n",
      "[100]\teval-rmse:0.149766\ttrain-rmse:0.138933\teval-rmspe:0.015112\ttrain-rmspe:0.014643\n",
      "[110]\teval-rmse:0.147053\ttrain-rmse:0.135605\teval-rmspe:0.014754\ttrain-rmspe:0.014247\n",
      "[120]\teval-rmse:0.144454\ttrain-rmse:0.132529\teval-rmspe:0.014389\ttrain-rmspe:0.013847\n",
      "[130]\teval-rmse:0.142701\ttrain-rmse:0.12957\teval-rmspe:0.014148\ttrain-rmspe:0.013563\n",
      "[140]\teval-rmse:0.141373\ttrain-rmse:0.127501\teval-rmspe:0.013962\ttrain-rmspe:0.013333\n",
      "[150]\teval-rmse:0.139822\ttrain-rmse:0.125682\teval-rmspe:0.01375\ttrain-rmspe:0.013106\n",
      "[160]\teval-rmse:0.138657\ttrain-rmse:0.123933\teval-rmspe:0.013585\ttrain-rmspe:0.012918\n",
      "[170]\teval-rmse:0.137465\ttrain-rmse:0.122206\teval-rmspe:0.013413\ttrain-rmspe:0.012706\n",
      "[180]\teval-rmse:0.136727\ttrain-rmse:0.120685\teval-rmspe:0.013305\ttrain-rmspe:0.012555\n",
      "[190]\teval-rmse:0.135954\ttrain-rmse:0.118995\teval-rmspe:0.013184\ttrain-rmspe:0.012361\n",
      "[200]\teval-rmse:0.135119\ttrain-rmse:0.11784\teval-rmspe:0.013064\ttrain-rmspe:0.012224\n",
      "[210]\teval-rmse:0.134712\ttrain-rmse:0.116441\teval-rmspe:0.013003\ttrain-rmspe:0.012118\n",
      "[220]\teval-rmse:0.134153\ttrain-rmse:0.115255\teval-rmspe:0.012926\ttrain-rmspe:0.012004\n",
      "[230]\teval-rmse:0.133948\ttrain-rmse:0.114011\teval-rmspe:0.012889\ttrain-rmspe:0.011906\n",
      "[240]\teval-rmse:0.133519\ttrain-rmse:0.112973\teval-rmspe:0.012825\ttrain-rmspe:0.01181\n",
      "[250]\teval-rmse:0.13307\ttrain-rmse:0.112151\teval-rmspe:0.01276\ttrain-rmspe:0.011716\n",
      "[260]\teval-rmse:0.133008\ttrain-rmse:0.111396\teval-rmspe:0.012747\ttrain-rmspe:0.011669\n",
      "[270]\teval-rmse:0.132499\ttrain-rmse:0.110507\teval-rmspe:0.012672\ttrain-rmspe:0.011575\n",
      "[280]\teval-rmse:0.132287\ttrain-rmse:0.109612\teval-rmspe:0.01266\ttrain-rmspe:0.011497\n",
      "[290]\teval-rmse:0.131971\ttrain-rmse:0.108972\teval-rmspe:0.012615\ttrain-rmspe:0.011429\n",
      "[299]\teval-rmse:0.131741\ttrain-rmse:0.10836\teval-rmspe:0.012584\ttrain-rmspe:0.011369\n"
     ]
    }
   ],
   "source": [
    "dtrain = xgb.DMatrix(X_train, np.log(y_train + 1))\n",
    "\n",
    "dvalid = xgb.DMatrix(X_validation, np.log(y_validation + 1))\n",
    "watchlist = [(dvalid, 'eval'), (dtrain, 'train')]\n",
    "\n",
    "model = xgb.train(params, dtrain, 300, evals = watchlist, early_stopping_rounds = 30, feval = rmspe_xg, verbose_eval = 10)"
   ]
  },
  {
   "cell_type": "code",
   "execution_count": 68,
   "metadata": {},
   "outputs": [
    {
     "name": "stdout",
     "output_type": "stream",
     "text": [
      "Error on training set  0.12097826229722075\n",
      "Error on validation set  0.2618421119391024\n"
     ]
    }
   ],
   "source": [
    "train_probs = model.predict(xgb.DMatrix(X_train))\n",
    "validation_probs = model.predict(xgb.DMatrix(X_validation))\n",
    "\n",
    "print('Error on training set ', rmspe(np.exp(get_prob(train_probs))-1, y_train.values))\n",
    "print('Error on validation set ', rmspe(np.exp(get_prob(validation_probs))-1, y_validation.values))"
   ]
  },
  {
   "cell_type": "markdown",
   "metadata": {},
   "source": [
    "### Different Sklearn Regressors implementations"
   ]
  },
  {
   "cell_type": "markdown",
   "metadata": {},
   "source": [
    "##### Definition of the algorithm and theirs parameters for the grid search"
   ]
  },
  {
   "cell_type": "code",
   "execution_count": 69,
   "metadata": {},
   "outputs": [],
   "source": [
    "names_regressors = [\"DecisionTreeRegressor\", \"RandomForestRegressor\", \"ExtraTreesRegressor\", \"XGBoost\"]\n",
    "\n",
    "regressors = [\n",
    "    DecisionTreeRegressor(max_depth=None, min_samples_split=2, random_state=0),\n",
    "    RandomForestRegressor(n_estimators = 10, max_depth = None, min_samples_split = 2, random_state = 0),\n",
    "    ExtraTreesRegressor(n_estimators = 10, max_depth = None, min_samples_split = 2, random_state = 0),\n",
    "    model\n",
    "    ]"
   ]
  },
  {
   "cell_type": "markdown",
   "metadata": {},
   "source": [
    "##### Training of the different algoritms"
   ]
  },
  {
   "cell_type": "code",
   "execution_count": 70,
   "metadata": {
    "scrolled": true
   },
   "outputs": [
    {
     "name": "stdout",
     "output_type": "stream",
     "text": [
      "DecisionTreeRegressor\n",
      "\t Score (trainning): 0.0 \n",
      "\n",
      "\t Score (testing): 0.3186576971772775 \n",
      "\n",
      "RandomForestRegressor\n",
      "\t Score (trainning): 0.09396047982702724 \n",
      "\n",
      "\t Score (testing): 0.299752490270194 \n",
      "\n",
      "ExtraTreesRegressor\n",
      "\t Score (trainning): 7.976247423296496e-05 \n",
      "\n",
      "\t Score (testing): 0.2993119487489674 \n",
      "\n",
      "XGBoost\n"
     ]
    }
   ],
   "source": [
    "scores = []\n",
    "scores_train = []\n",
    "\n",
    "# iterate over classifiers\n",
    "for clf, name in zip(regressors, names_regressors):\n",
    "    print (name)\n",
    "    if(name != \"XGBoost\"):\n",
    "        clf.fit(X_train, y_train)\n",
    "        y_pred = clf.predict(X_validation)\n",
    "        y_pred_train = clf.predict(X_train)\n",
    "        score_train = rmspe(y_pred_train, y_train.values)\n",
    "        score = rmspe(y_pred, y_validation.values)\n",
    "        print(\"\\t Score (trainning):\", score_train, \"\\n\")\n",
    "        print(\"\\t Score (testing):\", score, \"\\n\")\n",
    "    else:\n",
    "        train_probs = clf.predict(xgb.DMatrix(X_train))\n",
    "        test_probs = clf.predict(xgb.DMatrix(X_validation))\n",
    "        score_train = rmspe(np.exp(get_prob(train_probs)) - 1, y_train.values)\n",
    "        score = rmspe(np.exp(get_prob(test_probs)) - 1, y_validation.values)\n",
    "\n",
    "    scores.append(score)\n",
    "    scores_train.append(score_train)\n"
   ]
  },
  {
   "cell_type": "markdown",
   "metadata": {},
   "source": [
    "##### Plot the different scores"
   ]
  },
  {
   "cell_type": "code",
   "execution_count": 71,
   "metadata": {},
   "outputs": [
    {
     "data": {
      "image/png": "[encoded data removed]",
      "text/plain": [
       "<matplotlib.figure.Figure at 0x7fa5e8599cc0>"
      ]
     },
     "metadata": {},
     "output_type": "display_data"
    }
   ],
   "source": [
    "plt.figure(figsize=(16, 8))\n",
    "x = np.arange(len(scores))\n",
    "plt.bar(x, scores, alpha=0.5, color=[\"red\", \"green\", \"blue\", \"purple\"])\n",
    "plt.xticks(x, names_regressors)\n",
    "plt.xlabel(\"Regressors\")\n",
    "plt.ylabel(\"Scores\")\n",
    "plt.title(\"Score for several regressor on testing set\")\n",
    "plt.show()"
   ]
  },
  {
   "cell_type": "code",
   "execution_count": 72,
   "metadata": {},
   "outputs": [
    {
     "data": {
      "image/png": "[encoded data removed]",
      "text/plain": [
       "<matplotlib.figure.Figure at 0x7fa5e83d89b0>"
      ]
     },
     "metadata": {},
     "output_type": "display_data"
    }
   ],
   "source": [
    "plt.figure(figsize=(16, 8))\n",
    "x = np.arange(len(scores))\n",
    "plt.bar(x, scores_train, alpha=0.5, color=[\"red\", \"green\", \"blue\", \"purple\"])\n",
    "plt.xticks(x, names_regressors)\n",
    "plt.xlabel(\"Regressors\")\n",
    "plt.ylabel(\"Scores\")\n",
    "plt.title(\"Score for several regressor on training set\")\n",
    "plt.show()"
   ]
  },
  {
   "cell_type": "markdown",
   "metadata": {},
   "source": [
    "# Training with GridSearch Strategy"
   ]
  },
  {
   "cell_type": "markdown",
   "metadata": {},
   "source": [
    "##### Definition of the algorithm and theirs parameters for the grid search"
   ]
  },
  {
   "cell_type": "code",
   "execution_count": 73,
   "metadata": {},
   "outputs": [],
   "source": [
    "names_regressors = ['RandomForestRegressor']\n",
    "names_regressors_tunedParams = [\n",
    "    [\"RandomForestRegressor\", RandomForestRegressor(), {\"max_depth\": [3, 5], \"bootstrap\": [True, False]}]\n",
    "]"
   ]
  },
  {
   "cell_type": "markdown",
   "metadata": {},
   "source": [
    "##### Training of the different algoritms"
   ]
  },
  {
   "cell_type": "code",
   "execution_count": 74,
   "metadata": {},
   "outputs": [
    {
     "name": "stdout",
     "output_type": "stream",
     "text": [
      "\t Score: 0.5453843538004373 \n",
      "\n",
      "RandomForestRegressor Best parameters : {'bootstrap': True, 'max_depth': 5} Accuracy: 0.5453843538004373\n"
     ]
    }
   ],
   "source": [
    "scores_regressors_cv = []\n",
    "for name, regressor, tunedParam in names_regressors_tunedParams:\n",
    "    clf = GridSearchCV(regressor, tunedParam)\n",
    "    clf.fit(X_train, y_train)\n",
    "    y_pred = clf.predict(X_validation)\n",
    "    score = rmspe(y_pred, y_validation.values)\n",
    "\n",
    "    print(\"\\t Score:\", score, \"\\n\")\n",
    "    \n",
    "    print(name, \"Best parameters :\", clf.best_params_, \"Accuracy:\", score)\n",
    "    scores_regressors_cv.append(score)"
   ]
  },
  {
   "cell_type": "markdown",
   "metadata": {},
   "source": [
    "##### Plot the different scores"
   ]
  },
  {
   "cell_type": "code",
   "execution_count": 75,
   "metadata": {},
   "outputs": [
    {
     "data": {
      "image/png": "[encoded data removed]",
      "text/plain": [
       "<matplotlib.figure.Figure at 0x7fa5e835c710>"
      ]
     },
     "metadata": {},
     "output_type": "display_data"
    }
   ],
   "source": [
    "plt.figure(figsize=(16, 8))\n",
    "x = np.arange(len(scores_regressors_cv))\n",
    "plt.bar(x, scores_regressors_cv, alpha=0.5, color=[\"red\", \"green\", \"blue\", \"purple\"])\n",
    "plt.xticks(x, names_regressors)\n",
    "plt.xlabel(\"Classifiers\")\n",
    "plt.ylabel(\"Accuracy\")\n",
    "plt.title(\"Accuracies for several classifiers\")\n",
    "plt.show()"
   ]
  },
  {
   "cell_type": "markdown",
   "metadata": {},
   "source": [
    "# Evaluation and Comparison"
   ]
  },
  {
   "cell_type": "markdown",
   "metadata": {},
   "source": [
    "Show the best features"
   ]
  },
  {
   "cell_type": "code",
   "execution_count": 76,
   "metadata": {},
   "outputs": [
    {
     "data": {
      "text/plain": [
       "<matplotlib.axes._subplots.AxesSubplot at 0x7fa5e8a12208>"
      ]
     },
     "execution_count": 76,
     "metadata": {},
     "output_type": "execute_result"
    },
    {
     "data": {
      "image/png": "[encoded data removed]",
      "text/plain": [
       "<matplotlib.figure.Figure at 0x7fa5e88822b0>"
      ]
     },
     "metadata": {},
     "output_type": "display_data"
    }
   ],
   "source": [
    "import operator\n",
    "importance = model.get_score()\n",
    "importance = sorted(importance.items(), key=operator.itemgetter(1))\n",
    "#Store in dataframe for plotting \n",
    "importance = pd.DataFrame(importance,columns = ['feature','score'])\n",
    "#Make the score relative \n",
    "importance['score'] = importance['score']/importance['score'].sum()\n",
    "importance.plot(kind ='barh' , x = 'feature' , y = 'score',legend = False)"
   ]
  },
  {
   "cell_type": "markdown",
   "metadata": {},
   "source": [
    "To conclude, we can compare one naive approach presented above to the machine learning approaches. Even if the naive approach has a kaggle rmspe of 0.54591, we can get way better models using the different ML approaches shown in the notebook  to reach rmspe of 0.19.\n",
    "Those nice fitting models will give the different possibi"
   ]
  },
  {
   "cell_type": "markdown",
   "metadata": {},
   "source": [
    "# Model with statistic features\n",
    "In this part we come back to the statistical approach in order to provide comparison. This why we use the same algorithms. We don't include this approach into the general one because its generalization should need more effort in industrialization part. This is only a prototype."
   ]
  },
  {
   "cell_type": "code",
   "execution_count": 4,
   "metadata": {},
   "outputs": [],
   "source": [
    "df_train = pd.read_csv('dfStat.csv')\n",
    "df_test = pd.read_csv('dfStat_test.csv')\n",
    "df_train=df_train[((df_train['year']>2013) & (df_train['month']>7) & (df_train['month']<10))|((df_train['year']>2014) & (df_train['month']>6)) ]\n",
    "\n",
    "df_train=df_train[df_train['Open']==1]\n",
    "df_train=df_train[df_train['StateHoliday_0']==1]\n",
    "open_test = df_test['Open']\n",
    "\n",
    "train, validation = train_test_split(df_train, test_size=0.1)\n",
    "\n",
    "featuresToTakeForTraining = ['Date', 'Store', 'Promo', 'SchoolHoliday',\n",
    "       'ld', 'md', 'mc', 'jd', 'vd', 'sd',\n",
    "       'dc', 'CompetitionDistance', 'Promo2', 'StoreType_a', 'StoreType_b',\n",
    "       'StoreType_c', 'StoreType_d', 'Assortment_a', 'Assortment_b',\n",
    "       'Assortment_c', 'PromoJan', 'PromoFeb', 'PromoMar', 'PromoApr',\n",
    "       'PromoMay', 'PromoJun', 'PromoJul', 'PromoAug', 'PromoSept', 'PromoOct',\n",
    "       'PromoNov', 'PromoDec', 'duree_concurence', 'promo2_today', 'year', 'month', 'day', 'dayofyear',\n",
    "       'weekofyear', 'duree_promo2', 'sales_mean_w',\n",
    "       'sales_mean_d', 'sales_mean_m', 'sales_dif_m', 'sales_dif_q',\n",
    "       'cust_mean_d', 'cust_mean_m', 'cust_dif_m',\n",
    "       'ratio_m']\n",
    "\n",
    "y_train = train['Sales']\n",
    "y_validation = validation['Sales']\n",
    "\n",
    "X_train = train[featuresToTakeForTraining]\n",
    "X_validation = validation[featuresToTakeForTraining]\n",
    "X_test = df_test[featuresToTakeForTraining]\n"
   ]
  },
  {
   "cell_type": "markdown",
   "metadata": {},
   "source": [
    "## simple rfr on features"
   ]
  },
  {
   "cell_type": "code",
   "execution_count": 5,
   "metadata": {},
   "outputs": [
    {
     "name": "stdout",
     "output_type": "stream",
     "text": [
      "\t Score (trainning): 0.03918908940648807 \n",
      "\n",
      "\t Score (testing): 0.10534585192680113 \n",
      "\n"
     ]
    }
   ],
   "source": [
    "from sklearn.ensemble import RandomForestRegressor\n",
    "\n",
    "rfr = RandomForestRegressor(n_estimators=150)\n",
    "rfr.fit(X_train,np.log(y_train+1))\n",
    "\n",
    "ypred_train = rfr.predict(X_train)\n",
    "ypred_validation =  rfr.predict(X_validation)\n",
    "ypred_train=np.exp(ypred_train)-1\n",
    "ypred_validation=np.exp(ypred_validation)-1\n",
    "\n",
    "score_train = rmspe(ypred_train, y_train.values)\n",
    "score = rmspe(ypred_validation, y_validation.values)\n",
    "print(\"\\t Score (trainning):\", score_train, \"\\n\")\n",
    "print(\"\\t Score (testing):\", score, \"\\n\")\n",
    "X_test = df_test[featuresToTakeForTraining]\n",
    "ypred = rfr.predict(X_test)\n",
    "io = open_test==0\n",
    "ypred[io]=0\n",
    "ik = ypred<0\n",
    "ypred [ik] = 0\n",
    "submission = pd.DataFrame({\"Id\": df_test[\"Id\"], \"Sales\": np.exp(ypred)-1})\n",
    "submission.to_csv(\"submission_rfr.csv\", index=False)"
   ]
  },
  {
   "cell_type": "markdown",
   "metadata": {},
   "source": [
    "## xg_boost"
   ]
  },
  {
   "cell_type": "code",
   "execution_count": 10,
   "metadata": {},
   "outputs": [
    {
     "name": "stdout",
     "output_type": "stream",
     "text": [
      "[0]\teval-rmse:5.79974\ttrain-rmse:5.80245\teval-rmspe:0.659534\ttrain-rmspe:0.65963\n",
      "Multiple eval metrics have been passed: 'train-rmspe' will be used for early stopping.\n",
      "\n",
      "Will train until train-rmspe hasn't improved in 30 rounds.\n",
      "[5]\teval-rmse:1.03023\ttrain-rmse:1.02707\teval-rmspe:0.114355\ttrain-rmspe:0.114312\n",
      "[10]\teval-rmse:0.345376\ttrain-rmse:0.333025\teval-rmspe:0.036249\ttrain-rmspe:0.035859\n",
      "[15]\teval-rmse:0.278303\ttrain-rmse:0.262328\teval-rmspe:0.029064\ttrain-rmspe:0.028527\n",
      "[20]\teval-rmse:0.253797\ttrain-rmse:0.23666\teval-rmspe:0.026178\ttrain-rmspe:0.025664\n",
      "[25]\teval-rmse:0.234006\ttrain-rmse:0.216441\teval-rmspe:0.023956\ttrain-rmspe:0.023391\n",
      "[30]\teval-rmse:0.219535\ttrain-rmse:0.200012\teval-rmspe:0.022065\ttrain-rmspe:0.021442\n",
      "[35]\teval-rmse:0.212841\ttrain-rmse:0.192749\teval-rmspe:0.021205\ttrain-rmspe:0.020597\n",
      "[40]\teval-rmse:0.199505\ttrain-rmse:0.178721\teval-rmspe:0.019439\ttrain-rmspe:0.018846\n",
      "[45]\teval-rmse:0.189312\ttrain-rmse:0.167047\teval-rmspe:0.018184\ttrain-rmspe:0.017524\n",
      "[50]\teval-rmse:0.182652\ttrain-rmse:0.1595\teval-rmspe:0.017262\ttrain-rmspe:0.016602\n",
      "[55]\teval-rmse:0.176131\ttrain-rmse:0.151151\teval-rmspe:0.016344\ttrain-rmspe:0.015612\n",
      "[60]\teval-rmse:0.17293\ttrain-rmse:0.146805\teval-rmspe:0.015885\ttrain-rmspe:0.015124\n",
      "[65]\teval-rmse:0.170057\ttrain-rmse:0.14261\teval-rmspe:0.015468\ttrain-rmspe:0.014671\n",
      "[70]\teval-rmse:0.167121\ttrain-rmse:0.138951\teval-rmspe:0.01503\ttrain-rmspe:0.014222\n",
      "[75]\teval-rmse:0.165217\ttrain-rmse:0.134804\teval-rmspe:0.014743\ttrain-rmspe:0.013893\n",
      "[80]\teval-rmse:0.163224\ttrain-rmse:0.131967\teval-rmspe:0.014451\ttrain-rmspe:0.013547\n",
      "[85]\teval-rmse:0.161455\ttrain-rmse:0.128305\teval-rmspe:0.014176\ttrain-rmspe:0.013184\n",
      "[90]\teval-rmse:0.158875\ttrain-rmse:0.123\teval-rmspe:0.013788\ttrain-rmspe:0.012691\n",
      "[95]\teval-rmse:0.157789\ttrain-rmse:0.120403\teval-rmspe:0.013606\ttrain-rmspe:0.012463\n",
      "[100]\teval-rmse:0.15668\ttrain-rmse:0.117862\teval-rmspe:0.013402\ttrain-rmspe:0.012217\n",
      "[105]\teval-rmse:0.154543\ttrain-rmse:0.114307\teval-rmspe:0.013188\ttrain-rmspe:0.011991\n",
      "[110]\teval-rmse:0.154066\ttrain-rmse:0.112574\teval-rmspe:0.013111\ttrain-rmspe:0.011831\n",
      "[115]\teval-rmse:0.152881\ttrain-rmse:0.110193\teval-rmspe:0.012904\ttrain-rmspe:0.011622\n",
      "[120]\teval-rmse:0.151914\ttrain-rmse:0.108232\teval-rmspe:0.012736\ttrain-rmspe:0.011414\n",
      "[125]\teval-rmse:0.150971\ttrain-rmse:0.105498\teval-rmspe:0.012593\ttrain-rmspe:0.011215\n",
      "[130]\teval-rmse:0.15017\ttrain-rmse:0.104331\teval-rmspe:0.012467\ttrain-rmspe:0.011069\n",
      "[135]\teval-rmse:0.149487\ttrain-rmse:0.103002\teval-rmspe:0.012363\ttrain-rmspe:0.010904\n",
      "[140]\teval-rmse:0.148775\ttrain-rmse:0.101422\teval-rmspe:0.012249\ttrain-rmspe:0.010764\n",
      "[145]\teval-rmse:0.148419\ttrain-rmse:0.100314\teval-rmspe:0.012197\ttrain-rmspe:0.010681\n",
      "[150]\teval-rmse:0.147699\ttrain-rmse:0.09863\teval-rmspe:0.012074\ttrain-rmspe:0.010536\n",
      "[155]\teval-rmse:0.14733\ttrain-rmse:0.097431\teval-rmspe:0.012007\ttrain-rmspe:0.010411\n",
      "[160]\teval-rmse:0.146767\ttrain-rmse:0.096356\teval-rmspe:0.011917\ttrain-rmspe:0.010289\n",
      "[165]\teval-rmse:0.146307\ttrain-rmse:0.0945\teval-rmspe:0.011847\ttrain-rmspe:0.010184\n",
      "[170]\teval-rmse:0.146211\ttrain-rmse:0.093317\teval-rmspe:0.011811\ttrain-rmspe:0.010099\n",
      "[175]\teval-rmse:0.145646\ttrain-rmse:0.092159\teval-rmspe:0.011691\ttrain-rmspe:0.009976\n",
      "[180]\teval-rmse:0.145741\ttrain-rmse:0.091092\teval-rmspe:0.011655\ttrain-rmspe:0.009891\n",
      "[185]\teval-rmse:0.145088\ttrain-rmse:0.090026\teval-rmspe:0.01162\ttrain-rmspe:0.009799\n",
      "[190]\teval-rmse:0.145015\ttrain-rmse:0.088608\teval-rmspe:0.011611\ttrain-rmspe:0.009722\n",
      "[195]\teval-rmse:0.144254\ttrain-rmse:0.087249\teval-rmspe:0.011553\ttrain-rmspe:0.009633\n",
      "[199]\teval-rmse:0.144104\ttrain-rmse:0.086767\teval-rmspe:0.011507\ttrain-rmspe:0.00958\n",
      "Error on training set  0.08416975330753426\n",
      "Error on validation set  0.1004501247334562\n"
     ]
    }
   ],
   "source": [
    "# xgboost\n",
    "params = {\"objective\": \"reg:linear\", # loss => linear regression because we predict sales\n",
    "          \"eta\": 0.3,\n",
    "          \"max_depth\": 8, #we can increase the depth but we might overfit\n",
    "          \"subsample\": 0.7,\n",
    "          \"colsample_bytree\": 0.7\n",
    "          }\n",
    "# using the log trick: fit on the log and predict the exponential of the result\n",
    "dtrain = xgb.DMatrix(X_train, np.log(y_train + 1))\n",
    "dvalid = xgb.DMatrix(X_validation, np.log(y_validation + 1))\n",
    "watchlist = [(dvalid, 'eval'), (dtrain, 'train')]\n",
    "\n",
    "model = xgb.train(params, dtrain, 200, evals = watchlist, early_stopping_rounds = 30, feval = rmspe_xg, verbose_eval = 5)\n",
    "\n",
    "train_probs = model.predict(xgb.DMatrix(X_train))\n",
    "validation_probs = model.predict(xgb.DMatrix(X_validation))\n",
    "\n",
    "print('Error on training set ', rmspe(np.exp(get_prob(train_probs))-1, y_train.values))\n",
    "print('Error on validation set ', rmspe(np.exp(get_prob(validation_probs))-1, y_validation.values))\n",
    "\n",
    "test_probs = model.predict(xgb.DMatrix(X_test))\n",
    "indices = test_probs < 0\n",
    "test_probs[indices] = 0\n",
    "# in case of closed days\n",
    "io = open_test==0\n",
    "test_probs[io]=0\n",
    "submission = pd.DataFrame({\"Id\": df_test[\"Id\"], \"Sales\": np.exp(test_probs) - 1})\n",
    "submission.to_csv(\"xgboost.csv\", index=False)"
   ]
  },
  {
   "cell_type": "code",
   "execution_count": 13,
   "metadata": {},
   "outputs": [
    {
     "name": "stdout",
     "output_type": "stream",
     "text": [
      "DecisionTreeRegressor\n",
      "\t Score (trainning): 1.8410323268081545e-05 \n",
      "\n",
      "\t Score (testing): 0.17717244188813275 \n",
      "\n",
      "RandomForestRegressor\n",
      "\t Score (trainning): 0.0527887942505314 \n",
      "\n",
      "\t Score (testing): 0.12367989117548497 \n",
      "\n",
      "ExtraTreesRegressor\n",
      "\t Score (trainning): 7.419330254892648e-06 \n",
      "\n",
      "\t Score (testing): 0.1507924343707941 \n",
      "\n",
      "XGBoost\n"
     ]
    }
   ],
   "source": [
    "#others models\n",
    "names_regressors = [\"DecisionTreeRegressor\", \"RandomForestRegressor\", \"ExtraTreesRegressor\", \"XGBoost\"]\n",
    "\n",
    "regressors = [\n",
    "    DecisionTreeRegressor(max_depth=None, min_samples_split=2, random_state=0),\n",
    "    RandomForestRegressor(n_estimators = 10, max_depth = None, min_samples_split = 2, random_state = 0),\n",
    "    ExtraTreesRegressor(n_estimators = 10, max_depth = None, min_samples_split = 2, random_state = 0),\n",
    "    model\n",
    "    ]\n",
    "\n",
    "scores = []\n",
    "scores_train = []\n",
    "\n",
    "# iterate over classifiers\n",
    "for clf, name in zip(regressors, names_regressors):\n",
    "    print (name)\n",
    "    if(name != \"XGBoost\"):\n",
    "        clf.fit(X_train, np.log(y_train+1))\n",
    "        y_pred = clf.predict(X_validation)\n",
    "        y_pred_train = clf.predict(X_train)\n",
    "        y_pred_train=np.exp(y_pred_train)-1\n",
    "        y_pred=np.exp(y_pred)-1\n",
    "        score_train = rmspe(y_pred_train, y_train.values)\n",
    "        score = rmspe(y_pred, y_validation.values)\n",
    "        validation = y_validation\n",
    "        validation.to_csv(name+\"_val.csv\", index=False)\n",
    "        print(\"\\t Score (trainning):\", score_train, \"\\n\")\n",
    "        print(\"\\t Score (testing):\", score, \"\\n\")   \n",
    "        ypred = clf.predict(X_test)\n",
    "        ypred=np.exp(ypred)-1\n",
    "        submission = pd.DataFrame({\"Id\": df_test[\"Id\"], \"Sales\": ypred})\n",
    "        submission.to_csv(name+\".csv\", index=False)\n",
    "    else:\n",
    "        train_probs = clf.predict(xgb.DMatrix(X_train))\n",
    "        test_probs = clf.predict(xgb.DMatrix(X_validation))\n",
    "        score_train = rmspe(np.exp(get_prob(train_probs)) - 1, y_train.values)\n",
    "        score = rmspe(np.exp(get_prob(test_probs)) - 1, y_validation.values)\n",
    "\n",
    "    scores.append(score)\n",
    "    scores_train.append(score_train)\n",
    "\n",
    "names_regressors = ['RandomForestRegressor']\n",
    "names_regressors_tunedParams = [\n",
    "    [\"RandomForestRegressor\", RandomForestRegressor(), {\"max_depth\": [3, 5], \"bootstrap\": [True, False]}]\n",
    "]\n",
    "\n"
   ]
  },
  {
   "cell_type": "code",
   "execution_count": 14,
   "metadata": {},
   "outputs": [
    {
     "name": "stdout",
     "output_type": "stream",
     "text": [
      "\t Score: 0.44736662963710483 \n",
      "\n",
      "RandomForestRegressor Best parameters : {'bootstrap': True, 'max_depth': 5} Accuracy: 0.44736662963710483\n"
     ]
    }
   ],
   "source": [
    "#grid search\n",
    "scores_regressors_cv = []\n",
    "for name, regressor, tunedParam in names_regressors_tunedParams:\n",
    "    clf = GridSearchCV(regressor, tunedParam)\n",
    "    clf.fit(X_train, y_train)\n",
    "    y_pred = clf.predict(X_validation)\n",
    "    score = rmspe(y_pred, y_validation.values)\n",
    "\n",
    "    print(\"\\t Score:\", score, \"\\n\")\n",
    "    \n",
    "    print(name, \"Best parameters :\", clf.best_params_, \"Accuracy:\", score)\n",
    "    scores_regressors_cv.append(score)"
   ]
  },
  {
   "cell_type": "code",
   "execution_count": 15,
   "metadata": {},
   "outputs": [
    {
     "data": {
      "text/plain": [
       "<matplotlib.axes._subplots.AxesSubplot at 0x7f179a965b70>"
      ]
     },
     "execution_count": 15,
     "metadata": {},
     "output_type": "execute_result"
    },
    {
     "data": {
      "image/png": "[encoded data removed]",
      "text/plain": [
       "<matplotlib.figure.Figure at 0x7f17bd151940>"
      ]
     },
     "metadata": {},
     "output_type": "display_data"
    }
   ],
   "source": [
    "import operator\n",
    "importance = model.get_score()\n",
    "importance = sorted(importance.items(), key=operator.itemgetter(1))\n",
    "#Store in dataframe for plotting \n",
    "importance = pd.DataFrame(importance,columns = ['feature','score'])\n",
    "#Make the score relative \n",
    "importance['score'] = importance['score']/importance['score'].sum()\n",
    "importance.plot(kind ='barh' , x = 'feature' , y = 'score',legend = False)"
   ]
  },
  {
   "cell_type": "markdown",
   "metadata": {},
   "source": [
    "## features selection - auto\n",
    "Approach on linear selection adding only usefull features"
   ]
  },
  {
   "cell_type": "code",
   "execution_count": 16,
   "metadata": {},
   "outputs": [
    {
     "name": "stdout",
     "output_type": "stream",
     "text": [
      "[0]\teval-rmse:5.80087\ttrain-rmse:5.80496\teval-rmspe:0.659379\ttrain-rmspe:0.659518\n",
      "Multiple eval metrics have been passed: 'train-rmspe' will be used for early stopping.\n",
      "\n",
      "Will train until train-rmspe hasn't improved in 30 rounds.\n",
      "[49]\teval-rmse:0.238992\ttrain-rmse:0.229069\teval-rmspe:0.027647\ttrain-rmspe:0.025958\n",
      "0.2862542073466938\n",
      "feature retenue : Store \n",
      "\n",
      "[0]\teval-rmse:5.80039\ttrain-rmse:5.80453\teval-rmspe:0.65942\ttrain-rmspe:0.659564\n",
      "Multiple eval metrics have been passed: 'train-rmspe' will be used for early stopping.\n",
      "\n",
      "Will train until train-rmspe hasn't improved in 30 rounds.\n",
      "[49]\teval-rmse:0.192316\ttrain-rmse:0.185686\teval-rmspe:0.021717\ttrain-rmspe:0.020276\n",
      "0.20363697315616444\n",
      "feature retenue : DayOfWeek \n",
      "\n",
      "[0]\teval-rmse:5.79708\ttrain-rmse:5.79991\teval-rmspe:0.659907\ttrain-rmspe:0.659904\n",
      "Multiple eval metrics have been passed: 'train-rmspe' will be used for early stopping.\n",
      "\n",
      "Will train until train-rmspe hasn't improved in 30 rounds.\n"
     ]
    },
    {
     "ename": "KeyboardInterrupt",
     "evalue": "",
     "output_type": "error",
     "traceback": [
      "\u001b[0;31m---------------------------------------------------------------------------\u001b[0m",
      "\u001b[0;31mKeyboardInterrupt\u001b[0m                         Traceback (most recent call last)",
      "\u001b[0;32m<ipython-input-16-34c18e2e80f9>\u001b[0m in \u001b[0;36m<module>\u001b[0;34m()\u001b[0m\n\u001b[1;32m     82\u001b[0m             \u001b[0mprint\u001b[0m\u001b[0;34m(\u001b[0m\u001b[0;34m'feature non retenue :'\u001b[0m\u001b[0;34m,\u001b[0m \u001b[0mf\u001b[0m\u001b[0;34m,\u001b[0m \u001b[0;34m'\\n'\u001b[0m\u001b[0;34m)\u001b[0m\u001b[0;34m\u001b[0m\u001b[0m\n\u001b[1;32m     83\u001b[0m     \u001b[0;32mreturn\u001b[0m \u001b[0mdf_feat\u001b[0m\u001b[0;34m\u001b[0m\u001b[0m\n\u001b[0;32m---> 84\u001b[0;31m \u001b[0mdf_feat\u001b[0m\u001b[0;34m=\u001b[0m\u001b[0mselector\u001b[0m\u001b[0;34m(\u001b[0m\u001b[0mdf_feat\u001b[0m\u001b[0;34m,\u001b[0m \u001b[0mdf\u001b[0m\u001b[0;34m,\u001b[0m \u001b[0mlist_toTest\u001b[0m\u001b[0;34m)\u001b[0m\u001b[0;34m\u001b[0m\u001b[0m\n\u001b[0m",
      "\u001b[0;32m<ipython-input-16-34c18e2e80f9>\u001b[0m in \u001b[0;36mselector\u001b[0;34m(df_feat, df, list_toTest)\u001b[0m\n\u001b[1;32m     71\u001b[0m     \u001b[0;32mfor\u001b[0m \u001b[0mf\u001b[0m \u001b[0;32min\u001b[0m \u001b[0mlist_toTest\u001b[0m\u001b[0;34m:\u001b[0m\u001b[0;34m\u001b[0m\u001b[0m\n\u001b[1;32m     72\u001b[0m         \u001b[0mdf_feat\u001b[0m\u001b[0;34m[\u001b[0m\u001b[0mf\u001b[0m\u001b[0;34m]\u001b[0m\u001b[0;34m=\u001b[0m\u001b[0mdf\u001b[0m\u001b[0;34m[\u001b[0m\u001b[0mf\u001b[0m\u001b[0;34m]\u001b[0m\u001b[0;34m\u001b[0m\u001b[0m\n\u001b[0;32m---> 73\u001b[0;31m         \u001b[0mres\u001b[0m\u001b[0;34m=\u001b[0m\u001b[0mtest_XG\u001b[0m\u001b[0;34m(\u001b[0m\u001b[0mdf_feat\u001b[0m\u001b[0;34m)\u001b[0m\u001b[0;34m\u001b[0m\u001b[0m\n\u001b[0m\u001b[1;32m     74\u001b[0m         \u001b[0mresult\u001b[0m\u001b[0;34m.\u001b[0m\u001b[0mappend\u001b[0m\u001b[0;34m(\u001b[0m\u001b[0mres\u001b[0m\u001b[0;34m)\u001b[0m\u001b[0;34m\u001b[0m\u001b[0m\n\u001b[1;32m     75\u001b[0m         \u001b[0mprint\u001b[0m\u001b[0;34m(\u001b[0m\u001b[0mres\u001b[0m\u001b[0;34m)\u001b[0m\u001b[0;34m\u001b[0m\u001b[0m\n",
      "\u001b[0;32m<ipython-input-16-34c18e2e80f9>\u001b[0m in \u001b[0;36mtest_XG\u001b[0;34m(X_DF)\u001b[0m\n\u001b[1;32m     58\u001b[0m     \u001b[0mwatchlist\u001b[0m \u001b[0;34m=\u001b[0m \u001b[0;34m[\u001b[0m\u001b[0;34m(\u001b[0m\u001b[0mdvalid\u001b[0m\u001b[0;34m,\u001b[0m \u001b[0;34m'eval'\u001b[0m\u001b[0;34m)\u001b[0m\u001b[0;34m,\u001b[0m \u001b[0;34m(\u001b[0m\u001b[0mdtrain\u001b[0m\u001b[0;34m,\u001b[0m \u001b[0;34m'train'\u001b[0m\u001b[0;34m)\u001b[0m\u001b[0;34m]\u001b[0m\u001b[0;34m\u001b[0m\u001b[0m\n\u001b[1;32m     59\u001b[0m \u001b[0;34m\u001b[0m\u001b[0m\n\u001b[0;32m---> 60\u001b[0;31m     \u001b[0mmodel\u001b[0m \u001b[0;34m=\u001b[0m \u001b[0mxgb\u001b[0m\u001b[0;34m.\u001b[0m\u001b[0mtrain\u001b[0m\u001b[0;34m(\u001b[0m\u001b[0mparams\u001b[0m\u001b[0;34m,\u001b[0m \u001b[0mdtrain\u001b[0m\u001b[0;34m,\u001b[0m \u001b[0;36m50\u001b[0m\u001b[0;34m,\u001b[0m \u001b[0mevals\u001b[0m \u001b[0;34m=\u001b[0m \u001b[0mwatchlist\u001b[0m\u001b[0;34m,\u001b[0m \u001b[0mearly_stopping_rounds\u001b[0m \u001b[0;34m=\u001b[0m \u001b[0;36m30\u001b[0m\u001b[0;34m,\u001b[0m \u001b[0mfeval\u001b[0m \u001b[0;34m=\u001b[0m \u001b[0mrmspe_xg\u001b[0m\u001b[0;34m,\u001b[0m \u001b[0mverbose_eval\u001b[0m \u001b[0;34m=\u001b[0m \u001b[0;36m100\u001b[0m\u001b[0;34m)\u001b[0m\u001b[0;34m\u001b[0m\u001b[0m\n\u001b[0m\u001b[1;32m     61\u001b[0m     \u001b[0mtrain_probs\u001b[0m \u001b[0;34m=\u001b[0m \u001b[0mmodel\u001b[0m\u001b[0;34m.\u001b[0m\u001b[0mpredict\u001b[0m\u001b[0;34m(\u001b[0m\u001b[0mxgb\u001b[0m\u001b[0;34m.\u001b[0m\u001b[0mDMatrix\u001b[0m\u001b[0;34m(\u001b[0m\u001b[0mX_train\u001b[0m\u001b[0;34m)\u001b[0m\u001b[0;34m)\u001b[0m\u001b[0;34m\u001b[0m\u001b[0m\n\u001b[1;32m     62\u001b[0m     \u001b[0mvalidation_probs\u001b[0m \u001b[0;34m=\u001b[0m \u001b[0mmodel\u001b[0m\u001b[0;34m.\u001b[0m\u001b[0mpredict\u001b[0m\u001b[0;34m(\u001b[0m\u001b[0mxgb\u001b[0m\u001b[0;34m.\u001b[0m\u001b[0mDMatrix\u001b[0m\u001b[0;34m(\u001b[0m\u001b[0mX_validation\u001b[0m\u001b[0;34m)\u001b[0m\u001b[0;34m)\u001b[0m\u001b[0;34m\u001b[0m\u001b[0m\n",
      "\u001b[0;32m~/anaconda3/lib/python3.6/site-packages/xgboost/training.py\u001b[0m in \u001b[0;36mtrain\u001b[0;34m(params, dtrain, num_boost_round, evals, obj, feval, maximize, early_stopping_rounds, evals_result, verbose_eval, xgb_model, callbacks, learning_rates)\u001b[0m\n\u001b[1;32m    202\u001b[0m                            \u001b[0mevals\u001b[0m\u001b[0;34m=\u001b[0m\u001b[0mevals\u001b[0m\u001b[0;34m,\u001b[0m\u001b[0;34m\u001b[0m\u001b[0m\n\u001b[1;32m    203\u001b[0m                            \u001b[0mobj\u001b[0m\u001b[0;34m=\u001b[0m\u001b[0mobj\u001b[0m\u001b[0;34m,\u001b[0m \u001b[0mfeval\u001b[0m\u001b[0;34m=\u001b[0m\u001b[0mfeval\u001b[0m\u001b[0;34m,\u001b[0m\u001b[0;34m\u001b[0m\u001b[0m\n\u001b[0;32m--> 204\u001b[0;31m                            xgb_model=xgb_model, callbacks=callbacks)\n\u001b[0m\u001b[1;32m    205\u001b[0m \u001b[0;34m\u001b[0m\u001b[0m\n\u001b[1;32m    206\u001b[0m \u001b[0;34m\u001b[0m\u001b[0m\n",
      "\u001b[0;32m~/anaconda3/lib/python3.6/site-packages/xgboost/training.py\u001b[0m in \u001b[0;36m_train_internal\u001b[0;34m(params, dtrain, num_boost_round, evals, obj, feval, xgb_model, callbacks)\u001b[0m\n\u001b[1;32m     82\u001b[0m         \u001b[0;31m# check evaluation result.\u001b[0m\u001b[0;34m\u001b[0m\u001b[0;34m\u001b[0m\u001b[0m\n\u001b[1;32m     83\u001b[0m         \u001b[0;32mif\u001b[0m \u001b[0mlen\u001b[0m\u001b[0;34m(\u001b[0m\u001b[0mevals\u001b[0m\u001b[0;34m)\u001b[0m \u001b[0;34m!=\u001b[0m \u001b[0;36m0\u001b[0m\u001b[0;34m:\u001b[0m\u001b[0;34m\u001b[0m\u001b[0m\n\u001b[0;32m---> 84\u001b[0;31m             \u001b[0mbst_eval_set\u001b[0m \u001b[0;34m=\u001b[0m \u001b[0mbst\u001b[0m\u001b[0;34m.\u001b[0m\u001b[0meval_set\u001b[0m\u001b[0;34m(\u001b[0m\u001b[0mevals\u001b[0m\u001b[0;34m,\u001b[0m \u001b[0mi\u001b[0m\u001b[0;34m,\u001b[0m \u001b[0mfeval\u001b[0m\u001b[0;34m)\u001b[0m\u001b[0;34m\u001b[0m\u001b[0m\n\u001b[0m\u001b[1;32m     85\u001b[0m             \u001b[0;32mif\u001b[0m \u001b[0misinstance\u001b[0m\u001b[0;34m(\u001b[0m\u001b[0mbst_eval_set\u001b[0m\u001b[0;34m,\u001b[0m \u001b[0mSTRING_TYPES\u001b[0m\u001b[0;34m)\u001b[0m\u001b[0;34m:\u001b[0m\u001b[0;34m\u001b[0m\u001b[0m\n\u001b[1;32m     86\u001b[0m                 \u001b[0mmsg\u001b[0m \u001b[0;34m=\u001b[0m \u001b[0mbst_eval_set\u001b[0m\u001b[0;34m\u001b[0m\u001b[0m\n",
      "\u001b[0;32m~/anaconda3/lib/python3.6/site-packages/xgboost/core.py\u001b[0m in \u001b[0;36meval_set\u001b[0;34m(self, evals, iteration, feval)\u001b[0m\n\u001b[1;32m    961\u001b[0m         \u001b[0;32mif\u001b[0m \u001b[0mfeval\u001b[0m \u001b[0;32mis\u001b[0m \u001b[0;32mnot\u001b[0m \u001b[0;32mNone\u001b[0m\u001b[0;34m:\u001b[0m\u001b[0;34m\u001b[0m\u001b[0m\n\u001b[1;32m    962\u001b[0m             \u001b[0;32mfor\u001b[0m \u001b[0mdmat\u001b[0m\u001b[0;34m,\u001b[0m \u001b[0mevname\u001b[0m \u001b[0;32min\u001b[0m \u001b[0mevals\u001b[0m\u001b[0;34m:\u001b[0m\u001b[0;34m\u001b[0m\u001b[0m\n\u001b[0;32m--> 963\u001b[0;31m                 \u001b[0mfeval_ret\u001b[0m \u001b[0;34m=\u001b[0m \u001b[0mfeval\u001b[0m\u001b[0;34m(\u001b[0m\u001b[0mself\u001b[0m\u001b[0;34m.\u001b[0m\u001b[0mpredict\u001b[0m\u001b[0;34m(\u001b[0m\u001b[0mdmat\u001b[0m\u001b[0;34m)\u001b[0m\u001b[0;34m,\u001b[0m \u001b[0mdmat\u001b[0m\u001b[0;34m)\u001b[0m\u001b[0;34m\u001b[0m\u001b[0m\n\u001b[0m\u001b[1;32m    964\u001b[0m                 \u001b[0;32mif\u001b[0m \u001b[0misinstance\u001b[0m\u001b[0;34m(\u001b[0m\u001b[0mfeval_ret\u001b[0m\u001b[0;34m,\u001b[0m \u001b[0mlist\u001b[0m\u001b[0;34m)\u001b[0m\u001b[0;34m:\u001b[0m\u001b[0;34m\u001b[0m\u001b[0m\n\u001b[1;32m    965\u001b[0m                     \u001b[0;32mfor\u001b[0m \u001b[0mname\u001b[0m\u001b[0;34m,\u001b[0m \u001b[0mval\u001b[0m \u001b[0;32min\u001b[0m \u001b[0mfeval_ret\u001b[0m\u001b[0;34m:\u001b[0m\u001b[0;34m\u001b[0m\u001b[0m\n",
      "\u001b[0;32m<ipython-input-3-052cc6efb83f>\u001b[0m in \u001b[0;36mrmspe_xg\u001b[0;34m(yhat, y)\u001b[0m\n\u001b[1;32m     10\u001b[0m \u001b[0;31m# adapted metric for xgboost\u001b[0m\u001b[0;34m\u001b[0m\u001b[0;34m\u001b[0m\u001b[0m\n\u001b[1;32m     11\u001b[0m \u001b[0;32mdef\u001b[0m \u001b[0mrmspe_xg\u001b[0m\u001b[0;34m(\u001b[0m\u001b[0myhat\u001b[0m\u001b[0;34m,\u001b[0m \u001b[0my\u001b[0m\u001b[0;34m)\u001b[0m\u001b[0;34m:\u001b[0m\u001b[0;34m\u001b[0m\u001b[0m\n\u001b[0;32m---> 12\u001b[0;31m     \u001b[0;32mreturn\u001b[0m \u001b[0;34m\"rmspe\"\u001b[0m\u001b[0;34m,\u001b[0m \u001b[0mrmspe\u001b[0m\u001b[0;34m(\u001b[0m\u001b[0myhat\u001b[0m\u001b[0;34m,\u001b[0m \u001b[0my\u001b[0m\u001b[0;34m.\u001b[0m\u001b[0mget_label\u001b[0m\u001b[0;34m(\u001b[0m\u001b[0;34m)\u001b[0m\u001b[0;34m)\u001b[0m\u001b[0;34m\u001b[0m\u001b[0m\n\u001b[0m",
      "\u001b[0;32m<ipython-input-3-052cc6efb83f>\u001b[0m in \u001b[0;36mrmspe\u001b[0;34m(yhat, y)\u001b[0m\n\u001b[1;32m      2\u001b[0m     \u001b[0msum_\u001b[0m \u001b[0;34m=\u001b[0m \u001b[0;36m0\u001b[0m\u001b[0;34m\u001b[0m\u001b[0m\n\u001b[1;32m      3\u001b[0m     \u001b[0;32mfor\u001b[0m \u001b[0mi\u001b[0m \u001b[0;32min\u001b[0m \u001b[0mrange\u001b[0m\u001b[0;34m(\u001b[0m\u001b[0mlen\u001b[0m\u001b[0;34m(\u001b[0m\u001b[0my\u001b[0m\u001b[0;34m)\u001b[0m\u001b[0;34m)\u001b[0m\u001b[0;34m:\u001b[0m\u001b[0;34m\u001b[0m\u001b[0m\n\u001b[0;32m----> 4\u001b[0;31m         \u001b[0;32mif\u001b[0m\u001b[0;34m(\u001b[0m\u001b[0my\u001b[0m\u001b[0;34m[\u001b[0m\u001b[0mi\u001b[0m\u001b[0;34m]\u001b[0m \u001b[0;34m!=\u001b[0m \u001b[0;36m0\u001b[0m\u001b[0;34m)\u001b[0m\u001b[0;34m:\u001b[0m\u001b[0;34m\u001b[0m\u001b[0m\n\u001b[0m\u001b[1;32m      5\u001b[0m             \u001b[0msum_\u001b[0m \u001b[0;34m+=\u001b[0m \u001b[0;34m(\u001b[0m\u001b[0;34m(\u001b[0m\u001b[0my\u001b[0m\u001b[0;34m[\u001b[0m\u001b[0mi\u001b[0m\u001b[0;34m]\u001b[0m \u001b[0;34m-\u001b[0m \u001b[0myhat\u001b[0m\u001b[0;34m[\u001b[0m\u001b[0mi\u001b[0m\u001b[0;34m]\u001b[0m\u001b[0;34m)\u001b[0m \u001b[0;34m/\u001b[0m \u001b[0my\u001b[0m\u001b[0;34m[\u001b[0m\u001b[0mi\u001b[0m\u001b[0;34m]\u001b[0m\u001b[0;34m)\u001b[0m \u001b[0;34m**\u001b[0m \u001b[0;36m2\u001b[0m\u001b[0;34m\u001b[0m\u001b[0m\n\u001b[1;32m      6\u001b[0m     \u001b[0mrmspe\u001b[0m \u001b[0;34m=\u001b[0m \u001b[0mnp\u001b[0m\u001b[0;34m.\u001b[0m\u001b[0msqrt\u001b[0m\u001b[0;34m(\u001b[0m\u001b[0msum_\u001b[0m \u001b[0;34m/\u001b[0m \u001b[0mlen\u001b[0m\u001b[0;34m(\u001b[0m\u001b[0my\u001b[0m\u001b[0;34m)\u001b[0m\u001b[0;34m)\u001b[0m\u001b[0;34m\u001b[0m\u001b[0m\n",
      "\u001b[0;31mKeyboardInterrupt\u001b[0m: "
     ]
    }
   ],
   "source": [
    "df = pd.read_csv('dfStat.csv', encoding='utf8')\n",
    "#choice of features to test\n",
    "list_notInTest = [\n",
    " 'Customers', 'Open','Sales','PromoInterval'\n",
    "]\n",
    "\n",
    "def remove_if_exists(L, l_val):\n",
    "    for value in l_val:\n",
    "        try:\n",
    "            L.remove(value)\n",
    "        except ValueError:\n",
    "            pass\n",
    "    return L\n",
    "\n",
    "list_toTest=df.columns.values.tolist()\n",
    "list_toTest=remove_if_exists(list_toTest, list_notInTest)\n",
    "\n",
    "\n",
    "#initial list\n",
    "df_feat=[]\n",
    "df_feat=pd.DataFrame(df_feat)\n",
    "list_toFeat = ['Sales','sales_mean_w'\n",
    "              ]\n",
    "for f in list_toFeat :\n",
    "    df_feat[f]=df[f]\n",
    "#for f in list_toTest :\n",
    "#    df_feat[f]=df[f]    \n",
    "    \n",
    "len(list_toTest)\n",
    "\n",
    "def test_XG (X_DF):\n",
    "\n",
    "    data_train, data_validation = train_test_split(X_DF, test_size=0.2, random_state=0)\n",
    "    data_train.reset_index(inplace=True)\n",
    "    data_validation.reset_index(inplace=True)\n",
    "\n",
    "\n",
    "    X_train, column_names = data_train, data_train.columns.values.tolist()\n",
    "    X_validation, column_names = data_validation, data_validation.columns.values.tolist()\n",
    "    y_train = data_train['Sales']\n",
    "    y_validation = data_validation['Sales']\n",
    "\n",
    "    X_train, column_names= data_train.drop(['Sales'],axis=1), data_train.columns.values.tolist().remove('Sales')\n",
    "    X_validation, column_names  = data_validation.drop(['Sales'],axis=1), data_validation.columns.values.tolist().remove('Sales')\n",
    "\n",
    "\n",
    "\n",
    "    # Set our parameters for xgboost\n",
    "    params = {\"objective\": \"reg:linear\", # loss => linear regression because we predict sales\n",
    "          \"eta\": 0.3,\n",
    "          \"max_depth\": 8, #we can increase the depth but we might overfit\n",
    "          \"subsample\": 0.7,\n",
    "          \"colsample_bytree\": 0.7\n",
    "          }\n",
    "    dtrain = xgb.DMatrix(X_train, np.log(y_train + 1))\n",
    "\n",
    "    dvalid = xgb.DMatrix(X_validation, np.log(y_validation + 1))\n",
    "    watchlist = [(dvalid, 'eval'), (dtrain, 'train')]\n",
    "\n",
    "    model = xgb.train(params, dtrain, 50, evals = watchlist, early_stopping_rounds = 30, feval = rmspe_xg, verbose_eval = 100)\n",
    "    train_probs = model.predict(xgb.DMatrix(X_train))\n",
    "    validation_probs = model.predict(xgb.DMatrix(X_validation))\n",
    "\n",
    "\n",
    "    return ( rmspe(np.exp(get_prob(validation_probs))-1, y_validation.values))\n",
    "\n",
    "def selector (df_feat, df, list_toTest):\n",
    "    result=[]\n",
    "    best_res=1\n",
    "    best_vect=[]\n",
    "    for f in list_toTest:\n",
    "        df_feat[f]=df[f]\n",
    "        res=test_XG(df_feat)\n",
    "        result.append(res)\n",
    "        print(res)\n",
    "        if res < best_res:\n",
    "            best_res=res\n",
    "            best_vect.append(res)\n",
    "            print('feature retenue :', f, '\\n')\n",
    "        else:\n",
    "            df_feat=df_feat.drop([f],axis=1)\n",
    "            print('feature non retenue :', f, '\\n')\n",
    "    return df_feat\n",
    "df_feat=selector(df_feat, df, list_toTest)"
   ]
  },
  {
   "cell_type": "code",
   "execution_count": null,
   "metadata": {},
   "outputs": [],
   "source": [
    "print ('dimension retenue : ', df_feat.shape)\n",
    "print('features retenues : ', df_feat.columns)"
   ]
  },
  {
   "cell_type": "markdown",
   "metadata": {},
   "source": [
    "This kind of approach is not relevant in our case because we have many samples. Features limitation is not usefull."
   ]
  },
  {
   "cell_type": "markdown",
   "metadata": {},
   "source": [
    "# Submission Generation for Kaggle"
   ]
  },
  {
   "cell_type": "code",
   "execution_count": 83,
   "metadata": {},
   "outputs": [],
   "source": [
    "def to_submit(model):\n",
    "    ypred=model.predict(X_test) #X_test is already pre_processed\n",
    "    io = open_test==0\n",
    "    ypred[io]=0\n",
    "    submission = pd.DataFrame({\"Id\": df_test[\"Id\"], \"Sales\": ypred})\n",
    "    submission.to_csv(\"submission_xgb.csv\", index=False)"
   ]
  },
  {
   "cell_type": "code",
   "execution_count": null,
   "metadata": {},
   "outputs": [],
   "source": []
  }
 ],
 "metadata": {
  "kernelspec": {
   "display_name": "Python 3",
   "language": "python",
   "name": "python3"
  },
  "language_info": {
   "codemirror_mode": {
    "name": "ipython",
    "version": 3
   },
   "file_extension": ".py",
   "mimetype": "text/x-python",
   "name": "python",
   "nbconvert_exporter": "python",
   "pygments_lexer": "ipython3",
   "version": "3.6.4"
  }
 },
 "nbformat": 4,
 "nbformat_minor": 2
}
