{
 "cells": [
  {
   "cell_type": "markdown",
   "metadata": {},
   "source": [
    "# Rossman Case\n",
    "### Business issue : predict the stores turnover\n",
    "\n",
    "Authors: BOIVIN Jolyanne, BOUCHER Axel, DE BROGLIE Aymon, GRIGNARD Jeremy, KARTHIGESU Dinojan, NAULET Antoine"
   ]
  },
  {
   "cell_type": "markdown",
   "metadata": {
    "heading_collapsed": true
   },
   "source": [
    "### Table of contents\n",
    "\n",
    "* Introduction\n",
    "* Preprocessing\n",
    "* Naive Approach\n",
    "* \"Standard\" Approach\n",
    "* Statistical Approach"
   ]
  },
  {
   "cell_type": "markdown",
   "metadata": {},
   "source": [
    "# Introduction"
   ]
  },
  {
   "cell_type": "markdown",
   "metadata": {},
   "source": [
    "Rossmann is Germany's second drug store chain with 3600 stores in Europe. The objective of this notebook with respect to the Kaggle challenge is to predict the turnover (the sales) for each day for each store.\n",
    "Predicting the turnover has huge positives impacts on companies such as :\n",
    "\n",
    "* The possibility to optimize the supply chain and the stocking costs.\n",
    "* It can give a dashboard to monitor the futur evolution of a store and make decisions about the stores.\n",
    "\n",
    "In this notebook we will propose three approaches: a naive one, one using standard machine learning techniques not taking into account the time serie aspect and one whith added features to take into account that aspect"
   ]
  },
  {
   "cell_type": "code",
   "execution_count": 1,
   "metadata": {
    "collapsed": true
   },
   "outputs": [],
   "source": [
    "import pandas as pd\n",
    "import numpy as np\n",
    "from datetime import datetime\n",
    "import datetime\n",
    "import matplotlib.pyplot as plt\n",
    "from sklearn.model_selection import train_test_split\n",
    "import xgboost as xgb\n",
    "%matplotlib inline\n",
    "\n",
    "# Regressors\n",
    "from sklearn.ensemble import RandomForestRegressor\n",
    "from sklearn.ensemble import ExtraTreesRegressor\n",
    "from sklearn.tree import DecisionTreeRegressor\n",
    "import xgboost as xgb\n",
    "\n",
    "# Grid search\n",
    "from sklearn.model_selection import GridSearchCV"
   ]
  },
  {
   "cell_type": "markdown",
   "metadata": {},
   "source": [
    "## Data Loading"
   ]
  },
  {
   "cell_type": "code",
   "execution_count": 2,
   "metadata": {},
   "outputs": [
    {
     "name": "stderr",
     "output_type": "stream",
     "text": [
      "/home/aymon/.local/lib/python3.6/site-packages/IPython/core/interactiveshell.py:2728: DtypeWarning: Columns (7) have mixed types. Specify dtype option on import or set low_memory=False.\n",
      "  interactivity=interactivity, compiler=compiler, result=result)\n"
     ]
    }
   ],
   "source": [
    "train = pd.read_csv('data/train.csv')\n",
    "test = pd.read_csv('data/test.csv')\n",
    "store = pd.read_csv('data/store.csv')\n"
   ]
  },
  {
   "cell_type": "code",
   "execution_count": 3,
   "metadata": {},
   "outputs": [
    {
     "data": {
      "text/html": [
       "<div>\n",
       "<style>\n",
       "    .dataframe thead tr:only-child th {\n",
       "        text-align: right;\n",
       "    }\n",
       "\n",
       "    .dataframe thead th {\n",
       "        text-align: left;\n",
       "    }\n",
       "\n",
       "    .dataframe tbody tr th {\n",
       "        vertical-align: top;\n",
       "    }\n",
       "</style>\n",
       "<table border=\"1\" class=\"dataframe\">\n",
       "  <thead>\n",
       "    <tr style=\"text-align: right;\">\n",
       "      <th></th>\n",
       "      <th>Store</th>\n",
       "      <th>DayOfWeek</th>\n",
       "      <th>Date</th>\n",
       "      <th>Sales</th>\n",
       "      <th>Customers</th>\n",
       "      <th>Open</th>\n",
       "      <th>Promo</th>\n",
       "      <th>StateHoliday</th>\n",
       "      <th>SchoolHoliday</th>\n",
       "    </tr>\n",
       "  </thead>\n",
       "  <tbody>\n",
       "    <tr>\n",
       "      <th>0</th>\n",
       "      <td>1</td>\n",
       "      <td>5</td>\n",
       "      <td>2015-07-31</td>\n",
       "      <td>5263</td>\n",
       "      <td>555</td>\n",
       "      <td>1</td>\n",
       "      <td>1</td>\n",
       "      <td>0</td>\n",
       "      <td>1</td>\n",
       "    </tr>\n",
       "    <tr>\n",
       "      <th>1</th>\n",
       "      <td>2</td>\n",
       "      <td>5</td>\n",
       "      <td>2015-07-31</td>\n",
       "      <td>6064</td>\n",
       "      <td>625</td>\n",
       "      <td>1</td>\n",
       "      <td>1</td>\n",
       "      <td>0</td>\n",
       "      <td>1</td>\n",
       "    </tr>\n",
       "    <tr>\n",
       "      <th>2</th>\n",
       "      <td>3</td>\n",
       "      <td>5</td>\n",
       "      <td>2015-07-31</td>\n",
       "      <td>8314</td>\n",
       "      <td>821</td>\n",
       "      <td>1</td>\n",
       "      <td>1</td>\n",
       "      <td>0</td>\n",
       "      <td>1</td>\n",
       "    </tr>\n",
       "    <tr>\n",
       "      <th>3</th>\n",
       "      <td>4</td>\n",
       "      <td>5</td>\n",
       "      <td>2015-07-31</td>\n",
       "      <td>13995</td>\n",
       "      <td>1498</td>\n",
       "      <td>1</td>\n",
       "      <td>1</td>\n",
       "      <td>0</td>\n",
       "      <td>1</td>\n",
       "    </tr>\n",
       "    <tr>\n",
       "      <th>4</th>\n",
       "      <td>5</td>\n",
       "      <td>5</td>\n",
       "      <td>2015-07-31</td>\n",
       "      <td>4822</td>\n",
       "      <td>559</td>\n",
       "      <td>1</td>\n",
       "      <td>1</td>\n",
       "      <td>0</td>\n",
       "      <td>1</td>\n",
       "    </tr>\n",
       "  </tbody>\n",
       "</table>\n",
       "</div>"
      ],
      "text/plain": [
       "   Store  DayOfWeek        Date  Sales  Customers  Open  Promo StateHoliday  \\\n",
       "0      1          5  2015-07-31   5263        555     1      1            0   \n",
       "1      2          5  2015-07-31   6064        625     1      1            0   \n",
       "2      3          5  2015-07-31   8314        821     1      1            0   \n",
       "3      4          5  2015-07-31  13995       1498     1      1            0   \n",
       "4      5          5  2015-07-31   4822        559     1      1            0   \n",
       "\n",
       "   SchoolHoliday  \n",
       "0              1  \n",
       "1              1  \n",
       "2              1  \n",
       "3              1  \n",
       "4              1  "
      ]
     },
     "execution_count": 3,
     "metadata": {},
     "output_type": "execute_result"
    }
   ],
   "source": [
    "train.head()"
   ]
  },
  {
   "cell_type": "code",
   "execution_count": 4,
   "metadata": {},
   "outputs": [
    {
     "data": {
      "text/html": [
       "<div>\n",
       "<style>\n",
       "    .dataframe thead tr:only-child th {\n",
       "        text-align: right;\n",
       "    }\n",
       "\n",
       "    .dataframe thead th {\n",
       "        text-align: left;\n",
       "    }\n",
       "\n",
       "    .dataframe tbody tr th {\n",
       "        vertical-align: top;\n",
       "    }\n",
       "</style>\n",
       "<table border=\"1\" class=\"dataframe\">\n",
       "  <thead>\n",
       "    <tr style=\"text-align: right;\">\n",
       "      <th></th>\n",
       "      <th>Id</th>\n",
       "      <th>Store</th>\n",
       "      <th>DayOfWeek</th>\n",
       "      <th>Date</th>\n",
       "      <th>Open</th>\n",
       "      <th>Promo</th>\n",
       "      <th>StateHoliday</th>\n",
       "      <th>SchoolHoliday</th>\n",
       "    </tr>\n",
       "  </thead>\n",
       "  <tbody>\n",
       "    <tr>\n",
       "      <th>0</th>\n",
       "      <td>1</td>\n",
       "      <td>1</td>\n",
       "      <td>4</td>\n",
       "      <td>2015-09-17</td>\n",
       "      <td>1.0</td>\n",
       "      <td>1</td>\n",
       "      <td>0</td>\n",
       "      <td>0</td>\n",
       "    </tr>\n",
       "    <tr>\n",
       "      <th>1</th>\n",
       "      <td>2</td>\n",
       "      <td>3</td>\n",
       "      <td>4</td>\n",
       "      <td>2015-09-17</td>\n",
       "      <td>1.0</td>\n",
       "      <td>1</td>\n",
       "      <td>0</td>\n",
       "      <td>0</td>\n",
       "    </tr>\n",
       "    <tr>\n",
       "      <th>2</th>\n",
       "      <td>3</td>\n",
       "      <td>7</td>\n",
       "      <td>4</td>\n",
       "      <td>2015-09-17</td>\n",
       "      <td>1.0</td>\n",
       "      <td>1</td>\n",
       "      <td>0</td>\n",
       "      <td>0</td>\n",
       "    </tr>\n",
       "    <tr>\n",
       "      <th>3</th>\n",
       "      <td>4</td>\n",
       "      <td>8</td>\n",
       "      <td>4</td>\n",
       "      <td>2015-09-17</td>\n",
       "      <td>1.0</td>\n",
       "      <td>1</td>\n",
       "      <td>0</td>\n",
       "      <td>0</td>\n",
       "    </tr>\n",
       "    <tr>\n",
       "      <th>4</th>\n",
       "      <td>5</td>\n",
       "      <td>9</td>\n",
       "      <td>4</td>\n",
       "      <td>2015-09-17</td>\n",
       "      <td>1.0</td>\n",
       "      <td>1</td>\n",
       "      <td>0</td>\n",
       "      <td>0</td>\n",
       "    </tr>\n",
       "  </tbody>\n",
       "</table>\n",
       "</div>"
      ],
      "text/plain": [
       "   Id  Store  DayOfWeek        Date  Open  Promo StateHoliday  SchoolHoliday\n",
       "0   1      1          4  2015-09-17   1.0      1            0              0\n",
       "1   2      3          4  2015-09-17   1.0      1            0              0\n",
       "2   3      7          4  2015-09-17   1.0      1            0              0\n",
       "3   4      8          4  2015-09-17   1.0      1            0              0\n",
       "4   5      9          4  2015-09-17   1.0      1            0              0"
      ]
     },
     "execution_count": 4,
     "metadata": {},
     "output_type": "execute_result"
    }
   ],
   "source": [
    "test.head()"
   ]
  },
  {
   "cell_type": "code",
   "execution_count": 5,
   "metadata": {},
   "outputs": [
    {
     "data": {
      "text/html": [
       "<div>\n",
       "<style>\n",
       "    .dataframe thead tr:only-child th {\n",
       "        text-align: right;\n",
       "    }\n",
       "\n",
       "    .dataframe thead th {\n",
       "        text-align: left;\n",
       "    }\n",
       "\n",
       "    .dataframe tbody tr th {\n",
       "        vertical-align: top;\n",
       "    }\n",
       "</style>\n",
       "<table border=\"1\" class=\"dataframe\">\n",
       "  <thead>\n",
       "    <tr style=\"text-align: right;\">\n",
       "      <th></th>\n",
       "      <th>Store</th>\n",
       "      <th>StoreType</th>\n",
       "      <th>Assortment</th>\n",
       "      <th>CompetitionDistance</th>\n",
       "      <th>CompetitionOpenSinceMonth</th>\n",
       "      <th>CompetitionOpenSinceYear</th>\n",
       "      <th>Promo2</th>\n",
       "      <th>Promo2SinceWeek</th>\n",
       "      <th>Promo2SinceYear</th>\n",
       "      <th>PromoInterval</th>\n",
       "    </tr>\n",
       "  </thead>\n",
       "  <tbody>\n",
       "    <tr>\n",
       "      <th>0</th>\n",
       "      <td>1</td>\n",
       "      <td>c</td>\n",
       "      <td>a</td>\n",
       "      <td>1270.0</td>\n",
       "      <td>9.0</td>\n",
       "      <td>2008.0</td>\n",
       "      <td>0</td>\n",
       "      <td>NaN</td>\n",
       "      <td>NaN</td>\n",
       "      <td>NaN</td>\n",
       "    </tr>\n",
       "    <tr>\n",
       "      <th>1</th>\n",
       "      <td>2</td>\n",
       "      <td>a</td>\n",
       "      <td>a</td>\n",
       "      <td>570.0</td>\n",
       "      <td>11.0</td>\n",
       "      <td>2007.0</td>\n",
       "      <td>1</td>\n",
       "      <td>13.0</td>\n",
       "      <td>2010.0</td>\n",
       "      <td>Jan,Apr,Jul,Oct</td>\n",
       "    </tr>\n",
       "    <tr>\n",
       "      <th>2</th>\n",
       "      <td>3</td>\n",
       "      <td>a</td>\n",
       "      <td>a</td>\n",
       "      <td>14130.0</td>\n",
       "      <td>12.0</td>\n",
       "      <td>2006.0</td>\n",
       "      <td>1</td>\n",
       "      <td>14.0</td>\n",
       "      <td>2011.0</td>\n",
       "      <td>Jan,Apr,Jul,Oct</td>\n",
       "    </tr>\n",
       "    <tr>\n",
       "      <th>3</th>\n",
       "      <td>4</td>\n",
       "      <td>c</td>\n",
       "      <td>c</td>\n",
       "      <td>620.0</td>\n",
       "      <td>9.0</td>\n",
       "      <td>2009.0</td>\n",
       "      <td>0</td>\n",
       "      <td>NaN</td>\n",
       "      <td>NaN</td>\n",
       "      <td>NaN</td>\n",
       "    </tr>\n",
       "    <tr>\n",
       "      <th>4</th>\n",
       "      <td>5</td>\n",
       "      <td>a</td>\n",
       "      <td>a</td>\n",
       "      <td>29910.0</td>\n",
       "      <td>4.0</td>\n",
       "      <td>2015.0</td>\n",
       "      <td>0</td>\n",
       "      <td>NaN</td>\n",
       "      <td>NaN</td>\n",
       "      <td>NaN</td>\n",
       "    </tr>\n",
       "  </tbody>\n",
       "</table>\n",
       "</div>"
      ],
      "text/plain": [
       "   Store StoreType Assortment  CompetitionDistance  CompetitionOpenSinceMonth  \\\n",
       "0      1         c          a               1270.0                        9.0   \n",
       "1      2         a          a                570.0                       11.0   \n",
       "2      3         a          a              14130.0                       12.0   \n",
       "3      4         c          c                620.0                        9.0   \n",
       "4      5         a          a              29910.0                        4.0   \n",
       "\n",
       "   CompetitionOpenSinceYear  Promo2  Promo2SinceWeek  Promo2SinceYear  \\\n",
       "0                    2008.0       0              NaN              NaN   \n",
       "1                    2007.0       1             13.0           2010.0   \n",
       "2                    2006.0       1             14.0           2011.0   \n",
       "3                    2009.0       0              NaN              NaN   \n",
       "4                    2015.0       0              NaN              NaN   \n",
       "\n",
       "     PromoInterval  \n",
       "0              NaN  \n",
       "1  Jan,Apr,Jul,Oct  \n",
       "2  Jan,Apr,Jul,Oct  \n",
       "3              NaN  \n",
       "4              NaN  "
      ]
     },
     "execution_count": 5,
     "metadata": {},
     "output_type": "execute_result"
    }
   ],
   "source": [
    "store.head()"
   ]
  },
  {
   "cell_type": "markdown",
   "metadata": {},
   "source": [
    "## First Look "
   ]
  },
  {
   "cell_type": "code",
   "execution_count": 6,
   "metadata": {},
   "outputs": [
    {
     "name": "stdout",
     "output_type": "stream",
     "text": [
      "<class 'pandas.core.frame.DataFrame'>\n",
      "RangeIndex: 1017209 entries, 0 to 1017208\n",
      "Data columns (total 9 columns):\n",
      "Store            1017209 non-null int64\n",
      "DayOfWeek        1017209 non-null int64\n",
      "Date             1017209 non-null object\n",
      "Sales            1017209 non-null int64\n",
      "Customers        1017209 non-null int64\n",
      "Open             1017209 non-null int64\n",
      "Promo            1017209 non-null int64\n",
      "StateHoliday     1017209 non-null object\n",
      "SchoolHoliday    1017209 non-null int64\n",
      "dtypes: int64(7), object(2)\n",
      "memory usage: 69.8+ MB\n"
     ]
    }
   ],
   "source": [
    "train.info()"
   ]
  },
  {
   "cell_type": "code",
   "execution_count": 7,
   "metadata": {},
   "outputs": [
    {
     "name": "stdout",
     "output_type": "stream",
     "text": [
      "<class 'pandas.core.frame.DataFrame'>\n",
      "RangeIndex: 41088 entries, 0 to 41087\n",
      "Data columns (total 8 columns):\n",
      "Id               41088 non-null int64\n",
      "Store            41088 non-null int64\n",
      "DayOfWeek        41088 non-null int64\n",
      "Date             41088 non-null object\n",
      "Open             41077 non-null float64\n",
      "Promo            41088 non-null int64\n",
      "StateHoliday     41088 non-null object\n",
      "SchoolHoliday    41088 non-null int64\n",
      "dtypes: float64(1), int64(5), object(2)\n",
      "memory usage: 2.5+ MB\n"
     ]
    }
   ],
   "source": [
    "test.info()"
   ]
  },
  {
   "cell_type": "code",
   "execution_count": 8,
   "metadata": {},
   "outputs": [
    {
     "name": "stdout",
     "output_type": "stream",
     "text": [
      "<class 'pandas.core.frame.DataFrame'>\n",
      "RangeIndex: 1115 entries, 0 to 1114\n",
      "Data columns (total 10 columns):\n",
      "Store                        1115 non-null int64\n",
      "StoreType                    1115 non-null object\n",
      "Assortment                   1115 non-null object\n",
      "CompetitionDistance          1112 non-null float64\n",
      "CompetitionOpenSinceMonth    761 non-null float64\n",
      "CompetitionOpenSinceYear     761 non-null float64\n",
      "Promo2                       1115 non-null int64\n",
      "Promo2SinceWeek              571 non-null float64\n",
      "Promo2SinceYear              571 non-null float64\n",
      "PromoInterval                571 non-null object\n",
      "dtypes: float64(5), int64(2), object(3)\n",
      "memory usage: 87.2+ KB\n"
     ]
    }
   ],
   "source": [
    "store.info()"
   ]
  },
  {
   "cell_type": "code",
   "execution_count": 9,
   "metadata": {},
   "outputs": [
    {
     "name": "stdout",
     "output_type": "stream",
     "text": [
      "Here we can see that there are missing values for several features in store: 2343\n"
     ]
    }
   ],
   "source": [
    "print('Here we can see that there are missing values for several features in store:', store.isnull().sum().sum())"
   ]
  },
  {
   "cell_type": "markdown",
   "metadata": {},
   "source": [
    "# Preprocessing"
   ]
  },
  {
   "cell_type": "markdown",
   "metadata": {},
   "source": [
    "## Preprocessing on Train and Test"
   ]
  },
  {
   "cell_type": "markdown",
   "metadata": {},
   "source": [
    "#### According to the documentation\n",
    "\n",
    "* DateTime for Date\n",
    "* StateHoliday - indicates a state holiday. Normally all stores, with few exceptions, are closed on state holidays. Note that all schools are closed on public holidays and weekends. a = public holiday, b = Easter holiday, c = Christmas, 0 = None\n"
   ]
  },
  {
   "cell_type": "markdown",
   "metadata": {},
   "source": [
    "### Change the date to datetime object"
   ]
  },
  {
   "cell_type": "code",
   "execution_count": 10,
   "metadata": {
    "collapsed": true
   },
   "outputs": [],
   "source": [
    "train['Date'] = pd.to_datetime(train['Date'])\n",
    "test['Date'] = pd.to_datetime(test['Date'])"
   ]
  },
  {
   "cell_type": "markdown",
   "metadata": {},
   "source": [
    "### We first replace the '0' values present in the train and test set by 0 (int) Next we use get dummies for each present value"
   ]
  },
  {
   "cell_type": "code",
   "execution_count": 11,
   "metadata": {},
   "outputs": [
    {
     "name": "stdout",
     "output_type": "stream",
     "text": [
      "Train before ['0' 'a' 'b' 'c' 0]\n",
      "Train Before [0 'a' 'b' 'c']\n"
     ]
    }
   ],
   "source": [
    "print(\"Train before\", train['StateHoliday'].unique())\n",
    "train.replace({\"StateHoliday\": {\"0\": 0}}, inplace=True)\n",
    "print(\"Train Before\", train['StateHoliday'].unique())"
   ]
  },
  {
   "cell_type": "code",
   "execution_count": 12,
   "metadata": {},
   "outputs": [
    {
     "name": "stdout",
     "output_type": "stream",
     "text": [
      "Test After ['0' 'a']\n",
      "Test After [0 'a']\n"
     ]
    }
   ],
   "source": [
    "print(\"Test After\", test['StateHoliday'].unique())\n",
    "test.replace({\"StateHoliday\": {\"0\": 0}}, inplace=True)\n",
    "print(\"Test After\", test['StateHoliday'].unique())"
   ]
  },
  {
   "cell_type": "code",
   "execution_count": 13,
   "metadata": {
    "collapsed": true
   },
   "outputs": [],
   "source": [
    "train[['StateHoliday_0', 'StateHoliday_a', 'StateHoliday_b', 'StateHoliday_c']] = pd.get_dummies(train['StateHoliday'])\n",
    "test[['StateHoliday_0', 'StateHoliday_a']] = pd.get_dummies(test['StateHoliday'])\n",
    "train.drop('StateHoliday', axis=1, inplace=True)\n",
    "test.drop('StateHoliday', axis=1, inplace=True)"
   ]
  },
  {
   "cell_type": "markdown",
   "metadata": {},
   "source": [
    "### Here we check the DayOfWeek for each Nan Values of the feature Open\n",
    "As we can see in the cell below, there are no Sundays when the Open value is missing. Therefore can we replace the NaN values by 1 (the store is open). To be more realistic we should map the day with a American calendar to see if each day is a sunday, special day, close day, holiday, public bank holiday, but as there are only a few missing values it should not impact the results too much"
   ]
  },
  {
   "cell_type": "code",
   "execution_count": 14,
   "metadata": {},
   "outputs": [
    {
     "data": {
      "text/html": [
       "<div>\n",
       "<style>\n",
       "    .dataframe thead tr:only-child th {\n",
       "        text-align: right;\n",
       "    }\n",
       "\n",
       "    .dataframe thead th {\n",
       "        text-align: left;\n",
       "    }\n",
       "\n",
       "    .dataframe tbody tr th {\n",
       "        vertical-align: top;\n",
       "    }\n",
       "</style>\n",
       "<table border=\"1\" class=\"dataframe\">\n",
       "  <thead>\n",
       "    <tr style=\"text-align: right;\">\n",
       "      <th></th>\n",
       "      <th>Id</th>\n",
       "      <th>Store</th>\n",
       "      <th>DayOfWeek</th>\n",
       "      <th>Date</th>\n",
       "      <th>Open</th>\n",
       "      <th>Promo</th>\n",
       "      <th>SchoolHoliday</th>\n",
       "      <th>StateHoliday_0</th>\n",
       "      <th>StateHoliday_a</th>\n",
       "    </tr>\n",
       "  </thead>\n",
       "  <tbody>\n",
       "    <tr>\n",
       "      <th>479</th>\n",
       "      <td>480</td>\n",
       "      <td>622</td>\n",
       "      <td>4</td>\n",
       "      <td>2015-09-17</td>\n",
       "      <td>NaN</td>\n",
       "      <td>1</td>\n",
       "      <td>0</td>\n",
       "      <td>1</td>\n",
       "      <td>0</td>\n",
       "    </tr>\n",
       "    <tr>\n",
       "      <th>1335</th>\n",
       "      <td>1336</td>\n",
       "      <td>622</td>\n",
       "      <td>3</td>\n",
       "      <td>2015-09-16</td>\n",
       "      <td>NaN</td>\n",
       "      <td>1</td>\n",
       "      <td>0</td>\n",
       "      <td>1</td>\n",
       "      <td>0</td>\n",
       "    </tr>\n",
       "    <tr>\n",
       "      <th>2191</th>\n",
       "      <td>2192</td>\n",
       "      <td>622</td>\n",
       "      <td>2</td>\n",
       "      <td>2015-09-15</td>\n",
       "      <td>NaN</td>\n",
       "      <td>1</td>\n",
       "      <td>0</td>\n",
       "      <td>1</td>\n",
       "      <td>0</td>\n",
       "    </tr>\n",
       "    <tr>\n",
       "      <th>3047</th>\n",
       "      <td>3048</td>\n",
       "      <td>622</td>\n",
       "      <td>1</td>\n",
       "      <td>2015-09-14</td>\n",
       "      <td>NaN</td>\n",
       "      <td>1</td>\n",
       "      <td>0</td>\n",
       "      <td>1</td>\n",
       "      <td>0</td>\n",
       "    </tr>\n",
       "    <tr>\n",
       "      <th>4759</th>\n",
       "      <td>4760</td>\n",
       "      <td>622</td>\n",
       "      <td>6</td>\n",
       "      <td>2015-09-12</td>\n",
       "      <td>NaN</td>\n",
       "      <td>0</td>\n",
       "      <td>0</td>\n",
       "      <td>1</td>\n",
       "      <td>0</td>\n",
       "    </tr>\n",
       "    <tr>\n",
       "      <th>5615</th>\n",
       "      <td>5616</td>\n",
       "      <td>622</td>\n",
       "      <td>5</td>\n",
       "      <td>2015-09-11</td>\n",
       "      <td>NaN</td>\n",
       "      <td>0</td>\n",
       "      <td>0</td>\n",
       "      <td>1</td>\n",
       "      <td>0</td>\n",
       "    </tr>\n",
       "    <tr>\n",
       "      <th>6471</th>\n",
       "      <td>6472</td>\n",
       "      <td>622</td>\n",
       "      <td>4</td>\n",
       "      <td>2015-09-10</td>\n",
       "      <td>NaN</td>\n",
       "      <td>0</td>\n",
       "      <td>0</td>\n",
       "      <td>1</td>\n",
       "      <td>0</td>\n",
       "    </tr>\n",
       "    <tr>\n",
       "      <th>7327</th>\n",
       "      <td>7328</td>\n",
       "      <td>622</td>\n",
       "      <td>3</td>\n",
       "      <td>2015-09-09</td>\n",
       "      <td>NaN</td>\n",
       "      <td>0</td>\n",
       "      <td>0</td>\n",
       "      <td>1</td>\n",
       "      <td>0</td>\n",
       "    </tr>\n",
       "    <tr>\n",
       "      <th>8183</th>\n",
       "      <td>8184</td>\n",
       "      <td>622</td>\n",
       "      <td>2</td>\n",
       "      <td>2015-09-08</td>\n",
       "      <td>NaN</td>\n",
       "      <td>0</td>\n",
       "      <td>0</td>\n",
       "      <td>1</td>\n",
       "      <td>0</td>\n",
       "    </tr>\n",
       "    <tr>\n",
       "      <th>9039</th>\n",
       "      <td>9040</td>\n",
       "      <td>622</td>\n",
       "      <td>1</td>\n",
       "      <td>2015-09-07</td>\n",
       "      <td>NaN</td>\n",
       "      <td>0</td>\n",
       "      <td>0</td>\n",
       "      <td>1</td>\n",
       "      <td>0</td>\n",
       "    </tr>\n",
       "    <tr>\n",
       "      <th>10751</th>\n",
       "      <td>10752</td>\n",
       "      <td>622</td>\n",
       "      <td>6</td>\n",
       "      <td>2015-09-05</td>\n",
       "      <td>NaN</td>\n",
       "      <td>0</td>\n",
       "      <td>0</td>\n",
       "      <td>1</td>\n",
       "      <td>0</td>\n",
       "    </tr>\n",
       "  </tbody>\n",
       "</table>\n",
       "</div>"
      ],
      "text/plain": [
       "          Id  Store  DayOfWeek       Date  Open  Promo  SchoolHoliday  \\\n",
       "479      480    622          4 2015-09-17   NaN      1              0   \n",
       "1335    1336    622          3 2015-09-16   NaN      1              0   \n",
       "2191    2192    622          2 2015-09-15   NaN      1              0   \n",
       "3047    3048    622          1 2015-09-14   NaN      1              0   \n",
       "4759    4760    622          6 2015-09-12   NaN      0              0   \n",
       "5615    5616    622          5 2015-09-11   NaN      0              0   \n",
       "6471    6472    622          4 2015-09-10   NaN      0              0   \n",
       "7327    7328    622          3 2015-09-09   NaN      0              0   \n",
       "8183    8184    622          2 2015-09-08   NaN      0              0   \n",
       "9039    9040    622          1 2015-09-07   NaN      0              0   \n",
       "10751  10752    622          6 2015-09-05   NaN      0              0   \n",
       "\n",
       "       StateHoliday_0  StateHoliday_a  \n",
       "479                 1               0  \n",
       "1335                1               0  \n",
       "2191                1               0  \n",
       "3047                1               0  \n",
       "4759                1               0  \n",
       "5615                1               0  \n",
       "6471                1               0  \n",
       "7327                1               0  \n",
       "8183                1               0  \n",
       "9039                1               0  \n",
       "10751               1               0  "
      ]
     },
     "execution_count": 14,
     "metadata": {},
     "output_type": "execute_result"
    }
   ],
   "source": [
    "test[test['Open'].isnull()]"
   ]
  },
  {
   "cell_type": "code",
   "execution_count": 15,
   "metadata": {
    "collapsed": true
   },
   "outputs": [],
   "source": [
    "test.replace({\"Open\": {np.nan: 1}}, inplace=True)"
   ]
  },
  {
   "cell_type": "code",
   "execution_count": 16,
   "metadata": {},
   "outputs": [
    {
     "data": {
      "text/html": [
       "<div>\n",
       "<style>\n",
       "    .dataframe thead tr:only-child th {\n",
       "        text-align: right;\n",
       "    }\n",
       "\n",
       "    .dataframe thead th {\n",
       "        text-align: left;\n",
       "    }\n",
       "\n",
       "    .dataframe tbody tr th {\n",
       "        vertical-align: top;\n",
       "    }\n",
       "</style>\n",
       "<table border=\"1\" class=\"dataframe\">\n",
       "  <thead>\n",
       "    <tr style=\"text-align: right;\">\n",
       "      <th></th>\n",
       "      <th>Id</th>\n",
       "      <th>Store</th>\n",
       "      <th>DayOfWeek</th>\n",
       "      <th>Date</th>\n",
       "      <th>Open</th>\n",
       "      <th>Promo</th>\n",
       "      <th>SchoolHoliday</th>\n",
       "      <th>StateHoliday_0</th>\n",
       "      <th>StateHoliday_a</th>\n",
       "    </tr>\n",
       "  </thead>\n",
       "  <tbody>\n",
       "  </tbody>\n",
       "</table>\n",
       "</div>"
      ],
      "text/plain": [
       "Empty DataFrame\n",
       "Columns: [Id, Store, DayOfWeek, Date, Open, Promo, SchoolHoliday, StateHoliday_0, StateHoliday_a]\n",
       "Index: []"
      ]
     },
     "execution_count": 16,
     "metadata": {},
     "output_type": "execute_result"
    }
   ],
   "source": [
    "test[test['Open'].isnull()]"
   ]
  },
  {
   "cell_type": "markdown",
   "metadata": {},
   "source": [
    "Finally , we are not evaluated at dates where the store is closed so we could get rid of those dates. But it is a best practice to avoid removing and select only open days to train the model.\n",
    "In case of closed days in test, it is always possible to fix the prediction at zero."
   ]
  },
  {
   "cell_type": "code",
   "execution_count": 17,
   "metadata": {
    "collapsed": true
   },
   "outputs": [],
   "source": [
    "train = train[train['Open'] != 0 ]\n",
    "#test = test[test['Open'] != 0 ]\n",
    "#del train['Open']\n",
    "#del test['Open']"
   ]
  },
  {
   "cell_type": "markdown",
   "metadata": {},
   "source": [
    "### One hot encoding days of week"
   ]
  },
  {
   "cell_type": "code",
   "execution_count": 18,
   "metadata": {
    "collapsed": true
   },
   "outputs": [],
   "source": [
    "# this action has no effect on tree but could be usefull to avoid false relation of order in regression\n",
    "train[['ld','md','mc','jd','vd','sd','dc']] = pd.get_dummies(train['DayOfWeek'])\n",
    "test[['ld','md','mc','jd','vd','sd','dc']] = pd.get_dummies(test['DayOfWeek'])"
   ]
  },
  {
   "cell_type": "markdown",
   "metadata": {},
   "source": [
    "## Preprocessing on Store"
   ]
  },
  {
   "cell_type": "code",
   "execution_count": 19,
   "metadata": {
    "collapsed": true
   },
   "outputs": [],
   "source": [
    "objectFeaturesStore = ['StoreType', 'Assortment', 'PromoInterval']"
   ]
  },
  {
   "cell_type": "code",
   "execution_count": 20,
   "metadata": {},
   "outputs": [
    {
     "data": {
      "text/html": [
       "<div>\n",
       "<style>\n",
       "    .dataframe thead tr:only-child th {\n",
       "        text-align: right;\n",
       "    }\n",
       "\n",
       "    .dataframe thead th {\n",
       "        text-align: left;\n",
       "    }\n",
       "\n",
       "    .dataframe tbody tr th {\n",
       "        vertical-align: top;\n",
       "    }\n",
       "</style>\n",
       "<table border=\"1\" class=\"dataframe\">\n",
       "  <thead>\n",
       "    <tr style=\"text-align: right;\">\n",
       "      <th></th>\n",
       "      <th>StoreType</th>\n",
       "      <th>Assortment</th>\n",
       "      <th>PromoInterval</th>\n",
       "    </tr>\n",
       "  </thead>\n",
       "  <tbody>\n",
       "    <tr>\n",
       "      <th>0</th>\n",
       "      <td>c</td>\n",
       "      <td>a</td>\n",
       "      <td>NaN</td>\n",
       "    </tr>\n",
       "    <tr>\n",
       "      <th>1</th>\n",
       "      <td>a</td>\n",
       "      <td>a</td>\n",
       "      <td>Jan,Apr,Jul,Oct</td>\n",
       "    </tr>\n",
       "    <tr>\n",
       "      <th>2</th>\n",
       "      <td>a</td>\n",
       "      <td>a</td>\n",
       "      <td>Jan,Apr,Jul,Oct</td>\n",
       "    </tr>\n",
       "    <tr>\n",
       "      <th>3</th>\n",
       "      <td>c</td>\n",
       "      <td>c</td>\n",
       "      <td>NaN</td>\n",
       "    </tr>\n",
       "    <tr>\n",
       "      <th>4</th>\n",
       "      <td>a</td>\n",
       "      <td>a</td>\n",
       "      <td>NaN</td>\n",
       "    </tr>\n",
       "  </tbody>\n",
       "</table>\n",
       "</div>"
      ],
      "text/plain": [
       "  StoreType Assortment    PromoInterval\n",
       "0         c          a              NaN\n",
       "1         a          a  Jan,Apr,Jul,Oct\n",
       "2         a          a  Jan,Apr,Jul,Oct\n",
       "3         c          c              NaN\n",
       "4         a          a              NaN"
      ]
     },
     "execution_count": 20,
     "metadata": {},
     "output_type": "execute_result"
    }
   ],
   "source": [
    "store[objectFeaturesStore].head()"
   ]
  },
  {
   "cell_type": "markdown",
   "metadata": {},
   "source": [
    "According to the documentation\n",
    "\n",
    "* StoreType - differentiates between 4 different store models: a, b, c, d\n",
    "* Assortment - describes an assortment level: a = basic, b = extra, c = extended\n",
    "* PromoInterval - describes the consecutive intervals Promo2 is started, naming the months the promotion is started anew. E.g. \"Feb,May,Aug,Nov\" means each round starts in February, May, August, November of any given year for that store\n"
   ]
  },
  {
   "cell_type": "markdown",
   "metadata": {},
   "source": [
    "#### Replace missing values by mean "
   ]
  },
  {
   "cell_type": "code",
   "execution_count": 21,
   "metadata": {
    "collapsed": true
   },
   "outputs": [],
   "source": [
    "# Features to preprocess numerically\n",
    "# 3 features are object type\n",
    "featuresToPreprocessByMean = ['Store', 'CompetitionDistance',\n",
    "       'CompetitionOpenSinceMonth', 'CompetitionOpenSinceYear', 'Promo2',\n",
    "       'Promo2SinceWeek', 'Promo2SinceYear']"
   ]
  },
  {
   "cell_type": "code",
   "execution_count": 22,
   "metadata": {
    "collapsed": true
   },
   "outputs": [],
   "source": [
    "for idx in featuresToPreprocessByMean:\n",
    "    store[idx] = store[idx].fillna(np.mean(store[idx]))"
   ]
  },
  {
   "cell_type": "code",
   "execution_count": 23,
   "metadata": {},
   "outputs": [
    {
     "name": "stdout",
     "output_type": "stream",
     "text": [
      "<class 'pandas.core.frame.DataFrame'>\n",
      "RangeIndex: 1115 entries, 0 to 1114\n",
      "Data columns (total 10 columns):\n",
      "Store                        1115 non-null int64\n",
      "StoreType                    1115 non-null object\n",
      "Assortment                   1115 non-null object\n",
      "CompetitionDistance          1115 non-null float64\n",
      "CompetitionOpenSinceMonth    1115 non-null float64\n",
      "CompetitionOpenSinceYear     1115 non-null float64\n",
      "Promo2                       1115 non-null int64\n",
      "Promo2SinceWeek              1115 non-null float64\n",
      "Promo2SinceYear              1115 non-null float64\n",
      "PromoInterval                571 non-null object\n",
      "dtypes: float64(5), int64(2), object(3)\n",
      "memory usage: 87.2+ KB\n"
     ]
    }
   ],
   "source": [
    "store.info()"
   ]
  },
  {
   "cell_type": "markdown",
   "metadata": {},
   "source": [
    "#### StoreType, Assortment, PromoInterval"
   ]
  },
  {
   "cell_type": "code",
   "execution_count": 24,
   "metadata": {},
   "outputs": [
    {
     "name": "stdout",
     "output_type": "stream",
     "text": [
      "distinct_storeType: ['c' 'a' 'd' 'b'] \n",
      "distinct_assortment:  ['a' 'c' 'b'] \n",
      "distinct_promoInterval:  [nan 'Jan,Apr,Jul,Oct' 'Feb,May,Aug,Nov' 'Mar,Jun,Sept,Dec']\n"
     ]
    }
   ],
   "source": [
    "print('distinct_storeType:', store['StoreType'].unique(), '\\ndistinct_assortment: ', store['Assortment'].unique(), '\\ndistinct_promoInterval: ', store['PromoInterval'].unique())"
   ]
  },
  {
   "cell_type": "code",
   "execution_count": 25,
   "metadata": {
    "collapsed": true
   },
   "outputs": [],
   "source": [
    "store[['StoreType_a', 'StoreType_b', 'StoreType_c', 'StoreType_d']] = pd.get_dummies(store['StoreType'])\n",
    "store[['Assortment_a', 'Assortment_b', 'Assortment_c']] = pd.get_dummies(store['Assortment'])\n",
    "store.drop('StoreType', axis=1, inplace=True)\n",
    "store.drop('Assortment', axis=1, inplace=True)"
   ]
  },
  {
   "cell_type": "code",
   "execution_count": 26,
   "metadata": {
    "collapsed": true
   },
   "outputs": [],
   "source": [
    "store.replace({\"PromoInterval\": {np.nan: 0}}, inplace=True)"
   ]
  },
  {
   "cell_type": "code",
   "execution_count": 27,
   "metadata": {},
   "outputs": [
    {
     "data": {
      "text/html": [
       "<div>\n",
       "<style>\n",
       "    .dataframe thead tr:only-child th {\n",
       "        text-align: right;\n",
       "    }\n",
       "\n",
       "    .dataframe thead th {\n",
       "        text-align: left;\n",
       "    }\n",
       "\n",
       "    .dataframe tbody tr th {\n",
       "        vertical-align: top;\n",
       "    }\n",
       "</style>\n",
       "<table border=\"1\" class=\"dataframe\">\n",
       "  <thead>\n",
       "    <tr style=\"text-align: right;\">\n",
       "      <th></th>\n",
       "      <th>Store</th>\n",
       "      <th>CompetitionDistance</th>\n",
       "      <th>CompetitionOpenSinceMonth</th>\n",
       "      <th>CompetitionOpenSinceYear</th>\n",
       "      <th>Promo2</th>\n",
       "      <th>Promo2SinceWeek</th>\n",
       "      <th>Promo2SinceYear</th>\n",
       "      <th>PromoInterval</th>\n",
       "      <th>StoreType_a</th>\n",
       "      <th>StoreType_b</th>\n",
       "      <th>StoreType_c</th>\n",
       "      <th>StoreType_d</th>\n",
       "      <th>Assortment_a</th>\n",
       "      <th>Assortment_b</th>\n",
       "      <th>Assortment_c</th>\n",
       "    </tr>\n",
       "  </thead>\n",
       "  <tbody>\n",
       "    <tr>\n",
       "      <th>0</th>\n",
       "      <td>1</td>\n",
       "      <td>1270.0</td>\n",
       "      <td>9.0</td>\n",
       "      <td>2008.0</td>\n",
       "      <td>0</td>\n",
       "      <td>23.595447</td>\n",
       "      <td>2011.763573</td>\n",
       "      <td>0</td>\n",
       "      <td>0</td>\n",
       "      <td>0</td>\n",
       "      <td>1</td>\n",
       "      <td>0</td>\n",
       "      <td>1</td>\n",
       "      <td>0</td>\n",
       "      <td>0</td>\n",
       "    </tr>\n",
       "    <tr>\n",
       "      <th>1</th>\n",
       "      <td>2</td>\n",
       "      <td>570.0</td>\n",
       "      <td>11.0</td>\n",
       "      <td>2007.0</td>\n",
       "      <td>1</td>\n",
       "      <td>13.000000</td>\n",
       "      <td>2010.000000</td>\n",
       "      <td>Jan,Apr,Jul,Oct</td>\n",
       "      <td>1</td>\n",
       "      <td>0</td>\n",
       "      <td>0</td>\n",
       "      <td>0</td>\n",
       "      <td>1</td>\n",
       "      <td>0</td>\n",
       "      <td>0</td>\n",
       "    </tr>\n",
       "    <tr>\n",
       "      <th>2</th>\n",
       "      <td>3</td>\n",
       "      <td>14130.0</td>\n",
       "      <td>12.0</td>\n",
       "      <td>2006.0</td>\n",
       "      <td>1</td>\n",
       "      <td>14.000000</td>\n",
       "      <td>2011.000000</td>\n",
       "      <td>Jan,Apr,Jul,Oct</td>\n",
       "      <td>1</td>\n",
       "      <td>0</td>\n",
       "      <td>0</td>\n",
       "      <td>0</td>\n",
       "      <td>1</td>\n",
       "      <td>0</td>\n",
       "      <td>0</td>\n",
       "    </tr>\n",
       "    <tr>\n",
       "      <th>3</th>\n",
       "      <td>4</td>\n",
       "      <td>620.0</td>\n",
       "      <td>9.0</td>\n",
       "      <td>2009.0</td>\n",
       "      <td>0</td>\n",
       "      <td>23.595447</td>\n",
       "      <td>2011.763573</td>\n",
       "      <td>0</td>\n",
       "      <td>0</td>\n",
       "      <td>0</td>\n",
       "      <td>1</td>\n",
       "      <td>0</td>\n",
       "      <td>0</td>\n",
       "      <td>0</td>\n",
       "      <td>1</td>\n",
       "    </tr>\n",
       "    <tr>\n",
       "      <th>4</th>\n",
       "      <td>5</td>\n",
       "      <td>29910.0</td>\n",
       "      <td>4.0</td>\n",
       "      <td>2015.0</td>\n",
       "      <td>0</td>\n",
       "      <td>23.595447</td>\n",
       "      <td>2011.763573</td>\n",
       "      <td>0</td>\n",
       "      <td>1</td>\n",
       "      <td>0</td>\n",
       "      <td>0</td>\n",
       "      <td>0</td>\n",
       "      <td>1</td>\n",
       "      <td>0</td>\n",
       "      <td>0</td>\n",
       "    </tr>\n",
       "  </tbody>\n",
       "</table>\n",
       "</div>"
      ],
      "text/plain": [
       "   Store  CompetitionDistance  CompetitionOpenSinceMonth  \\\n",
       "0      1               1270.0                        9.0   \n",
       "1      2                570.0                       11.0   \n",
       "2      3              14130.0                       12.0   \n",
       "3      4                620.0                        9.0   \n",
       "4      5              29910.0                        4.0   \n",
       "\n",
       "   CompetitionOpenSinceYear  Promo2  Promo2SinceWeek  Promo2SinceYear  \\\n",
       "0                    2008.0       0        23.595447      2011.763573   \n",
       "1                    2007.0       1        13.000000      2010.000000   \n",
       "2                    2006.0       1        14.000000      2011.000000   \n",
       "3                    2009.0       0        23.595447      2011.763573   \n",
       "4                    2015.0       0        23.595447      2011.763573   \n",
       "\n",
       "     PromoInterval  StoreType_a  StoreType_b  StoreType_c  StoreType_d  \\\n",
       "0                0            0            0            1            0   \n",
       "1  Jan,Apr,Jul,Oct            1            0            0            0   \n",
       "2  Jan,Apr,Jul,Oct            1            0            0            0   \n",
       "3                0            0            0            1            0   \n",
       "4                0            1            0            0            0   \n",
       "\n",
       "   Assortment_a  Assortment_b  Assortment_c  \n",
       "0             1             0             0  \n",
       "1             1             0             0  \n",
       "2             1             0             0  \n",
       "3             0             0             1  \n",
       "4             1             0             0  "
      ]
     },
     "execution_count": 27,
     "metadata": {},
     "output_type": "execute_result"
    }
   ],
   "source": [
    "store.head()"
   ]
  },
  {
   "cell_type": "code",
   "execution_count": 28,
   "metadata": {},
   "outputs": [
    {
     "name": "stdout",
     "output_type": "stream",
     "text": [
      "<class 'pandas.core.frame.DataFrame'>\n",
      "RangeIndex: 1115 entries, 0 to 1114\n",
      "Data columns (total 15 columns):\n",
      "Store                        1115 non-null int64\n",
      "CompetitionDistance          1115 non-null float64\n",
      "CompetitionOpenSinceMonth    1115 non-null float64\n",
      "CompetitionOpenSinceYear     1115 non-null float64\n",
      "Promo2                       1115 non-null int64\n",
      "Promo2SinceWeek              1115 non-null float64\n",
      "Promo2SinceYear              1115 non-null float64\n",
      "PromoInterval                1115 non-null object\n",
      "StoreType_a                  1115 non-null uint8\n",
      "StoreType_b                  1115 non-null uint8\n",
      "StoreType_c                  1115 non-null uint8\n",
      "StoreType_d                  1115 non-null uint8\n",
      "Assortment_a                 1115 non-null uint8\n",
      "Assortment_b                 1115 non-null uint8\n",
      "Assortment_c                 1115 non-null uint8\n",
      "dtypes: float64(5), int64(2), object(1), uint8(7)\n",
      "memory usage: 77.4+ KB\n"
     ]
    }
   ],
   "source": [
    "store.info()"
   ]
  },
  {
   "cell_type": "markdown",
   "metadata": {},
   "source": [
    "We are going to add features that encode if promo2 is active a given month"
   ]
  },
  {
   "cell_type": "code",
   "execution_count": 29,
   "metadata": {
    "collapsed": true
   },
   "outputs": [],
   "source": [
    "# This fonction tranform ununderstandable list into one shot encoding features\n",
    "months = ['Jan', 'Feb', 'Mar', 'Apr', 'May', 'Jun', 'Jul', 'Aug', 'Sept', 'Oct', 'Nov', 'Dec']\n",
    "promoMonths = ['PromoJan', 'PromoFeb', 'PromoMar', 'PromoApr', 'PromoMay', 'PromoJun', 'PromoJul', \n",
    "               'PromoAug', 'PromoSept', 'PromoOct', 'PromoNov', 'PromoDec']\n",
    "\n",
    "for v in promoMonths:\n",
    "    store[v] = 0\n",
    "    \n",
    "for idx, val in enumerate(store['PromoInterval']):\n",
    "    if val != 0:\n",
    "        mons = val.split(',')\n",
    "        for mon in mons:\n",
    "            columnName = 'Promo' + mon\n",
    "            store.loc[idx, columnName] = 1"
   ]
  },
  {
   "cell_type": "markdown",
   "metadata": {},
   "source": [
    "We are going to add two features that show the date when competition opened and one showing the date when promo2 began, those features will help for predicting as well as for building other features of interest.  "
   ]
  },
  {
   "cell_type": "code",
   "execution_count": 30,
   "metadata": {},
   "outputs": [
    {
     "data": {
      "text/html": [
       "<div>\n",
       "<style>\n",
       "    .dataframe thead tr:only-child th {\n",
       "        text-align: right;\n",
       "    }\n",
       "\n",
       "    .dataframe thead th {\n",
       "        text-align: left;\n",
       "    }\n",
       "\n",
       "    .dataframe tbody tr th {\n",
       "        vertical-align: top;\n",
       "    }\n",
       "</style>\n",
       "<table border=\"1\" class=\"dataframe\">\n",
       "  <thead>\n",
       "    <tr style=\"text-align: right;\">\n",
       "      <th></th>\n",
       "      <th>Store</th>\n",
       "      <th>CompetitionDistance</th>\n",
       "      <th>CompetitionOpenSinceMonth</th>\n",
       "      <th>CompetitionOpenSinceYear</th>\n",
       "      <th>Promo2</th>\n",
       "      <th>Promo2SinceWeek</th>\n",
       "      <th>Promo2SinceYear</th>\n",
       "      <th>PromoInterval</th>\n",
       "      <th>StoreType_a</th>\n",
       "      <th>StoreType_b</th>\n",
       "      <th>...</th>\n",
       "      <th>PromoMay</th>\n",
       "      <th>PromoJun</th>\n",
       "      <th>PromoJul</th>\n",
       "      <th>PromoAug</th>\n",
       "      <th>PromoSept</th>\n",
       "      <th>PromoOct</th>\n",
       "      <th>PromoNov</th>\n",
       "      <th>PromoDec</th>\n",
       "      <th>BeginCompetition</th>\n",
       "      <th>BeginPromo2</th>\n",
       "    </tr>\n",
       "  </thead>\n",
       "  <tbody>\n",
       "    <tr>\n",
       "      <th>0</th>\n",
       "      <td>1</td>\n",
       "      <td>1270.0</td>\n",
       "      <td>9.0</td>\n",
       "      <td>2008.0</td>\n",
       "      <td>0</td>\n",
       "      <td>23.595447</td>\n",
       "      <td>2011.763573</td>\n",
       "      <td>0</td>\n",
       "      <td>0</td>\n",
       "      <td>0</td>\n",
       "      <td>...</td>\n",
       "      <td>0</td>\n",
       "      <td>0</td>\n",
       "      <td>0</td>\n",
       "      <td>0</td>\n",
       "      <td>0</td>\n",
       "      <td>0</td>\n",
       "      <td>0</td>\n",
       "      <td>0</td>\n",
       "      <td>2008-01-09</td>\n",
       "      <td>2011-06-12</td>\n",
       "    </tr>\n",
       "    <tr>\n",
       "      <th>1</th>\n",
       "      <td>2</td>\n",
       "      <td>570.0</td>\n",
       "      <td>11.0</td>\n",
       "      <td>2007.0</td>\n",
       "      <td>1</td>\n",
       "      <td>13.000000</td>\n",
       "      <td>2010.000000</td>\n",
       "      <td>Jan,Apr,Jul,Oct</td>\n",
       "      <td>1</td>\n",
       "      <td>0</td>\n",
       "      <td>...</td>\n",
       "      <td>0</td>\n",
       "      <td>0</td>\n",
       "      <td>1</td>\n",
       "      <td>0</td>\n",
       "      <td>0</td>\n",
       "      <td>1</td>\n",
       "      <td>0</td>\n",
       "      <td>0</td>\n",
       "      <td>2007-01-11</td>\n",
       "      <td>2010-04-04</td>\n",
       "    </tr>\n",
       "    <tr>\n",
       "      <th>2</th>\n",
       "      <td>3</td>\n",
       "      <td>14130.0</td>\n",
       "      <td>12.0</td>\n",
       "      <td>2006.0</td>\n",
       "      <td>1</td>\n",
       "      <td>14.000000</td>\n",
       "      <td>2011.000000</td>\n",
       "      <td>Jan,Apr,Jul,Oct</td>\n",
       "      <td>1</td>\n",
       "      <td>0</td>\n",
       "      <td>...</td>\n",
       "      <td>0</td>\n",
       "      <td>0</td>\n",
       "      <td>1</td>\n",
       "      <td>0</td>\n",
       "      <td>0</td>\n",
       "      <td>1</td>\n",
       "      <td>0</td>\n",
       "      <td>0</td>\n",
       "      <td>2006-01-12</td>\n",
       "      <td>2011-04-10</td>\n",
       "    </tr>\n",
       "    <tr>\n",
       "      <th>3</th>\n",
       "      <td>4</td>\n",
       "      <td>620.0</td>\n",
       "      <td>9.0</td>\n",
       "      <td>2009.0</td>\n",
       "      <td>0</td>\n",
       "      <td>23.595447</td>\n",
       "      <td>2011.763573</td>\n",
       "      <td>0</td>\n",
       "      <td>0</td>\n",
       "      <td>0</td>\n",
       "      <td>...</td>\n",
       "      <td>0</td>\n",
       "      <td>0</td>\n",
       "      <td>0</td>\n",
       "      <td>0</td>\n",
       "      <td>0</td>\n",
       "      <td>0</td>\n",
       "      <td>0</td>\n",
       "      <td>0</td>\n",
       "      <td>2009-01-09</td>\n",
       "      <td>2011-06-12</td>\n",
       "    </tr>\n",
       "    <tr>\n",
       "      <th>4</th>\n",
       "      <td>5</td>\n",
       "      <td>29910.0</td>\n",
       "      <td>4.0</td>\n",
       "      <td>2015.0</td>\n",
       "      <td>0</td>\n",
       "      <td>23.595447</td>\n",
       "      <td>2011.763573</td>\n",
       "      <td>0</td>\n",
       "      <td>1</td>\n",
       "      <td>0</td>\n",
       "      <td>...</td>\n",
       "      <td>0</td>\n",
       "      <td>0</td>\n",
       "      <td>0</td>\n",
       "      <td>0</td>\n",
       "      <td>0</td>\n",
       "      <td>0</td>\n",
       "      <td>0</td>\n",
       "      <td>0</td>\n",
       "      <td>2015-01-04</td>\n",
       "      <td>2011-06-12</td>\n",
       "    </tr>\n",
       "  </tbody>\n",
       "</table>\n",
       "<p>5 rows × 29 columns</p>\n",
       "</div>"
      ],
      "text/plain": [
       "   Store  CompetitionDistance  CompetitionOpenSinceMonth  \\\n",
       "0      1               1270.0                        9.0   \n",
       "1      2                570.0                       11.0   \n",
       "2      3              14130.0                       12.0   \n",
       "3      4                620.0                        9.0   \n",
       "4      5              29910.0                        4.0   \n",
       "\n",
       "   CompetitionOpenSinceYear  Promo2  Promo2SinceWeek  Promo2SinceYear  \\\n",
       "0                    2008.0       0        23.595447      2011.763573   \n",
       "1                    2007.0       1        13.000000      2010.000000   \n",
       "2                    2006.0       1        14.000000      2011.000000   \n",
       "3                    2009.0       0        23.595447      2011.763573   \n",
       "4                    2015.0       0        23.595447      2011.763573   \n",
       "\n",
       "     PromoInterval  StoreType_a  StoreType_b     ...       PromoMay  PromoJun  \\\n",
       "0                0            0            0     ...              0         0   \n",
       "1  Jan,Apr,Jul,Oct            1            0     ...              0         0   \n",
       "2  Jan,Apr,Jul,Oct            1            0     ...              0         0   \n",
       "3                0            0            0     ...              0         0   \n",
       "4                0            1            0     ...              0         0   \n",
       "\n",
       "   PromoJul  PromoAug  PromoSept  PromoOct  PromoNov  PromoDec  \\\n",
       "0         0         0          0         0         0         0   \n",
       "1         1         0          0         1         0         0   \n",
       "2         1         0          0         1         0         0   \n",
       "3         0         0          0         0         0         0   \n",
       "4         0         0          0         0         0         0   \n",
       "\n",
       "   BeginCompetition  BeginPromo2  \n",
       "0        2008-01-09   2011-06-12  \n",
       "1        2007-01-11   2010-04-04  \n",
       "2        2006-01-12   2011-04-10  \n",
       "3        2009-01-09   2011-06-12  \n",
       "4        2015-01-04   2011-06-12  \n",
       "\n",
       "[5 rows x 29 columns]"
      ]
     },
     "execution_count": 30,
     "metadata": {},
     "output_type": "execute_result"
    }
   ],
   "source": [
    "def date_init_compet (col1, col2):\n",
    "    if col1 != 0:\n",
    "        return pd.to_datetime(str('01/')+str((int(col1)))+\"/\"+str(int(col2)))\n",
    "    \n",
    "def date_init_promo(week,year):\n",
    "    if week != 0: \n",
    "        return pd.to_datetime(str(int(week)) + '/' + str(int(year)) + '/' + '0', format='%W/%Y/%w')\n",
    "    \n",
    "store['BeginCompetition'] = store.apply(lambda x : date_init_compet(x['CompetitionOpenSinceMonth'], x['CompetitionOpenSinceYear']),axis=1) \n",
    "store['BeginPromo2'] = store.apply(lambda x : date_init_promo(x['Promo2SinceWeek'], x['Promo2SinceYear']),axis=1) \n",
    "\n",
    "    \n",
    "store.head()"
   ]
  },
  {
   "cell_type": "code",
   "execution_count": 31,
   "metadata": {
    "scrolled": true
   },
   "outputs": [
    {
     "name": "stdout",
     "output_type": "stream",
     "text": [
      "<class 'pandas.core.frame.DataFrame'>\n",
      "RangeIndex: 1115 entries, 0 to 1114\n",
      "Data columns (total 29 columns):\n",
      "Store                        1115 non-null int64\n",
      "CompetitionDistance          1115 non-null float64\n",
      "CompetitionOpenSinceMonth    1115 non-null float64\n",
      "CompetitionOpenSinceYear     1115 non-null float64\n",
      "Promo2                       1115 non-null int64\n",
      "Promo2SinceWeek              1115 non-null float64\n",
      "Promo2SinceYear              1115 non-null float64\n",
      "PromoInterval                1115 non-null object\n",
      "StoreType_a                  1115 non-null uint8\n",
      "StoreType_b                  1115 non-null uint8\n",
      "StoreType_c                  1115 non-null uint8\n",
      "StoreType_d                  1115 non-null uint8\n",
      "Assortment_a                 1115 non-null uint8\n",
      "Assortment_b                 1115 non-null uint8\n",
      "Assortment_c                 1115 non-null uint8\n",
      "PromoJan                     1115 non-null int64\n",
      "PromoFeb                     1115 non-null int64\n",
      "PromoMar                     1115 non-null int64\n",
      "PromoApr                     1115 non-null int64\n",
      "PromoMay                     1115 non-null int64\n",
      "PromoJun                     1115 non-null int64\n",
      "PromoJul                     1115 non-null int64\n",
      "PromoAug                     1115 non-null int64\n",
      "PromoSept                    1115 non-null int64\n",
      "PromoOct                     1115 non-null int64\n",
      "PromoNov                     1115 non-null int64\n",
      "PromoDec                     1115 non-null int64\n",
      "BeginCompetition             1115 non-null datetime64[ns]\n",
      "BeginPromo2                  1115 non-null datetime64[ns]\n",
      "dtypes: datetime64[ns](2), float64(5), int64(14), object(1), uint8(7)\n",
      "memory usage: 199.3+ KB\n"
     ]
    }
   ],
   "source": [
    "store.info()"
   ]
  },
  {
   "cell_type": "markdown",
   "metadata": {},
   "source": [
    "## Merge Train,Test and Store"
   ]
  },
  {
   "cell_type": "code",
   "execution_count": 32,
   "metadata": {},
   "outputs": [
    {
     "data": {
      "text/plain": [
       "(Index(['Store', 'DayOfWeek', 'Date', 'Sales', 'Customers', 'Open', 'Promo',\n",
       "        'SchoolHoliday', 'StateHoliday_0', 'StateHoliday_a', 'StateHoliday_b',\n",
       "        'StateHoliday_c', 'ld', 'md', 'mc', 'jd', 'vd', 'sd', 'dc'],\n",
       "       dtype='object'),\n",
       " Index(['Id', 'Store', 'DayOfWeek', 'Date', 'Open', 'Promo', 'SchoolHoliday',\n",
       "        'StateHoliday_0', 'StateHoliday_a', 'ld', 'md', 'mc', 'jd', 'vd', 'sd',\n",
       "        'dc'],\n",
       "       dtype='object'),\n",
       " Index(['Store', 'CompetitionDistance', 'CompetitionOpenSinceMonth',\n",
       "        'CompetitionOpenSinceYear', 'Promo2', 'Promo2SinceWeek',\n",
       "        'Promo2SinceYear', 'PromoInterval', 'StoreType_a', 'StoreType_b',\n",
       "        'StoreType_c', 'StoreType_d', 'Assortment_a', 'Assortment_b',\n",
       "        'Assortment_c', 'PromoJan', 'PromoFeb', 'PromoMar', 'PromoApr',\n",
       "        'PromoMay', 'PromoJun', 'PromoJul', 'PromoAug', 'PromoSept', 'PromoOct',\n",
       "        'PromoNov', 'PromoDec', 'BeginCompetition', 'BeginPromo2'],\n",
       "       dtype='object'))"
      ]
     },
     "execution_count": 32,
     "metadata": {},
     "output_type": "execute_result"
    }
   ],
   "source": [
    "train.columns, test.columns,store.columns, "
   ]
  },
  {
   "cell_type": "code",
   "execution_count": 33,
   "metadata": {
    "collapsed": true
   },
   "outputs": [],
   "source": [
    "df_train = pd.merge(train, store, left_on='Store', right_on='Store')\n",
    "df_test = pd.merge(test, store, left_on='Store', right_on='Store')"
   ]
  },
  {
   "cell_type": "code",
   "execution_count": 34,
   "metadata": {},
   "outputs": [
    {
     "data": {
      "text/html": [
       "<div>\n",
       "<style>\n",
       "    .dataframe thead tr:only-child th {\n",
       "        text-align: right;\n",
       "    }\n",
       "\n",
       "    .dataframe thead th {\n",
       "        text-align: left;\n",
       "    }\n",
       "\n",
       "    .dataframe tbody tr th {\n",
       "        vertical-align: top;\n",
       "    }\n",
       "</style>\n",
       "<table border=\"1\" class=\"dataframe\">\n",
       "  <thead>\n",
       "    <tr style=\"text-align: right;\">\n",
       "      <th></th>\n",
       "      <th>Store</th>\n",
       "      <th>DayOfWeek</th>\n",
       "      <th>Date</th>\n",
       "      <th>Sales</th>\n",
       "      <th>Customers</th>\n",
       "      <th>Open</th>\n",
       "      <th>Promo</th>\n",
       "      <th>SchoolHoliday</th>\n",
       "      <th>StateHoliday_0</th>\n",
       "      <th>StateHoliday_a</th>\n",
       "      <th>...</th>\n",
       "      <th>PromoMay</th>\n",
       "      <th>PromoJun</th>\n",
       "      <th>PromoJul</th>\n",
       "      <th>PromoAug</th>\n",
       "      <th>PromoSept</th>\n",
       "      <th>PromoOct</th>\n",
       "      <th>PromoNov</th>\n",
       "      <th>PromoDec</th>\n",
       "      <th>BeginCompetition</th>\n",
       "      <th>BeginPromo2</th>\n",
       "    </tr>\n",
       "  </thead>\n",
       "  <tbody>\n",
       "    <tr>\n",
       "      <th>0</th>\n",
       "      <td>1</td>\n",
       "      <td>5</td>\n",
       "      <td>2015-07-31</td>\n",
       "      <td>5263</td>\n",
       "      <td>555</td>\n",
       "      <td>1</td>\n",
       "      <td>1</td>\n",
       "      <td>1</td>\n",
       "      <td>1</td>\n",
       "      <td>0</td>\n",
       "      <td>...</td>\n",
       "      <td>0</td>\n",
       "      <td>0</td>\n",
       "      <td>0</td>\n",
       "      <td>0</td>\n",
       "      <td>0</td>\n",
       "      <td>0</td>\n",
       "      <td>0</td>\n",
       "      <td>0</td>\n",
       "      <td>2008-01-09</td>\n",
       "      <td>2011-06-12</td>\n",
       "    </tr>\n",
       "    <tr>\n",
       "      <th>1</th>\n",
       "      <td>1</td>\n",
       "      <td>4</td>\n",
       "      <td>2015-07-30</td>\n",
       "      <td>5020</td>\n",
       "      <td>546</td>\n",
       "      <td>1</td>\n",
       "      <td>1</td>\n",
       "      <td>1</td>\n",
       "      <td>1</td>\n",
       "      <td>0</td>\n",
       "      <td>...</td>\n",
       "      <td>0</td>\n",
       "      <td>0</td>\n",
       "      <td>0</td>\n",
       "      <td>0</td>\n",
       "      <td>0</td>\n",
       "      <td>0</td>\n",
       "      <td>0</td>\n",
       "      <td>0</td>\n",
       "      <td>2008-01-09</td>\n",
       "      <td>2011-06-12</td>\n",
       "    </tr>\n",
       "    <tr>\n",
       "      <th>2</th>\n",
       "      <td>1</td>\n",
       "      <td>3</td>\n",
       "      <td>2015-07-29</td>\n",
       "      <td>4782</td>\n",
       "      <td>523</td>\n",
       "      <td>1</td>\n",
       "      <td>1</td>\n",
       "      <td>1</td>\n",
       "      <td>1</td>\n",
       "      <td>0</td>\n",
       "      <td>...</td>\n",
       "      <td>0</td>\n",
       "      <td>0</td>\n",
       "      <td>0</td>\n",
       "      <td>0</td>\n",
       "      <td>0</td>\n",
       "      <td>0</td>\n",
       "      <td>0</td>\n",
       "      <td>0</td>\n",
       "      <td>2008-01-09</td>\n",
       "      <td>2011-06-12</td>\n",
       "    </tr>\n",
       "    <tr>\n",
       "      <th>3</th>\n",
       "      <td>1</td>\n",
       "      <td>2</td>\n",
       "      <td>2015-07-28</td>\n",
       "      <td>5011</td>\n",
       "      <td>560</td>\n",
       "      <td>1</td>\n",
       "      <td>1</td>\n",
       "      <td>1</td>\n",
       "      <td>1</td>\n",
       "      <td>0</td>\n",
       "      <td>...</td>\n",
       "      <td>0</td>\n",
       "      <td>0</td>\n",
       "      <td>0</td>\n",
       "      <td>0</td>\n",
       "      <td>0</td>\n",
       "      <td>0</td>\n",
       "      <td>0</td>\n",
       "      <td>0</td>\n",
       "      <td>2008-01-09</td>\n",
       "      <td>2011-06-12</td>\n",
       "    </tr>\n",
       "    <tr>\n",
       "      <th>4</th>\n",
       "      <td>1</td>\n",
       "      <td>1</td>\n",
       "      <td>2015-07-27</td>\n",
       "      <td>6102</td>\n",
       "      <td>612</td>\n",
       "      <td>1</td>\n",
       "      <td>1</td>\n",
       "      <td>1</td>\n",
       "      <td>1</td>\n",
       "      <td>0</td>\n",
       "      <td>...</td>\n",
       "      <td>0</td>\n",
       "      <td>0</td>\n",
       "      <td>0</td>\n",
       "      <td>0</td>\n",
       "      <td>0</td>\n",
       "      <td>0</td>\n",
       "      <td>0</td>\n",
       "      <td>0</td>\n",
       "      <td>2008-01-09</td>\n",
       "      <td>2011-06-12</td>\n",
       "    </tr>\n",
       "  </tbody>\n",
       "</table>\n",
       "<p>5 rows × 47 columns</p>\n",
       "</div>"
      ],
      "text/plain": [
       "   Store  DayOfWeek       Date  Sales  Customers  Open  Promo  SchoolHoliday  \\\n",
       "0      1          5 2015-07-31   5263        555     1      1              1   \n",
       "1      1          4 2015-07-30   5020        546     1      1              1   \n",
       "2      1          3 2015-07-29   4782        523     1      1              1   \n",
       "3      1          2 2015-07-28   5011        560     1      1              1   \n",
       "4      1          1 2015-07-27   6102        612     1      1              1   \n",
       "\n",
       "   StateHoliday_0  StateHoliday_a     ...       PromoMay  PromoJun  PromoJul  \\\n",
       "0               1               0     ...              0         0         0   \n",
       "1               1               0     ...              0         0         0   \n",
       "2               1               0     ...              0         0         0   \n",
       "3               1               0     ...              0         0         0   \n",
       "4               1               0     ...              0         0         0   \n",
       "\n",
       "   PromoAug  PromoSept  PromoOct  PromoNov  PromoDec  BeginCompetition  \\\n",
       "0         0          0         0         0         0        2008-01-09   \n",
       "1         0          0         0         0         0        2008-01-09   \n",
       "2         0          0         0         0         0        2008-01-09   \n",
       "3         0          0         0         0         0        2008-01-09   \n",
       "4         0          0         0         0         0        2008-01-09   \n",
       "\n",
       "   BeginPromo2  \n",
       "0   2011-06-12  \n",
       "1   2011-06-12  \n",
       "2   2011-06-12  \n",
       "3   2011-06-12  \n",
       "4   2011-06-12  \n",
       "\n",
       "[5 rows x 47 columns]"
      ]
     },
     "execution_count": 34,
     "metadata": {},
     "output_type": "execute_result"
    }
   ],
   "source": [
    "df_train.head()"
   ]
  },
  {
   "cell_type": "code",
   "execution_count": 35,
   "metadata": {
    "scrolled": true
   },
   "outputs": [
    {
     "name": "stdout",
     "output_type": "stream",
     "text": [
      "<class 'pandas.core.frame.DataFrame'>\n",
      "Int64Index: 844392 entries, 0 to 844391\n",
      "Data columns (total 47 columns):\n",
      "Store                        844392 non-null int64\n",
      "DayOfWeek                    844392 non-null int64\n",
      "Date                         844392 non-null datetime64[ns]\n",
      "Sales                        844392 non-null int64\n",
      "Customers                    844392 non-null int64\n",
      "Open                         844392 non-null int64\n",
      "Promo                        844392 non-null int64\n",
      "SchoolHoliday                844392 non-null int64\n",
      "StateHoliday_0               844392 non-null uint8\n",
      "StateHoliday_a               844392 non-null uint8\n",
      "StateHoliday_b               844392 non-null uint8\n",
      "StateHoliday_c               844392 non-null uint8\n",
      "ld                           844392 non-null uint8\n",
      "md                           844392 non-null uint8\n",
      "mc                           844392 non-null uint8\n",
      "jd                           844392 non-null uint8\n",
      "vd                           844392 non-null uint8\n",
      "sd                           844392 non-null uint8\n",
      "dc                           844392 non-null uint8\n",
      "CompetitionDistance          844392 non-null float64\n",
      "CompetitionOpenSinceMonth    844392 non-null float64\n",
      "CompetitionOpenSinceYear     844392 non-null float64\n",
      "Promo2                       844392 non-null int64\n",
      "Promo2SinceWeek              844392 non-null float64\n",
      "Promo2SinceYear              844392 non-null float64\n",
      "PromoInterval                844392 non-null object\n",
      "StoreType_a                  844392 non-null uint8\n",
      "StoreType_b                  844392 non-null uint8\n",
      "StoreType_c                  844392 non-null uint8\n",
      "StoreType_d                  844392 non-null uint8\n",
      "Assortment_a                 844392 non-null uint8\n",
      "Assortment_b                 844392 non-null uint8\n",
      "Assortment_c                 844392 non-null uint8\n",
      "PromoJan                     844392 non-null int64\n",
      "PromoFeb                     844392 non-null int64\n",
      "PromoMar                     844392 non-null int64\n",
      "PromoApr                     844392 non-null int64\n",
      "PromoMay                     844392 non-null int64\n",
      "PromoJun                     844392 non-null int64\n",
      "PromoJul                     844392 non-null int64\n",
      "PromoAug                     844392 non-null int64\n",
      "PromoSept                    844392 non-null int64\n",
      "PromoOct                     844392 non-null int64\n",
      "PromoNov                     844392 non-null int64\n",
      "PromoDec                     844392 non-null int64\n",
      "BeginCompetition             844392 non-null datetime64[ns]\n",
      "BeginPromo2                  844392 non-null datetime64[ns]\n",
      "dtypes: datetime64[ns](3), float64(5), int64(20), object(1), uint8(18)\n",
      "memory usage: 207.8+ MB\n"
     ]
    }
   ],
   "source": [
    "df_train.info()"
   ]
  },
  {
   "cell_type": "markdown",
   "metadata": {},
   "source": [
    "In this part, we will create  features which might be helpful to improve the model."
   ]
  },
  {
   "cell_type": "code",
   "execution_count": 36,
   "metadata": {
    "collapsed": true
   },
   "outputs": [],
   "source": [
    "#This function returns 1 if there is a promo2 \"today\" 1 otherwise  \n",
    "def create_promo2(promo, curr_date,begin_date, interval ):\n",
    "    list_mois = ['Jan','Feb','Mar', 'Apr','May','Jun', 'Jul', 'Aug', 'Sept', 'Oct','Nov','Dec']\n",
    "    if promo  and (curr_date > begin_date) and (list_mois[curr_date.month -1 ] in interval.split(',')):\n",
    "        return 1 \n",
    "    else:\n",
    "        return 0 "
   ]
  },
  {
   "cell_type": "code",
   "execution_count": 37,
   "metadata": {
    "collapsed": true
   },
   "outputs": [],
   "source": [
    "# Creates all the features we might need to train ours models\n",
    "def generator (df) :\n",
    "    #Time since opoosition began\n",
    "    df['duree_concurence']= (df['Date'] - pd.to_datetime(df['BeginCompetition'])).dt.days\n",
    "    #1 if there is a promo2 today, 0 otherwise \n",
    "    df['promo2_today'] =df.apply( lambda x : create_promo2(x['Promo2'],x['Date'], x['BeginPromo2'] , x['PromoInterval']),axis = 1 )\n",
    "    df['year']=df['Date'].apply(lambda x: x.year)\n",
    "    df['month']=df['Date'].apply(lambda x: x.month)\n",
    "    df['day']=df['Date'].apply(lambda x: x.day)\n",
    "    df['dayofyear']=df['Date'].apply(lambda x: x.dayofyear)\n",
    "    df['weekofyear']=df['Date'].apply(lambda x: x.weekofyear)\n",
    "    df['dayofweek']=df['Date'].apply(lambda x: x.dayofweek)\n",
    "    df['quarter']=df['Date'].apply(lambda x: x.quarter)\n",
    "    \n",
    "    #The length of time promo2 has been ongoing in a given store\n",
    "    df['duree_promo2'] = (df['Date'] - df['BeginPromo2']).dt.days\n",
    "\n",
    "    return (df)\n"
   ]
  },
  {
   "cell_type": "markdown",
   "metadata": {},
   "source": [
    "We now have the datasets for training and testing with all the features we created above. The following dataframes are used as lake of features where we have all the features we thought about. We well then select some features in the following validation strategy part."
   ]
  },
  {
   "cell_type": "code",
   "execution_count": 38,
   "metadata": {
    "collapsed": true
   },
   "outputs": [],
   "source": [
    "df_train = generator(df_train) # \"Lake\" of data for Training\n",
    "df_test = generator(df_test) # \"Lake\" of data for test to submit on Kaggle"
   ]
  },
  {
   "cell_type": "code",
   "execution_count": 39,
   "metadata": {},
   "outputs": [
    {
     "data": {
      "text/html": [
       "<div>\n",
       "<style>\n",
       "    .dataframe thead tr:only-child th {\n",
       "        text-align: right;\n",
       "    }\n",
       "\n",
       "    .dataframe thead th {\n",
       "        text-align: left;\n",
       "    }\n",
       "\n",
       "    .dataframe tbody tr th {\n",
       "        vertical-align: top;\n",
       "    }\n",
       "</style>\n",
       "<table border=\"1\" class=\"dataframe\">\n",
       "  <thead>\n",
       "    <tr style=\"text-align: right;\">\n",
       "      <th></th>\n",
       "      <th>Store</th>\n",
       "      <th>DayOfWeek</th>\n",
       "      <th>Date</th>\n",
       "      <th>Sales</th>\n",
       "      <th>Customers</th>\n",
       "      <th>Open</th>\n",
       "      <th>Promo</th>\n",
       "      <th>SchoolHoliday</th>\n",
       "      <th>StateHoliday_0</th>\n",
       "      <th>StateHoliday_a</th>\n",
       "      <th>...</th>\n",
       "      <th>duree_concurence</th>\n",
       "      <th>promo2_today</th>\n",
       "      <th>year</th>\n",
       "      <th>month</th>\n",
       "      <th>day</th>\n",
       "      <th>dayofyear</th>\n",
       "      <th>weekofyear</th>\n",
       "      <th>dayofweek</th>\n",
       "      <th>quarter</th>\n",
       "      <th>duree_promo2</th>\n",
       "    </tr>\n",
       "  </thead>\n",
       "  <tbody>\n",
       "    <tr>\n",
       "      <th>0</th>\n",
       "      <td>1</td>\n",
       "      <td>5</td>\n",
       "      <td>2015-07-31</td>\n",
       "      <td>5263</td>\n",
       "      <td>555</td>\n",
       "      <td>1</td>\n",
       "      <td>1</td>\n",
       "      <td>1</td>\n",
       "      <td>1</td>\n",
       "      <td>0</td>\n",
       "      <td>...</td>\n",
       "      <td>2760</td>\n",
       "      <td>0</td>\n",
       "      <td>2015</td>\n",
       "      <td>7</td>\n",
       "      <td>31</td>\n",
       "      <td>212</td>\n",
       "      <td>31</td>\n",
       "      <td>4</td>\n",
       "      <td>3</td>\n",
       "      <td>1510</td>\n",
       "    </tr>\n",
       "    <tr>\n",
       "      <th>1</th>\n",
       "      <td>1</td>\n",
       "      <td>4</td>\n",
       "      <td>2015-07-30</td>\n",
       "      <td>5020</td>\n",
       "      <td>546</td>\n",
       "      <td>1</td>\n",
       "      <td>1</td>\n",
       "      <td>1</td>\n",
       "      <td>1</td>\n",
       "      <td>0</td>\n",
       "      <td>...</td>\n",
       "      <td>2759</td>\n",
       "      <td>0</td>\n",
       "      <td>2015</td>\n",
       "      <td>7</td>\n",
       "      <td>30</td>\n",
       "      <td>211</td>\n",
       "      <td>31</td>\n",
       "      <td>3</td>\n",
       "      <td>3</td>\n",
       "      <td>1509</td>\n",
       "    </tr>\n",
       "    <tr>\n",
       "      <th>2</th>\n",
       "      <td>1</td>\n",
       "      <td>3</td>\n",
       "      <td>2015-07-29</td>\n",
       "      <td>4782</td>\n",
       "      <td>523</td>\n",
       "      <td>1</td>\n",
       "      <td>1</td>\n",
       "      <td>1</td>\n",
       "      <td>1</td>\n",
       "      <td>0</td>\n",
       "      <td>...</td>\n",
       "      <td>2758</td>\n",
       "      <td>0</td>\n",
       "      <td>2015</td>\n",
       "      <td>7</td>\n",
       "      <td>29</td>\n",
       "      <td>210</td>\n",
       "      <td>31</td>\n",
       "      <td>2</td>\n",
       "      <td>3</td>\n",
       "      <td>1508</td>\n",
       "    </tr>\n",
       "    <tr>\n",
       "      <th>3</th>\n",
       "      <td>1</td>\n",
       "      <td>2</td>\n",
       "      <td>2015-07-28</td>\n",
       "      <td>5011</td>\n",
       "      <td>560</td>\n",
       "      <td>1</td>\n",
       "      <td>1</td>\n",
       "      <td>1</td>\n",
       "      <td>1</td>\n",
       "      <td>0</td>\n",
       "      <td>...</td>\n",
       "      <td>2757</td>\n",
       "      <td>0</td>\n",
       "      <td>2015</td>\n",
       "      <td>7</td>\n",
       "      <td>28</td>\n",
       "      <td>209</td>\n",
       "      <td>31</td>\n",
       "      <td>1</td>\n",
       "      <td>3</td>\n",
       "      <td>1507</td>\n",
       "    </tr>\n",
       "    <tr>\n",
       "      <th>4</th>\n",
       "      <td>1</td>\n",
       "      <td>1</td>\n",
       "      <td>2015-07-27</td>\n",
       "      <td>6102</td>\n",
       "      <td>612</td>\n",
       "      <td>1</td>\n",
       "      <td>1</td>\n",
       "      <td>1</td>\n",
       "      <td>1</td>\n",
       "      <td>0</td>\n",
       "      <td>...</td>\n",
       "      <td>2756</td>\n",
       "      <td>0</td>\n",
       "      <td>2015</td>\n",
       "      <td>7</td>\n",
       "      <td>27</td>\n",
       "      <td>208</td>\n",
       "      <td>31</td>\n",
       "      <td>0</td>\n",
       "      <td>3</td>\n",
       "      <td>1506</td>\n",
       "    </tr>\n",
       "  </tbody>\n",
       "</table>\n",
       "<p>5 rows × 57 columns</p>\n",
       "</div>"
      ],
      "text/plain": [
       "   Store  DayOfWeek       Date  Sales  Customers  Open  Promo  SchoolHoliday  \\\n",
       "0      1          5 2015-07-31   5263        555     1      1              1   \n",
       "1      1          4 2015-07-30   5020        546     1      1              1   \n",
       "2      1          3 2015-07-29   4782        523     1      1              1   \n",
       "3      1          2 2015-07-28   5011        560     1      1              1   \n",
       "4      1          1 2015-07-27   6102        612     1      1              1   \n",
       "\n",
       "   StateHoliday_0  StateHoliday_a      ...       duree_concurence  \\\n",
       "0               1               0      ...                   2760   \n",
       "1               1               0      ...                   2759   \n",
       "2               1               0      ...                   2758   \n",
       "3               1               0      ...                   2757   \n",
       "4               1               0      ...                   2756   \n",
       "\n",
       "   promo2_today  year  month  day  dayofyear  weekofyear  dayofweek  quarter  \\\n",
       "0             0  2015      7   31        212          31          4        3   \n",
       "1             0  2015      7   30        211          31          3        3   \n",
       "2             0  2015      7   29        210          31          2        3   \n",
       "3             0  2015      7   28        209          31          1        3   \n",
       "4             0  2015      7   27        208          31          0        3   \n",
       "\n",
       "   duree_promo2  \n",
       "0          1510  \n",
       "1          1509  \n",
       "2          1508  \n",
       "3          1507  \n",
       "4          1506  \n",
       "\n",
       "[5 rows x 57 columns]"
      ]
     },
     "execution_count": 39,
     "metadata": {},
     "output_type": "execute_result"
    }
   ],
   "source": [
    "df_train.head()"
   ]
  },
  {
   "cell_type": "code",
   "execution_count": 40,
   "metadata": {
    "scrolled": true
   },
   "outputs": [
    {
     "data": {
      "text/html": [
       "<div>\n",
       "<style>\n",
       "    .dataframe thead tr:only-child th {\n",
       "        text-align: right;\n",
       "    }\n",
       "\n",
       "    .dataframe thead th {\n",
       "        text-align: left;\n",
       "    }\n",
       "\n",
       "    .dataframe tbody tr th {\n",
       "        vertical-align: top;\n",
       "    }\n",
       "</style>\n",
       "<table border=\"1\" class=\"dataframe\">\n",
       "  <thead>\n",
       "    <tr style=\"text-align: right;\">\n",
       "      <th></th>\n",
       "      <th>Id</th>\n",
       "      <th>Store</th>\n",
       "      <th>DayOfWeek</th>\n",
       "      <th>Date</th>\n",
       "      <th>Open</th>\n",
       "      <th>Promo</th>\n",
       "      <th>SchoolHoliday</th>\n",
       "      <th>StateHoliday_0</th>\n",
       "      <th>StateHoliday_a</th>\n",
       "      <th>ld</th>\n",
       "      <th>...</th>\n",
       "      <th>duree_concurence</th>\n",
       "      <th>promo2_today</th>\n",
       "      <th>year</th>\n",
       "      <th>month</th>\n",
       "      <th>day</th>\n",
       "      <th>dayofyear</th>\n",
       "      <th>weekofyear</th>\n",
       "      <th>dayofweek</th>\n",
       "      <th>quarter</th>\n",
       "      <th>duree_promo2</th>\n",
       "    </tr>\n",
       "  </thead>\n",
       "  <tbody>\n",
       "    <tr>\n",
       "      <th>0</th>\n",
       "      <td>1</td>\n",
       "      <td>1</td>\n",
       "      <td>4</td>\n",
       "      <td>2015-09-17</td>\n",
       "      <td>1.0</td>\n",
       "      <td>1</td>\n",
       "      <td>0</td>\n",
       "      <td>1</td>\n",
       "      <td>0</td>\n",
       "      <td>0</td>\n",
       "      <td>...</td>\n",
       "      <td>2808</td>\n",
       "      <td>0</td>\n",
       "      <td>2015</td>\n",
       "      <td>9</td>\n",
       "      <td>17</td>\n",
       "      <td>260</td>\n",
       "      <td>38</td>\n",
       "      <td>3</td>\n",
       "      <td>3</td>\n",
       "      <td>1558</td>\n",
       "    </tr>\n",
       "    <tr>\n",
       "      <th>1</th>\n",
       "      <td>857</td>\n",
       "      <td>1</td>\n",
       "      <td>3</td>\n",
       "      <td>2015-09-16</td>\n",
       "      <td>1.0</td>\n",
       "      <td>1</td>\n",
       "      <td>0</td>\n",
       "      <td>1</td>\n",
       "      <td>0</td>\n",
       "      <td>0</td>\n",
       "      <td>...</td>\n",
       "      <td>2807</td>\n",
       "      <td>0</td>\n",
       "      <td>2015</td>\n",
       "      <td>9</td>\n",
       "      <td>16</td>\n",
       "      <td>259</td>\n",
       "      <td>38</td>\n",
       "      <td>2</td>\n",
       "      <td>3</td>\n",
       "      <td>1557</td>\n",
       "    </tr>\n",
       "    <tr>\n",
       "      <th>2</th>\n",
       "      <td>1713</td>\n",
       "      <td>1</td>\n",
       "      <td>2</td>\n",
       "      <td>2015-09-15</td>\n",
       "      <td>1.0</td>\n",
       "      <td>1</td>\n",
       "      <td>0</td>\n",
       "      <td>1</td>\n",
       "      <td>0</td>\n",
       "      <td>0</td>\n",
       "      <td>...</td>\n",
       "      <td>2806</td>\n",
       "      <td>0</td>\n",
       "      <td>2015</td>\n",
       "      <td>9</td>\n",
       "      <td>15</td>\n",
       "      <td>258</td>\n",
       "      <td>38</td>\n",
       "      <td>1</td>\n",
       "      <td>3</td>\n",
       "      <td>1556</td>\n",
       "    </tr>\n",
       "    <tr>\n",
       "      <th>3</th>\n",
       "      <td>2569</td>\n",
       "      <td>1</td>\n",
       "      <td>1</td>\n",
       "      <td>2015-09-14</td>\n",
       "      <td>1.0</td>\n",
       "      <td>1</td>\n",
       "      <td>0</td>\n",
       "      <td>1</td>\n",
       "      <td>0</td>\n",
       "      <td>1</td>\n",
       "      <td>...</td>\n",
       "      <td>2805</td>\n",
       "      <td>0</td>\n",
       "      <td>2015</td>\n",
       "      <td>9</td>\n",
       "      <td>14</td>\n",
       "      <td>257</td>\n",
       "      <td>38</td>\n",
       "      <td>0</td>\n",
       "      <td>3</td>\n",
       "      <td>1555</td>\n",
       "    </tr>\n",
       "    <tr>\n",
       "      <th>4</th>\n",
       "      <td>3425</td>\n",
       "      <td>1</td>\n",
       "      <td>7</td>\n",
       "      <td>2015-09-13</td>\n",
       "      <td>0.0</td>\n",
       "      <td>0</td>\n",
       "      <td>0</td>\n",
       "      <td>1</td>\n",
       "      <td>0</td>\n",
       "      <td>0</td>\n",
       "      <td>...</td>\n",
       "      <td>2804</td>\n",
       "      <td>0</td>\n",
       "      <td>2015</td>\n",
       "      <td>9</td>\n",
       "      <td>13</td>\n",
       "      <td>256</td>\n",
       "      <td>37</td>\n",
       "      <td>6</td>\n",
       "      <td>3</td>\n",
       "      <td>1554</td>\n",
       "    </tr>\n",
       "  </tbody>\n",
       "</table>\n",
       "<p>5 rows × 54 columns</p>\n",
       "</div>"
      ],
      "text/plain": [
       "     Id  Store  DayOfWeek       Date  Open  Promo  SchoolHoliday  \\\n",
       "0     1      1          4 2015-09-17   1.0      1              0   \n",
       "1   857      1          3 2015-09-16   1.0      1              0   \n",
       "2  1713      1          2 2015-09-15   1.0      1              0   \n",
       "3  2569      1          1 2015-09-14   1.0      1              0   \n",
       "4  3425      1          7 2015-09-13   0.0      0              0   \n",
       "\n",
       "   StateHoliday_0  StateHoliday_a  ld      ...       duree_concurence  \\\n",
       "0               1               0   0      ...                   2808   \n",
       "1               1               0   0      ...                   2807   \n",
       "2               1               0   0      ...                   2806   \n",
       "3               1               0   1      ...                   2805   \n",
       "4               1               0   0      ...                   2804   \n",
       "\n",
       "   promo2_today  year  month  day  dayofyear  weekofyear  dayofweek  quarter  \\\n",
       "0             0  2015      9   17        260          38          3        3   \n",
       "1             0  2015      9   16        259          38          2        3   \n",
       "2             0  2015      9   15        258          38          1        3   \n",
       "3             0  2015      9   14        257          38          0        3   \n",
       "4             0  2015      9   13        256          37          6        3   \n",
       "\n",
       "   duree_promo2  \n",
       "0          1558  \n",
       "1          1557  \n",
       "2          1556  \n",
       "3          1555  \n",
       "4          1554  \n",
       "\n",
       "[5 rows x 54 columns]"
      ]
     },
     "execution_count": 40,
     "metadata": {},
     "output_type": "execute_result"
    }
   ],
   "source": [
    "df_test.head()"
   ]
  },
  {
   "cell_type": "markdown",
   "metadata": {},
   "source": [
    "## Score"
   ]
  },
  {
   "cell_type": "markdown",
   "metadata": {},
   "source": [
    "We will establish a scoring metric to evaluate the quality of our model. The metric used will be the same the one used on Kaggle which is the rmspe. This allows us to compution the percentage of error we make on average "
   ]
  },
  {
   "cell_type": "code",
   "execution_count": 41,
   "metadata": {
    "collapsed": true
   },
   "outputs": [],
   "source": [
    "def rmspe(yhat, y):  \n",
    "    sum_ = 0\n",
    "    for i in range(len(y)):\n",
    "        if(y[i] != 0):\n",
    "            sum_ += ((y[i] - yhat[i]) / y[i]) ** 2   \n",
    "    rmspe = np.sqrt(sum_ / len(y))\n",
    "        \n",
    "    return rmspe\n",
    "\n",
    "# adapted metric for xgboost\n",
    "def rmspe_xg(yhat, y):\n",
    "    return \"rmspe\", rmspe(yhat, y.get_label())"
   ]
  },
  {
   "cell_type": "markdown",
   "metadata": {},
   "source": [
    "# Naive Approach"
   ]
  },
  {
   "cell_type": "markdown",
   "metadata": {},
   "source": [
    "We try in this part what we call a naive approach. The idea behind this approach is that the board will probably ask the sales team to do as well as the previous years or better. This should make the actual sales oscillate around a certain value that we estimate by the mean.\n",
    "Thus, to predict the sale for a given date, we look at what the store sold the previous years for the same date and we take the mean. "
   ]
  },
  {
   "cell_type": "code",
   "execution_count": 42,
   "metadata": {
    "collapsed": true
   },
   "outputs": [],
   "source": [
    "class Naive:\n",
    "    \n",
    "    def same_day(self,day1,day2):\n",
    "        \"\"\"Return true if day1 and day 2 are the same day juste different year\"\"\"\n",
    "        return (day1.day == day2.day) and (day1.month ==day2.month)\n",
    "    \n",
    "    def train(self,data,target):\n",
    "        \"\"\"Trains the model\"\"\"\n",
    "        #Compute the mean aggregate by Days\n",
    "        X = pd.concat([data['Date'].copy() , target.copy()],axis=1)\n",
    "        X['Date'] =  pd.to_datetime(X['Date'])\n",
    "        X['Date'] = X['Date'].apply(lambda x : (x.day,x.month))\n",
    "        self.aggregate = X.groupby(['Date']).mean().reset_index()\n",
    "\n",
    "    def predict(self,X): \n",
    "        \"\"\"Predicts sales\"\"\"\n",
    "        X = X.copy()\n",
    "        X['Date'] =  pd.to_datetime(X['Date'])\n",
    "        X['Date'] = X['Date'].apply(lambda x : (x.day,x.month))\n",
    "        # Merge with the aggregate\n",
    "        pred = pd.merge(pd.DataFrame(X['Date']), self.aggregate, left_on='Date', right_on='Date')\n",
    "        return np.array(pred['Sales'])"
   ]
  },
  {
   "cell_type": "code",
   "execution_count": 43,
   "metadata": {
    "scrolled": true
   },
   "outputs": [
    {
     "name": "stdout",
     "output_type": "stream",
     "text": [
      "Error on training set  0.683739371352\n"
     ]
    }
   ],
   "source": [
    "naive_model = Naive()\n",
    "naive_model.train(df_train,df_train['Sales'])\n",
    "\n",
    "y_train_pred = naive_model.predict(df_train)\n",
    "\n",
    "print('Error on training set ', rmspe(y_train_pred, df_train['Sales'].values))"
   ]
  },
  {
   "cell_type": "code",
   "execution_count": 44,
   "metadata": {
    "collapsed": true
   },
   "outputs": [],
   "source": [
    "#Evaluate it on the kaggle dataset\n",
    "prediction = naive_model.predict(df_test)\n",
    "indic = df_test['Id']\n",
    "res = pd.DataFrame(indic)\n",
    "res['Sales'] = prediction\n",
    "res.to_csv('data/submission_naive.csv', index = False)"
   ]
  },
  {
   "cell_type": "markdown",
   "metadata": {},
   "source": [
    "The Naive approach gives a rmspe score of 0.54591 on Kaggle "
   ]
  },
  {
   "cell_type": "markdown",
   "metadata": {},
   "source": [
    "# Standard Approach"
   ]
  },
  {
   "cell_type": "markdown",
   "metadata": {},
   "source": [
    "## Feature Engineering"
   ]
  },
  {
   "cell_type": "markdown",
   "metadata": {},
   "source": [
    "In this part, we will create  features which might be helpful to improve the model."
   ]
  },
  {
   "cell_type": "code",
   "execution_count": 45,
   "metadata": {
    "collapsed": true
   },
   "outputs": [],
   "source": [
    "#This function returns 1 if there is a promo2 \"today\" 1 otherwise  \n",
    "def create_promo2(promo, curr_date,begin_date, interval ):\n",
    "    list_mois = ['Jan','Feb','Mar', 'Apr','May','Jun', 'Jul', 'Aug', 'Sept', 'Oct','Nov','Dec']\n",
    "    if promo  and (curr_date > begin_date) and (list_mois[curr_date.month -1 ] in interval.split(',')):\n",
    "        return 1 \n",
    "    else:\n",
    "        return 0 "
   ]
  },
  {
   "cell_type": "code",
   "execution_count": 46,
   "metadata": {
    "collapsed": true
   },
   "outputs": [],
   "source": [
    "# Creates all the features we might need to train ours models\n",
    "def generator (df) :\n",
    "    #Time since opoosition began\n",
    "    df['duree_concurence']= (df['Date'] - pd.to_datetime(df['BeginCompetition'])).dt.days\n",
    "    #1 if there is a promo2 today, 0 otherwise \n",
    "    df['promo2_today'] =df.apply( lambda x : create_promo2(x['Promo2'],x['Date'], x['BeginPromo2'] , x['PromoInterval']),axis = 1 )\n",
    "    df['year']=df['Date'].apply(lambda x: x.year)\n",
    "    df['month']=df['Date'].apply(lambda x: x.month)\n",
    "    df['day']=df['Date'].apply(lambda x: x.day)\n",
    "    df['dayofyear']=df['Date'].apply(lambda x: x.dayofyear)\n",
    "    df['weekofyear']=df['Date'].apply(lambda x: x.weekofyear)\n",
    "    df['dayofweek']=df['Date'].apply(lambda x: x.dayofweek)\n",
    "    df['quarter']=df['Date'].apply(lambda x: x.quarter)\n",
    "    \n",
    "    #The length of time promo2 has been ongoing in a given store\n",
    "    df['duree_promo2'] = (df['Date'] - df['BeginPromo2']).dt.days\n",
    "\n",
    "    return (df)\n"
   ]
  },
  {
   "cell_type": "markdown",
   "metadata": {},
   "source": [
    "We now have the datasets for training and testing with all the features we created above. The following dataframes are used as lake of features where we have all the features we thought about. We well then select some features in the following validation strategy part."
   ]
  },
  {
   "cell_type": "code",
   "execution_count": 47,
   "metadata": {
    "collapsed": true
   },
   "outputs": [],
   "source": [
    "df_train = generator(df_train) # \"Lake\" of data for Training\n",
    "df_test = generator(df_test) # \"Lake\" of data for test to submit on Kaggle"
   ]
  },
  {
   "cell_type": "code",
   "execution_count": 48,
   "metadata": {},
   "outputs": [
    {
     "data": {
      "text/html": [
       "<div>\n",
       "<style>\n",
       "    .dataframe thead tr:only-child th {\n",
       "        text-align: right;\n",
       "    }\n",
       "\n",
       "    .dataframe thead th {\n",
       "        text-align: left;\n",
       "    }\n",
       "\n",
       "    .dataframe tbody tr th {\n",
       "        vertical-align: top;\n",
       "    }\n",
       "</style>\n",
       "<table border=\"1\" class=\"dataframe\">\n",
       "  <thead>\n",
       "    <tr style=\"text-align: right;\">\n",
       "      <th></th>\n",
       "      <th>Store</th>\n",
       "      <th>DayOfWeek</th>\n",
       "      <th>Date</th>\n",
       "      <th>Sales</th>\n",
       "      <th>Customers</th>\n",
       "      <th>Open</th>\n",
       "      <th>Promo</th>\n",
       "      <th>SchoolHoliday</th>\n",
       "      <th>StateHoliday_0</th>\n",
       "      <th>StateHoliday_a</th>\n",
       "      <th>...</th>\n",
       "      <th>duree_concurence</th>\n",
       "      <th>promo2_today</th>\n",
       "      <th>year</th>\n",
       "      <th>month</th>\n",
       "      <th>day</th>\n",
       "      <th>dayofyear</th>\n",
       "      <th>weekofyear</th>\n",
       "      <th>dayofweek</th>\n",
       "      <th>quarter</th>\n",
       "      <th>duree_promo2</th>\n",
       "    </tr>\n",
       "  </thead>\n",
       "  <tbody>\n",
       "    <tr>\n",
       "      <th>0</th>\n",
       "      <td>1</td>\n",
       "      <td>5</td>\n",
       "      <td>2015-07-31</td>\n",
       "      <td>5263</td>\n",
       "      <td>555</td>\n",
       "      <td>1</td>\n",
       "      <td>1</td>\n",
       "      <td>1</td>\n",
       "      <td>1</td>\n",
       "      <td>0</td>\n",
       "      <td>...</td>\n",
       "      <td>2760</td>\n",
       "      <td>0</td>\n",
       "      <td>2015</td>\n",
       "      <td>7</td>\n",
       "      <td>31</td>\n",
       "      <td>212</td>\n",
       "      <td>31</td>\n",
       "      <td>4</td>\n",
       "      <td>3</td>\n",
       "      <td>1510</td>\n",
       "    </tr>\n",
       "    <tr>\n",
       "      <th>1</th>\n",
       "      <td>1</td>\n",
       "      <td>4</td>\n",
       "      <td>2015-07-30</td>\n",
       "      <td>5020</td>\n",
       "      <td>546</td>\n",
       "      <td>1</td>\n",
       "      <td>1</td>\n",
       "      <td>1</td>\n",
       "      <td>1</td>\n",
       "      <td>0</td>\n",
       "      <td>...</td>\n",
       "      <td>2759</td>\n",
       "      <td>0</td>\n",
       "      <td>2015</td>\n",
       "      <td>7</td>\n",
       "      <td>30</td>\n",
       "      <td>211</td>\n",
       "      <td>31</td>\n",
       "      <td>3</td>\n",
       "      <td>3</td>\n",
       "      <td>1509</td>\n",
       "    </tr>\n",
       "    <tr>\n",
       "      <th>2</th>\n",
       "      <td>1</td>\n",
       "      <td>3</td>\n",
       "      <td>2015-07-29</td>\n",
       "      <td>4782</td>\n",
       "      <td>523</td>\n",
       "      <td>1</td>\n",
       "      <td>1</td>\n",
       "      <td>1</td>\n",
       "      <td>1</td>\n",
       "      <td>0</td>\n",
       "      <td>...</td>\n",
       "      <td>2758</td>\n",
       "      <td>0</td>\n",
       "      <td>2015</td>\n",
       "      <td>7</td>\n",
       "      <td>29</td>\n",
       "      <td>210</td>\n",
       "      <td>31</td>\n",
       "      <td>2</td>\n",
       "      <td>3</td>\n",
       "      <td>1508</td>\n",
       "    </tr>\n",
       "    <tr>\n",
       "      <th>3</th>\n",
       "      <td>1</td>\n",
       "      <td>2</td>\n",
       "      <td>2015-07-28</td>\n",
       "      <td>5011</td>\n",
       "      <td>560</td>\n",
       "      <td>1</td>\n",
       "      <td>1</td>\n",
       "      <td>1</td>\n",
       "      <td>1</td>\n",
       "      <td>0</td>\n",
       "      <td>...</td>\n",
       "      <td>2757</td>\n",
       "      <td>0</td>\n",
       "      <td>2015</td>\n",
       "      <td>7</td>\n",
       "      <td>28</td>\n",
       "      <td>209</td>\n",
       "      <td>31</td>\n",
       "      <td>1</td>\n",
       "      <td>3</td>\n",
       "      <td>1507</td>\n",
       "    </tr>\n",
       "    <tr>\n",
       "      <th>4</th>\n",
       "      <td>1</td>\n",
       "      <td>1</td>\n",
       "      <td>2015-07-27</td>\n",
       "      <td>6102</td>\n",
       "      <td>612</td>\n",
       "      <td>1</td>\n",
       "      <td>1</td>\n",
       "      <td>1</td>\n",
       "      <td>1</td>\n",
       "      <td>0</td>\n",
       "      <td>...</td>\n",
       "      <td>2756</td>\n",
       "      <td>0</td>\n",
       "      <td>2015</td>\n",
       "      <td>7</td>\n",
       "      <td>27</td>\n",
       "      <td>208</td>\n",
       "      <td>31</td>\n",
       "      <td>0</td>\n",
       "      <td>3</td>\n",
       "      <td>1506</td>\n",
       "    </tr>\n",
       "  </tbody>\n",
       "</table>\n",
       "<p>5 rows × 57 columns</p>\n",
       "</div>"
      ],
      "text/plain": [
       "   Store  DayOfWeek       Date  Sales  Customers  Open  Promo  SchoolHoliday  \\\n",
       "0      1          5 2015-07-31   5263        555     1      1              1   \n",
       "1      1          4 2015-07-30   5020        546     1      1              1   \n",
       "2      1          3 2015-07-29   4782        523     1      1              1   \n",
       "3      1          2 2015-07-28   5011        560     1      1              1   \n",
       "4      1          1 2015-07-27   6102        612     1      1              1   \n",
       "\n",
       "   StateHoliday_0  StateHoliday_a      ...       duree_concurence  \\\n",
       "0               1               0      ...                   2760   \n",
       "1               1               0      ...                   2759   \n",
       "2               1               0      ...                   2758   \n",
       "3               1               0      ...                   2757   \n",
       "4               1               0      ...                   2756   \n",
       "\n",
       "   promo2_today  year  month  day  dayofyear  weekofyear  dayofweek  quarter  \\\n",
       "0             0  2015      7   31        212          31          4        3   \n",
       "1             0  2015      7   30        211          31          3        3   \n",
       "2             0  2015      7   29        210          31          2        3   \n",
       "3             0  2015      7   28        209          31          1        3   \n",
       "4             0  2015      7   27        208          31          0        3   \n",
       "\n",
       "   duree_promo2  \n",
       "0          1510  \n",
       "1          1509  \n",
       "2          1508  \n",
       "3          1507  \n",
       "4          1506  \n",
       "\n",
       "[5 rows x 57 columns]"
      ]
     },
     "execution_count": 48,
     "metadata": {},
     "output_type": "execute_result"
    }
   ],
   "source": [
    "df_train.head()"
   ]
  },
  {
   "cell_type": "code",
   "execution_count": 49,
   "metadata": {},
   "outputs": [
    {
     "data": {
      "text/html": [
       "<div>\n",
       "<style>\n",
       "    .dataframe thead tr:only-child th {\n",
       "        text-align: right;\n",
       "    }\n",
       "\n",
       "    .dataframe thead th {\n",
       "        text-align: left;\n",
       "    }\n",
       "\n",
       "    .dataframe tbody tr th {\n",
       "        vertical-align: top;\n",
       "    }\n",
       "</style>\n",
       "<table border=\"1\" class=\"dataframe\">\n",
       "  <thead>\n",
       "    <tr style=\"text-align: right;\">\n",
       "      <th></th>\n",
       "      <th>Id</th>\n",
       "      <th>Store</th>\n",
       "      <th>DayOfWeek</th>\n",
       "      <th>Date</th>\n",
       "      <th>Open</th>\n",
       "      <th>Promo</th>\n",
       "      <th>SchoolHoliday</th>\n",
       "      <th>StateHoliday_0</th>\n",
       "      <th>StateHoliday_a</th>\n",
       "      <th>ld</th>\n",
       "      <th>...</th>\n",
       "      <th>duree_concurence</th>\n",
       "      <th>promo2_today</th>\n",
       "      <th>year</th>\n",
       "      <th>month</th>\n",
       "      <th>day</th>\n",
       "      <th>dayofyear</th>\n",
       "      <th>weekofyear</th>\n",
       "      <th>dayofweek</th>\n",
       "      <th>quarter</th>\n",
       "      <th>duree_promo2</th>\n",
       "    </tr>\n",
       "  </thead>\n",
       "  <tbody>\n",
       "    <tr>\n",
       "      <th>0</th>\n",
       "      <td>1</td>\n",
       "      <td>1</td>\n",
       "      <td>4</td>\n",
       "      <td>2015-09-17</td>\n",
       "      <td>1.0</td>\n",
       "      <td>1</td>\n",
       "      <td>0</td>\n",
       "      <td>1</td>\n",
       "      <td>0</td>\n",
       "      <td>0</td>\n",
       "      <td>...</td>\n",
       "      <td>2808</td>\n",
       "      <td>0</td>\n",
       "      <td>2015</td>\n",
       "      <td>9</td>\n",
       "      <td>17</td>\n",
       "      <td>260</td>\n",
       "      <td>38</td>\n",
       "      <td>3</td>\n",
       "      <td>3</td>\n",
       "      <td>1558</td>\n",
       "    </tr>\n",
       "    <tr>\n",
       "      <th>1</th>\n",
       "      <td>857</td>\n",
       "      <td>1</td>\n",
       "      <td>3</td>\n",
       "      <td>2015-09-16</td>\n",
       "      <td>1.0</td>\n",
       "      <td>1</td>\n",
       "      <td>0</td>\n",
       "      <td>1</td>\n",
       "      <td>0</td>\n",
       "      <td>0</td>\n",
       "      <td>...</td>\n",
       "      <td>2807</td>\n",
       "      <td>0</td>\n",
       "      <td>2015</td>\n",
       "      <td>9</td>\n",
       "      <td>16</td>\n",
       "      <td>259</td>\n",
       "      <td>38</td>\n",
       "      <td>2</td>\n",
       "      <td>3</td>\n",
       "      <td>1557</td>\n",
       "    </tr>\n",
       "    <tr>\n",
       "      <th>2</th>\n",
       "      <td>1713</td>\n",
       "      <td>1</td>\n",
       "      <td>2</td>\n",
       "      <td>2015-09-15</td>\n",
       "      <td>1.0</td>\n",
       "      <td>1</td>\n",
       "      <td>0</td>\n",
       "      <td>1</td>\n",
       "      <td>0</td>\n",
       "      <td>0</td>\n",
       "      <td>...</td>\n",
       "      <td>2806</td>\n",
       "      <td>0</td>\n",
       "      <td>2015</td>\n",
       "      <td>9</td>\n",
       "      <td>15</td>\n",
       "      <td>258</td>\n",
       "      <td>38</td>\n",
       "      <td>1</td>\n",
       "      <td>3</td>\n",
       "      <td>1556</td>\n",
       "    </tr>\n",
       "    <tr>\n",
       "      <th>3</th>\n",
       "      <td>2569</td>\n",
       "      <td>1</td>\n",
       "      <td>1</td>\n",
       "      <td>2015-09-14</td>\n",
       "      <td>1.0</td>\n",
       "      <td>1</td>\n",
       "      <td>0</td>\n",
       "      <td>1</td>\n",
       "      <td>0</td>\n",
       "      <td>1</td>\n",
       "      <td>...</td>\n",
       "      <td>2805</td>\n",
       "      <td>0</td>\n",
       "      <td>2015</td>\n",
       "      <td>9</td>\n",
       "      <td>14</td>\n",
       "      <td>257</td>\n",
       "      <td>38</td>\n",
       "      <td>0</td>\n",
       "      <td>3</td>\n",
       "      <td>1555</td>\n",
       "    </tr>\n",
       "    <tr>\n",
       "      <th>4</th>\n",
       "      <td>3425</td>\n",
       "      <td>1</td>\n",
       "      <td>7</td>\n",
       "      <td>2015-09-13</td>\n",
       "      <td>0.0</td>\n",
       "      <td>0</td>\n",
       "      <td>0</td>\n",
       "      <td>1</td>\n",
       "      <td>0</td>\n",
       "      <td>0</td>\n",
       "      <td>...</td>\n",
       "      <td>2804</td>\n",
       "      <td>0</td>\n",
       "      <td>2015</td>\n",
       "      <td>9</td>\n",
       "      <td>13</td>\n",
       "      <td>256</td>\n",
       "      <td>37</td>\n",
       "      <td>6</td>\n",
       "      <td>3</td>\n",
       "      <td>1554</td>\n",
       "    </tr>\n",
       "  </tbody>\n",
       "</table>\n",
       "<p>5 rows × 54 columns</p>\n",
       "</div>"
      ],
      "text/plain": [
       "     Id  Store  DayOfWeek       Date  Open  Promo  SchoolHoliday  \\\n",
       "0     1      1          4 2015-09-17   1.0      1              0   \n",
       "1   857      1          3 2015-09-16   1.0      1              0   \n",
       "2  1713      1          2 2015-09-15   1.0      1              0   \n",
       "3  2569      1          1 2015-09-14   1.0      1              0   \n",
       "4  3425      1          7 2015-09-13   0.0      0              0   \n",
       "\n",
       "   StateHoliday_0  StateHoliday_a  ld      ...       duree_concurence  \\\n",
       "0               1               0   0      ...                   2808   \n",
       "1               1               0   0      ...                   2807   \n",
       "2               1               0   0      ...                   2806   \n",
       "3               1               0   1      ...                   2805   \n",
       "4               1               0   0      ...                   2804   \n",
       "\n",
       "   promo2_today  year  month  day  dayofyear  weekofyear  dayofweek  quarter  \\\n",
       "0             0  2015      9   17        260          38          3        3   \n",
       "1             0  2015      9   16        259          38          2        3   \n",
       "2             0  2015      9   15        258          38          1        3   \n",
       "3             0  2015      9   14        257          38          0        3   \n",
       "4             0  2015      9   13        256          37          6        3   \n",
       "\n",
       "   duree_promo2  \n",
       "0          1558  \n",
       "1          1557  \n",
       "2          1556  \n",
       "3          1555  \n",
       "4          1554  \n",
       "\n",
       "[5 rows x 54 columns]"
      ]
     },
     "execution_count": 49,
     "metadata": {},
     "output_type": "execute_result"
    }
   ],
   "source": [
    "df_test.head()"
   ]
  },
  {
   "cell_type": "code",
   "execution_count": 50,
   "metadata": {
    "collapsed": true
   },
   "outputs": [],
   "source": [
    "# this step ends the approach without statistics. We save the result in order to make comparison of methods further.\n",
    "df_train.to_csv(\"data/df_1.csv\", index=False)\n",
    "df_test.to_csv(\"data/df_1_test.csv\",index=False)"
   ]
  },
  {
   "cell_type": "markdown",
   "metadata": {},
   "source": [
    "## Validation strategy"
   ]
  },
  {
   "cell_type": "markdown",
   "metadata": {},
   "source": [
    "In this part we will first split the train set to have a validation and train set.\n",
    "Then we will choose the features we want to keep to train our model, from the lake of features we created in the previous part.\n",
    "We will apply our selection to training, validation and test sets."
   ]
  },
  {
   "cell_type": "code",
   "execution_count": 52,
   "metadata": {},
   "outputs": [],
   "source": [
    "# going back to the general approach\n",
    "df_train = pd.read_csv('data/df_1.csv')\n",
    "df_test = pd.read_csv('data/df_1_test.csv')"
   ]
  },
  {
   "cell_type": "markdown",
   "metadata": {},
   "source": [
    "### Split into train and validation set"
   ]
  },
  {
   "cell_type": "code",
   "execution_count": 53,
   "metadata": {
    "collapsed": true
   },
   "outputs": [],
   "source": [
    "train, validation = train_test_split(df_train, test_size=0.1)"
   ]
  },
  {
   "cell_type": "code",
   "execution_count": 55,
   "metadata": {},
   "outputs": [
    {
     "data": {
      "text/plain": [
       "((759952, 57), (84440, 57))"
      ]
     },
     "execution_count": 55,
     "metadata": {},
     "output_type": "execute_result"
    }
   ],
   "source": [
    "train.shape, validation.shape"
   ]
  },
  {
   "cell_type": "markdown",
   "metadata": {},
   "source": [
    "### Feature Selection"
   ]
  },
  {
   "cell_type": "code",
   "execution_count": 56,
   "metadata": {},
   "outputs": [
    {
     "data": {
      "text/plain": [
       "Index(['Store', 'DayOfWeek', 'Date', 'Sales', 'Customers', 'Open', 'Promo',\n",
       "       'SchoolHoliday', 'StateHoliday_0', 'StateHoliday_a', 'StateHoliday_b',\n",
       "       'StateHoliday_c', 'ld', 'md', 'mc', 'jd', 'vd', 'sd', 'dc',\n",
       "       'CompetitionDistance', 'CompetitionOpenSinceMonth',\n",
       "       'CompetitionOpenSinceYear', 'Promo2', 'Promo2SinceWeek',\n",
       "       'Promo2SinceYear', 'PromoInterval', 'StoreType_a', 'StoreType_b',\n",
       "       'StoreType_c', 'StoreType_d', 'Assortment_a', 'Assortment_b',\n",
       "       'Assortment_c', 'PromoJan', 'PromoFeb', 'PromoMar', 'PromoApr',\n",
       "       'PromoMay', 'PromoJun', 'PromoJul', 'PromoAug', 'PromoSept', 'PromoOct',\n",
       "       'PromoNov', 'PromoDec', 'BeginCompetition', 'BeginPromo2',\n",
       "       'duree_concurence', 'promo2_today', 'year', 'month', 'day', 'dayofyear',\n",
       "       'weekofyear', 'dayofweek', 'quarter', 'duree_promo2'],\n",
       "      dtype='object')"
      ]
     },
     "execution_count": 56,
     "metadata": {},
     "output_type": "execute_result"
    }
   ],
   "source": [
    "train.columns"
   ]
  },
  {
   "cell_type": "code",
   "execution_count": 57,
   "metadata": {
    "collapsed": true
   },
   "outputs": [],
   "source": [
    "featuresToTakeForTraining = ['Store', 'DayOfWeek', 'Promo',\n",
    "       'SchoolHoliday', 'CompetitionDistance', 'CompetitionOpenSinceMonth',\n",
    "       'CompetitionOpenSinceYear', 'Promo2', 'Promo2SinceWeek',\n",
    "       'Promo2SinceYear', 'StoreType_a', 'StoreType_b',\n",
    "       'StoreType_c', 'StoreType_d', 'Assortment_a', 'Assortment_b',\n",
    "       'Assortment_c', 'duree_concurence', 'promo2_today', 'year', 'month', 'day', 'dayofyear',\n",
    "       'weekofyear', 'dayofweek', 'quarter', 'duree_promo2']"
   ]
  },
  {
   "cell_type": "code",
   "execution_count": 58,
   "metadata": {
    "collapsed": true
   },
   "outputs": [],
   "source": [
    "y_train = train['Sales']\n",
    "y_validation = validation['Sales']\n",
    "\n",
    "X_train = train[featuresToTakeForTraining]\n",
    "X_validation = validation[featuresToTakeForTraining]\n",
    "X_test = df_test[featuresToTakeForTraining]\n"
   ]
  },
  {
   "cell_type": "code",
   "execution_count": 59,
   "metadata": {},
   "outputs": [
    {
     "name": "stdout",
     "output_type": "stream",
     "text": [
      "<class 'pandas.core.frame.DataFrame'>\n",
      "Int64Index: 759952 entries, 628773 to 476468\n",
      "Data columns (total 27 columns):\n",
      "Store                        759952 non-null int64\n",
      "DayOfWeek                    759952 non-null int64\n",
      "Promo                        759952 non-null int64\n",
      "SchoolHoliday                759952 non-null int64\n",
      "CompetitionDistance          759952 non-null float64\n",
      "CompetitionOpenSinceMonth    759952 non-null float64\n",
      "CompetitionOpenSinceYear     759952 non-null float64\n",
      "Promo2                       759952 non-null int64\n",
      "Promo2SinceWeek              759952 non-null float64\n",
      "Promo2SinceYear              759952 non-null float64\n",
      "StoreType_a                  759952 non-null int64\n",
      "StoreType_b                  759952 non-null int64\n",
      "StoreType_c                  759952 non-null int64\n",
      "StoreType_d                  759952 non-null int64\n",
      "Assortment_a                 759952 non-null int64\n",
      "Assortment_b                 759952 non-null int64\n",
      "Assortment_c                 759952 non-null int64\n",
      "duree_concurence             759952 non-null int64\n",
      "promo2_today                 759952 non-null int64\n",
      "year                         759952 non-null int64\n",
      "month                        759952 non-null int64\n",
      "day                          759952 non-null int64\n",
      "dayofyear                    759952 non-null int64\n",
      "weekofyear                   759952 non-null int64\n",
      "dayofweek                    759952 non-null int64\n",
      "quarter                      759952 non-null int64\n",
      "duree_promo2                 759952 non-null int64\n",
      "dtypes: float64(5), int64(22)\n",
      "memory usage: 162.3 MB\n"
     ]
    }
   ],
   "source": [
    "X_train.info()"
   ]
  },
  {
   "cell_type": "code",
   "execution_count": 60,
   "metadata": {},
   "outputs": [
    {
     "name": "stdout",
     "output_type": "stream",
     "text": [
      "<class 'pandas.core.frame.DataFrame'>\n",
      "RangeIndex: 41088 entries, 0 to 41087\n",
      "Data columns (total 27 columns):\n",
      "Store                        41088 non-null int64\n",
      "DayOfWeek                    41088 non-null int64\n",
      "Promo                        41088 non-null int64\n",
      "SchoolHoliday                41088 non-null int64\n",
      "CompetitionDistance          41088 non-null float64\n",
      "CompetitionOpenSinceMonth    41088 non-null float64\n",
      "CompetitionOpenSinceYear     41088 non-null float64\n",
      "Promo2                       41088 non-null int64\n",
      "Promo2SinceWeek              41088 non-null float64\n",
      "Promo2SinceYear              41088 non-null float64\n",
      "StoreType_a                  41088 non-null int64\n",
      "StoreType_b                  41088 non-null int64\n",
      "StoreType_c                  41088 non-null int64\n",
      "StoreType_d                  41088 non-null int64\n",
      "Assortment_a                 41088 non-null int64\n",
      "Assortment_b                 41088 non-null int64\n",
      "Assortment_c                 41088 non-null int64\n",
      "duree_concurence             41088 non-null int64\n",
      "promo2_today                 41088 non-null int64\n",
      "year                         41088 non-null int64\n",
      "month                        41088 non-null int64\n",
      "day                          41088 non-null int64\n",
      "dayofyear                    41088 non-null int64\n",
      "weekofyear                   41088 non-null int64\n",
      "dayofweek                    41088 non-null int64\n",
      "quarter                      41088 non-null int64\n",
      "duree_promo2                 41088 non-null int64\n",
      "dtypes: float64(5), int64(22)\n",
      "memory usage: 8.5 MB\n"
     ]
    }
   ],
   "source": [
    "X_test.info()"
   ]
  },
  {
   "cell_type": "markdown",
   "metadata": {},
   "source": [
    "## Training Pipeline"
   ]
  },
  {
   "cell_type": "code",
   "execution_count": 61,
   "metadata": {
    "collapsed": true
   },
   "outputs": [],
   "source": [
    "# Regressors\n",
    "from sklearn.ensemble import RandomForestRegressor\n",
    "from sklearn.ensemble import ExtraTreesRegressor\n",
    "from sklearn.tree import DecisionTreeRegressor\n",
    "import xgboost as xgb\n",
    "\n",
    "# Grid search\n",
    "from sklearn.model_selection import GridSearchCV"
   ]
  },
  {
   "cell_type": "markdown",
   "metadata": {},
   "source": [
    "### XGboost implementation that we train separatly"
   ]
  },
  {
   "cell_type": "code",
   "execution_count": 62,
   "metadata": {
    "collapsed": true
   },
   "outputs": [],
   "source": [
    "def get_prob(y):\n",
    "    y[y < 0] = 0\n",
    "    return y"
   ]
  },
  {
   "cell_type": "code",
   "execution_count": 63,
   "metadata": {
    "scrolled": true
   },
   "outputs": [
    {
     "name": "stdout",
     "output_type": "stream",
     "text": [
      "[0]\teval-rmse:5.79337\ttrain-rmse:5.79395\teval-rmspe:0.659589\ttrain-rmspe:0.659621\n",
      "Multiple eval metrics have been passed: 'train-rmspe' will be used for early stopping.\n",
      "\n",
      "Will train until train-rmspe hasn't improved in 30 rounds.\n",
      "[5]\teval-rmse:1.02281\ttrain-rmse:1.02374\teval-rmspe:0.114077\ttrain-rmspe:0.114199\n",
      "[10]\teval-rmse:0.336496\ttrain-rmse:0.33664\teval-rmspe:0.036696\ttrain-rmspe:0.036844\n",
      "[15]\teval-rmse:0.266414\ttrain-rmse:0.265755\teval-rmspe:0.029509\ttrain-rmspe:0.029646\n",
      "[20]\teval-rmse:0.251309\ttrain-rmse:0.25007\teval-rmspe:0.027881\ttrain-rmspe:0.028002\n",
      "[25]\teval-rmse:0.235239\ttrain-rmse:0.233515\teval-rmspe:0.025977\ttrain-rmspe:0.026074\n",
      "[30]\teval-rmse:0.218967\ttrain-rmse:0.216314\teval-rmspe:0.023999\ttrain-rmspe:0.024078\n",
      "[35]\teval-rmse:0.206234\ttrain-rmse:0.202865\teval-rmspe:0.022438\ttrain-rmspe:0.022495\n",
      "[40]\teval-rmse:0.194966\ttrain-rmse:0.190823\teval-rmspe:0.021064\ttrain-rmspe:0.021091\n",
      "[45]\teval-rmse:0.186956\ttrain-rmse:0.181823\teval-rmspe:0.020071\ttrain-rmspe:0.020076\n",
      "[50]\teval-rmse:0.178337\ttrain-rmse:0.172824\teval-rmspe:0.018987\ttrain-rmspe:0.018982\n",
      "[55]\teval-rmse:0.169378\ttrain-rmse:0.163093\teval-rmspe:0.017842\ttrain-rmspe:0.017791\n",
      "[60]\teval-rmse:0.164905\ttrain-rmse:0.158713\teval-rmspe:0.017353\ttrain-rmspe:0.017287\n",
      "[65]\teval-rmse:0.160559\ttrain-rmse:0.15353\teval-rmspe:0.016779\ttrain-rmspe:0.016672\n",
      "[70]\teval-rmse:0.156827\ttrain-rmse:0.149309\teval-rmspe:0.016293\ttrain-rmspe:0.016158\n",
      "[75]\teval-rmse:0.153881\ttrain-rmse:0.145967\teval-rmspe:0.015912\ttrain-rmspe:0.015746\n",
      "[80]\teval-rmse:0.150506\ttrain-rmse:0.142023\teval-rmspe:0.015471\ttrain-rmspe:0.0153\n",
      "[85]\teval-rmse:0.148337\ttrain-rmse:0.138741\teval-rmspe:0.015176\ttrain-rmspe:0.014953\n",
      "[90]\teval-rmse:0.146549\ttrain-rmse:0.135786\teval-rmspe:0.014941\ttrain-rmspe:0.014702\n",
      "[95]\teval-rmse:0.1447\ttrain-rmse:0.133864\teval-rmspe:0.014774\ttrain-rmspe:0.014512\n",
      "[100]\teval-rmse:0.143994\ttrain-rmse:0.132708\teval-rmspe:0.014679\ttrain-rmspe:0.014408\n",
      "[105]\teval-rmse:0.142238\ttrain-rmse:0.130341\teval-rmspe:0.014443\ttrain-rmspe:0.014155\n",
      "[110]\teval-rmse:0.140817\ttrain-rmse:0.128135\teval-rmspe:0.01425\ttrain-rmspe:0.013935\n",
      "[115]\teval-rmse:0.139454\ttrain-rmse:0.126081\teval-rmspe:0.014066\ttrain-rmspe:0.013715\n",
      "[120]\teval-rmse:0.1381\ttrain-rmse:0.124313\teval-rmspe:0.013887\ttrain-rmspe:0.013525\n",
      "[125]\teval-rmse:0.137134\ttrain-rmse:0.12277\teval-rmspe:0.013755\ttrain-rmspe:0.013372\n",
      "[130]\teval-rmse:0.136471\ttrain-rmse:0.121427\teval-rmspe:0.013665\ttrain-rmspe:0.013259\n",
      "[135]\teval-rmse:0.136002\ttrain-rmse:0.119996\teval-rmspe:0.013602\ttrain-rmspe:0.013146\n",
      "[140]\teval-rmse:0.135148\ttrain-rmse:0.118814\teval-rmspe:0.013489\ttrain-rmspe:0.013015\n",
      "[145]\teval-rmse:0.134715\ttrain-rmse:0.11799\teval-rmspe:0.013431\ttrain-rmspe:0.012933\n",
      "[150]\teval-rmse:0.134411\ttrain-rmse:0.117104\teval-rmspe:0.013391\ttrain-rmspe:0.012862\n",
      "[155]\teval-rmse:0.133653\ttrain-rmse:0.116003\teval-rmspe:0.013284\ttrain-rmspe:0.012738\n",
      "[160]\teval-rmse:0.133012\ttrain-rmse:0.114983\teval-rmspe:0.013196\ttrain-rmspe:0.012633\n",
      "[165]\teval-rmse:0.13236\ttrain-rmse:0.114056\teval-rmspe:0.013128\ttrain-rmspe:0.012548\n",
      "[170]\teval-rmse:0.13187\ttrain-rmse:0.113088\teval-rmspe:0.013059\ttrain-rmspe:0.012453\n",
      "[175]\teval-rmse:0.131565\ttrain-rmse:0.112453\teval-rmspe:0.013016\ttrain-rmspe:0.012379\n",
      "[180]\teval-rmse:0.131166\ttrain-rmse:0.111602\teval-rmspe:0.01296\ttrain-rmspe:0.012285\n",
      "[185]\teval-rmse:0.130795\ttrain-rmse:0.110839\teval-rmspe:0.01291\ttrain-rmspe:0.012202\n",
      "[190]\teval-rmse:0.130443\ttrain-rmse:0.110054\teval-rmspe:0.012862\ttrain-rmspe:0.012126\n",
      "[195]\teval-rmse:0.129938\ttrain-rmse:0.109098\teval-rmspe:0.01279\ttrain-rmspe:0.012047\n",
      "[199]\teval-rmse:0.129657\ttrain-rmse:0.108604\teval-rmspe:0.012751\ttrain-rmspe:0.011992\n"
     ]
    }
   ],
   "source": [
    "params = {\"objective\": \"reg:linear\", # loss => linear regression because we predict sales\n",
    "          \"eta\": 0.3,\n",
    "          \"max_depth\": 8, #we can increase the depth but we might overfit\n",
    "          \"subsample\": 0.7,\n",
    "          \"colsample_bytree\": 0.7\n",
    "          }\n",
    "\n",
    "dtrain = xgb.DMatrix(X_train, np.log(y_train + 1))\n",
    "\n",
    "dvalid = xgb.DMatrix(X_validation, np.log(y_validation + 1))\n",
    "watchlist = [(dvalid, 'eval'), (dtrain, 'train')]\n",
    "\n",
    "model = xgb.train(params, dtrain, 200, evals = watchlist, early_stopping_rounds = 30, feval = rmspe_xg, verbose_eval = 5)"
   ]
  },
  {
   "cell_type": "code",
   "execution_count": 64,
   "metadata": {},
   "outputs": [
    {
     "name": "stdout",
     "output_type": "stream",
     "text": [
      "Error on training set  0.145690379186\n",
      "Error on validation set  0.135993724837\n"
     ]
    }
   ],
   "source": [
    "train_probs = model.predict(xgb.DMatrix(X_train))\n",
    "validation_probs = model.predict(xgb.DMatrix(X_validation))\n",
    "\n",
    "print('Error on training set ', rmspe(np.exp(get_prob(train_probs))-1, y_train.values))\n",
    "print('Error on validation set ', rmspe(np.exp(get_prob(validation_probs))-1, y_validation.values))"
   ]
  },
  {
   "cell_type": "markdown",
   "metadata": {},
   "source": [
    "### If we try to select some features in order to decrease the RMSPE"
   ]
  },
  {
   "cell_type": "code",
   "execution_count": 65,
   "metadata": {
    "collapsed": true
   },
   "outputs": [],
   "source": [
    "featuresToTakeForTraining = ['Store', 'DayOfWeek', 'Promo',\n",
    "       'SchoolHoliday', 'CompetitionDistance', 'CompetitionOpenSinceMonth',\n",
    "       'CompetitionOpenSinceYear', 'Promo2', 'Promo2SinceWeek',\n",
    "       'Promo2SinceYear', 'StoreType_a', 'StoreType_b',\n",
    "       'StoreType_c', 'StoreType_d', 'Assortment_a', 'Assortment_b',\n",
    "       'Assortment_c','year', 'month', 'day']\n",
    "\n",
    "y_train = train['Sales']\n",
    "y_validation = validation['Sales']\n",
    "\n",
    "X_train = train[featuresToTakeForTraining]\n",
    "X_validation = validation[featuresToTakeForTraining]\n",
    "X_test = df_test[featuresToTakeForTraining]"
   ]
  },
  {
   "cell_type": "code",
   "execution_count": 66,
   "metadata": {
    "scrolled": true
   },
   "outputs": [
    {
     "name": "stdout",
     "output_type": "stream",
     "text": [
      "[0]\teval-rmse:5.7931\ttrain-rmse:5.79372\teval-rmspe:0.65961\ttrain-rmspe:0.659653\n",
      "Multiple eval metrics have been passed: 'train-rmspe' will be used for early stopping.\n",
      "\n",
      "Will train until train-rmspe hasn't improved in 30 rounds.\n",
      "[10]\teval-rmse:0.340368\ttrain-rmse:0.341237\teval-rmspe:0.03717\ttrain-rmspe:0.037382\n",
      "[20]\teval-rmse:0.24653\ttrain-rmse:0.246058\teval-rmspe:0.027337\ttrain-rmspe:0.027493\n",
      "[30]\teval-rmse:0.214948\ttrain-rmse:0.213184\teval-rmspe:0.023538\ttrain-rmspe:0.023592\n",
      "[40]\teval-rmse:0.189728\ttrain-rmse:0.186918\teval-rmspe:0.020423\ttrain-rmspe:0.020412\n",
      "[50]\teval-rmse:0.175161\ttrain-rmse:0.171518\teval-rmspe:0.018595\ttrain-rmspe:0.018557\n",
      "[60]\teval-rmse:0.163412\ttrain-rmse:0.158754\teval-rmspe:0.017078\ttrain-rmspe:0.016994\n",
      "[70]\teval-rmse:0.15697\ttrain-rmse:0.151781\teval-rmspe:0.016233\ttrain-rmspe:0.016118\n",
      "[80]\teval-rmse:0.152043\ttrain-rmse:0.146119\teval-rmspe:0.015576\ttrain-rmspe:0.015436\n",
      "[90]\teval-rmse:0.147954\ttrain-rmse:0.141554\teval-rmspe:0.015033\ttrain-rmspe:0.014875\n",
      "[100]\teval-rmse:0.144308\ttrain-rmse:0.136946\teval-rmspe:0.014528\ttrain-rmspe:0.014324\n",
      "[110]\teval-rmse:0.141734\ttrain-rmse:0.133625\teval-rmspe:0.014176\ttrain-rmspe:0.013948\n",
      "[120]\teval-rmse:0.14008\ttrain-rmse:0.13146\teval-rmspe:0.013951\ttrain-rmspe:0.013698\n",
      "[130]\teval-rmse:0.138183\ttrain-rmse:0.128822\teval-rmspe:0.013681\ttrain-rmspe:0.013391\n",
      "[140]\teval-rmse:0.136775\ttrain-rmse:0.126915\teval-rmspe:0.013487\ttrain-rmspe:0.013168\n",
      "[150]\teval-rmse:0.13555\ttrain-rmse:0.125244\teval-rmspe:0.013322\ttrain-rmspe:0.012988\n",
      "[160]\teval-rmse:0.134366\ttrain-rmse:0.123451\teval-rmspe:0.013171\ttrain-rmspe:0.012802\n",
      "[170]\teval-rmse:0.133283\ttrain-rmse:0.12187\teval-rmspe:0.013035\ttrain-rmspe:0.012624\n",
      "[180]\teval-rmse:0.132417\ttrain-rmse:0.120202\teval-rmspe:0.01292\ttrain-rmspe:0.01246\n",
      "[190]\teval-rmse:0.131856\ttrain-rmse:0.118775\teval-rmspe:0.012848\ttrain-rmspe:0.012342\n",
      "[200]\teval-rmse:0.131222\ttrain-rmse:0.117692\teval-rmspe:0.012766\ttrain-rmspe:0.01222\n",
      "[210]\teval-rmse:0.130069\ttrain-rmse:0.116299\teval-rmspe:0.012657\ttrain-rmspe:0.012093\n",
      "[220]\teval-rmse:0.129287\ttrain-rmse:0.115152\teval-rmspe:0.012554\ttrain-rmspe:0.011992\n",
      "[230]\teval-rmse:0.128877\ttrain-rmse:0.113965\teval-rmspe:0.012489\ttrain-rmspe:0.011885\n",
      "[240]\teval-rmse:0.128518\ttrain-rmse:0.113055\teval-rmspe:0.012435\ttrain-rmspe:0.011785\n",
      "[250]\teval-rmse:0.12805\ttrain-rmse:0.112185\teval-rmspe:0.012371\ttrain-rmspe:0.011696\n",
      "[260]\teval-rmse:0.127758\ttrain-rmse:0.111406\teval-rmspe:0.012329\ttrain-rmspe:0.011625\n",
      "[270]\teval-rmse:0.127409\ttrain-rmse:0.110736\teval-rmspe:0.012289\ttrain-rmspe:0.011563\n",
      "[280]\teval-rmse:0.127206\ttrain-rmse:0.109939\teval-rmspe:0.01226\ttrain-rmspe:0.011494\n",
      "[290]\teval-rmse:0.12695\ttrain-rmse:0.109183\teval-rmspe:0.012223\ttrain-rmspe:0.01142\n",
      "[299]\teval-rmse:0.126806\ttrain-rmse:0.108723\teval-rmspe:0.012208\ttrain-rmspe:0.011368\n"
     ]
    }
   ],
   "source": [
    "dtrain = xgb.DMatrix(X_train, np.log(y_train + 1))\n",
    "\n",
    "dvalid = xgb.DMatrix(X_validation, np.log(y_validation + 1))\n",
    "watchlist = [(dvalid, 'eval'), (dtrain, 'train')]\n",
    "\n",
    "model = xgb.train(params, dtrain, 300, evals = watchlist, early_stopping_rounds = 30, feval = rmspe_xg, verbose_eval = 10)"
   ]
  },
  {
   "cell_type": "code",
   "execution_count": 67,
   "metadata": {},
   "outputs": [
    {
     "name": "stdout",
     "output_type": "stream",
     "text": [
      "Error on training set  0.12560968908\n",
      "Error on validation set  0.1322900933\n"
     ]
    }
   ],
   "source": [
    "train_probs = model.predict(xgb.DMatrix(X_train))\n",
    "validation_probs = model.predict(xgb.DMatrix(X_validation))\n",
    "\n",
    "print('Error on training set ', rmspe(np.exp(get_prob(train_probs))-1, y_train.values))\n",
    "print('Error on validation set ', rmspe(np.exp(get_prob(validation_probs))-1, y_validation.values))"
   ]
  },
  {
   "cell_type": "markdown",
   "metadata": {},
   "source": [
    "### Different Sklearn Regressors implementations"
   ]
  },
  {
   "cell_type": "markdown",
   "metadata": {},
   "source": [
    "##### Definition of the algorithm and theirs parameters for the grid search"
   ]
  },
  {
   "cell_type": "code",
   "execution_count": 68,
   "metadata": {
    "collapsed": true
   },
   "outputs": [],
   "source": [
    "names_regressors = [\"DecisionTreeRegressor\", \"RandomForestRegressor\", \"ExtraTreesRegressor\", \"XGBoost\"]\n",
    "\n",
    "regressors = [\n",
    "    DecisionTreeRegressor(max_depth=None, min_samples_split=2, random_state=0),\n",
    "    RandomForestRegressor(n_estimators = 10, max_depth = None, min_samples_split = 2, random_state = 0),\n",
    "    ExtraTreesRegressor(n_estimators = 10, max_depth = None, min_samples_split = 2, random_state = 0),\n",
    "    model\n",
    "    ]"
   ]
  },
  {
   "cell_type": "markdown",
   "metadata": {},
   "source": [
    "##### Training of the different algoritms"
   ]
  },
  {
   "cell_type": "code",
   "execution_count": 69,
   "metadata": {
    "scrolled": true
   },
   "outputs": [
    {
     "name": "stdout",
     "output_type": "stream",
     "text": [
      "DecisionTreeRegressor\n",
      "\t Score (trainning): 0.0 \n",
      "\n",
      "\t Score (testing): 0.204170585825 \n",
      "\n",
      "RandomForestRegressor\n",
      "\t Score (trainning): 0.0698377870293 \n",
      "\n",
      "\t Score (testing): 0.168673378278 \n",
      "\n",
      "ExtraTreesRegressor\n",
      "\t Score (trainning): 6.3179138783e-05 \n",
      "\n",
      "\t Score (testing): 0.163772132529 \n",
      "\n",
      "XGBoost\n",
      "\t Score (trainning): 0.12560968908 \n",
      "\n",
      "\t Score (testing): 0.1322900933 \n",
      "\n"
     ]
    }
   ],
   "source": [
    "scores = []\n",
    "scores_train = []\n",
    "\n",
    "# iterate over classifiers\n",
    "for clf, name in zip(regressors, names_regressors):\n",
    "    print (name)\n",
    "    if(name != \"XGBoost\"):\n",
    "        clf.fit(X_train, y_train)\n",
    "        y_pred = clf.predict(X_validation)\n",
    "        y_pred_train = clf.predict(X_train)\n",
    "        score_train = rmspe(y_pred_train, y_train.values)\n",
    "        score = rmspe(y_pred, y_validation.values)\n",
    "        print(\"\\t Score (trainning):\", score_train, \"\\n\")\n",
    "        print(\"\\t Score (testing):\", score, \"\\n\")\n",
    "    else:\n",
    "        train_probs = clf.predict(xgb.DMatrix(X_train))\n",
    "        test_probs = clf.predict(xgb.DMatrix(X_validation))\n",
    "        score_train = rmspe(np.exp(get_prob(train_probs)) - 1, y_train.values)\n",
    "        score = rmspe(np.exp(get_prob(test_probs)) - 1, y_validation.values)\n",
    "        print(\"\\t Score (trainning):\", score_train, \"\\n\")\n",
    "        print(\"\\t Score (testing):\", score, \"\\n\")\n",
    "    scores.append(score)\n",
    "    scores_train.append(score_train)\n"
   ]
  },
  {
   "cell_type": "markdown",
   "metadata": {},
   "source": [
    "##### Plot the different scores"
   ]
  },
  {
   "cell_type": "code",
   "execution_count": 70,
   "metadata": {},
   "outputs": [
    {
     "data": {
      "image/png": "[encoded data removed]",
      "text/plain": [
       "<matplotlib.figure.Figure at 0x7fdabc98c048>"
      ]
     },
     "metadata": {},
     "output_type": "display_data"
    }
   ],
   "source": [
    "plt.figure(figsize=(16, 8))\n",
    "x = np.arange(len(scores))\n",
    "plt.bar(x, scores, alpha=0.5, color=[\"red\", \"green\", \"blue\", \"purple\"])\n",
    "plt.xticks(x, names_regressors)\n",
    "plt.xlabel(\"Regressors\")\n",
    "plt.ylabel(\"Scores\")\n",
    "plt.title(\"Score for several regressor on testing set\")\n",
    "plt.show()"
   ]
  },
  {
   "cell_type": "code",
   "execution_count": 71,
   "metadata": {},
   "outputs": [
    {
     "data": {
      "image/png": "[encoded data removed]",
      "text/plain": [
       "<matplotlib.figure.Figure at 0x7fdb1d22d4e0>"
      ]
     },
     "metadata": {},
     "output_type": "display_data"
    }
   ],
   "source": [
    "plt.figure(figsize=(16, 8))\n",
    "x = np.arange(len(scores))\n",
    "plt.bar(x, scores_train, alpha=0.5, color=[\"red\", \"green\", \"blue\", \"purple\"])\n",
    "plt.xticks(x, names_regressors)\n",
    "plt.xlabel(\"Regressors\")\n",
    "plt.ylabel(\"Scores\")\n",
    "plt.title(\"Score for several regressor on training set\")\n",
    "plt.show()"
   ]
  },
  {
   "cell_type": "markdown",
   "metadata": {},
   "source": [
    "XGBoost is the best model"
   ]
  },
  {
   "cell_type": "markdown",
   "metadata": {},
   "source": [
    "## Evaluation and Comparison"
   ]
  },
  {
   "cell_type": "markdown",
   "metadata": {},
   "source": [
    "Show the best features of the xgboost model "
   ]
  },
  {
   "cell_type": "code",
   "execution_count": 72,
   "metadata": {},
   "outputs": [
    {
     "data": {
      "text/plain": [
       "<matplotlib.axes._subplots.AxesSubplot at 0x7fdace02d780>"
      ]
     },
     "execution_count": 72,
     "metadata": {},
     "output_type": "execute_result"
    },
    {
     "data": {
      "image/png": "[encoded data removed]",
      "text/plain": [
       "<matplotlib.figure.Figure at 0x7fda6b4e0b38>"
      ]
     },
     "metadata": {},
     "output_type": "display_data"
    }
   ],
   "source": [
    "import operator\n",
    "importance = model.get_score()\n",
    "importance = sorted(importance.items(), key=operator.itemgetter(1))\n",
    "#Store in dataframe for plotting \n",
    "importance = pd.DataFrame(importance,columns = ['feature','score'])\n",
    "#Make the score relative \n",
    "importance['score'] = importance['score']/importance['score'].sum()\n",
    "importance.plot(kind ='barh' , x = 'feature' , y = 'score',legend = False)"
   ]
  },
  {
   "cell_type": "markdown",
   "metadata": {},
   "source": [
    "This approach yields a score of 0.19 on Kaggle which is significantly better than the naive approach, moreover we can get insights on the prediction as we know which features are the most important "
   ]
  },
  {
   "cell_type": "markdown",
   "metadata": {},
   "source": [
    "# Statistical Approach"
   ]
  },
  {
   "cell_type": "markdown",
   "metadata": {},
   "source": [
    "## From statistics to features\n",
    "### first step: creation of dataframe of statistics"
   ]
  },
  {
   "cell_type": "markdown",
   "metadata": {},
   "source": [
    "In this part, we add \"statisctical\" features, that is features computed from temporal statistics, this allows use to describe the \"time serie\" effect "
   ]
  },
  {
   "cell_type": "code",
   "execution_count": 81,
   "metadata": {
    "collapsed": true
   },
   "outputs": [],
   "source": [
    "# this generator is made specificly for thos dataset but should be easily generalized. It creates some\n",
    "# statistics mesasurement on the past\n",
    "def statMaker (dfs, group):\n",
    "    df_stat=[]\n",
    "    df_stat=pd.DataFrame(df_stat)   \n",
    "    for week in range(52):\n",
    "        week=week+1\n",
    "        nom = 'mean_w_' + str(week)\n",
    "        df_stat[nom]=df_s[(df_s['weekofyear']==week)].groupby('Store')[group].mean()\n",
    "    df_stat=df_stat.reset_index()\n",
    "\n",
    "    df_w=[]\n",
    "    df_w=pd.DataFrame(df_w)\n",
    "    for week in range(52):\n",
    "        week=week+1\n",
    "        for dow in range(7):\n",
    "            dow=dow+1\n",
    "            nom = 'w'+str(week)+'_d'+str(dow)\n",
    "            df_w[nom]=df_s[(df_s['weekofyear']==week) & (df_s['dayofweek']==dow)].groupby('Store')[group].mean()\n",
    "    df_w=df_w.reset_index()\n",
    "\n",
    "    df_m=[]\n",
    "    df_m=pd.DataFrame(df_m)\n",
    "    for month in range(12):\n",
    "        month=month+1\n",
    "        nom = 'm'+str(month)\n",
    "        df_m[nom]=df_s[(df_s['month']==month)].groupby('Store')[group].mean()\n",
    "    df_m=df_m.reset_index()\n",
    "\n",
    "    df_dm=[]\n",
    "    df_dm=pd.DataFrame(df_dm)    \n",
    "    for month in range(12):\n",
    "        month=month+1\n",
    "        nom = 'dif_m'+str(month)\n",
    "        df_dm[nom]=df_s[(df_s['month']==month) & (df_s['year']==2014)].groupby('Store')[group].mean() - df_s[(df_s['month']==month) & (df_s['year']==2013)].groupby('Store')[group].mean()\n",
    "    df_dm=df_dm.reset_index()\n",
    "\n",
    "    df_dq=[]\n",
    "    df_dq=pd.DataFrame(df_dq)\n",
    "    for quarter in range(4):\n",
    "        quarter+=1\n",
    "        nom = 'dif_q'+str(quarter)\n",
    "        df_dq[nom]=df_s[(df_s['quarter']==quarter) & (df_s['year']==2014)].groupby('Store')[group].mean() - df_s[(df_s['quarter']==quarter) & (df_s['year']==2013)].groupby('Store')[group].mean()\n",
    "    df_dq=df_dq.reset_index()\n",
    "\n",
    "    df_stat = pd.merge(df_stat, df_w, left_on='Store', right_on='Store')\n",
    "    df_stat = pd.merge(df_stat, df_m, left_on='Store', right_on='Store')\n",
    "    df_stat = pd.merge(df_stat, df_dm, left_on='Store', right_on='Store')\n",
    "    df_stat = pd.merge(df_stat, df_dq, left_on='Store', right_on='Store')\n",
    "    return (df_stat)\n",
    "# now we create the dataframe of stats for customers and sales\n",
    "df_s = df_train.copy()\n",
    "df_stat_sales = statMaker (df_train, 'Sales')\n",
    "df_stat_cust = statMaker (df_train, 'Customers')\n",
    "df_stat_sales=df_stat_sales.fillna(0)\n",
    "df_stat_cust=df_stat_cust.fillna(0)\n",
    "df_stat_sales.to_csv(\"data/stat_sales.csv\", index=False)\n",
    "df_stat_cust.to_csv(\"data/stat_cust.csv\", index=False)\n"
   ]
  },
  {
   "cell_type": "markdown",
   "metadata": {},
   "source": [
    "### second step: affectation of statistics as features"
   ]
  },
  {
   "cell_type": "code",
   "execution_count": 74,
   "metadata": {
    "collapsed": true
   },
   "outputs": [],
   "source": [
    "# this part is one example of exploitation of the statistics\n",
    "\n",
    "def affect_meanW (col_store, col_woy, df_stat):\n",
    "    col_store = int(col_store)\n",
    "    nom='mean_w_' + str(col_woy)\n",
    "    res = df_stat[df_stat['Store']==col_store][nom]\n",
    "    return int(res)\n",
    "\n",
    "def affect_meanD (col_store,col_woy, col_dow, df_stat):\n",
    "    col_store = int(col_store)\n",
    "    col_dow+=1\n",
    "    nom = 'w'+str(col_woy)+'_d'+str(col_dow)\n",
    "    res = df_stat[df_stat['Store']==col_store][nom]\n",
    "    return int(res)\n",
    "\n",
    "def affect_meanM (col_store, col_month, df_stat):\n",
    "    col_store = int(col_store)\n",
    "    nom= 'm'+str(col_month)\n",
    "    res = df_stat[df_stat['Store']==col_store][nom]\n",
    "    return int(res)\n",
    "\n",
    "def affect_difM (col_store, col_month, df_stat):\n",
    "    col_store = int(col_store)\n",
    "    nom = 'dif_m'+str(col_month)\n",
    "    res = df_stat[df_stat['Store']==col_store][nom]\n",
    "    return int(res)\n",
    "\n",
    "def affect_difQ (col_store, col_quarter, df_stat):\n",
    "    col_store = int(col_store)\n",
    "    nom = 'dif_q'+str(col_quarter)\n",
    "    res = df_stat[df_stat['Store']==col_store][nom]\n",
    "    return int(res)\n",
    "\n",
    "def generator_stat (df, df_stat, name) :\n",
    "    df[name+'_mean_w']=df.apply( lambda x : affect_meanW(x['Store'],x['weekofyear'], df_stat),axis = 1 )\n",
    "    df[name+'_mean_d']=df.apply( lambda x : affect_meanD(x['Store'],x['weekofyear'], x['dayofweek'], df_stat),axis = 1 )\n",
    "    df[name+'_mean_m']=df.apply( lambda x : affect_meanM(x['Store'],x['month'], df_stat),axis = 1)\n",
    "    df[name+'_dif_m']=df.apply( lambda x : affect_difM(x['Store'],x['month'], df_stat),axis = 1)\n",
    "    df[name+'_dif_q']=df.apply( lambda x : affect_difQ(x['Store'],x['quarter'], df_stat),axis = 1)\n",
    "    return (df)"
   ]
  },
  {
   "cell_type": "code",
   "execution_count": 75,
   "metadata": {
    "collapsed": true
   },
   "outputs": [],
   "source": [
    "# choice is made to use only the samples on the same context than the test\n",
    "df_train=df_train[((df_train['year']>2013) & (df_train['month']>6) & (df_train['month']<10))|((df_train['year']>2014) & (df_train['month']>4)) ]\n",
    "\n",
    "df_train= generator_stat(df_train, df_stat_sales,'sales')\n",
    "df_train= generator_stat(df_train, df_stat_cust,'cust')\n",
    "df_test = generator_stat(df_test, df_stat_sales,'sales')\n",
    "df_test = generator_stat(df_test, df_stat_cust,'cust')\n",
    "\n",
    "#some additional features are extracted from the ratio sales and customers\n",
    "df_train['ratio_m']= df_train['sales_mean_m']/(df_train['cust_mean_m']+0.1)\n",
    "df_train['ratio_w']= df_train['sales_mean_w']/(df_train['cust_mean_w']+0.1)\n",
    "df_train['ratio_d']= df_train['sales_mean_d']/(df_train['cust_mean_d']+0.1)\n",
    "df_test['ratio_m']= df_test['sales_mean_m']/(df_test['cust_mean_m']+0.1)\n",
    "df_test['ratio_w']= df_test['sales_mean_w']/(df_test['cust_mean_w']+0.1)\n",
    "df_test['ratio_d']= df_test['sales_mean_d']/(df_test['cust_mean_d']+0.1)\n",
    "\n",
    "#pour expoiter les dates, le choix est fait de les convertir en ordinal\n",
    "list_date = [ 'Date', 'BeginCompetition', 'BeginPromo2',]\n",
    "for col in list_date :\n",
    "    df_train[col] = pd.to_datetime(df_train[col])\n",
    "    df_train[col] =df_train[col].apply(lambda x: x.toordinal())\n",
    "    df_test[col] = pd.to_datetime(df_test[col])\n",
    "    df_test[col] =df_test[col].apply(lambda x: x.toordinal())"
   ]
  },
  {
   "cell_type": "code",
   "execution_count": 76,
   "metadata": {},
   "outputs": [
    {
     "data": {
      "text/plain": [
       "Index(['Store', 'DayOfWeek', 'Date', 'Sales', 'Customers', 'Open', 'Promo',\n",
       "       'SchoolHoliday', 'StateHoliday_0', 'StateHoliday_a', 'StateHoliday_b',\n",
       "       'StateHoliday_c', 'ld', 'md', 'mc', 'jd', 'vd', 'sd', 'dc',\n",
       "       'CompetitionDistance', 'CompetitionOpenSinceMonth',\n",
       "       'CompetitionOpenSinceYear', 'Promo2', 'Promo2SinceWeek',\n",
       "       'Promo2SinceYear', 'PromoInterval', 'StoreType_a', 'StoreType_b',\n",
       "       'StoreType_c', 'StoreType_d', 'Assortment_a', 'Assortment_b',\n",
       "       'Assortment_c', 'PromoJan', 'PromoFeb', 'PromoMar', 'PromoApr',\n",
       "       'PromoMay', 'PromoJun', 'PromoJul', 'PromoAug', 'PromoSept', 'PromoOct',\n",
       "       'PromoNov', 'PromoDec', 'BeginCompetition', 'BeginPromo2',\n",
       "       'duree_concurence', 'promo2_today', 'year', 'month', 'day', 'dayofyear',\n",
       "       'weekofyear', 'dayofweek', 'quarter', 'duree_promo2', 'sales_mean_w',\n",
       "       'sales_mean_d', 'sales_mean_m', 'sales_dif_m', 'sales_dif_q',\n",
       "       'cust_mean_w', 'cust_mean_d', 'cust_mean_m', 'cust_dif_m', 'cust_dif_q',\n",
       "       'ratio_m', 'ratio_w', 'ratio_d'],\n",
       "      dtype='object')"
      ]
     },
     "execution_count": 76,
     "metadata": {},
     "output_type": "execute_result"
    }
   ],
   "source": [
    "df_train.columns"
   ]
  },
  {
   "cell_type": "markdown",
   "metadata": {},
   "source": [
    "## Normalization of the features\n",
    "This approach is not relevant regarding results when it is systematicaly applied\n",
    "but should be revisited in close cooperation with domain experts"
   ]
  },
  {
   "cell_type": "code",
   "execution_count": 77,
   "metadata": {},
   "outputs": [],
   "source": [
    "featuresToNorm = ['CompetitionDistance', \n",
    "       'duree_concurence', 'month', 'weekofyear', 'dayofweek',\n",
    "        'duree_promo2', 'sales_mean_w',\n",
    "       'sales_mean_d', 'sales_mean_m', 'sales_dif_m', 'sales_dif_q',\n",
    "       'cust_mean_w', 'cust_mean_d', 'cust_mean_m', 'cust_dif_m', 'cust_dif_q',\n",
    "       'ratio_m', 'ratio_w', 'ratio_d']\n",
    "featuresToNormTest = ['CompetitionDistance', \n",
    "       'duree_concurence', 'month', 'weekofyear', 'dayofweek',\n",
    "        'duree_promo2', 'sales_mean_w',\n",
    "       'sales_mean_d', 'sales_mean_m', 'sales_dif_m', 'sales_dif_q',\n",
    "       'cust_mean_w', 'cust_mean_d', 'cust_mean_m', 'cust_dif_m', 'cust_dif_q',\n",
    "       'ratio_m', 'ratio_w', 'ratio_d']\n",
    "\n",
    "def normalize(df):\n",
    "    list_col = df.columns.values.tolist()\n",
    "    for col in list_col :\n",
    "        df[col]= (df[col])/(df[col].max())\n",
    "    return df\n",
    "\n",
    "def normalize_hard(df):\n",
    "    list_col = df.columns.values.tolist()\n",
    "    for col in list_col :\n",
    "        df[col]= (df[col]-df[col].min())/(df[col].max()-df[col].min())\n",
    "    return df\n",
    "\n",
    "#df_train [featuresToNorm] = normalize (df_train[featuresToNorm])\n",
    "\n",
    "#df_test [featuresToNormTest]= normalize(df_test[featuresToNormTest]) "
   ]
  },
  {
   "cell_type": "code",
   "execution_count": 78,
   "metadata": {
    "collapsed": true
   },
   "outputs": [],
   "source": [
    "# this step ends the stastistical preprocessing\n",
    "df_train.to_csv(\"data/dfStat.csv\", index=False)\n",
    "df_test.to_csv(\"data/dfStat_test.csv\",index=False)"
   ]
  },
  {
   "cell_type": "markdown",
   "metadata": {},
   "source": [
    "## Regressors with grid search based on time series\n",
    "In this part we come back to the statistical approach in order to provide comparison. This why we use the same algorithms. We don't include this approach into the general one because its generalization should need more effort in industrialization part. This is only a prototype."
   ]
  },
  {
   "cell_type": "code",
   "execution_count": 79,
   "metadata": {
    "scrolled": false
   },
   "outputs": [
    {
     "name": "stdout",
     "output_type": "stream",
     "text": [
      "\t score train 0.0746954832393\n",
      "\t score validation 0.120805162542\n",
      "XGB  Best parameters : {'max_depth': 11} RMSPE \n",
      "\n",
      "\t score train 0.0451822432171\n",
      "\t score validation 0.135278344345\n",
      "ExtraTreesRegressor Best parameters : {'max_depth': None, 'min_samples_split': 6} RMSPE \n",
      "\n",
      "\t score train 0.134049283811\n",
      "\t score validation 0.158852926083\n",
      "DecisionTreeRegressor Best parameters : {'max_depth': 12, 'min_samples_split': 10} RMSPE \n",
      "\n",
      "\t score train 0.0967981880782\n",
      "\t score validation 0.13788730384\n",
      "RandomForestRegressor Best parameters : {'bootstrap': True, 'max_depth': 14} RMSPE \n",
      "\n"
     ]
    }
   ],
   "source": [
    "from sklearn.ensemble import RandomForestRegressor\n",
    "from sklearn.ensemble import ExtraTreesRegressor\n",
    "from sklearn.tree import DecisionTreeRegressor\n",
    "import xgboost as xgb\n",
    "from sklearn.model_selection import TimeSeriesSplit, GridSearchCV\n",
    "\n",
    "#laoding saved datas preprocessed with stats\n",
    "df_train = pd.read_csv('data/dfStat.csv')\n",
    "#sorting of value by dates to use TimeSeriesSplit\n",
    "df_train = df_train.sort_values(by = 'Date')\n",
    "df_test = pd.read_csv('data/dfStat_test.csv')\n",
    "#possibility to restrain the training set on more relevant windows\n",
    "df_train=df_train[((df_train['year']>2013) & (df_train['month']>7) & (df_train['month']<10))|((df_train['year']>2014) & (df_train['month']>6)) ]\n",
    "#selection of most relevant samples for fitting\n",
    "df_train=df_train[df_train['Open']==1]\n",
    "df_train=df_train[df_train['StateHoliday_0']==1]\n",
    "#spliting for training and validation\n",
    "train, validation = train_test_split(df_train, test_size=0.1)\n",
    "#features selection: large choice is possible because of the high number of samples\n",
    "featuresToTakeForTraining = ['vd', 'StoreType_d', 'PromoMay', 'duree_concurence', 'sales_mean_w', 'ratio_m',\n",
    " 'StoreType_a', 'PromoOct', 'cust_mean_d', 'jd', 'PromoApr', 'duree_promo2', 'CompetitionDistance', 'sales_dif_m',\n",
    " 'SchoolHoliday', 'ld', 'PromoJan', 'day', 'PromoFeb', 'StoreType_c', 'PromoAug', 'Promo2', 'sales_dif_q',\n",
    " 'PromoDec', 'PromoSept', 'Assortment_c', 'Date']\n",
    "X_train = train[featuresToTakeForTraining]\n",
    "X_validation = validation[featuresToTakeForTraining]\n",
    "X_test = df_test[featuresToTakeForTraining]\n",
    "y_train = train['Sales']\n",
    "y_validation = validation['Sales']\n",
    "\n",
    "#first model: XGB\n",
    "model = xgb.XGBRegressor()\n",
    "#param for grid search, more params have been tested during the prototyping phase\n",
    "param_search = {\"max_depth\": [11,13]}\n",
    "#choice of time serie spliting\n",
    "my_cv = TimeSeriesSplit(n_splits=4).split(X_train)\n",
    "#grid search\n",
    "gsearch = GridSearchCV(estimator=model, cv=my_cv, param_grid=param_search)\n",
    "#fitting\n",
    "gsearch.fit(X_train, y_train)\n",
    "#prediction and results\n",
    "y_pred_t = gsearch.predict(X_train)\n",
    "y_pred_v = gsearch.predict(X_validation)\n",
    "print('\\t score train', rmspe(get_prob(y_pred_t), y_train.values))\n",
    "print('\\t score validation', rmspe(get_prob(y_pred_v), y_validation.values))\n",
    "print('XGB', \" Best parameters :\", gsearch.best_params_, \"RMSPE\", \"\\n\")\n",
    "\n",
    "#other regressors, more famous and interpretable\n",
    "names_regressors_tunedParams = [\n",
    "    [\"ExtraTreesRegressor\", ExtraTreesRegressor(), {\"max_depth\" :[None], \"min_samples_split\": [4,6] } ],\n",
    "    [\"DecisionTreeRegressor\", DecisionTreeRegressor(), {\"max_depth\" :[12,14], \"min_samples_split\": [8,10] }],\n",
    "    [\"RandomForestRegressor\", RandomForestRegressor(n_estimators=50), {\"max_depth\": [10,12,14], \"bootstrap\": [True]}]]\n",
    "\n",
    "for name, regressor, tunedParam in names_regressors_tunedParams:\n",
    "    my_cv = TimeSeriesSplit(n_splits=4).split(X_train)\n",
    "    clf = GridSearchCV(estimator=regressor, cv=my_cv, param_grid=tunedParam)\n",
    "    clf.fit(X_train, y_train)\n",
    "    y_pred = clf.predict(X_validation)    \n",
    "    y_pred_t = clf.predict(X_train)\n",
    "    y_pred_v = clf.predict(X_validation)\n",
    "    print('\\t score train', rmspe(y_pred_t, y_train.values))\n",
    "    print('\\t score validation', rmspe(y_pred_v, y_validation.values))\n",
    "    print(name, \"Best parameters :\", clf.best_params_, \"RMSPE\", \"\\n\")"
   ]
  },
  {
   "cell_type": "markdown",
   "metadata": {},
   "source": [
    "## features selection - auto\n",
    "Approach consisting in deleting of non usefull features. In this book we have already reinsert the result into the previous step."
   ]
  },
  {
   "cell_type": "code",
   "execution_count": 80,
   "metadata": {},
   "outputs": [
    {
     "name": "stdout",
     "output_type": "stream",
     "text": [
      "baseline : 0.19116019475 \n",
      "\n",
      "feature retenue : vd 0.194015727013 \n",
      "\n",
      "feature retenue : PromoMay 0.19116019475 \n",
      "\n",
      "feature retenue : sales_mean_w 0.297801206518 \n",
      "\n",
      "feature retenue : StoreType_a 0.194524451949 \n",
      "\n",
      "feature retenue : cust_mean_d 0.216671513753 \n",
      "\n",
      "feature retenue : PromoApr 0.19116019475 \n",
      "\n",
      "feature retenue : CompetitionDistance 0.192808568699 \n",
      "\n",
      "feature retenue : SchoolHoliday 0.192711791733 \n",
      "\n",
      "feature retenue : PromoJan 0.19116019475 \n",
      "\n",
      "feature retenue : PromoFeb 0.19116019475 \n",
      "\n",
      "feature retenue : PromoAug 0.19116019475 \n",
      "\n",
      "feature retenue : sales_dif_q 0.192855944713 \n",
      "\n",
      "feature retenue : PromoSept 0.19116019475 \n",
      "\n",
      "feature retenue : Date 0.203443533978 \n",
      "\n",
      "feature retenue : PromoMay 0.19116019475 \n",
      "\n",
      "feature retenue : StoreType_a 0.194524451949 \n",
      "\n",
      "feature retenue : PromoApr 0.19116019475 \n",
      "\n",
      "feature retenue : SchoolHoliday 0.192711791733 \n",
      "\n",
      "feature retenue : PromoFeb 0.19116019475 \n",
      "\n",
      "feature retenue : sales_dif_q 0.192855944713 \n",
      "\n",
      "feature retenue : Date 0.203443533978 \n",
      "\n",
      "feature retenue : StoreType_a 0.194524451949 \n",
      "\n",
      "feature retenue : SchoolHoliday 0.192711791733 \n",
      "\n",
      "feature retenue : sales_dif_q 0.192855944713 \n",
      "\n",
      "feature retenue : StoreType_a 0.194524451949 \n",
      "\n",
      "feature retenue : sales_dif_q 0.192855944713 \n",
      "\n",
      "feature retenue : sales_dif_q 0.192855944713 \n",
      "\n"
     ]
    }
   ],
   "source": [
    "def remove_if_exists(L, l_val):\n",
    "    for value in l_val:\n",
    "        try:\n",
    "            L.remove(value)\n",
    "        except ValueError:\n",
    "            pass\n",
    "    return L\n",
    "\n",
    "features_selected = featuresToTakeForTraining\n",
    "best_res=1\n",
    "model = xgb.XGBRegressor()\n",
    "y_sel = df_train['Sales']\n",
    "X_sel = df_train[features_selected]\n",
    "model.fit(X_sel, y_sel)\n",
    "y_pred_v = model.predict(X_validation[features_selected])\n",
    "best_res = rmspe(get_prob(y_pred_v), y_validation.values)\n",
    "print('baseline :', best_res, '\\n')\n",
    "\n",
    "for f in featuresToTakeForTraining :\n",
    "    features_selected = remove_if_exists(features_selected,[f])\n",
    "    X_sel = df_train[features_selected]\n",
    "    model.fit(X_sel, y_sel)\n",
    "    y_pred_v = model.predict(X_validation[features_selected])\n",
    "    res = rmspe(get_prob(y_pred_v), y_validation.values)\n",
    "    del(X_sel)\n",
    "    if res < best_res:\n",
    "        print('feature non retenue :', f,res, '\\n')\n",
    "        best_res = res\n",
    "    else:\n",
    "        features_selected.append(f)\n",
    "        print('feature retenue :', f,res, '\\n')"
   ]
  },
  {
   "cell_type": "markdown",
   "metadata": {},
   "source": [
    "## Evaluation"
   ]
  },
  {
   "cell_type": "markdown",
   "metadata": {},
   "source": [
    "The best Kaggle score with this approach is 0.147. The validation score which is the most important in case of strategic simulation of new deployments is under 0.10 which is very confident area."
   ]
  },
  {
   "cell_type": "markdown",
   "metadata": {},
   "source": [
    "# Conclusion"
   ]
  },
  {
   "cell_type": "markdown",
   "metadata": {},
   "source": [
    "In conclusion, we tested 3 approaches: a Naive one with a score of 0.54, a standard one with a score of 0.19 and a statictical one with a score of 0.147. \n",
    "There is real added value to the use of ML for this problem as the performance is improved significantly, moreover both approach can be introspected to look at the most relevant features in order to optimize sales "
   ]
  }
 ],
 "metadata": {
  "kernelspec": {
   "display_name": "Python 3",
   "language": "python",
   "name": "python3"
  },
  "language_info": {
   "codemirror_mode": {
    "name": "ipython",
    "version": 3
   },
   "file_extension": ".py",
   "mimetype": "text/x-python",
   "name": "python",
   "nbconvert_exporter": "python",
   "pygments_lexer": "ipython3",
   "version": "3.6.4"
  }
 },
 "nbformat": 4,
 "nbformat_minor": 2
}
